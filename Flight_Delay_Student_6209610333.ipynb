{
  "cells": [
    {
      "cell_type": "markdown",
      "metadata": {
        "id": "wIxiBI7nP-_D"
      },
      "source": [
        "# Problem: Predicting Airplane Delays\n",
        "\n",
        "The goals of this notebook are:\n",
        "- Process and create a dataset from downloaded .zip files\n",
        "- Perform exploratory data analysis (EDA)\n",
        "- Establish a baseline model\n",
        "- Move from a simple model to an ensemble model\n",
        "- Perform hyperparameter optimization\n",
        "- Check feature importance\n",
        "\n",
        "\n",
        "## Introduction to business scenario\n",
        "\n",
        "You work for a travel booking website that wants to improve the customer experience for flights that were delayed. The company wants to create a feature to let customers know if the flight will be delayed because of weather when they book a flight to or from the busiest airports for domestic travel in the US. \n",
        "\n",
        "You are tasked with solving part of this problem by using machine learning (ML) to identify whether the flight will be delayed because of weather. You have been given access to the a dataset about the on-time performance of domestic flights that were operated by large air carriers. You can use this data to train an ML model to predict if the flight is going to be delayed for the busiest airports.\n",
        "\n",
        "\n",
        "## About this dataset\n",
        "\n",
        "This dataset contains scheduled and actual departure and arrival times reported by certified US air carriers that account for at least 1 percent of domestic scheduled passenger revenues. The data was collected by the U.S. Office of Airline Information, Bureau of Transportation Statistics (BTS). The dataset contains date, time, origin, destination, airline, distance, and delay status of flights for flights between 2013 and 2018.\n",
        "\n",
        "\n",
        "### Features\n",
        "\n",
        "For more information about features in the dataset, see [On-time delay dataset features](https://www.transtats.bts.gov/Fields.asp).\n",
        "\n",
        "### Dataset attributions  \n",
        "Website: https://www.transtats.bts.gov/\n",
        "\n",
        "Dataset(s) used in this lab were compiled by the U.S. Office of Airline Information, Bureau of Transportation Statistics (BTS), Airline On-Time Performance Data, available at https://www.transtats.bts.gov/DatabaseInfo.asp?DB_ID=120&DB_URL=Mode_ID=1&Mode_Desc=Aviation&Subject_ID2=0."
      ]
    },
    {
      "cell_type": "markdown",
      "metadata": {
        "id": "c8v4XFimP-_E"
      },
      "source": [
        "# Step 1: Problem formulation and data collection\n",
        "\n",
        "Start this project by writing a few sentences that summarize the business problem and the business goal that you want to achieve in this scenario. You can write down your ideas in the following sections. Include a business metric that you would like your team to aspire toward. After you define that information, write the ML problem statement. Finally, add a comment or two about the type of ML this activity represents. \n",
        "\n",
        "#### <span style=\"color: blue;\">Project presentation: Include a summary of these details in your project presentation.</span>\n",
        "\n",
        "### 1. Determine if and why ML is an appropriate solution to deploy for this scenario."
      ]
    },
    {
      "cell_type": "code",
      "execution_count": null,
      "metadata": {
        "id": "lUt06fxuP-_F"
      },
      "outputs": [],
      "source": [
        "Machine Learning เหมาะสมที่จะแก้ปัญหาข้อมูลนี้ได้ เพราะ ML จะทำการเรียนรู้ข้อมูลที่เรามีหลังจากนั้นจะทำการวิเคราะห์ข้อมูลเที่ยวบินที่อาจเกิดการดีเลย์จากสภาพอากาศ\n",
        "เมื่อ ML ทำการวิเคราะห์ข้อมูลแล้วจะสามารถคาดการณ์ล่วงหน้าได้ว่าเที่ยวบินนั้นเกิดการดีเลย์หรือไม่"
      ]
    },
    {
      "cell_type": "markdown",
      "metadata": {
        "id": "A9EWRp3sP-_L"
      },
      "source": [
        "### 2. Formulate the business problem, success metrics, and desired ML output."
      ]
    },
    {
      "cell_type": "code",
      "execution_count": null,
      "metadata": {
        "id": "p6ALhbO4P-_L"
      },
      "outputs": [],
      "source": [
        "business problem : เมื่อเที่ยวบินเกิดการดีเลย์กระทันหันไม่ได้บินตามเวลาตามที่กำหนด ทำให้ลูกค้าเกิดความไม่สบายใจที่ไม่ได้ขึ้นบินตามเวลาที่ได้ทำการจองไว้\n",
        "success metrics : หากเที่ยวบินเกิดการดีเลย์ ลูกค้าจะได้รับข่าวสารล่วงหน้า\n",
        "desired ML output : ML สามารถคาดการณ์ได้ว่าเที่ยวบินที่จะเกิดการดีเลย์"
      ]
    },
    {
      "cell_type": "markdown",
      "metadata": {
        "id": "r_0cQ-0aP-_M"
      },
      "source": [
        "### 3. Identify the type of ML problem that you're working with."
      ]
    },
    {
      "cell_type": "code",
      "execution_count": null,
      "metadata": {
        "id": "EHi3koNRP-_M"
      },
      "outputs": [],
      "source": [
        "Supervised Machine Learning"
      ]
    },
    {
      "cell_type": "markdown",
      "metadata": {
        "id": "ExE23WJTP-_M"
      },
      "source": [
        "### 4. Analyze the appropriateness of the data that you're working with."
      ]
    },
    {
      "cell_type": "code",
      "execution_count": null,
      "metadata": {
        "id": "8Ye2QuC7P-_M"
      },
      "outputs": [],
      "source": [
        "# Write your answer here"
      ]
    },
    {
      "cell_type": "markdown",
      "metadata": {
        "id": "Tx10b6jYP-_M"
      },
      "source": [
        "### Setup\n",
        "\n",
        "Now that you have decided where you want to focus your attention, you will set up this lab so that you can start solving the problem.\n",
        "\n",
        "**Note:** This notebook was created and tested on an `ml.m4.xlarge` notebook instance with 25 GB storage. "
      ]
    },
    {
      "cell_type": "code",
      "execution_count": null,
      "metadata": {
        "id": "nL4c8aCTP-_N"
      },
      "outputs": [],
      "source": [
        "import os\n",
        "from pathlib2 import Path\n",
        "from zipfile import ZipFile\n",
        "import time\n",
        "\n",
        "import pandas as pd\n",
        "import numpy as np\n",
        "import subprocess\n",
        "\n",
        "import matplotlib.pyplot as plt\n",
        "import seaborn as sns\n",
        "\n",
        "sns.set()\n",
        "instance_type='ml.m4.xlarge'\n",
        "\n",
        "import warnings\n",
        "warnings.filterwarnings('ignore')\n",
        "\n",
        "%matplotlib inline"
      ]
    },
    {
      "cell_type": "markdown",
      "metadata": {
        "id": "GBGBSQRYP-_N"
      },
      "source": [
        "# Step 2: Data preprocessing and visualization  \n",
        "In this data preprocessing phase, you explore and visualize your data to better understand it. First, import the necessary libraries and read the data into a pandas DataFrame. After you import the data, explore the dataset. Look for the shape of the dataset and explore your columns and the types of columns that you will work with (numerical, categorical). Consider performing basic statistics on the features to get a sense of feature means and ranges. Examine your target column closely, and determine its distribution.\n",
        "\n",
        "\n",
        "### Specific questions to consider\n",
        "\n",
        "Throughout this section of the lab, consider the following questions:\n",
        "\n",
        "1. What can you deduce from the basic statistics that you ran on the features? \n",
        "2. What can you deduce from the distributions of the target classes?\n",
        "3. Is there anything else you can deduce by exploring the data?\n",
        "\n",
        "#### <span style=\"color: blue;\">Project presentation: Include a summary of your answers to these questions (and other similar questions) in your project presentation.</span>"
      ]
    },
    {
      "cell_type": "markdown",
      "metadata": {
        "id": "RRaURMo-P-_N"
      },
      "source": [
        "Start by bringing in the dataset from a public Amazon Simple Storage Service (Amazon S3) bucket to this notebook environment."
      ]
    },
    {
      "cell_type": "code",
      "execution_count": null,
      "metadata": {
        "id": "ZOmr-1FDP-_N",
        "outputId": "022cc20b-f9d5-4640-836c-7f7ef695c3de"
      },
      "outputs": [
        {
          "name": "stdout",
          "output_type": "stream",
          "text": [
            "download: s3://aws-tc-largeobjects/CUR-TF-200-ACMLFO-1/flight_delay_project/data/On_Time_Reporting_Carrier_On_Time_Performance_1987_present_2014_2.zip to ../project/data/FlightDelays/On_Time_Reporting_Carrier_On_Time_Performance_1987_present_2014_2.zip\n",
            "download: s3://aws-tc-largeobjects/CUR-TF-200-ACMLFO-1/flight_delay_project/data/On_Time_Reporting_Carrier_On_Time_Performance_1987_present_2014_12.zip to ../project/data/FlightDelays/On_Time_Reporting_Carrier_On_Time_Performance_1987_present_2014_12.zip\n",
            "download: s3://aws-tc-largeobjects/CUR-TF-200-ACMLFO-1/flight_delay_project/data/On_Time_Reporting_Carrier_On_Time_Performance_1987_present_2014_11.zip to ../project/data/FlightDelays/On_Time_Reporting_Carrier_On_Time_Performance_1987_present_2014_11.zip\n",
            "download: s3://aws-tc-largeobjects/CUR-TF-200-ACMLFO-1/flight_delay_project/data/On_Time_Reporting_Carrier_On_Time_Performance_1987_present_2014_1.zip to ../project/data/FlightDelays/On_Time_Reporting_Carrier_On_Time_Performance_1987_present_2014_1.zip\n",
            "download: s3://aws-tc-largeobjects/CUR-TF-200-ACMLFO-1/flight_delay_project/data/On_Time_Reporting_Carrier_On_Time_Performance_1987_present_2014_3.zip to ../project/data/FlightDelays/On_Time_Reporting_Carrier_On_Time_Performance_1987_present_2014_3.zip\n",
            "download: s3://aws-tc-largeobjects/CUR-TF-200-ACMLFO-1/flight_delay_project/data/On_Time_Reporting_Carrier_On_Time_Performance_1987_present_2014_4.zip to ../project/data/FlightDelays/On_Time_Reporting_Carrier_On_Time_Performance_1987_present_2014_4.zip\n",
            "download: s3://aws-tc-largeobjects/CUR-TF-200-ACMLFO-1/flight_delay_project/data/On_Time_Reporting_Carrier_On_Time_Performance_1987_present_2014_5.zip to ../project/data/FlightDelays/On_Time_Reporting_Carrier_On_Time_Performance_1987_present_2014_5.zip\n",
            "download: s3://aws-tc-largeobjects/CUR-TF-200-ACMLFO-1/flight_delay_project/data/On_Time_Reporting_Carrier_On_Time_Performance_1987_present_2014_8.zip to ../project/data/FlightDelays/On_Time_Reporting_Carrier_On_Time_Performance_1987_present_2014_8.zip\n",
            "download: s3://aws-tc-largeobjects/CUR-TF-200-ACMLFO-1/flight_delay_project/data/On_Time_Reporting_Carrier_On_Time_Performance_1987_present_2014_9.zip to ../project/data/FlightDelays/On_Time_Reporting_Carrier_On_Time_Performance_1987_present_2014_9.zip\n",
            "download: s3://aws-tc-largeobjects/CUR-TF-200-ACMLFO-1/flight_delay_project/data/On_Time_Reporting_Carrier_On_Time_Performance_1987_present_2015_1.zip to ../project/data/FlightDelays/On_Time_Reporting_Carrier_On_Time_Performance_1987_present_2015_1.zip\n",
            "download: s3://aws-tc-largeobjects/CUR-TF-200-ACMLFO-1/flight_delay_project/data/On_Time_Reporting_Carrier_On_Time_Performance_1987_present_2014_7.zip to ../project/data/FlightDelays/On_Time_Reporting_Carrier_On_Time_Performance_1987_present_2014_7.zip\n",
            "download: s3://aws-tc-largeobjects/CUR-TF-200-ACMLFO-1/flight_delay_project/data/On_Time_Reporting_Carrier_On_Time_Performance_1987_present_2014_10.zip to ../project/data/FlightDelays/On_Time_Reporting_Carrier_On_Time_Performance_1987_present_2014_10.zip\n",
            "download: s3://aws-tc-largeobjects/CUR-TF-200-ACMLFO-1/flight_delay_project/data/On_Time_Reporting_Carrier_On_Time_Performance_1987_present_2015_11.zip to ../project/data/FlightDelays/On_Time_Reporting_Carrier_On_Time_Performance_1987_present_2015_11.zip\n",
            "download: s3://aws-tc-largeobjects/CUR-TF-200-ACMLFO-1/flight_delay_project/data/On_Time_Reporting_Carrier_On_Time_Performance_1987_present_2015_10.zip to ../project/data/FlightDelays/On_Time_Reporting_Carrier_On_Time_Performance_1987_present_2015_10.zip\n",
            "download: s3://aws-tc-largeobjects/CUR-TF-200-ACMLFO-1/flight_delay_project/data/On_Time_Reporting_Carrier_On_Time_Performance_1987_present_2015_12.zip to ../project/data/FlightDelays/On_Time_Reporting_Carrier_On_Time_Performance_1987_present_2015_12.zip\n",
            "download: s3://aws-tc-largeobjects/CUR-TF-200-ACMLFO-1/flight_delay_project/data/On_Time_Reporting_Carrier_On_Time_Performance_1987_present_2015_4.zip to ../project/data/FlightDelays/On_Time_Reporting_Carrier_On_Time_Performance_1987_present_2015_4.zip\n",
            "download: s3://aws-tc-largeobjects/CUR-TF-200-ACMLFO-1/flight_delay_project/data/On_Time_Reporting_Carrier_On_Time_Performance_1987_present_2015_3.zip to ../project/data/FlightDelays/On_Time_Reporting_Carrier_On_Time_Performance_1987_present_2015_3.zip\n",
            "download: s3://aws-tc-largeobjects/CUR-TF-200-ACMLFO-1/flight_delay_project/data/On_Time_Reporting_Carrier_On_Time_Performance_1987_present_2015_2.zip to ../project/data/FlightDelays/On_Time_Reporting_Carrier_On_Time_Performance_1987_present_2015_2.zip\n",
            "download: s3://aws-tc-largeobjects/CUR-TF-200-ACMLFO-1/flight_delay_project/data/On_Time_Reporting_Carrier_On_Time_Performance_1987_present_2015_6.zip to ../project/data/FlightDelays/On_Time_Reporting_Carrier_On_Time_Performance_1987_present_2015_6.zip\n",
            "download: s3://aws-tc-largeobjects/CUR-TF-200-ACMLFO-1/flight_delay_project/data/On_Time_Reporting_Carrier_On_Time_Performance_1987_present_2014_6.zip to ../project/data/FlightDelays/On_Time_Reporting_Carrier_On_Time_Performance_1987_present_2014_6.zip\n",
            "download: s3://aws-tc-largeobjects/CUR-TF-200-ACMLFO-1/flight_delay_project/data/On_Time_Reporting_Carrier_On_Time_Performance_1987_present_2015_5.zip to ../project/data/FlightDelays/On_Time_Reporting_Carrier_On_Time_Performance_1987_present_2015_5.zip\n",
            "download: s3://aws-tc-largeobjects/CUR-TF-200-ACMLFO-1/flight_delay_project/data/On_Time_Reporting_Carrier_On_Time_Performance_1987_present_2015_8.zip to ../project/data/FlightDelays/On_Time_Reporting_Carrier_On_Time_Performance_1987_present_2015_8.zip\n",
            "download: s3://aws-tc-largeobjects/CUR-TF-200-ACMLFO-1/flight_delay_project/data/On_Time_Reporting_Carrier_On_Time_Performance_1987_present_2015_7.zip to ../project/data/FlightDelays/On_Time_Reporting_Carrier_On_Time_Performance_1987_present_2015_7.zip\n",
            "download: s3://aws-tc-largeobjects/CUR-TF-200-ACMLFO-1/flight_delay_project/data/On_Time_Reporting_Carrier_On_Time_Performance_1987_present_2016_1.zip to ../project/data/FlightDelays/On_Time_Reporting_Carrier_On_Time_Performance_1987_present_2016_1.zip\n",
            "download: s3://aws-tc-largeobjects/CUR-TF-200-ACMLFO-1/flight_delay_project/data/On_Time_Reporting_Carrier_On_Time_Performance_1987_present_2015_9.zip to ../project/data/FlightDelays/On_Time_Reporting_Carrier_On_Time_Performance_1987_present_2015_9.zip\n",
            "download: s3://aws-tc-largeobjects/CUR-TF-200-ACMLFO-1/flight_delay_project/data/On_Time_Reporting_Carrier_On_Time_Performance_1987_present_2016_2.zip to ../project/data/FlightDelays/On_Time_Reporting_Carrier_On_Time_Performance_1987_present_2016_2.zip\n",
            "download: s3://aws-tc-largeobjects/CUR-TF-200-ACMLFO-1/flight_delay_project/data/On_Time_Reporting_Carrier_On_Time_Performance_1987_present_2016_11.zip to ../project/data/FlightDelays/On_Time_Reporting_Carrier_On_Time_Performance_1987_present_2016_11.zip\n",
            "download: s3://aws-tc-largeobjects/CUR-TF-200-ACMLFO-1/flight_delay_project/data/On_Time_Reporting_Carrier_On_Time_Performance_1987_present_2016_3.zip to ../project/data/FlightDelays/On_Time_Reporting_Carrier_On_Time_Performance_1987_present_2016_3.zip\n",
            "download: s3://aws-tc-largeobjects/CUR-TF-200-ACMLFO-1/flight_delay_project/data/On_Time_Reporting_Carrier_On_Time_Performance_1987_present_2016_10.zip to ../project/data/FlightDelays/On_Time_Reporting_Carrier_On_Time_Performance_1987_present_2016_10.zip\n",
            "download: s3://aws-tc-largeobjects/CUR-TF-200-ACMLFO-1/flight_delay_project/data/On_Time_Reporting_Carrier_On_Time_Performance_1987_present_2016_12.zip to ../project/data/FlightDelays/On_Time_Reporting_Carrier_On_Time_Performance_1987_present_2016_12.zip\n",
            "download: s3://aws-tc-largeobjects/CUR-TF-200-ACMLFO-1/flight_delay_project/data/On_Time_Reporting_Carrier_On_Time_Performance_1987_present_2016_4.zip to ../project/data/FlightDelays/On_Time_Reporting_Carrier_On_Time_Performance_1987_present_2016_4.zip\n",
            "download: s3://aws-tc-largeobjects/CUR-TF-200-ACMLFO-1/flight_delay_project/data/On_Time_Reporting_Carrier_On_Time_Performance_1987_present_2016_6.zip to ../project/data/FlightDelays/On_Time_Reporting_Carrier_On_Time_Performance_1987_present_2016_6.zip\n",
            "download: s3://aws-tc-largeobjects/CUR-TF-200-ACMLFO-1/flight_delay_project/data/On_Time_Reporting_Carrier_On_Time_Performance_1987_present_2016_5.zip to ../project/data/FlightDelays/On_Time_Reporting_Carrier_On_Time_Performance_1987_present_2016_5.zip\n",
            "download: s3://aws-tc-largeobjects/CUR-TF-200-ACMLFO-1/flight_delay_project/data/On_Time_Reporting_Carrier_On_Time_Performance_1987_present_2016_7.zip to ../project/data/FlightDelays/On_Time_Reporting_Carrier_On_Time_Performance_1987_present_2016_7.zip\n",
            "download: s3://aws-tc-largeobjects/CUR-TF-200-ACMLFO-1/flight_delay_project/data/On_Time_Reporting_Carrier_On_Time_Performance_1987_present_2016_9.zip to ../project/data/FlightDelays/On_Time_Reporting_Carrier_On_Time_Performance_1987_present_2016_9.zip\n",
            "download: s3://aws-tc-largeobjects/CUR-TF-200-ACMLFO-1/flight_delay_project/data/On_Time_Reporting_Carrier_On_Time_Performance_1987_present_2016_8.zip to ../project/data/FlightDelays/On_Time_Reporting_Carrier_On_Time_Performance_1987_present_2016_8.zip\n",
            "download: s3://aws-tc-largeobjects/CUR-TF-200-ACMLFO-1/flight_delay_project/data/On_Time_Reporting_Carrier_On_Time_Performance_1987_present_2017_1.zip to ../project/data/FlightDelays/On_Time_Reporting_Carrier_On_Time_Performance_1987_present_2017_1.zip\n",
            "download: s3://aws-tc-largeobjects/CUR-TF-200-ACMLFO-1/flight_delay_project/data/On_Time_Reporting_Carrier_On_Time_Performance_1987_present_2017_10.zip to ../project/data/FlightDelays/On_Time_Reporting_Carrier_On_Time_Performance_1987_present_2017_10.zip\n",
            "download: s3://aws-tc-largeobjects/CUR-TF-200-ACMLFO-1/flight_delay_project/data/On_Time_Reporting_Carrier_On_Time_Performance_1987_present_2017_2.zip to ../project/data/FlightDelays/On_Time_Reporting_Carrier_On_Time_Performance_1987_present_2017_2.zip\n",
            "download: s3://aws-tc-largeobjects/CUR-TF-200-ACMLFO-1/flight_delay_project/data/On_Time_Reporting_Carrier_On_Time_Performance_1987_present_2017_11.zip to ../project/data/FlightDelays/On_Time_Reporting_Carrier_On_Time_Performance_1987_present_2017_11.zip\n",
            "download: s3://aws-tc-largeobjects/CUR-TF-200-ACMLFO-1/flight_delay_project/data/On_Time_Reporting_Carrier_On_Time_Performance_1987_present_2017_12.zip to ../project/data/FlightDelays/On_Time_Reporting_Carrier_On_Time_Performance_1987_present_2017_12.zip\n",
            "download: s3://aws-tc-largeobjects/CUR-TF-200-ACMLFO-1/flight_delay_project/data/On_Time_Reporting_Carrier_On_Time_Performance_1987_present_2017_4.zip to ../project/data/FlightDelays/On_Time_Reporting_Carrier_On_Time_Performance_1987_present_2017_4.zip\n",
            "download: s3://aws-tc-largeobjects/CUR-TF-200-ACMLFO-1/flight_delay_project/data/On_Time_Reporting_Carrier_On_Time_Performance_1987_present_2017_6.zip to ../project/data/FlightDelays/On_Time_Reporting_Carrier_On_Time_Performance_1987_present_2017_6.zip\n",
            "download: s3://aws-tc-largeobjects/CUR-TF-200-ACMLFO-1/flight_delay_project/data/On_Time_Reporting_Carrier_On_Time_Performance_1987_present_2017_3.zip to ../project/data/FlightDelays/On_Time_Reporting_Carrier_On_Time_Performance_1987_present_2017_3.zip\n",
            "download: s3://aws-tc-largeobjects/CUR-TF-200-ACMLFO-1/flight_delay_project/data/On_Time_Reporting_Carrier_On_Time_Performance_1987_present_2017_7.zip to ../project/data/FlightDelays/On_Time_Reporting_Carrier_On_Time_Performance_1987_present_2017_7.zip\n",
            "download: s3://aws-tc-largeobjects/CUR-TF-200-ACMLFO-1/flight_delay_project/data/On_Time_Reporting_Carrier_On_Time_Performance_1987_present_2017_5.zip to ../project/data/FlightDelays/On_Time_Reporting_Carrier_On_Time_Performance_1987_present_2017_5.zip\n",
            "download: s3://aws-tc-largeobjects/CUR-TF-200-ACMLFO-1/flight_delay_project/data/On_Time_Reporting_Carrier_On_Time_Performance_1987_present_2018_1.zip to ../project/data/FlightDelays/On_Time_Reporting_Carrier_On_Time_Performance_1987_present_2018_1.zip\n",
            "download: s3://aws-tc-largeobjects/CUR-TF-200-ACMLFO-1/flight_delay_project/data/On_Time_Reporting_Carrier_On_Time_Performance_1987_present_2017_9.zip to ../project/data/FlightDelays/On_Time_Reporting_Carrier_On_Time_Performance_1987_present_2017_9.zip\n",
            "download: s3://aws-tc-largeobjects/CUR-TF-200-ACMLFO-1/flight_delay_project/data/On_Time_Reporting_Carrier_On_Time_Performance_1987_present_2018_10.zip to ../project/data/FlightDelays/On_Time_Reporting_Carrier_On_Time_Performance_1987_present_2018_10.zip\n",
            "download: s3://aws-tc-largeobjects/CUR-TF-200-ACMLFO-1/flight_delay_project/data/On_Time_Reporting_Carrier_On_Time_Performance_1987_present_2018_11.zip to ../project/data/FlightDelays/On_Time_Reporting_Carrier_On_Time_Performance_1987_present_2018_11.zip\n",
            "download: s3://aws-tc-largeobjects/CUR-TF-200-ACMLFO-1/flight_delay_project/data/On_Time_Reporting_Carrier_On_Time_Performance_1987_present_2018_12.zip to ../project/data/FlightDelays/On_Time_Reporting_Carrier_On_Time_Performance_1987_present_2018_12.zip\n",
            "download: s3://aws-tc-largeobjects/CUR-TF-200-ACMLFO-1/flight_delay_project/data/On_Time_Reporting_Carrier_On_Time_Performance_1987_present_2018_2.zip to ../project/data/FlightDelays/On_Time_Reporting_Carrier_On_Time_Performance_1987_present_2018_2.zip\n",
            "download: s3://aws-tc-largeobjects/CUR-TF-200-ACMLFO-1/flight_delay_project/data/On_Time_Reporting_Carrier_On_Time_Performance_1987_present_2017_8.zip to ../project/data/FlightDelays/On_Time_Reporting_Carrier_On_Time_Performance_1987_present_2017_8.zip\n",
            "download: s3://aws-tc-largeobjects/CUR-TF-200-ACMLFO-1/flight_delay_project/data/On_Time_Reporting_Carrier_On_Time_Performance_1987_present_2018_5.zip to ../project/data/FlightDelays/On_Time_Reporting_Carrier_On_Time_Performance_1987_present_2018_5.zip\n",
            "download: s3://aws-tc-largeobjects/CUR-TF-200-ACMLFO-1/flight_delay_project/data/On_Time_Reporting_Carrier_On_Time_Performance_1987_present_2018_4.zip to ../project/data/FlightDelays/On_Time_Reporting_Carrier_On_Time_Performance_1987_present_2018_4.zip\n",
            "download: s3://aws-tc-largeobjects/CUR-TF-200-ACMLFO-1/flight_delay_project/data/On_Time_Reporting_Carrier_On_Time_Performance_1987_present_2018_6.zip to ../project/data/FlightDelays/On_Time_Reporting_Carrier_On_Time_Performance_1987_present_2018_6.zip\n",
            "download: s3://aws-tc-largeobjects/CUR-TF-200-ACMLFO-1/flight_delay_project/data/On_Time_Reporting_Carrier_On_Time_Performance_1987_present_2018_3.zip to ../project/data/FlightDelays/On_Time_Reporting_Carrier_On_Time_Performance_1987_present_2018_3.zip\n",
            "download: s3://aws-tc-largeobjects/CUR-TF-200-ACMLFO-1/flight_delay_project/data/On_Time_Reporting_Carrier_On_Time_Performance_1987_present_2018_9.zip to ../project/data/FlightDelays/On_Time_Reporting_Carrier_On_Time_Performance_1987_present_2018_9.zip\n",
            "download: s3://aws-tc-largeobjects/CUR-TF-200-ACMLFO-1/flight_delay_project/data/On_Time_Reporting_Carrier_On_Time_Performance_1987_present_2018_8.zip to ../project/data/FlightDelays/On_Time_Reporting_Carrier_On_Time_Performance_1987_present_2018_8.zip\n",
            "download: s3://aws-tc-largeobjects/CUR-TF-200-ACMLFO-1/flight_delay_project/data/On_Time_Reporting_Carrier_On_Time_Performance_1987_present_2018_7.zip to ../project/data/FlightDelays/On_Time_Reporting_Carrier_On_Time_Performance_1987_present_2018_7.zip\n"
          ]
        }
      ],
      "source": [
        "# download the files\n",
        "\n",
        "zip_path = '/home/ec2-user/SageMaker/project/data/FlightDelays/'\n",
        "base_path = '/home/ec2-user/SageMaker/project/data/FlightDelays/'\n",
        "csv_base_path = '/home/ec2-user/SageMaker/project/data/csvFlightDelays/'\n",
        "\n",
        "!mkdir -p {zip_path}\n",
        "!mkdir -p {csv_base_path}\n",
        "!aws s3 cp s3://aws-tc-largeobjects/CUR-TF-200-ACMLFO-1/flight_delay_project/data/ {zip_path} --recursive\n"
      ]
    },
    {
      "cell_type": "code",
      "execution_count": null,
      "metadata": {
        "id": "22WI76xvP-_O",
        "outputId": "164b8614-d4fd-456c-f8bf-e17211b22625"
      },
      "outputs": [
        {
          "data": {
            "text/plain": [
              "60"
            ]
          },
          "execution_count": 8,
          "metadata": {},
          "output_type": "execute_result"
        }
      ],
      "source": [
        "zip_files = [str(file) for file in list(Path(base_path).iterdir()) if '.zip' in str(file)]\n",
        "len(zip_files)"
      ]
    },
    {
      "cell_type": "markdown",
      "metadata": {
        "id": "QzdtnR59P-_O"
      },
      "source": [
        "Extract comma-separated values (CSV) files from the .zip files."
      ]
    },
    {
      "cell_type": "code",
      "execution_count": null,
      "metadata": {
        "id": "H0-TI39AP-_O",
        "outputId": "6a2fc43d-a071-45b4-e75e-c3e29676e345"
      },
      "outputs": [
        {
          "name": "stdout",
          "output_type": "stream",
          "text": [
            "Extracting /home/ec2-user/SageMaker/project/data/FlightDelays/On_Time_Reporting_Carrier_On_Time_Performance_1987_present_2015_9.zip \n",
            "Extracting /home/ec2-user/SageMaker/project/data/FlightDelays/On_Time_Reporting_Carrier_On_Time_Performance_1987_present_2016_5.zip \n",
            "Extracting /home/ec2-user/SageMaker/project/data/FlightDelays/On_Time_Reporting_Carrier_On_Time_Performance_1987_present_2015_3.zip \n",
            "Extracting /home/ec2-user/SageMaker/project/data/FlightDelays/On_Time_Reporting_Carrier_On_Time_Performance_1987_present_2014_12.zip \n",
            "Extracting /home/ec2-user/SageMaker/project/data/FlightDelays/On_Time_Reporting_Carrier_On_Time_Performance_1987_present_2015_10.zip \n",
            "Extracting /home/ec2-user/SageMaker/project/data/FlightDelays/On_Time_Reporting_Carrier_On_Time_Performance_1987_present_2018_8.zip \n",
            "Extracting /home/ec2-user/SageMaker/project/data/FlightDelays/On_Time_Reporting_Carrier_On_Time_Performance_1987_present_2017_8.zip \n",
            "Extracting /home/ec2-user/SageMaker/project/data/FlightDelays/On_Time_Reporting_Carrier_On_Time_Performance_1987_present_2016_12.zip \n",
            "Extracting /home/ec2-user/SageMaker/project/data/FlightDelays/On_Time_Reporting_Carrier_On_Time_Performance_1987_present_2018_9.zip \n",
            "Extracting /home/ec2-user/SageMaker/project/data/FlightDelays/On_Time_Reporting_Carrier_On_Time_Performance_1987_present_2018_10.zip \n",
            "Extracting /home/ec2-user/SageMaker/project/data/FlightDelays/On_Time_Reporting_Carrier_On_Time_Performance_1987_present_2014_11.zip \n",
            "Extracting /home/ec2-user/SageMaker/project/data/FlightDelays/On_Time_Reporting_Carrier_On_Time_Performance_1987_present_2016_10.zip \n",
            "Extracting /home/ec2-user/SageMaker/project/data/FlightDelays/On_Time_Reporting_Carrier_On_Time_Performance_1987_present_2017_9.zip \n",
            "Extracting /home/ec2-user/SageMaker/project/data/FlightDelays/On_Time_Reporting_Carrier_On_Time_Performance_1987_present_2018_11.zip \n",
            "Extracting /home/ec2-user/SageMaker/project/data/FlightDelays/On_Time_Reporting_Carrier_On_Time_Performance_1987_present_2015_5.zip \n",
            "Extracting /home/ec2-user/SageMaker/project/data/FlightDelays/On_Time_Reporting_Carrier_On_Time_Performance_1987_present_2016_8.zip \n",
            "Extracting /home/ec2-user/SageMaker/project/data/FlightDelays/On_Time_Reporting_Carrier_On_Time_Performance_1987_present_2018_7.zip \n",
            "Extracting /home/ec2-user/SageMaker/project/data/FlightDelays/On_Time_Reporting_Carrier_On_Time_Performance_1987_present_2017_1.zip \n",
            "Extracting /home/ec2-user/SageMaker/project/data/FlightDelays/On_Time_Reporting_Carrier_On_Time_Performance_1987_present_2017_4.zip \n",
            "Extracting /home/ec2-user/SageMaker/project/data/FlightDelays/On_Time_Reporting_Carrier_On_Time_Performance_1987_present_2015_1.zip \n",
            "Extracting /home/ec2-user/SageMaker/project/data/FlightDelays/On_Time_Reporting_Carrier_On_Time_Performance_1987_present_2017_7.zip \n",
            "Extracting /home/ec2-user/SageMaker/project/data/FlightDelays/On_Time_Reporting_Carrier_On_Time_Performance_1987_present_2016_7.zip \n",
            "Extracting /home/ec2-user/SageMaker/project/data/FlightDelays/On_Time_Reporting_Carrier_On_Time_Performance_1987_present_2016_6.zip \n",
            "Extracting /home/ec2-user/SageMaker/project/data/FlightDelays/On_Time_Reporting_Carrier_On_Time_Performance_1987_present_2016_3.zip \n",
            "Extracting /home/ec2-user/SageMaker/project/data/FlightDelays/On_Time_Reporting_Carrier_On_Time_Performance_1987_present_2016_9.zip \n",
            "Extracting /home/ec2-user/SageMaker/project/data/FlightDelays/On_Time_Reporting_Carrier_On_Time_Performance_1987_present_2014_3.zip \n",
            "Extracting /home/ec2-user/SageMaker/project/data/FlightDelays/On_Time_Reporting_Carrier_On_Time_Performance_1987_present_2017_11.zip \n",
            "Extracting /home/ec2-user/SageMaker/project/data/FlightDelays/On_Time_Reporting_Carrier_On_Time_Performance_1987_present_2018_2.zip \n",
            "Extracting /home/ec2-user/SageMaker/project/data/FlightDelays/On_Time_Reporting_Carrier_On_Time_Performance_1987_present_2018_4.zip \n",
            "Extracting /home/ec2-user/SageMaker/project/data/FlightDelays/On_Time_Reporting_Carrier_On_Time_Performance_1987_present_2016_1.zip \n",
            "Extracting /home/ec2-user/SageMaker/project/data/FlightDelays/On_Time_Reporting_Carrier_On_Time_Performance_1987_present_2017_10.zip \n",
            "Extracting /home/ec2-user/SageMaker/project/data/FlightDelays/On_Time_Reporting_Carrier_On_Time_Performance_1987_present_2017_5.zip \n",
            "Extracting /home/ec2-user/SageMaker/project/data/FlightDelays/On_Time_Reporting_Carrier_On_Time_Performance_1987_present_2018_3.zip \n",
            "Extracting /home/ec2-user/SageMaker/project/data/FlightDelays/On_Time_Reporting_Carrier_On_Time_Performance_1987_present_2014_1.zip \n",
            "Extracting /home/ec2-user/SageMaker/project/data/FlightDelays/On_Time_Reporting_Carrier_On_Time_Performance_1987_present_2014_2.zip \n",
            "Extracting /home/ec2-user/SageMaker/project/data/FlightDelays/On_Time_Reporting_Carrier_On_Time_Performance_1987_present_2015_6.zip \n",
            "Extracting /home/ec2-user/SageMaker/project/data/FlightDelays/On_Time_Reporting_Carrier_On_Time_Performance_1987_present_2014_4.zip \n",
            "Extracting /home/ec2-user/SageMaker/project/data/FlightDelays/On_Time_Reporting_Carrier_On_Time_Performance_1987_present_2014_8.zip \n",
            "Extracting /home/ec2-user/SageMaker/project/data/FlightDelays/On_Time_Reporting_Carrier_On_Time_Performance_1987_present_2018_12.zip \n",
            "Extracting /home/ec2-user/SageMaker/project/data/FlightDelays/On_Time_Reporting_Carrier_On_Time_Performance_1987_present_2017_6.zip \n",
            "Extracting /home/ec2-user/SageMaker/project/data/FlightDelays/On_Time_Reporting_Carrier_On_Time_Performance_1987_present_2015_12.zip \n",
            "Extracting /home/ec2-user/SageMaker/project/data/FlightDelays/On_Time_Reporting_Carrier_On_Time_Performance_1987_present_2018_6.zip \n",
            "Extracting /home/ec2-user/SageMaker/project/data/FlightDelays/On_Time_Reporting_Carrier_On_Time_Performance_1987_present_2018_1.zip \n",
            "Extracting /home/ec2-user/SageMaker/project/data/FlightDelays/On_Time_Reporting_Carrier_On_Time_Performance_1987_present_2014_5.zip \n",
            "Extracting /home/ec2-user/SageMaker/project/data/FlightDelays/On_Time_Reporting_Carrier_On_Time_Performance_1987_present_2018_5.zip \n",
            "Extracting /home/ec2-user/SageMaker/project/data/FlightDelays/On_Time_Reporting_Carrier_On_Time_Performance_1987_present_2014_6.zip \n",
            "Extracting /home/ec2-user/SageMaker/project/data/FlightDelays/On_Time_Reporting_Carrier_On_Time_Performance_1987_present_2016_11.zip \n",
            "Extracting /home/ec2-user/SageMaker/project/data/FlightDelays/On_Time_Reporting_Carrier_On_Time_Performance_1987_present_2014_7.zip \n",
            "Extracting /home/ec2-user/SageMaker/project/data/FlightDelays/On_Time_Reporting_Carrier_On_Time_Performance_1987_present_2014_10.zip \n",
            "Extracting /home/ec2-user/SageMaker/project/data/FlightDelays/On_Time_Reporting_Carrier_On_Time_Performance_1987_present_2015_11.zip \n",
            "Extracting /home/ec2-user/SageMaker/project/data/FlightDelays/On_Time_Reporting_Carrier_On_Time_Performance_1987_present_2015_4.zip \n",
            "Extracting /home/ec2-user/SageMaker/project/data/FlightDelays/On_Time_Reporting_Carrier_On_Time_Performance_1987_present_2016_2.zip \n",
            "Extracting /home/ec2-user/SageMaker/project/data/FlightDelays/On_Time_Reporting_Carrier_On_Time_Performance_1987_present_2017_3.zip \n",
            "Extracting /home/ec2-user/SageMaker/project/data/FlightDelays/On_Time_Reporting_Carrier_On_Time_Performance_1987_present_2015_2.zip \n",
            "Extracting /home/ec2-user/SageMaker/project/data/FlightDelays/On_Time_Reporting_Carrier_On_Time_Performance_1987_present_2017_2.zip \n",
            "Extracting /home/ec2-user/SageMaker/project/data/FlightDelays/On_Time_Reporting_Carrier_On_Time_Performance_1987_present_2015_8.zip \n",
            "Extracting /home/ec2-user/SageMaker/project/data/FlightDelays/On_Time_Reporting_Carrier_On_Time_Performance_1987_present_2016_4.zip \n",
            "Extracting /home/ec2-user/SageMaker/project/data/FlightDelays/On_Time_Reporting_Carrier_On_Time_Performance_1987_present_2017_12.zip \n",
            "Extracting /home/ec2-user/SageMaker/project/data/FlightDelays/On_Time_Reporting_Carrier_On_Time_Performance_1987_present_2014_9.zip \n",
            "Extracting /home/ec2-user/SageMaker/project/data/FlightDelays/On_Time_Reporting_Carrier_On_Time_Performance_1987_present_2015_7.zip \n",
            "Files Extracted\n"
          ]
        }
      ],
      "source": [
        "def zip2csv(zipFile_name , file_path):\n",
        "    \"\"\"\n",
        "    Extract csv from zip files\n",
        "    zipFile_name: name of the zip file\n",
        "    file_path : name of the folder to store csv\n",
        "    \"\"\"\n",
        "\n",
        "    try:\n",
        "        with ZipFile(zipFile_name, 'r') as z: \n",
        "            print(f'Extracting {zipFile_name} ') \n",
        "            z.extractall(path=file_path) \n",
        "    except:\n",
        "        print(f'zip2csv failed for {zipFile_name}')\n",
        "\n",
        "for file in zip_files:\n",
        "    zip2csv(file, csv_base_path)\n",
        "\n",
        "print(\"Files Extracted\")"
      ]
    },
    {
      "cell_type": "code",
      "execution_count": null,
      "metadata": {
        "id": "Dcq2hKwfP-_O",
        "outputId": "5dda7c16-aee7-42d0-ba21-80476daa2d83"
      },
      "outputs": [
        {
          "data": {
            "text/plain": [
              "60"
            ]
          },
          "execution_count": 10,
          "metadata": {},
          "output_type": "execute_result"
        }
      ],
      "source": [
        "csv_files = [str(file) for file in list(Path(csv_base_path).iterdir()) if '.csv' in str(file)]\n",
        "len(csv_files)"
      ]
    },
    {
      "cell_type": "markdown",
      "metadata": {
        "id": "f9RW50YwP-_P"
      },
      "source": [
        "Before you load the CSV file, read the HTML file from the extracted folder. This HTML file includes the background and more information about the features that are included in the dataset."
      ]
    },
    {
      "cell_type": "code",
      "execution_count": null,
      "metadata": {
        "id": "ULAEl-b3P-_P",
        "outputId": "ff3ce0e7-8569-4855-e768-797e094e529d"
      },
      "outputs": [
        {
          "data": {
            "text/html": [
              "\n",
              "        <iframe\n",
              "            width=\"1000\"\n",
              "            height=\"600\"\n",
              "            src=\"../project/data/csvFlightDelays/readme.html\"\n",
              "            frameborder=\"0\"\n",
              "            allowfullscreen\n",
              "        ></iframe>\n",
              "        "
            ],
            "text/plain": [
              "<IPython.lib.display.IFrame at 0x7ff9587e2748>"
            ]
          },
          "execution_count": 11,
          "metadata": {},
          "output_type": "execute_result"
        }
      ],
      "source": [
        "from IPython.display import IFrame\n",
        "\n",
        "IFrame(src=os.path.relpath(f\"{csv_base_path}readme.html\"), width=1000, height=600)"
      ]
    },
    {
      "cell_type": "markdown",
      "metadata": {
        "id": "jcIiK79uP-_P"
      },
      "source": [
        "#### Load sample CSV file\n",
        "\n",
        "Before you combine all the CSV files, examine the data from a single CSV file. By using pandas, read the `On_Time_Reporting_Carrier_On_Time_Performance_(1987_present)_2018_9.csv` file first. You can use the built-in `read_csv` function in Python ([pandas.read_csv documentation](https://pandas.pydata.org/pandas-docs/stable/reference/api/pandas.read_csv.html))."
      ]
    },
    {
      "cell_type": "code",
      "execution_count": null,
      "metadata": {
        "id": "r6vhvywCP-_P"
      },
      "outputs": [],
      "source": [
        "df_temp = pd.read_csv(f\"{csv_base_path}On_Time_Reporting_Carrier_On_Time_Performance_(1987_present)_2018_9.csv\")"
      ]
    },
    {
      "cell_type": "markdown",
      "metadata": {
        "id": "INFujrEFP-_P"
      },
      "source": [
        "**Question**: Print the row and column length in the dataset, and print the column names.\n",
        "\n",
        "**Hint**: To view the rows and columns of a DataFrame, use the `<DataFrame>.shape` function. To view the column names, use the `<DataFrame>.columns` function."
      ]
    },
    {
      "cell_type": "code",
      "execution_count": null,
      "metadata": {
        "id": "GHYLSRbpP-_Q",
        "outputId": "88b0b15b-d398-4cb1-858e-29250fa4ce42"
      },
      "outputs": [
        {
          "name": "stdout",
          "output_type": "stream",
          "text": [
            "Rows and columns in one CSV file is (585749, 110)\n"
          ]
        }
      ],
      "source": [
        "df_shape = df_temp.shape\n",
        "print(f'Rows and columns in one CSV file is {df_shape}')"
      ]
    },
    {
      "cell_type": "markdown",
      "metadata": {
        "id": "-q4JZSafP-_Q"
      },
      "source": [
        "**Question**: Print the first 10 rows of the dataset.  \n",
        "\n",
        "**Hint**: To print `x` number of rows, use the built-in `head(x)` function in pandas."
      ]
    },
    {
      "cell_type": "code",
      "execution_count": null,
      "metadata": {
        "id": "M6JH6ljhP-_Q",
        "outputId": "1eb60be7-8fe5-491a-b7eb-c6ec58953960"
      },
      "outputs": [
        {
          "data": {
            "text/html": [
              "<div>\n",
              "<style scoped>\n",
              "    .dataframe tbody tr th:only-of-type {\n",
              "        vertical-align: middle;\n",
              "    }\n",
              "\n",
              "    .dataframe tbody tr th {\n",
              "        vertical-align: top;\n",
              "    }\n",
              "\n",
              "    .dataframe thead th {\n",
              "        text-align: right;\n",
              "    }\n",
              "</style>\n",
              "<table border=\"1\" class=\"dataframe\">\n",
              "  <thead>\n",
              "    <tr style=\"text-align: right;\">\n",
              "      <th></th>\n",
              "      <th>Year</th>\n",
              "      <th>Quarter</th>\n",
              "      <th>Month</th>\n",
              "      <th>DayofMonth</th>\n",
              "      <th>DayOfWeek</th>\n",
              "      <th>FlightDate</th>\n",
              "      <th>Reporting_Airline</th>\n",
              "      <th>DOT_ID_Reporting_Airline</th>\n",
              "      <th>IATA_CODE_Reporting_Airline</th>\n",
              "      <th>Tail_Number</th>\n",
              "      <th>...</th>\n",
              "      <th>Div4TailNum</th>\n",
              "      <th>Div5Airport</th>\n",
              "      <th>Div5AirportID</th>\n",
              "      <th>Div5AirportSeqID</th>\n",
              "      <th>Div5WheelsOn</th>\n",
              "      <th>Div5TotalGTime</th>\n",
              "      <th>Div5LongestGTime</th>\n",
              "      <th>Div5WheelsOff</th>\n",
              "      <th>Div5TailNum</th>\n",
              "      <th>Unnamed: 109</th>\n",
              "    </tr>\n",
              "  </thead>\n",
              "  <tbody>\n",
              "    <tr>\n",
              "      <th>0</th>\n",
              "      <td>2018</td>\n",
              "      <td>3</td>\n",
              "      <td>9</td>\n",
              "      <td>3</td>\n",
              "      <td>1</td>\n",
              "      <td>2018-09-03</td>\n",
              "      <td>9E</td>\n",
              "      <td>20363</td>\n",
              "      <td>9E</td>\n",
              "      <td>N908XJ</td>\n",
              "      <td>...</td>\n",
              "      <td>NaN</td>\n",
              "      <td>NaN</td>\n",
              "      <td>NaN</td>\n",
              "      <td>NaN</td>\n",
              "      <td>NaN</td>\n",
              "      <td>NaN</td>\n",
              "      <td>NaN</td>\n",
              "      <td>NaN</td>\n",
              "      <td>NaN</td>\n",
              "      <td>NaN</td>\n",
              "    </tr>\n",
              "    <tr>\n",
              "      <th>1</th>\n",
              "      <td>2018</td>\n",
              "      <td>3</td>\n",
              "      <td>9</td>\n",
              "      <td>9</td>\n",
              "      <td>7</td>\n",
              "      <td>2018-09-09</td>\n",
              "      <td>9E</td>\n",
              "      <td>20363</td>\n",
              "      <td>9E</td>\n",
              "      <td>N315PQ</td>\n",
              "      <td>...</td>\n",
              "      <td>NaN</td>\n",
              "      <td>NaN</td>\n",
              "      <td>NaN</td>\n",
              "      <td>NaN</td>\n",
              "      <td>NaN</td>\n",
              "      <td>NaN</td>\n",
              "      <td>NaN</td>\n",
              "      <td>NaN</td>\n",
              "      <td>NaN</td>\n",
              "      <td>NaN</td>\n",
              "    </tr>\n",
              "    <tr>\n",
              "      <th>2</th>\n",
              "      <td>2018</td>\n",
              "      <td>3</td>\n",
              "      <td>9</td>\n",
              "      <td>10</td>\n",
              "      <td>1</td>\n",
              "      <td>2018-09-10</td>\n",
              "      <td>9E</td>\n",
              "      <td>20363</td>\n",
              "      <td>9E</td>\n",
              "      <td>N582CA</td>\n",
              "      <td>...</td>\n",
              "      <td>NaN</td>\n",
              "      <td>NaN</td>\n",
              "      <td>NaN</td>\n",
              "      <td>NaN</td>\n",
              "      <td>NaN</td>\n",
              "      <td>NaN</td>\n",
              "      <td>NaN</td>\n",
              "      <td>NaN</td>\n",
              "      <td>NaN</td>\n",
              "      <td>NaN</td>\n",
              "    </tr>\n",
              "    <tr>\n",
              "      <th>3</th>\n",
              "      <td>2018</td>\n",
              "      <td>3</td>\n",
              "      <td>9</td>\n",
              "      <td>13</td>\n",
              "      <td>4</td>\n",
              "      <td>2018-09-13</td>\n",
              "      <td>9E</td>\n",
              "      <td>20363</td>\n",
              "      <td>9E</td>\n",
              "      <td>N292PQ</td>\n",
              "      <td>...</td>\n",
              "      <td>NaN</td>\n",
              "      <td>NaN</td>\n",
              "      <td>NaN</td>\n",
              "      <td>NaN</td>\n",
              "      <td>NaN</td>\n",
              "      <td>NaN</td>\n",
              "      <td>NaN</td>\n",
              "      <td>NaN</td>\n",
              "      <td>NaN</td>\n",
              "      <td>NaN</td>\n",
              "    </tr>\n",
              "    <tr>\n",
              "      <th>4</th>\n",
              "      <td>2018</td>\n",
              "      <td>3</td>\n",
              "      <td>9</td>\n",
              "      <td>14</td>\n",
              "      <td>5</td>\n",
              "      <td>2018-09-14</td>\n",
              "      <td>9E</td>\n",
              "      <td>20363</td>\n",
              "      <td>9E</td>\n",
              "      <td>N600LR</td>\n",
              "      <td>...</td>\n",
              "      <td>NaN</td>\n",
              "      <td>NaN</td>\n",
              "      <td>NaN</td>\n",
              "      <td>NaN</td>\n",
              "      <td>NaN</td>\n",
              "      <td>NaN</td>\n",
              "      <td>NaN</td>\n",
              "      <td>NaN</td>\n",
              "      <td>NaN</td>\n",
              "      <td>NaN</td>\n",
              "    </tr>\n",
              "    <tr>\n",
              "      <th>5</th>\n",
              "      <td>2018</td>\n",
              "      <td>3</td>\n",
              "      <td>9</td>\n",
              "      <td>16</td>\n",
              "      <td>7</td>\n",
              "      <td>2018-09-16</td>\n",
              "      <td>9E</td>\n",
              "      <td>20363</td>\n",
              "      <td>9E</td>\n",
              "      <td>N316PQ</td>\n",
              "      <td>...</td>\n",
              "      <td>NaN</td>\n",
              "      <td>NaN</td>\n",
              "      <td>NaN</td>\n",
              "      <td>NaN</td>\n",
              "      <td>NaN</td>\n",
              "      <td>NaN</td>\n",
              "      <td>NaN</td>\n",
              "      <td>NaN</td>\n",
              "      <td>NaN</td>\n",
              "      <td>NaN</td>\n",
              "    </tr>\n",
              "    <tr>\n",
              "      <th>6</th>\n",
              "      <td>2018</td>\n",
              "      <td>3</td>\n",
              "      <td>9</td>\n",
              "      <td>17</td>\n",
              "      <td>1</td>\n",
              "      <td>2018-09-17</td>\n",
              "      <td>9E</td>\n",
              "      <td>20363</td>\n",
              "      <td>9E</td>\n",
              "      <td>N916XJ</td>\n",
              "      <td>...</td>\n",
              "      <td>NaN</td>\n",
              "      <td>NaN</td>\n",
              "      <td>NaN</td>\n",
              "      <td>NaN</td>\n",
              "      <td>NaN</td>\n",
              "      <td>NaN</td>\n",
              "      <td>NaN</td>\n",
              "      <td>NaN</td>\n",
              "      <td>NaN</td>\n",
              "      <td>NaN</td>\n",
              "    </tr>\n",
              "    <tr>\n",
              "      <th>7</th>\n",
              "      <td>2018</td>\n",
              "      <td>3</td>\n",
              "      <td>9</td>\n",
              "      <td>20</td>\n",
              "      <td>4</td>\n",
              "      <td>2018-09-20</td>\n",
              "      <td>9E</td>\n",
              "      <td>20363</td>\n",
              "      <td>9E</td>\n",
              "      <td>N371CA</td>\n",
              "      <td>...</td>\n",
              "      <td>NaN</td>\n",
              "      <td>NaN</td>\n",
              "      <td>NaN</td>\n",
              "      <td>NaN</td>\n",
              "      <td>NaN</td>\n",
              "      <td>NaN</td>\n",
              "      <td>NaN</td>\n",
              "      <td>NaN</td>\n",
              "      <td>NaN</td>\n",
              "      <td>NaN</td>\n",
              "    </tr>\n",
              "    <tr>\n",
              "      <th>8</th>\n",
              "      <td>2018</td>\n",
              "      <td>3</td>\n",
              "      <td>9</td>\n",
              "      <td>21</td>\n",
              "      <td>5</td>\n",
              "      <td>2018-09-21</td>\n",
              "      <td>9E</td>\n",
              "      <td>20363</td>\n",
              "      <td>9E</td>\n",
              "      <td>N601LR</td>\n",
              "      <td>...</td>\n",
              "      <td>NaN</td>\n",
              "      <td>NaN</td>\n",
              "      <td>NaN</td>\n",
              "      <td>NaN</td>\n",
              "      <td>NaN</td>\n",
              "      <td>NaN</td>\n",
              "      <td>NaN</td>\n",
              "      <td>NaN</td>\n",
              "      <td>NaN</td>\n",
              "      <td>NaN</td>\n",
              "    </tr>\n",
              "    <tr>\n",
              "      <th>9</th>\n",
              "      <td>2018</td>\n",
              "      <td>3</td>\n",
              "      <td>9</td>\n",
              "      <td>23</td>\n",
              "      <td>7</td>\n",
              "      <td>2018-09-23</td>\n",
              "      <td>9E</td>\n",
              "      <td>20363</td>\n",
              "      <td>9E</td>\n",
              "      <td>N906XJ</td>\n",
              "      <td>...</td>\n",
              "      <td>NaN</td>\n",
              "      <td>NaN</td>\n",
              "      <td>NaN</td>\n",
              "      <td>NaN</td>\n",
              "      <td>NaN</td>\n",
              "      <td>NaN</td>\n",
              "      <td>NaN</td>\n",
              "      <td>NaN</td>\n",
              "      <td>NaN</td>\n",
              "      <td>NaN</td>\n",
              "    </tr>\n",
              "  </tbody>\n",
              "</table>\n",
              "<p>10 rows × 110 columns</p>\n",
              "</div>"
            ],
            "text/plain": [
              "   Year  Quarter  Month  DayofMonth  DayOfWeek  FlightDate Reporting_Airline  \\\n",
              "0  2018        3      9           3          1  2018-09-03                9E   \n",
              "1  2018        3      9           9          7  2018-09-09                9E   \n",
              "2  2018        3      9          10          1  2018-09-10                9E   \n",
              "3  2018        3      9          13          4  2018-09-13                9E   \n",
              "4  2018        3      9          14          5  2018-09-14                9E   \n",
              "5  2018        3      9          16          7  2018-09-16                9E   \n",
              "6  2018        3      9          17          1  2018-09-17                9E   \n",
              "7  2018        3      9          20          4  2018-09-20                9E   \n",
              "8  2018        3      9          21          5  2018-09-21                9E   \n",
              "9  2018        3      9          23          7  2018-09-23                9E   \n",
              "\n",
              "   DOT_ID_Reporting_Airline IATA_CODE_Reporting_Airline Tail_Number  ...  \\\n",
              "0                     20363                          9E      N908XJ  ...   \n",
              "1                     20363                          9E      N315PQ  ...   \n",
              "2                     20363                          9E      N582CA  ...   \n",
              "3                     20363                          9E      N292PQ  ...   \n",
              "4                     20363                          9E      N600LR  ...   \n",
              "5                     20363                          9E      N316PQ  ...   \n",
              "6                     20363                          9E      N916XJ  ...   \n",
              "7                     20363                          9E      N371CA  ...   \n",
              "8                     20363                          9E      N601LR  ...   \n",
              "9                     20363                          9E      N906XJ  ...   \n",
              "\n",
              "   Div4TailNum  Div5Airport  Div5AirportID  Div5AirportSeqID Div5WheelsOn  \\\n",
              "0          NaN          NaN            NaN               NaN          NaN   \n",
              "1          NaN          NaN            NaN               NaN          NaN   \n",
              "2          NaN          NaN            NaN               NaN          NaN   \n",
              "3          NaN          NaN            NaN               NaN          NaN   \n",
              "4          NaN          NaN            NaN               NaN          NaN   \n",
              "5          NaN          NaN            NaN               NaN          NaN   \n",
              "6          NaN          NaN            NaN               NaN          NaN   \n",
              "7          NaN          NaN            NaN               NaN          NaN   \n",
              "8          NaN          NaN            NaN               NaN          NaN   \n",
              "9          NaN          NaN            NaN               NaN          NaN   \n",
              "\n",
              "  Div5TotalGTime Div5LongestGTime  Div5WheelsOff Div5TailNum  Unnamed: 109  \n",
              "0            NaN              NaN            NaN         NaN           NaN  \n",
              "1            NaN              NaN            NaN         NaN           NaN  \n",
              "2            NaN              NaN            NaN         NaN           NaN  \n",
              "3            NaN              NaN            NaN         NaN           NaN  \n",
              "4            NaN              NaN            NaN         NaN           NaN  \n",
              "5            NaN              NaN            NaN         NaN           NaN  \n",
              "6            NaN              NaN            NaN         NaN           NaN  \n",
              "7            NaN              NaN            NaN         NaN           NaN  \n",
              "8            NaN              NaN            NaN         NaN           NaN  \n",
              "9            NaN              NaN            NaN         NaN           NaN  \n",
              "\n",
              "[10 rows x 110 columns]"
            ]
          },
          "execution_count": 14,
          "metadata": {},
          "output_type": "execute_result"
        }
      ],
      "source": [
        "df_temp.head(10)"
      ]
    },
    {
      "cell_type": "markdown",
      "metadata": {
        "id": "sdYQKtNpP-_Q"
      },
      "source": [
        "**Question**: Print all the columns in the dataset. To view the column names, use `<DataFrame>.columns`."
      ]
    },
    {
      "cell_type": "code",
      "execution_count": null,
      "metadata": {
        "id": "bV33GLJ9P-_Q",
        "outputId": "95a4bd32-4968-4c23-aff7-efe384f3796d"
      },
      "outputs": [
        {
          "name": "stdout",
          "output_type": "stream",
          "text": [
            "The column names are :\n",
            "#########\n",
            "Year\n",
            "Quarter\n",
            "Month\n",
            "DayofMonth\n",
            "DayOfWeek\n",
            "FlightDate\n",
            "Reporting_Airline\n",
            "DOT_ID_Reporting_Airline\n",
            "IATA_CODE_Reporting_Airline\n",
            "Tail_Number\n",
            "Flight_Number_Reporting_Airline\n",
            "OriginAirportID\n",
            "OriginAirportSeqID\n",
            "OriginCityMarketID\n",
            "Origin\n",
            "OriginCityName\n",
            "OriginState\n",
            "OriginStateFips\n",
            "OriginStateName\n",
            "OriginWac\n",
            "DestAirportID\n",
            "DestAirportSeqID\n",
            "DestCityMarketID\n",
            "Dest\n",
            "DestCityName\n",
            "DestState\n",
            "DestStateFips\n",
            "DestStateName\n",
            "DestWac\n",
            "CRSDepTime\n",
            "DepTime\n",
            "DepDelay\n",
            "DepDelayMinutes\n",
            "DepDel15\n",
            "DepartureDelayGroups\n",
            "DepTimeBlk\n",
            "TaxiOut\n",
            "WheelsOff\n",
            "WheelsOn\n",
            "TaxiIn\n",
            "CRSArrTime\n",
            "ArrTime\n",
            "ArrDelay\n",
            "ArrDelayMinutes\n",
            "ArrDel15\n",
            "ArrivalDelayGroups\n",
            "ArrTimeBlk\n",
            "Cancelled\n",
            "CancellationCode\n",
            "Diverted\n",
            "CRSElapsedTime\n",
            "ActualElapsedTime\n",
            "AirTime\n",
            "Flights\n",
            "Distance\n",
            "DistanceGroup\n",
            "CarrierDelay\n",
            "WeatherDelay\n",
            "NASDelay\n",
            "SecurityDelay\n",
            "LateAircraftDelay\n",
            "FirstDepTime\n",
            "TotalAddGTime\n",
            "LongestAddGTime\n",
            "DivAirportLandings\n",
            "DivReachedDest\n",
            "DivActualElapsedTime\n",
            "DivArrDelay\n",
            "DivDistance\n",
            "Div1Airport\n",
            "Div1AirportID\n",
            "Div1AirportSeqID\n",
            "Div1WheelsOn\n",
            "Div1TotalGTime\n",
            "Div1LongestGTime\n",
            "Div1WheelsOff\n",
            "Div1TailNum\n",
            "Div2Airport\n",
            "Div2AirportID\n",
            "Div2AirportSeqID\n",
            "Div2WheelsOn\n",
            "Div2TotalGTime\n",
            "Div2LongestGTime\n",
            "Div2WheelsOff\n",
            "Div2TailNum\n",
            "Div3Airport\n",
            "Div3AirportID\n",
            "Div3AirportSeqID\n",
            "Div3WheelsOn\n",
            "Div3TotalGTime\n",
            "Div3LongestGTime\n",
            "Div3WheelsOff\n",
            "Div3TailNum\n",
            "Div4Airport\n",
            "Div4AirportID\n",
            "Div4AirportSeqID\n",
            "Div4WheelsOn\n",
            "Div4TotalGTime\n",
            "Div4LongestGTime\n",
            "Div4WheelsOff\n",
            "Div4TailNum\n",
            "Div5Airport\n",
            "Div5AirportID\n",
            "Div5AirportSeqID\n",
            "Div5WheelsOn\n",
            "Div5TotalGTime\n",
            "Div5LongestGTime\n",
            "Div5WheelsOff\n",
            "Div5TailNum\n",
            "Unnamed: 109\n"
          ]
        }
      ],
      "source": [
        "print(f'The column names are :')\n",
        "print('#########')\n",
        "for col in df_temp.columns:\n",
        "    print(col)"
      ]
    },
    {
      "cell_type": "markdown",
      "metadata": {
        "id": "5BiJR9C1P-_Q"
      },
      "source": [
        "**Question**: Print all the columns in the dataset that contain the word *Del*. This will help you see how many columns have *delay data* in them.\n",
        "\n",
        "**Hint**: To include values that pass certain `if` statement criteria, you can use a Python list comprehension.\n",
        "\n",
        "For example: `[x for x in [1,2,3,4,5] if x > 2]`  \n",
        "\n",
        "**Hint**: To check if the value is in a list, you can use the `in` keyword ([Python in Keyword documentation](https://www.w3schools.com/python/ref_keyword_in.asp)). \n",
        "\n",
        "For example: `5 in [1,2,3,4,5]`"
      ]
    },
    {
      "cell_type": "code",
      "execution_count": null,
      "metadata": {
        "id": "jky0poK0P-_R",
        "outputId": "efa85023-419d-4179-b4b3-08cd12eb5bd8"
      },
      "outputs": [
        {
          "name": "stdout",
          "output_type": "stream",
          "text": [
            "Column names that contains \"Del\" are :\n",
            "#########\n",
            "['DepDelay', 'DepDelayMinutes', 'DepDel15', 'DepartureDelayGroups', 'ArrDelay', 'ArrDelayMinutes', 'ArrDel15', 'ArrivalDelayGroups', 'CarrierDelay', 'WeatherDelay', 'NASDelay', 'SecurityDelay', 'LateAircraftDelay', 'DivArrDelay']\n"
          ]
        }
      ],
      "source": [
        "print(f'Column names that contains \"Del\" are :')\n",
        "print('#########')\n",
        "print([x for x in df_temp.columns if \"Del\" in x])"
      ]
    },
    {
      "cell_type": "markdown",
      "metadata": {
        "id": "mnUQaML2P-_R"
      },
      "source": [
        "Here are some more questions to help you learn more about your dataset.\n",
        "\n",
        "**Questions**   \n",
        "\n",
        "1. How many rows and columns does the dataset have?   \n",
        "2. How many years are included in the dataset?   \n",
        "3. What is the date range for the dataset?   \n",
        "4. Which airlines are included in the dataset?   \n",
        "5. Which origin and destination airports are covered?\n",
        "\n",
        "**Hints**\n",
        "- To show the dimensions of the DataFrame, use `df_temp.shape`.\n",
        "- To refer to a specific column, use `df_temp.columnName` (for example, `df_temp.CarrierDelay`).\n",
        "- To get unique values for a column, use `df_temp.column.unique()` (for, example `df_temp.Year.unique()`)."
      ]
    },
    {
      "cell_type": "code",
      "execution_count": null,
      "metadata": {
        "id": "o4Uv0p01P-_R",
        "outputId": "38fcb143-2f10-4d30-adaa-744a672e7daa"
      },
      "outputs": [
        {
          "name": "stdout",
          "output_type": "stream",
          "text": [
            "The #rows and #columns are  585749  and  110\n",
            "The years in this dataset are:  [2018]\n",
            "The months covered in this dataset are:  [9]\n",
            "The date range for data is : 2018-09-01  to  2018-09-30\n",
            "The airlines covered in this dataset are:  ['9E', 'B6', 'WN', 'YV', 'YX', 'EV', 'AA', 'AS', 'DL', 'HA', 'UA', 'F9', 'G4', 'MQ', 'NK', 'OH', 'OO']\n",
            "The Origin airports covered are:  ['DFW', 'LGA', 'MSN', 'MSP', 'ATL', 'BDL', 'VLD', 'JFK', 'RDU', 'CHS', 'DTW', 'GRB', 'PVD', 'SHV', 'FNT', 'PIT', 'RIC', 'RST', 'RSW', 'CVG', 'LIT', 'ORD', 'JAX', 'TRI', 'BOS', 'CWA', 'DCA', 'CHO', 'AVP', 'IND', 'GRR', 'BTR', 'MEM', 'TUL', 'CLE', 'STL', 'BTV', 'OMA', 'MGM', 'TVC', 'SAV', 'GSP', 'EWR', 'OAJ', 'BNA', 'MCI', 'TLH', 'ROC', 'LEX', 'PWM', 'BUF', 'AGS', 'CLT', 'GSO', 'BWI', 'SAT', 'PHL', 'TYS', 'ACK', 'DSM', 'GNV', 'AVL', 'BGR', 'MHT', 'ILM', 'MOT', 'IAH', 'SBN', 'SYR', 'ORF', 'MKE', 'XNA', 'MSY', 'PBI', 'ABE', 'HPN', 'EVV', 'ALB', 'LNK', 'AUS', 'PHF', 'CHA', 'GTR', 'BMI', 'BQK', 'CID', 'CAK', 'ATW', 'ABY', 'CAE', 'SRQ', 'MLI', 'BHM', 'IAD', 'CSG', 'CMH', 'MCO', 'MBS', 'FLL', 'SDF', 'TPA', 'MVY', 'LAS', 'LGB', 'SFO', 'SAN', 'LAX', 'RNO', 'PDX', 'ANC', 'ABQ', 'SLC', 'DEN', 'PHX', 'OAK', 'SMF', 'SJU', 'SEA', 'HOU', 'STX', 'BUR', 'SWF', 'SJC', 'DAB', 'BQN', 'PSE', 'ORH', 'HYA', 'STT', 'ONT', 'HRL', 'ICT', 'ISP', 'LBB', 'MAF', 'MDW', 'OKC', 'PNS', 'SNA', 'TUS', 'AMA', 'BOI', 'CRP', 'DAL', 'ECP', 'ELP', 'GEG', 'LFT', 'MFE', 'MDT', 'JAN', 'COS', 'MOB', 'VPS', 'MTJ', 'DRO', 'GPT', 'BFL', 'MRY', 'SBA', 'PSP', 'FSD', 'BRO', 'RAP', 'COU', 'STS', 'PIA', 'FAT', 'SBP', 'FSM', 'HSV', 'BIS', 'DAY', 'BZN', 'MIA', 'EYW', 'MYR', 'HHH', 'GJT', 'FAR', 'SGF', 'HOB', 'CLL', 'LRD', 'AEX', 'ERI', 'MLU', 'LCH', 'ROA', 'LAW', 'MHK', 'GRK', 'SAF', 'GRI', 'JLN', 'ROW', 'FWA', 'CRW', 'LAN', 'OGG', 'HNL', 'KOA', 'EGE', 'LIH', 'MLB', 'JAC', 'FAI', 'RDM', 'ADQ', 'BET', 'BRW', 'SCC', 'KTN', 'YAK', 'CDV', 'JNU', 'SIT', 'PSG', 'WRG', 'OME', 'OTZ', 'ADK', 'FCA', 'FAY', 'PSC', 'BIL', 'MSO', 'ITO', 'PPG', 'MFR', 'EUG', 'GUM', 'SPN', 'DLH', 'TTN', 'BKG', 'SFB', 'PIE', 'PGD', 'AZA', 'SMX', 'RFD', 'SCK', 'OWB', 'HTS', 'BLV', 'IAG', 'USA', 'GFK', 'BLI', 'ELM', 'PBG', 'LCK', 'GTF', 'OGD', 'IDA', 'PVU', 'TOL', 'PSM', 'CKB', 'HGR', 'SPI', 'STC', 'ACT', 'TYR', 'ABI', 'AZO', 'CMI', 'BPT', 'GCK', 'MQT', 'ALO', 'TXK', 'SPS', 'SWO', 'DBQ', 'SUX', 'SJT', 'GGG', 'LSE', 'LBE', 'ACY', 'LYH', 'PGV', 'HVN', 'EWN', 'DHN', 'PIH', 'IMT', 'WYS', 'CPR', 'SCE', 'HLN', 'SUN', 'ISN', 'CMX', 'EAU', 'LWB', 'SHD', 'LBF', 'HYS', 'SLN', 'EAR', 'VEL', 'CNY', 'GCC', 'RKS', 'PUB', 'LBL', 'MKG', 'PAH', 'CGI', 'UIN', 'BFF', 'DVL', 'JMS', 'LAR', 'SGU', 'PRC', 'ASE', 'RDD', 'ACV', 'OTH', 'COD', 'LWS', 'ABR', 'APN', 'ESC', 'PLN', 'BJI', 'BRD', 'BTM', 'CDC', 'CIU', 'EKO', 'TWF', 'HIB', 'BGM', 'RHI', 'ITH', 'INL', 'FLG', 'YUM', 'MEI', 'PIB', 'HDN']\n",
            "The Destination airports covered are:  ['CVG', 'PWM', 'RDU', 'MSP', 'MSN', 'SHV', 'CLT', 'PIT', 'RIC', 'IAH', 'ATL', 'JFK', 'DCA', 'DTW', 'LGA', 'TYS', 'PVD', 'FNT', 'LIT', 'BUF', 'ORD', 'TRI', 'IND', 'BGR', 'AVP', 'BWI', 'LEX', 'BDL', 'GRR', 'CWA', 'TUL', 'MEM', 'AGS', 'EWR', 'MGM', 'PHL', 'SYR', 'OMA', 'STL', 'TVC', 'ORF', 'CLE', 'ABY', 'BOS', 'OAJ', 'TLH', 'BTR', 'SAT', 'JAX', 'BNA', 'CHO', 'VLD', 'ROC', 'DFW', 'GNV', 'ACK', 'PBI', 'CHS', 'GRB', 'MOT', 'MKE', 'DSM', 'ILM', 'GSO', 'MCI', 'SBN', 'BTV', 'MVY', 'XNA', 'RST', 'EVV', 'HPN', 'RSW', 'MDT', 'ROA', 'GSP', 'MCO', 'CSG', 'SAV', 'PHF', 'ALB', 'CHA', 'ABE', 'BMI', 'MSY', 'IAD', 'GTR', 'CID', 'CAK', 'ATW', 'AUS', 'BQK', 'MLI', 'CAE', 'CMH', 'AVL', 'MBS', 'FLL', 'SDF', 'TPA', 'LNK', 'SRQ', 'MHT', 'BHM', 'LAS', 'SFO', 'SAN', 'RNO', 'LGB', 'ANC', 'PDX', 'SJU', 'ABQ', 'SLC', 'DEN', 'LAX', 'PHX', 'OAK', 'SMF', 'SEA', 'STX', 'BUR', 'DAB', 'SJC', 'SWF', 'HOU', 'BQN', 'PSE', 'ORH', 'HYA', 'STT', 'ONT', 'DAL', 'ECP', 'ELP', 'HRL', 'MAF', 'MDW', 'OKC', 'PNS', 'SNA', 'AMA', 'BOI', 'GEG', 'ICT', 'LBB', 'TUS', 'ISP', 'CRP', 'MFE', 'LFT', 'VPS', 'JAN', 'COS', 'MOB', 'DRO', 'GPT', 'BFL', 'COU', 'SBP', 'MTJ', 'SBA', 'PSP', 'FSD', 'FSM', 'BRO', 'PIA', 'STS', 'FAT', 'RAP', 'MRY', 'HSV', 'BIS', 'DAY', 'BZN', 'MIA', 'EYW', 'MYR', 'HHH', 'GJT', 'FAR', 'MLU', 'LRD', 'CLL', 'LCH', 'FWA', 'GRK', 'SGF', 'HOB', 'LAW', 'MHK', 'SAF', 'JLN', 'ROW', 'GRI', 'AEX', 'CRW', 'LAN', 'ERI', 'HNL', 'KOA', 'OGG', 'EGE', 'LIH', 'JAC', 'MLB', 'RDM', 'BET', 'ADQ', 'BRW', 'SCC', 'FAI', 'JNU', 'CDV', 'YAK', 'SIT', 'KTN', 'WRG', 'PSG', 'OME', 'OTZ', 'ADK', 'FCA', 'BIL', 'PSC', 'FAY', 'MSO', 'ITO', 'PPG', 'MFR', 'DLH', 'EUG', 'GUM', 'SPN', 'TTN', 'BKG', 'AZA', 'SFB', 'LCK', 'BLI', 'SCK', 'PIE', 'RFD', 'PVU', 'PBG', 'BLV', 'PGD', 'SPI', 'USA', 'TOL', 'IDA', 'ELM', 'HTS', 'HGR', 'SMX', 'OGD', 'GFK', 'STC', 'GTF', 'IAG', 'CKB', 'OWB', 'PSM', 'ABI', 'TYR', 'ALO', 'SUX', 'AZO', 'ACT', 'CMI', 'BPT', 'TXK', 'SWO', 'SPS', 'DBQ', 'SJT', 'GGG', 'LSE', 'MQT', 'GCK', 'LBE', 'ACY', 'LYH', 'PGV', 'HVN', 'EWN', 'DHN', 'PIH', 'WYS', 'SCE', 'IMT', 'HLN', 'ASE', 'SUN', 'ISN', 'EAR', 'SGU', 'VEL', 'SHD', 'LWB', 'MKG', 'SLN', 'HYS', 'BFF', 'PUB', 'LBL', 'CMX', 'EAU', 'PAH', 'UIN', 'RKS', 'CGI', 'CNY', 'JMS', 'DVL', 'LAR', 'GCC', 'LBF', 'PRC', 'RDD', 'ACV', 'OTH', 'COD', 'LWS', 'ABR', 'APN', 'PLN', 'BJI', 'CPR', 'BRD', 'BTM', 'CDC', 'CIU', 'ESC', 'EKO', 'ITH', 'HIB', 'BGM', 'TWF', 'RHI', 'INL', 'FLG', 'YUM', 'MEI', 'PIB', 'HDN']\n"
          ]
        }
      ],
      "source": [
        "print(\"The #rows and #columns are \", df_temp.shape[0] , \" and \", df_temp.shape[1])\n",
        "print(\"The years in this dataset are: \", df_temp.Year.unique())\n",
        "print(\"The months covered in this dataset are: \", df_temp.Month.unique())\n",
        "print(\"The date range for data is :\" , min(df_temp.FlightDate.unique()), \" to \", max(df_temp.FlightDate.unique()))\n",
        "print(\"The airlines covered in this dataset are: \", list(df_temp.Reporting_Airline.unique()))\n",
        "print(\"The Origin airports covered are: \", list(df_temp.Origin.unique()))\n",
        "print(\"The Destination airports covered are: \", list(df_temp.Dest.unique()))"
      ]
    },
    {
      "cell_type": "markdown",
      "metadata": {
        "id": "5lqm5cXGP-_R"
      },
      "source": [
        "**Question**: What is the count of all the origin and destination airports?\n",
        "\n",
        "**Hint**: To find the values for each airport by using the **Origin** and **Dest** columns, you can use the `values_count` function in pandas ([pandas.Series.value_counts documentation](https://pandas.pydata.org/pandas-docs/stable/reference/api/pandas.Series.value_counts.html))."
      ]
    },
    {
      "cell_type": "code",
      "execution_count": null,
      "metadata": {
        "id": "yhz6g0Q6P-_R",
        "outputId": "fca8fda2-334b-4004-9a7e-e486f815186c"
      },
      "outputs": [
        {
          "data": {
            "text/html": [
              "<div>\n",
              "<style scoped>\n",
              "    .dataframe tbody tr th:only-of-type {\n",
              "        vertical-align: middle;\n",
              "    }\n",
              "\n",
              "    .dataframe tbody tr th {\n",
              "        vertical-align: top;\n",
              "    }\n",
              "\n",
              "    .dataframe thead th {\n",
              "        text-align: right;\n",
              "    }\n",
              "</style>\n",
              "<table border=\"1\" class=\"dataframe\">\n",
              "  <thead>\n",
              "    <tr style=\"text-align: right;\">\n",
              "      <th></th>\n",
              "      <th>Origin</th>\n",
              "      <th>Destination</th>\n",
              "    </tr>\n",
              "  </thead>\n",
              "  <tbody>\n",
              "    <tr>\n",
              "      <th>ABE</th>\n",
              "      <td>303</td>\n",
              "      <td>303</td>\n",
              "    </tr>\n",
              "    <tr>\n",
              "      <th>ABI</th>\n",
              "      <td>169</td>\n",
              "      <td>169</td>\n",
              "    </tr>\n",
              "    <tr>\n",
              "      <th>ABQ</th>\n",
              "      <td>2077</td>\n",
              "      <td>2076</td>\n",
              "    </tr>\n",
              "    <tr>\n",
              "      <th>ABR</th>\n",
              "      <td>60</td>\n",
              "      <td>60</td>\n",
              "    </tr>\n",
              "    <tr>\n",
              "      <th>ABY</th>\n",
              "      <td>79</td>\n",
              "      <td>79</td>\n",
              "    </tr>\n",
              "    <tr>\n",
              "      <th>...</th>\n",
              "      <td>...</td>\n",
              "      <td>...</td>\n",
              "    </tr>\n",
              "    <tr>\n",
              "      <th>WRG</th>\n",
              "      <td>60</td>\n",
              "      <td>60</td>\n",
              "    </tr>\n",
              "    <tr>\n",
              "      <th>WYS</th>\n",
              "      <td>52</td>\n",
              "      <td>52</td>\n",
              "    </tr>\n",
              "    <tr>\n",
              "      <th>XNA</th>\n",
              "      <td>1004</td>\n",
              "      <td>1004</td>\n",
              "    </tr>\n",
              "    <tr>\n",
              "      <th>YAK</th>\n",
              "      <td>60</td>\n",
              "      <td>60</td>\n",
              "    </tr>\n",
              "    <tr>\n",
              "      <th>YUM</th>\n",
              "      <td>96</td>\n",
              "      <td>96</td>\n",
              "    </tr>\n",
              "  </tbody>\n",
              "</table>\n",
              "<p>346 rows × 2 columns</p>\n",
              "</div>"
            ],
            "text/plain": [
              "     Origin  Destination\n",
              "ABE     303          303\n",
              "ABI     169          169\n",
              "ABQ    2077         2076\n",
              "ABR      60           60\n",
              "ABY      79           79\n",
              "..      ...          ...\n",
              "WRG      60           60\n",
              "WYS      52           52\n",
              "XNA    1004         1004\n",
              "YAK      60           60\n",
              "YUM      96           96\n",
              "\n",
              "[346 rows x 2 columns]"
            ]
          },
          "execution_count": 19,
          "metadata": {},
          "output_type": "execute_result"
        }
      ],
      "source": [
        "counts = pd.DataFrame({'Origin':df_temp.Origin.value_counts(), 'Destination':df_temp.Dest.value_counts()})\n",
        "counts"
      ]
    },
    {
      "cell_type": "markdown",
      "metadata": {
        "id": "I4cG1P_lP-_R"
      },
      "source": [
        "**Question**: Print the top 15 origin and destination airports based on number of flights in the dataset.\n",
        "\n",
        "**Hint**: You can use the `sort_values` function in pandas ([pandas.DataFrame.sort_values documentation](https://pandas.pydata.org/pandas-docs/stable/reference/api/pandas.DataFrame.sort_values.html))."
      ]
    },
    {
      "cell_type": "code",
      "execution_count": null,
      "metadata": {
        "id": "VMiKcu8_P-_S",
        "outputId": "57d05838-349a-4731-e244-a90f5735fafe"
      },
      "outputs": [
        {
          "data": {
            "text/html": [
              "<div>\n",
              "<style scoped>\n",
              "    .dataframe tbody tr th:only-of-type {\n",
              "        vertical-align: middle;\n",
              "    }\n",
              "\n",
              "    .dataframe tbody tr th {\n",
              "        vertical-align: top;\n",
              "    }\n",
              "\n",
              "    .dataframe thead th {\n",
              "        text-align: right;\n",
              "    }\n",
              "</style>\n",
              "<table border=\"1\" class=\"dataframe\">\n",
              "  <thead>\n",
              "    <tr style=\"text-align: right;\">\n",
              "      <th></th>\n",
              "      <th>Origin</th>\n",
              "      <th>Destination</th>\n",
              "    </tr>\n",
              "  </thead>\n",
              "  <tbody>\n",
              "    <tr>\n",
              "      <th>ATL</th>\n",
              "      <td>31525</td>\n",
              "      <td>31521</td>\n",
              "    </tr>\n",
              "    <tr>\n",
              "      <th>ORD</th>\n",
              "      <td>28257</td>\n",
              "      <td>28250</td>\n",
              "    </tr>\n",
              "    <tr>\n",
              "      <th>DFW</th>\n",
              "      <td>22802</td>\n",
              "      <td>22795</td>\n",
              "    </tr>\n",
              "    <tr>\n",
              "      <th>DEN</th>\n",
              "      <td>19807</td>\n",
              "      <td>19807</td>\n",
              "    </tr>\n",
              "    <tr>\n",
              "      <th>CLT</th>\n",
              "      <td>19655</td>\n",
              "      <td>19654</td>\n",
              "    </tr>\n",
              "    <tr>\n",
              "      <th>LAX</th>\n",
              "      <td>17875</td>\n",
              "      <td>17873</td>\n",
              "    </tr>\n",
              "    <tr>\n",
              "      <th>SFO</th>\n",
              "      <td>14332</td>\n",
              "      <td>14348</td>\n",
              "    </tr>\n",
              "    <tr>\n",
              "      <th>IAH</th>\n",
              "      <td>14210</td>\n",
              "      <td>14203</td>\n",
              "    </tr>\n",
              "    <tr>\n",
              "      <th>LGA</th>\n",
              "      <td>13850</td>\n",
              "      <td>13850</td>\n",
              "    </tr>\n",
              "    <tr>\n",
              "      <th>MSP</th>\n",
              "      <td>13349</td>\n",
              "      <td>13347</td>\n",
              "    </tr>\n",
              "    <tr>\n",
              "      <th>LAS</th>\n",
              "      <td>13318</td>\n",
              "      <td>13322</td>\n",
              "    </tr>\n",
              "    <tr>\n",
              "      <th>PHX</th>\n",
              "      <td>13126</td>\n",
              "      <td>13128</td>\n",
              "    </tr>\n",
              "    <tr>\n",
              "      <th>DTW</th>\n",
              "      <td>12725</td>\n",
              "      <td>12724</td>\n",
              "    </tr>\n",
              "    <tr>\n",
              "      <th>BOS</th>\n",
              "      <td>12223</td>\n",
              "      <td>12227</td>\n",
              "    </tr>\n",
              "    <tr>\n",
              "      <th>SEA</th>\n",
              "      <td>11872</td>\n",
              "      <td>11877</td>\n",
              "    </tr>\n",
              "  </tbody>\n",
              "</table>\n",
              "</div>"
            ],
            "text/plain": [
              "     Origin  Destination\n",
              "ATL   31525        31521\n",
              "ORD   28257        28250\n",
              "DFW   22802        22795\n",
              "DEN   19807        19807\n",
              "CLT   19655        19654\n",
              "LAX   17875        17873\n",
              "SFO   14332        14348\n",
              "IAH   14210        14203\n",
              "LGA   13850        13850\n",
              "MSP   13349        13347\n",
              "LAS   13318        13322\n",
              "PHX   13126        13128\n",
              "DTW   12725        12724\n",
              "BOS   12223        12227\n",
              "SEA   11872        11877"
            ]
          },
          "execution_count": 20,
          "metadata": {},
          "output_type": "execute_result"
        }
      ],
      "source": [
        "counts.sort_values(by=['Origin','Destination'],ascending=False).head(15)"
      ]
    },
    {
      "cell_type": "markdown",
      "metadata": {
        "id": "FRh1NpgHP-_S"
      },
      "source": [
        "**Given all the information about a flight trip, can you predict if it would be delayed?**"
      ]
    },
    {
      "cell_type": "markdown",
      "metadata": {
        "id": "36qJAUpyP-_S"
      },
      "source": [
        "The **ArrDel15** column is an indicator variable that takes the value *1* when the delay is more than 15 minutes. Otherwise, it takes a value of *0*.\n",
        "\n",
        "You could use this as a target column for the classification problem."
      ]
    },
    {
      "cell_type": "markdown",
      "metadata": {
        "id": "CyQCYpUkP-_S"
      },
      "source": [
        "Now, assume that you are traveling from San Francisco to Los Angeles on a work trip. You want to better manage your reservations in Los Angeles. Thus, want to have an idea of whether your flight will be delayed, given a set of features. How many features from this dataset would you need to know before your flight?\n",
        "\n",
        "Columns such as `DepDelay`, `ArrDelay`, `CarrierDelay`, `WeatherDelay`, `NASDelay`, `SecurityDelay`, `LateAircraftDelay`, and `DivArrDelay` contain information about a delay. But this delay could have occured at the origin or the destination. If there were a sudden weather delay 10 minutes before landing, this data wouldn't be helpful to managing your Los Angeles reservations.\n",
        "\n",
        "So to simplify the problem statement, consider the following columns to predict an arrival delay:<br>\n",
        "\n",
        "`Year`, `Quarter`, `Month`, `DayofMonth`, `DayOfWeek`, `FlightDate`, `Reporting_Airline`, `Origin`, `OriginState`, `Dest`, `DestState`, `CRSDepTime`, `DepDelayMinutes`, `DepartureDelayGroups`, `Cancelled`, `Diverted`, `Distance`, `DistanceGroup`, `ArrDelay`, `ArrDelayMinutes`, `ArrDel15`, `AirTime`\n",
        "\n",
        "You will also filter the source and destination airports to be:\n",
        "- Top airports: ATL, ORD, DFW, DEN, CLT, LAX, IAH, PHX, SFO\n",
        "- Top five airlines: UA, OO, WN, AA, DL\n",
        "\n",
        "This information should help reduce the size of data across the CSV files that will be combined."
      ]
    },
    {
      "cell_type": "markdown",
      "metadata": {
        "id": "ISq9KGwsP-_S"
      },
      "source": [
        "#### Combine all CSV files\n",
        " \n",
        "First, create an empy DataFrame that you will use to copy your individual DataFrames from each file. Then, for each file in the `csv_files` list:\n",
        "\n",
        "1. Read the CSV file into a dataframe \n",
        "2. Filter the columns based on the `filter_cols` variable\n",
        "\n",
        "```\n",
        "        columns = ['col1', 'col2']\n",
        "        df_filter = df[columns]\n",
        "```\n",
        "\n",
        "3. Keep only the `subset_vals` in each of the `subset_cols`. To check if the `val` is in the DataFrame column, use the `isin` function in pandas ([pandas.DataFram.isin documentation](https://pandas.pydata.org/pandas-docs/stable/reference/api/pandas.DataFrame.isin.html)). Then, choose the rows that include it.\n",
        "\n",
        "```\n",
        "        df_eg[df_eg['col1'].isin('5')]\n",
        "```\n",
        "\n",
        "4. Concatenate the DataFrame with the empty DataFrame "
      ]
    },
    {
      "cell_type": "code",
      "execution_count": null,
      "metadata": {
        "id": "DKwiFZVEP-_S"
      },
      "outputs": [],
      "source": [
        "def combine_csv(csv_files, filter_cols, subset_cols, subset_vals, file_name):\n",
        "\n",
        "    \"\"\"\n",
        "    Combine csv files into one Data Frame\n",
        "    csv_files: list of csv file paths\n",
        "    filter_cols: list of columns to filter\n",
        "    subset_cols: list of columns to subset rows\n",
        "    subset_vals: list of list of values to subset rows\n",
        "    \"\"\"\n",
        "\n",
        "    df = pd.DataFrame()\n",
        "    \n",
        "    for file in csv_files:\n",
        "        df_temp = pd.read_csv(file)\n",
        "        df_temp = df_temp[filter_cols]\n",
        "        for col, val in zip(subset_cols,subset_vals):\n",
        "            df_temp = df_temp[df_temp[col].isin(val)]      \n",
        "        \n",
        "        df = pd.concat([df, df_temp], axis=0)\n",
        "      \n",
        "    df.to_csv(file_name, index=False)\n",
        "    print(f'Combined csv stored at {file_name}')"
      ]
    },
    {
      "cell_type": "code",
      "execution_count": null,
      "metadata": {
        "id": "3JZv1l2EP-_T"
      },
      "outputs": [],
      "source": [
        "#cols is the list of columns to predict Arrival Delay \n",
        "cols = ['Year','Quarter','Month','DayofMonth','DayOfWeek','FlightDate',\n",
        "        'Reporting_Airline','Origin','OriginState','Dest','DestState',\n",
        "        'CRSDepTime','Cancelled','Diverted','Distance','DistanceGroup',\n",
        "        'ArrDelay','ArrDelayMinutes','ArrDel15','AirTime']\n",
        "\n",
        "subset_cols = ['Origin', 'Dest', 'Reporting_Airline']\n",
        "\n",
        "# subset_vals is a list collection of the top origin and destination airports and top 5 airlines\n",
        "subset_vals = [['ATL', 'ORD', 'DFW', 'DEN', 'CLT', 'LAX', 'IAH', 'PHX', 'SFO'], \n",
        "               ['ATL', 'ORD', 'DFW', 'DEN', 'CLT', 'LAX', 'IAH', 'PHX', 'SFO'], \n",
        "               ['UA', 'OO', 'WN', 'AA', 'DL']]"
      ]
    },
    {
      "cell_type": "markdown",
      "metadata": {
        "id": "07P12tS7P-_T"
      },
      "source": [
        "Use the previous function to merge all the different files into a single file that you can read easily. \n",
        "\n",
        "**Note**: This process will take 5-7 minutes to complete."
      ]
    },
    {
      "cell_type": "code",
      "execution_count": null,
      "metadata": {
        "id": "IBt5IXK2P-_T",
        "outputId": "79280580-57d8-426d-ce54-6356b50617c8"
      },
      "outputs": [
        {
          "name": "stdout",
          "output_type": "stream",
          "text": [
            "Combined csv stored at /home/ec2-user/SageMaker/project/data/FlightDelays/combined_files.csv\n",
            "CSVs merged in 4.34 minutes\n"
          ]
        }
      ],
      "source": [
        "start = time.time()\n",
        "combined_csv_filename = f\"{base_path}combined_files.csv\"\n",
        "combine_csv(csv_files, cols, subset_cols, subset_vals, combined_csv_filename)\n",
        "print(f'CSVs merged in {round((time.time() - start)/60,2)} minutes')"
      ]
    },
    {
      "cell_type": "markdown",
      "metadata": {
        "id": "0tdzCeqgP-_T"
      },
      "source": [
        "#### Load the dataset\n",
        "\n",
        "Load the combined dataset."
      ]
    },
    {
      "cell_type": "code",
      "execution_count": null,
      "metadata": {
        "id": "I29MtZ-6P-_T"
      },
      "outputs": [],
      "source": [
        "data = pd.read_csv(combined_csv_filename)"
      ]
    },
    {
      "cell_type": "markdown",
      "metadata": {
        "id": "39Rsxme7P-_T"
      },
      "source": [
        "Print the first five records."
      ]
    },
    {
      "cell_type": "code",
      "execution_count": null,
      "metadata": {
        "id": "FyXPOB5dP-_T",
        "outputId": "5064b89a-6db8-4ffc-a3e0-6db11e5c57d5"
      },
      "outputs": [
        {
          "data": {
            "text/html": [
              "<div>\n",
              "<style scoped>\n",
              "    .dataframe tbody tr th:only-of-type {\n",
              "        vertical-align: middle;\n",
              "    }\n",
              "\n",
              "    .dataframe tbody tr th {\n",
              "        vertical-align: top;\n",
              "    }\n",
              "\n",
              "    .dataframe thead th {\n",
              "        text-align: right;\n",
              "    }\n",
              "</style>\n",
              "<table border=\"1\" class=\"dataframe\">\n",
              "  <thead>\n",
              "    <tr style=\"text-align: right;\">\n",
              "      <th></th>\n",
              "      <th>Year</th>\n",
              "      <th>Quarter</th>\n",
              "      <th>Month</th>\n",
              "      <th>DayofMonth</th>\n",
              "      <th>DayOfWeek</th>\n",
              "      <th>FlightDate</th>\n",
              "      <th>Reporting_Airline</th>\n",
              "      <th>Origin</th>\n",
              "      <th>OriginState</th>\n",
              "      <th>Dest</th>\n",
              "      <th>DestState</th>\n",
              "      <th>CRSDepTime</th>\n",
              "      <th>Cancelled</th>\n",
              "      <th>Diverted</th>\n",
              "      <th>Distance</th>\n",
              "      <th>DistanceGroup</th>\n",
              "      <th>ArrDelay</th>\n",
              "      <th>ArrDelayMinutes</th>\n",
              "      <th>ArrDel15</th>\n",
              "      <th>AirTime</th>\n",
              "    </tr>\n",
              "  </thead>\n",
              "  <tbody>\n",
              "    <tr>\n",
              "      <th>0</th>\n",
              "      <td>2015</td>\n",
              "      <td>3</td>\n",
              "      <td>7</td>\n",
              "      <td>11</td>\n",
              "      <td>6</td>\n",
              "      <td>2015-07-11</td>\n",
              "      <td>AA</td>\n",
              "      <td>SFO</td>\n",
              "      <td>CA</td>\n",
              "      <td>DFW</td>\n",
              "      <td>TX</td>\n",
              "      <td>825</td>\n",
              "      <td>0.0</td>\n",
              "      <td>0.0</td>\n",
              "      <td>1464.0</td>\n",
              "      <td>6</td>\n",
              "      <td>-18.0</td>\n",
              "      <td>0.0</td>\n",
              "      <td>0.0</td>\n",
              "      <td>175.0</td>\n",
              "    </tr>\n",
              "    <tr>\n",
              "      <th>1</th>\n",
              "      <td>2015</td>\n",
              "      <td>3</td>\n",
              "      <td>7</td>\n",
              "      <td>12</td>\n",
              "      <td>7</td>\n",
              "      <td>2015-07-12</td>\n",
              "      <td>AA</td>\n",
              "      <td>SFO</td>\n",
              "      <td>CA</td>\n",
              "      <td>DFW</td>\n",
              "      <td>TX</td>\n",
              "      <td>825</td>\n",
              "      <td>0.0</td>\n",
              "      <td>0.0</td>\n",
              "      <td>1464.0</td>\n",
              "      <td>6</td>\n",
              "      <td>-22.0</td>\n",
              "      <td>0.0</td>\n",
              "      <td>0.0</td>\n",
              "      <td>175.0</td>\n",
              "    </tr>\n",
              "    <tr>\n",
              "      <th>2</th>\n",
              "      <td>2015</td>\n",
              "      <td>3</td>\n",
              "      <td>7</td>\n",
              "      <td>13</td>\n",
              "      <td>1</td>\n",
              "      <td>2015-07-13</td>\n",
              "      <td>AA</td>\n",
              "      <td>SFO</td>\n",
              "      <td>CA</td>\n",
              "      <td>DFW</td>\n",
              "      <td>TX</td>\n",
              "      <td>825</td>\n",
              "      <td>0.0</td>\n",
              "      <td>0.0</td>\n",
              "      <td>1464.0</td>\n",
              "      <td>6</td>\n",
              "      <td>-6.0</td>\n",
              "      <td>0.0</td>\n",
              "      <td>0.0</td>\n",
              "      <td>176.0</td>\n",
              "    </tr>\n",
              "    <tr>\n",
              "      <th>3</th>\n",
              "      <td>2015</td>\n",
              "      <td>3</td>\n",
              "      <td>7</td>\n",
              "      <td>14</td>\n",
              "      <td>2</td>\n",
              "      <td>2015-07-14</td>\n",
              "      <td>AA</td>\n",
              "      <td>SFO</td>\n",
              "      <td>CA</td>\n",
              "      <td>DFW</td>\n",
              "      <td>TX</td>\n",
              "      <td>825</td>\n",
              "      <td>0.0</td>\n",
              "      <td>0.0</td>\n",
              "      <td>1464.0</td>\n",
              "      <td>6</td>\n",
              "      <td>-21.0</td>\n",
              "      <td>0.0</td>\n",
              "      <td>0.0</td>\n",
              "      <td>176.0</td>\n",
              "    </tr>\n",
              "    <tr>\n",
              "      <th>4</th>\n",
              "      <td>2015</td>\n",
              "      <td>3</td>\n",
              "      <td>7</td>\n",
              "      <td>15</td>\n",
              "      <td>3</td>\n",
              "      <td>2015-07-15</td>\n",
              "      <td>AA</td>\n",
              "      <td>SFO</td>\n",
              "      <td>CA</td>\n",
              "      <td>DFW</td>\n",
              "      <td>TX</td>\n",
              "      <td>825</td>\n",
              "      <td>0.0</td>\n",
              "      <td>0.0</td>\n",
              "      <td>1464.0</td>\n",
              "      <td>6</td>\n",
              "      <td>-11.0</td>\n",
              "      <td>0.0</td>\n",
              "      <td>0.0</td>\n",
              "      <td>175.0</td>\n",
              "    </tr>\n",
              "  </tbody>\n",
              "</table>\n",
              "</div>"
            ],
            "text/plain": [
              "   Year  Quarter  Month  DayofMonth  DayOfWeek  FlightDate Reporting_Airline  \\\n",
              "0  2015        3      7          11          6  2015-07-11                AA   \n",
              "1  2015        3      7          12          7  2015-07-12                AA   \n",
              "2  2015        3      7          13          1  2015-07-13                AA   \n",
              "3  2015        3      7          14          2  2015-07-14                AA   \n",
              "4  2015        3      7          15          3  2015-07-15                AA   \n",
              "\n",
              "  Origin OriginState Dest DestState  CRSDepTime  Cancelled  Diverted  \\\n",
              "0    SFO          CA  DFW        TX         825        0.0       0.0   \n",
              "1    SFO          CA  DFW        TX         825        0.0       0.0   \n",
              "2    SFO          CA  DFW        TX         825        0.0       0.0   \n",
              "3    SFO          CA  DFW        TX         825        0.0       0.0   \n",
              "4    SFO          CA  DFW        TX         825        0.0       0.0   \n",
              "\n",
              "   Distance  DistanceGroup  ArrDelay  ArrDelayMinutes  ArrDel15  AirTime  \n",
              "0    1464.0              6     -18.0              0.0       0.0    175.0  \n",
              "1    1464.0              6     -22.0              0.0       0.0    175.0  \n",
              "2    1464.0              6      -6.0              0.0       0.0    176.0  \n",
              "3    1464.0              6     -21.0              0.0       0.0    176.0  \n",
              "4    1464.0              6     -11.0              0.0       0.0    175.0  "
            ]
          },
          "execution_count": 25,
          "metadata": {},
          "output_type": "execute_result"
        }
      ],
      "source": [
        "data.head(5)"
      ]
    },
    {
      "cell_type": "markdown",
      "metadata": {
        "id": "6eGCCU0XP-_U"
      },
      "source": [
        "Here are some more questions to help you learn more about your dataset.\n",
        "\n",
        "**Questions**   \n",
        "\n",
        "1. How many rows and columns does the dataset have?   \n",
        "2. How many years are included in the dataset?   \n",
        "3. What is the date range for the dataset?   \n",
        "4. Which airlines are included in the dataset?   \n",
        "5. Which origin and destination airports are covered?"
      ]
    },
    {
      "cell_type": "code",
      "execution_count": null,
      "metadata": {
        "id": "JE1cDVp2P-_U",
        "outputId": "1d0c8516-7e9a-45e6-cafc-ad2e24bdd130"
      },
      "outputs": [
        {
          "name": "stdout",
          "output_type": "stream",
          "text": [
            "The #rows and #columns are  1658130  and  20\n",
            "The years in this dataset are:  [2015, 2014, 2017, 2016, 2018]\n",
            "The months covered in this dataset are:  [1, 2, 3, 4, 5, 6, 7, 8, 9, 10, 11, 12]\n",
            "The date range for data is : 2014-01-01  to  2018-12-31\n",
            "The airlines covered in this dataset are:  ['AA', 'DL', 'OO', 'UA', 'WN']\n",
            "The Origin airports covered are:  ['SFO', 'DFW', 'PHX', 'DEN', 'ORD', 'LAX', 'ATL', 'IAH', 'CLT']\n",
            "The Destination airports covered are:  ['DFW', 'SFO', 'PHX', 'ORD', 'LAX', 'ATL', 'IAH', 'DEN', 'CLT']\n"
          ]
        }
      ],
      "source": [
        "print(\"The #rows and #columns are \", data.shape[0] , \" and \", data.shape[1])\n",
        "print(\"The years in this dataset are: \", list( data.Year.unique()))\n",
        "print(\"The months covered in this dataset are: \", sorted(list(data.Month.unique())))\n",
        "print(\"The date range for data is :\" , min(data.FlightDate.unique()), \" to \", max(data.FlightDate.unique()))\n",
        "print(\"The airlines covered in this dataset are: \", list(data.Reporting_Airline.unique()))\n",
        "print(\"The Origin airports covered are: \", list(data.Origin.unique()))\n",
        "print(\"The Destination airports covered are: \", list(data.Dest.unique()))"
      ]
    },
    {
      "cell_type": "markdown",
      "metadata": {
        "id": "ziOoqqbpP-_U"
      },
      "source": [
        "Define your target column: **is_delay** (*1* means that the arrival time delayed more than 15 minutes, and *0* means all other cases). To rename the column from **ArrDel15** to *is_delay*, use the `rename` method .\n",
        "\n",
        "**Hint**: You can use the `rename` function in pandas ([pandas.DataFrame.rename documentation](https://pandas.pydata.org/pandas-docs/stable/reference/api/pandas.DataFrame.rename.html)).\n",
        "\n",
        "For example:\n",
        "```\n",
        "data.rename(columns={'col1':'column1'}, inplace=True)\n",
        "```"
      ]
    },
    {
      "cell_type": "code",
      "execution_count": null,
      "metadata": {
        "id": "ijIe2eb3P-_U"
      },
      "outputs": [],
      "source": [
        "data.rename(columns={'ArrDel15': 'is_delay'}, inplace=True)"
      ]
    },
    {
      "cell_type": "markdown",
      "metadata": {
        "id": "LQTJA6QCP-_U"
      },
      "source": [
        "Look for nulls across columns. You can use the `isnull()` function ([pandas.isnull documentation](https://pandas.pydata.org/pandas-docs/version/0.17.0/generated/pandas.isnull.html)).\n",
        "\n",
        "**Hint**: `isnull()` detects whether the particular value is null or not. It returns a boolean (*True* or *False*) in its place. To sum the number of columns, use the `sum(axis=0)` function (for example, `df.isnull().sum(axis=0)`)."
      ]
    },
    {
      "cell_type": "code",
      "execution_count": null,
      "metadata": {
        "id": "V_9kpUI7P-_U",
        "outputId": "f242a561-3577-4f39-8f65-19a2330a105d"
      },
      "outputs": [
        {
          "data": {
            "text/plain": [
              "Year                     0\n",
              "Quarter                  0\n",
              "Month                    0\n",
              "DayofMonth               0\n",
              "DayOfWeek                0\n",
              "FlightDate               0\n",
              "Reporting_Airline        0\n",
              "Origin                   0\n",
              "OriginState              0\n",
              "Dest                     0\n",
              "DestState                0\n",
              "CRSDepTime               0\n",
              "Cancelled                0\n",
              "Diverted                 0\n",
              "Distance                 0\n",
              "DistanceGroup            0\n",
              "ArrDelay             22540\n",
              "ArrDelayMinutes      22540\n",
              "is_delay             22540\n",
              "AirTime              22540\n",
              "dtype: int64"
            ]
          },
          "execution_count": 29,
          "metadata": {},
          "output_type": "execute_result"
        }
      ],
      "source": [
        "data.isnull().sum(axis=0)"
      ]
    },
    {
      "cell_type": "markdown",
      "metadata": {
        "id": "Z5JDx3c1P-_U"
      },
      "source": [
        "The arrival delay details and airtime are missing for 22,540 out of 1,658,130 rows, which is 1.3 percent. You can either remove or impute these rows. The documentation doesn't mention any information about missing rows.\n"
      ]
    },
    {
      "cell_type": "code",
      "execution_count": null,
      "metadata": {
        "id": "Y3FkTy7LP-_V",
        "outputId": "7eb085b2-d7b0-4741-ef12-5f65d41eacd0"
      },
      "outputs": [
        {
          "data": {
            "text/plain": [
              "Year                 0\n",
              "Quarter              0\n",
              "Month                0\n",
              "DayofMonth           0\n",
              "DayOfWeek            0\n",
              "FlightDate           0\n",
              "Reporting_Airline    0\n",
              "Origin               0\n",
              "OriginState          0\n",
              "Dest                 0\n",
              "DestState            0\n",
              "CRSDepTime           0\n",
              "Cancelled            0\n",
              "Diverted             0\n",
              "Distance             0\n",
              "DistanceGroup        0\n",
              "ArrDelay             0\n",
              "ArrDelayMinutes      0\n",
              "is_delay             0\n",
              "AirTime              0\n",
              "dtype: int64"
            ]
          },
          "execution_count": 30,
          "metadata": {},
          "output_type": "execute_result"
        }
      ],
      "source": [
        "### Remove null columns\n",
        "data = data[~data.is_delay.isnull()]\n",
        "data.isnull().sum(axis = 0)"
      ]
    },
    {
      "cell_type": "markdown",
      "metadata": {
        "id": "kIZ_AxrbP-_V"
      },
      "source": [
        "Get the hour of the day in 24-hour-time format from CRSDepTime."
      ]
    },
    {
      "cell_type": "code",
      "execution_count": null,
      "metadata": {
        "id": "uhDNNGxaP-_V",
        "outputId": "f8581865-7c74-46d5-8ca3-1ccdbc0d59eb"
      },
      "outputs": [
        {
          "data": {
            "text/html": [
              "<div>\n",
              "<style scoped>\n",
              "    .dataframe tbody tr th:only-of-type {\n",
              "        vertical-align: middle;\n",
              "    }\n",
              "\n",
              "    .dataframe tbody tr th {\n",
              "        vertical-align: top;\n",
              "    }\n",
              "\n",
              "    .dataframe thead th {\n",
              "        text-align: right;\n",
              "    }\n",
              "</style>\n",
              "<table border=\"1\" class=\"dataframe\">\n",
              "  <thead>\n",
              "    <tr style=\"text-align: right;\">\n",
              "      <th></th>\n",
              "      <th>Year</th>\n",
              "      <th>Quarter</th>\n",
              "      <th>Month</th>\n",
              "      <th>DayofMonth</th>\n",
              "      <th>DayOfWeek</th>\n",
              "      <th>FlightDate</th>\n",
              "      <th>Reporting_Airline</th>\n",
              "      <th>Origin</th>\n",
              "      <th>OriginState</th>\n",
              "      <th>Dest</th>\n",
              "      <th>...</th>\n",
              "      <th>CRSDepTime</th>\n",
              "      <th>Cancelled</th>\n",
              "      <th>Diverted</th>\n",
              "      <th>Distance</th>\n",
              "      <th>DistanceGroup</th>\n",
              "      <th>ArrDelay</th>\n",
              "      <th>ArrDelayMinutes</th>\n",
              "      <th>is_delay</th>\n",
              "      <th>AirTime</th>\n",
              "      <th>DepHourofDay</th>\n",
              "    </tr>\n",
              "  </thead>\n",
              "  <tbody>\n",
              "    <tr>\n",
              "      <th>0</th>\n",
              "      <td>2015</td>\n",
              "      <td>3</td>\n",
              "      <td>7</td>\n",
              "      <td>11</td>\n",
              "      <td>6</td>\n",
              "      <td>2015-07-11</td>\n",
              "      <td>AA</td>\n",
              "      <td>SFO</td>\n",
              "      <td>CA</td>\n",
              "      <td>DFW</td>\n",
              "      <td>...</td>\n",
              "      <td>825</td>\n",
              "      <td>0.0</td>\n",
              "      <td>0.0</td>\n",
              "      <td>1464.0</td>\n",
              "      <td>6</td>\n",
              "      <td>-18.0</td>\n",
              "      <td>0.0</td>\n",
              "      <td>0.0</td>\n",
              "      <td>175.0</td>\n",
              "      <td>8</td>\n",
              "    </tr>\n",
              "    <tr>\n",
              "      <th>1</th>\n",
              "      <td>2015</td>\n",
              "      <td>3</td>\n",
              "      <td>7</td>\n",
              "      <td>12</td>\n",
              "      <td>7</td>\n",
              "      <td>2015-07-12</td>\n",
              "      <td>AA</td>\n",
              "      <td>SFO</td>\n",
              "      <td>CA</td>\n",
              "      <td>DFW</td>\n",
              "      <td>...</td>\n",
              "      <td>825</td>\n",
              "      <td>0.0</td>\n",
              "      <td>0.0</td>\n",
              "      <td>1464.0</td>\n",
              "      <td>6</td>\n",
              "      <td>-22.0</td>\n",
              "      <td>0.0</td>\n",
              "      <td>0.0</td>\n",
              "      <td>175.0</td>\n",
              "      <td>8</td>\n",
              "    </tr>\n",
              "    <tr>\n",
              "      <th>2</th>\n",
              "      <td>2015</td>\n",
              "      <td>3</td>\n",
              "      <td>7</td>\n",
              "      <td>13</td>\n",
              "      <td>1</td>\n",
              "      <td>2015-07-13</td>\n",
              "      <td>AA</td>\n",
              "      <td>SFO</td>\n",
              "      <td>CA</td>\n",
              "      <td>DFW</td>\n",
              "      <td>...</td>\n",
              "      <td>825</td>\n",
              "      <td>0.0</td>\n",
              "      <td>0.0</td>\n",
              "      <td>1464.0</td>\n",
              "      <td>6</td>\n",
              "      <td>-6.0</td>\n",
              "      <td>0.0</td>\n",
              "      <td>0.0</td>\n",
              "      <td>176.0</td>\n",
              "      <td>8</td>\n",
              "    </tr>\n",
              "    <tr>\n",
              "      <th>3</th>\n",
              "      <td>2015</td>\n",
              "      <td>3</td>\n",
              "      <td>7</td>\n",
              "      <td>14</td>\n",
              "      <td>2</td>\n",
              "      <td>2015-07-14</td>\n",
              "      <td>AA</td>\n",
              "      <td>SFO</td>\n",
              "      <td>CA</td>\n",
              "      <td>DFW</td>\n",
              "      <td>...</td>\n",
              "      <td>825</td>\n",
              "      <td>0.0</td>\n",
              "      <td>0.0</td>\n",
              "      <td>1464.0</td>\n",
              "      <td>6</td>\n",
              "      <td>-21.0</td>\n",
              "      <td>0.0</td>\n",
              "      <td>0.0</td>\n",
              "      <td>176.0</td>\n",
              "      <td>8</td>\n",
              "    </tr>\n",
              "    <tr>\n",
              "      <th>4</th>\n",
              "      <td>2015</td>\n",
              "      <td>3</td>\n",
              "      <td>7</td>\n",
              "      <td>15</td>\n",
              "      <td>3</td>\n",
              "      <td>2015-07-15</td>\n",
              "      <td>AA</td>\n",
              "      <td>SFO</td>\n",
              "      <td>CA</td>\n",
              "      <td>DFW</td>\n",
              "      <td>...</td>\n",
              "      <td>825</td>\n",
              "      <td>0.0</td>\n",
              "      <td>0.0</td>\n",
              "      <td>1464.0</td>\n",
              "      <td>6</td>\n",
              "      <td>-11.0</td>\n",
              "      <td>0.0</td>\n",
              "      <td>0.0</td>\n",
              "      <td>175.0</td>\n",
              "      <td>8</td>\n",
              "    </tr>\n",
              "  </tbody>\n",
              "</table>\n",
              "<p>5 rows × 21 columns</p>\n",
              "</div>"
            ],
            "text/plain": [
              "   Year  Quarter  Month  DayofMonth  DayOfWeek  FlightDate Reporting_Airline  \\\n",
              "0  2015        3      7          11          6  2015-07-11                AA   \n",
              "1  2015        3      7          12          7  2015-07-12                AA   \n",
              "2  2015        3      7          13          1  2015-07-13                AA   \n",
              "3  2015        3      7          14          2  2015-07-14                AA   \n",
              "4  2015        3      7          15          3  2015-07-15                AA   \n",
              "\n",
              "  Origin OriginState Dest  ... CRSDepTime  Cancelled  Diverted  Distance  \\\n",
              "0    SFO          CA  DFW  ...        825        0.0       0.0    1464.0   \n",
              "1    SFO          CA  DFW  ...        825        0.0       0.0    1464.0   \n",
              "2    SFO          CA  DFW  ...        825        0.0       0.0    1464.0   \n",
              "3    SFO          CA  DFW  ...        825        0.0       0.0    1464.0   \n",
              "4    SFO          CA  DFW  ...        825        0.0       0.0    1464.0   \n",
              "\n",
              "   DistanceGroup  ArrDelay  ArrDelayMinutes  is_delay  AirTime  DepHourofDay  \n",
              "0              6     -18.0              0.0       0.0    175.0             8  \n",
              "1              6     -22.0              0.0       0.0    175.0             8  \n",
              "2              6      -6.0              0.0       0.0    176.0             8  \n",
              "3              6     -21.0              0.0       0.0    176.0             8  \n",
              "4              6     -11.0              0.0       0.0    175.0             8  \n",
              "\n",
              "[5 rows x 21 columns]"
            ]
          },
          "execution_count": 31,
          "metadata": {},
          "output_type": "execute_result"
        }
      ],
      "source": [
        "data['DepHourofDay'] = (data['CRSDepTime']//100)\n",
        "data.head()"
      ]
    },
    {
      "cell_type": "markdown",
      "metadata": {
        "id": "knYiDafWP-_V"
      },
      "source": [
        "## **The ML problem statement**\n",
        "- Given a set of features, can you predict if a flight is going to be delayed more than 15 minutes?\n",
        "- Because the target variable takes only a value of *0* or *1*, you could use a classification algorithm. \n",
        "\n",
        "Before you start modeling, it's a good practice to look at feature distribution, correlations, and others.\n",
        "- This will give you an idea of any non-linearity or patterns in the data\n",
        "    - Linear models: Add power, exponential, or interaction features\n",
        "    - Try a non-linear model\n",
        "- Data imbalance \n",
        "    - Choose metrics that won't give biased model performance (accuracy versus the area under the curve, or AUC)\n",
        "    - Use weighted or custom loss functions\n",
        "- Missing data\n",
        "    - Do imputation based on simple statistics -- mean, median, mode (numerical variables), frequent class (categorical variables)\n",
        "    - Clustering-based imputation (k-nearest neighbors, or KNNs, to predict column value)\n",
        "    - Drop column"
      ]
    },
    {
      "cell_type": "markdown",
      "metadata": {
        "id": "Bg1DOViLP-_V"
      },
      "source": [
        "### Data exploration\n",
        "\n",
        "Check the classes *delay* versus *no delay*.\n"
      ]
    },
    {
      "cell_type": "code",
      "execution_count": null,
      "metadata": {
        "id": "h6pjOssKP-_V",
        "outputId": "cd63acd5-1992-439e-eab1-5c6b2942ca81"
      },
      "outputs": [
        {
          "data": {
            "image/png": "[encoded data removed]",
            "text/plain": [
              "<Figure size 432x288 with 1 Axes>"
            ]
          },
          "metadata": {
            "needs_background": "light"
          },
          "output_type": "display_data"
        }
      ],
      "source": [
        "(data.groupby('is_delay').size()/len(data) ).plot(kind='bar')# Enter your code here\n",
        "plt.ylabel('Frequency')\n",
        "plt.title('Distribution of classes')\n",
        "plt.show()"
      ]
    },
    {
      "cell_type": "markdown",
      "metadata": {
        "id": "wj7_kSHsP-_W"
      },
      "source": [
        "**Question**: What can you deduce from the bar plot about the ratio of *delay* versus *no delay*?"
      ]
    },
    {
      "cell_type": "code",
      "execution_count": null,
      "metadata": {
        "id": "Tq8ykxnGP-_W"
      },
      "outputs": [],
      "source": [
        "จากกราฟแท่งจะเห็นได้ว่าความถี่ของเที่ยวบินที่ไม่มีการดีเลย์มากกว่าความถี่ของเที่ยวบินที่มีการดีเลย์\n",
        "โดยเที่ยวบินที่ไม่มีการดีเลย์อยู่ที่ประมาณ 0.79 และเที่ยวบินที่มีการดีเลย์อยู่ที่ประมาณ 0.21"
      ]
    },
    {
      "cell_type": "markdown",
      "metadata": {
        "id": "PD-0zi9ZP-_W"
      },
      "source": [
        "Run the following two cells and answer the questions."
      ]
    },
    {
      "cell_type": "code",
      "execution_count": null,
      "metadata": {
        "id": "JVaZAzP9P-_W",
        "outputId": "d99a1f56-d6cf-4ed4-d92c-ab0f988c846c"
      },
      "outputs": [
        {
          "data": {
            "image/png": "[encoded data removed]",
            "text/plain": [
              "<Figure size 1440x1440 with 6 Axes>"
            ]
          },
          "metadata": {
            "needs_background": "light"
          },
          "output_type": "display_data"
        }
      ],
      "source": [
        "viz_columns = ['Month', 'DepHourofDay', 'DayOfWeek', 'Reporting_Airline', 'Origin', 'Dest']\n",
        "fig, axes = plt.subplots(3, 2, figsize=(20,20), squeeze=False)\n",
        "# fig.autofmt_xdate(rotation=90)\n",
        "\n",
        "for idx, column in enumerate(viz_columns):\n",
        "    ax = axes[idx//2, idx%2]\n",
        "    temp = data.groupby(column)['is_delay'].value_counts(normalize=True).rename('percentage').\\\n",
        "    mul(100).reset_index().sort_values(column)\n",
        "    sns.barplot(x=column, y=\"percentage\", hue=\"is_delay\", data=temp, ax=ax)\n",
        "    plt.ylabel('% delay/no-delay')\n",
        "    \n",
        "\n",
        "plt.show()"
      ]
    },
    {
      "cell_type": "code",
      "execution_count": null,
      "metadata": {
        "id": "vmpSUVtjP-_W",
        "outputId": "963eb1c7-9c30-4187-fdbb-a1473d915bf0"
      },
      "outputs": [
        {
          "data": {
            "image/png": "[encoded data removed]",
            "text/plain": [
              "<Figure size 360x360 with 1 Axes>"
            ]
          },
          "metadata": {
            "needs_background": "light"
          },
          "output_type": "display_data"
        }
      ],
      "source": [
        "sns.lmplot( x=\"is_delay\", y=\"Distance\", data=data, fit_reg=False, hue='is_delay', legend=False)\n",
        "plt.legend(loc='center')\n",
        "plt.xlabel('is_delay')\n",
        "plt.ylabel('Distance')\n",
        "plt.show()"
      ]
    },
    {
      "cell_type": "markdown",
      "metadata": {
        "id": "fyQtBZYDP-_W"
      },
      "source": [
        "**Questions**\n",
        "\n",
        "Using the data from the previous charts, answer these questions:\n",
        "\n",
        "- Which months have the most delays?\n",
        "- What time of the day has the most delays?\n",
        "- What day of the week has the most delays?\n",
        "- Which airline has the most delays?\n",
        "- Which origin and destination airports have the most delays?\n",
        "- Is flight distance a factor in the delays?"
      ]
    },
    {
      "cell_type": "code",
      "execution_count": null,
      "metadata": {
        "id": "yAiPAeE5P-_W"
      },
      "outputs": [],
      "source": [
        "1. เที่ยวบินที่เกิดการดีเลย์มากที่สุดคือเดือนมิถุนายน\n",
        "2. เวลา 20.00\n",
        "3. วันจันทร์, วันพฤหัสบดี, วันศุกร์ (1,4,5)\n",
        "4. สายการบิน WN\n",
        "5. Origin : ORD\n",
        "    Destination : SFO\n",
        "6. ระยะทางไม่มีผลที่ทำให้เที่ยวบินเกิดการดีเลย์"
      ]
    },
    {
      "cell_type": "markdown",
      "metadata": {
        "id": "oEM9UpBAP-_W"
      },
      "source": [
        "### Features\n",
        "\n",
        "Look at all the columns and what their specific types are."
      ]
    },
    {
      "cell_type": "code",
      "execution_count": null,
      "metadata": {
        "id": "AdDghgXCP-_X",
        "outputId": "f623493a-9c2c-4b35-a851-65930d059ce5"
      },
      "outputs": [
        {
          "data": {
            "text/plain": [
              "Index(['Year', 'Quarter', 'Month', 'DayofMonth', 'DayOfWeek', 'FlightDate',\n",
              "       'Reporting_Airline', 'Origin', 'OriginState', 'Dest', 'DestState',\n",
              "       'CRSDepTime', 'Cancelled', 'Diverted', 'Distance', 'DistanceGroup',\n",
              "       'ArrDelay', 'ArrDelayMinutes', 'is_delay', 'AirTime', 'DepHourofDay'],\n",
              "      dtype='object')"
            ]
          },
          "execution_count": 36,
          "metadata": {},
          "output_type": "execute_result"
        }
      ],
      "source": [
        "data.columns"
      ]
    },
    {
      "cell_type": "code",
      "execution_count": null,
      "metadata": {
        "id": "9UqxPhLaP-_X",
        "outputId": "b926827e-b388-49b7-f9da-c8fd9ee193e8"
      },
      "outputs": [
        {
          "data": {
            "text/plain": [
              "Year                   int64\n",
              "Quarter                int64\n",
              "Month                  int64\n",
              "DayofMonth             int64\n",
              "DayOfWeek              int64\n",
              "FlightDate            object\n",
              "Reporting_Airline     object\n",
              "Origin                object\n",
              "OriginState           object\n",
              "Dest                  object\n",
              "DestState             object\n",
              "CRSDepTime             int64\n",
              "Cancelled            float64\n",
              "Diverted             float64\n",
              "Distance             float64\n",
              "DistanceGroup          int64\n",
              "ArrDelay             float64\n",
              "ArrDelayMinutes      float64\n",
              "is_delay             float64\n",
              "AirTime              float64\n",
              "DepHourofDay           int64\n",
              "dtype: object"
            ]
          },
          "execution_count": 37,
          "metadata": {},
          "output_type": "execute_result"
        }
      ],
      "source": [
        "data.dtypes"
      ]
    },
    {
      "cell_type": "markdown",
      "metadata": {
        "id": "w_GwNXRWP-_X"
      },
      "source": [
        "Filtering the required columns:\n",
        "- *Date* is redundant, because you have *Year*, *Quarter*, *Month*, *DayofMonth*, and *DayOfWeek* to describe the date.\n",
        "- Use *Origin* and *Dest* codes instead of *OriginState* and *DestState*.\n",
        "- Because you are only classifying whether the flight is delayed or not, you don't need *TotalDelayMinutes*, *DepDelayMinutes*, and *ArrDelayMinutes*.\n",
        "\n",
        "Treat *DepHourofDay* as a categorical variable because it doesn't have any quantitative relation with the target.\n",
        "- If you needed to do a one-hot encoding of this variable, it would result in 23 more columns.\n",
        "- Other alternatives to handling categorical variables include hash encoding, regularized mean encoding, and bucketizing the values, among others.\n",
        "- In this case, you only need to split into buckets.\n",
        "\n",
        "To change a column type to category, use the `astype` function ([pandas.DataFrame.astype documentation](https://pandas.pydata.org/pandas-docs/stable/reference/api/pandas.DataFrame.astype.html))."
      ]
    },
    {
      "cell_type": "code",
      "execution_count": null,
      "metadata": {
        "id": "ky8w4eotP-_X"
      },
      "outputs": [],
      "source": [
        "data_orig = data.copy()\n",
        "data = data[[ 'is_delay', 'Quarter', 'Month', 'DayofMonth', 'DayOfWeek', \n",
        "       'Reporting_Airline', 'Origin', 'Dest','Distance','DepHourofDay']]\n",
        "categorical_columns  = ['Quarter', 'Month', 'DayofMonth', 'DayOfWeek', \n",
        "       'Reporting_Airline', 'Origin', 'Dest', 'DepHourofDay']\n",
        "for c in categorical_columns:\n",
        "    data[c] = data[c].astype('category')"
      ]
    },
    {
      "cell_type": "markdown",
      "metadata": {
        "id": "926KYKgdP-_X"
      },
      "source": [
        "To use one-hot encoding, use the `get_dummies` function in pandas for the categorical columns that you selected. Then, you can concatenate those generated features to your original dataset by using the `concat` function in pandas. For encoding categorical variables, you can also use *dummy encoding* by using a keyword `drop_first=True`. For more information about dummy encoding, see [Dummy variable (statistics)](https://en.wikiversity.org/wiki/Dummy_variable_(statistics)).\n",
        "\n",
        "For example:\n",
        "```\n",
        "pd.get_dummies(df[['column1','columns2']], drop_first=True)\n",
        "```"
      ]
    },
    {
      "cell_type": "code",
      "execution_count": null,
      "metadata": {
        "id": "U0RQ-iMxP-_X"
      },
      "outputs": [],
      "source": [
        "data_dummies = pd.get_dummies(data[['Quarter', 'Month', 'DayofMonth', 'DayOfWeek', \n",
        "       'Reporting_Airline', 'Origin', 'Dest', 'DepHourofDay']], drop_first=True) # Enter your code here\n",
        "data = pd.concat([data, data_dummies], axis = 1)\n",
        "data.drop(categorical_columns,axis=1, inplace=True)"
      ]
    },
    {
      "cell_type": "markdown",
      "metadata": {
        "id": "aJt-2AstP-_X"
      },
      "source": [
        "Check the length of the dataset and the new columns.\n",
        "\n",
        "**Hint**: Use the `shape` and `columns` properties."
      ]
    },
    {
      "cell_type": "code",
      "execution_count": null,
      "metadata": {
        "id": "medyjCmsP-_Y",
        "outputId": "6bfac19b-58f4-4d1b-d00f-ad8a8cb3cc75"
      },
      "outputs": [
        {
          "data": {
            "text/html": [
              "<div>\n",
              "<style scoped>\n",
              "    .dataframe tbody tr th:only-of-type {\n",
              "        vertical-align: middle;\n",
              "    }\n",
              "\n",
              "    .dataframe tbody tr th {\n",
              "        vertical-align: top;\n",
              "    }\n",
              "\n",
              "    .dataframe thead th {\n",
              "        text-align: right;\n",
              "    }\n",
              "</style>\n",
              "<table border=\"1\" class=\"dataframe\">\n",
              "  <thead>\n",
              "    <tr style=\"text-align: right;\">\n",
              "      <th></th>\n",
              "      <th>is_delay</th>\n",
              "      <th>Distance</th>\n",
              "      <th>Quarter_2</th>\n",
              "      <th>Quarter_3</th>\n",
              "      <th>Quarter_4</th>\n",
              "      <th>Month_2</th>\n",
              "      <th>Month_3</th>\n",
              "      <th>Month_4</th>\n",
              "      <th>Month_5</th>\n",
              "      <th>Month_6</th>\n",
              "      <th>...</th>\n",
              "      <th>DepHourofDay_14</th>\n",
              "      <th>DepHourofDay_15</th>\n",
              "      <th>DepHourofDay_16</th>\n",
              "      <th>DepHourofDay_17</th>\n",
              "      <th>DepHourofDay_18</th>\n",
              "      <th>DepHourofDay_19</th>\n",
              "      <th>DepHourofDay_20</th>\n",
              "      <th>DepHourofDay_21</th>\n",
              "      <th>DepHourofDay_22</th>\n",
              "      <th>DepHourofDay_23</th>\n",
              "    </tr>\n",
              "  </thead>\n",
              "  <tbody>\n",
              "    <tr>\n",
              "      <th>0</th>\n",
              "      <td>0.0</td>\n",
              "      <td>1464.0</td>\n",
              "      <td>0</td>\n",
              "      <td>1</td>\n",
              "      <td>0</td>\n",
              "      <td>0</td>\n",
              "      <td>0</td>\n",
              "      <td>0</td>\n",
              "      <td>0</td>\n",
              "      <td>0</td>\n",
              "      <td>...</td>\n",
              "      <td>0</td>\n",
              "      <td>0</td>\n",
              "      <td>0</td>\n",
              "      <td>0</td>\n",
              "      <td>0</td>\n",
              "      <td>0</td>\n",
              "      <td>0</td>\n",
              "      <td>0</td>\n",
              "      <td>0</td>\n",
              "      <td>0</td>\n",
              "    </tr>\n",
              "    <tr>\n",
              "      <th>1</th>\n",
              "      <td>0.0</td>\n",
              "      <td>1464.0</td>\n",
              "      <td>0</td>\n",
              "      <td>1</td>\n",
              "      <td>0</td>\n",
              "      <td>0</td>\n",
              "      <td>0</td>\n",
              "      <td>0</td>\n",
              "      <td>0</td>\n",
              "      <td>0</td>\n",
              "      <td>...</td>\n",
              "      <td>0</td>\n",
              "      <td>0</td>\n",
              "      <td>0</td>\n",
              "      <td>0</td>\n",
              "      <td>0</td>\n",
              "      <td>0</td>\n",
              "      <td>0</td>\n",
              "      <td>0</td>\n",
              "      <td>0</td>\n",
              "      <td>0</td>\n",
              "    </tr>\n",
              "    <tr>\n",
              "      <th>2</th>\n",
              "      <td>0.0</td>\n",
              "      <td>1464.0</td>\n",
              "      <td>0</td>\n",
              "      <td>1</td>\n",
              "      <td>0</td>\n",
              "      <td>0</td>\n",
              "      <td>0</td>\n",
              "      <td>0</td>\n",
              "      <td>0</td>\n",
              "      <td>0</td>\n",
              "      <td>...</td>\n",
              "      <td>0</td>\n",
              "      <td>0</td>\n",
              "      <td>0</td>\n",
              "      <td>0</td>\n",
              "      <td>0</td>\n",
              "      <td>0</td>\n",
              "      <td>0</td>\n",
              "      <td>0</td>\n",
              "      <td>0</td>\n",
              "      <td>0</td>\n",
              "    </tr>\n",
              "    <tr>\n",
              "      <th>3</th>\n",
              "      <td>0.0</td>\n",
              "      <td>1464.0</td>\n",
              "      <td>0</td>\n",
              "      <td>1</td>\n",
              "      <td>0</td>\n",
              "      <td>0</td>\n",
              "      <td>0</td>\n",
              "      <td>0</td>\n",
              "      <td>0</td>\n",
              "      <td>0</td>\n",
              "      <td>...</td>\n",
              "      <td>0</td>\n",
              "      <td>0</td>\n",
              "      <td>0</td>\n",
              "      <td>0</td>\n",
              "      <td>0</td>\n",
              "      <td>0</td>\n",
              "      <td>0</td>\n",
              "      <td>0</td>\n",
              "      <td>0</td>\n",
              "      <td>0</td>\n",
              "    </tr>\n",
              "    <tr>\n",
              "      <th>4</th>\n",
              "      <td>0.0</td>\n",
              "      <td>1464.0</td>\n",
              "      <td>0</td>\n",
              "      <td>1</td>\n",
              "      <td>0</td>\n",
              "      <td>0</td>\n",
              "      <td>0</td>\n",
              "      <td>0</td>\n",
              "      <td>0</td>\n",
              "      <td>0</td>\n",
              "      <td>...</td>\n",
              "      <td>0</td>\n",
              "      <td>0</td>\n",
              "      <td>0</td>\n",
              "      <td>0</td>\n",
              "      <td>0</td>\n",
              "      <td>0</td>\n",
              "      <td>0</td>\n",
              "      <td>0</td>\n",
              "      <td>0</td>\n",
              "      <td>0</td>\n",
              "    </tr>\n",
              "  </tbody>\n",
              "</table>\n",
              "<p>5 rows × 94 columns</p>\n",
              "</div>"
            ],
            "text/plain": [
              "   is_delay  Distance  Quarter_2  Quarter_3  Quarter_4  Month_2  Month_3  \\\n",
              "0       0.0    1464.0          0          1          0        0        0   \n",
              "1       0.0    1464.0          0          1          0        0        0   \n",
              "2       0.0    1464.0          0          1          0        0        0   \n",
              "3       0.0    1464.0          0          1          0        0        0   \n",
              "4       0.0    1464.0          0          1          0        0        0   \n",
              "\n",
              "   Month_4  Month_5  Month_6  ...  DepHourofDay_14  DepHourofDay_15  \\\n",
              "0        0        0        0  ...                0                0   \n",
              "1        0        0        0  ...                0                0   \n",
              "2        0        0        0  ...                0                0   \n",
              "3        0        0        0  ...                0                0   \n",
              "4        0        0        0  ...                0                0   \n",
              "\n",
              "   DepHourofDay_16  DepHourofDay_17  DepHourofDay_18  DepHourofDay_19  \\\n",
              "0                0                0                0                0   \n",
              "1                0                0                0                0   \n",
              "2                0                0                0                0   \n",
              "3                0                0                0                0   \n",
              "4                0                0                0                0   \n",
              "\n",
              "   DepHourofDay_20  DepHourofDay_21  DepHourofDay_22  DepHourofDay_23  \n",
              "0                0                0                0                0  \n",
              "1                0                0                0                0  \n",
              "2                0                0                0                0  \n",
              "3                0                0                0                0  \n",
              "4                0                0                0                0  \n",
              "\n",
              "[5 rows x 94 columns]"
            ]
          },
          "execution_count": 43,
          "metadata": {},
          "output_type": "execute_result"
        }
      ],
      "source": [
        "data.head()"
      ]
    },
    {
      "cell_type": "code",
      "execution_count": null,
      "metadata": {
        "id": "8RBfOH7PP-_Y",
        "outputId": "d7186f2d-8932-4d91-ed5b-2b07ac566e18"
      },
      "outputs": [
        {
          "data": {
            "text/plain": [
              "(1635590, 94)"
            ]
          },
          "execution_count": 44,
          "metadata": {},
          "output_type": "execute_result"
        }
      ],
      "source": [
        "data.shape"
      ]
    },
    {
      "cell_type": "markdown",
      "metadata": {
        "id": "Qe91SBWZP-_Y"
      },
      "source": [
        "You are now ready to train the model. Before you split the data, rename the **is_delay** column to *target*.\n",
        "\n",
        "**Hint**: You can use the `rename` function in pandas ([pandas.DataFrame.rename documentation](https://pandas.pydata.org/pandas-docs/stable/reference/api/pandas.DataFrame.rename.html))."
      ]
    },
    {
      "cell_type": "code",
      "execution_count": null,
      "metadata": {
        "id": "CnDmYRYPP-_Y"
      },
      "outputs": [],
      "source": [
        "data.rename(columns = {'is_delay':'target'}, inplace=True )# Enter your code here"
      ]
    },
    {
      "cell_type": "markdown",
      "metadata": {
        "id": "cZ_B77TdP-_Y"
      },
      "source": [
        "## <span style=\"color:red\"> End of Step 2 </span>\n",
        "\n",
        "Save the project file to your local computer. Follow these steps:\n",
        "\n",
        "1. In the file explorer on the left, right-click the notebook that you're working on. \n",
        "\n",
        "2. Choose **Download**, and save the file locally.  \n",
        "\n",
        "This action downloads the current notebook to the default download folder on your computer."
      ]
    },
    {
      "cell_type": "markdown",
      "metadata": {
        "id": "HlUlDiKSP-_Y"
      },
      "source": [
        "# Step 3: Model training and evaluation\n",
        "\n",
        "You must include some preliminary steps when you convert the dataset from a DataFrame to a format that a machine learning algorithm can use. For Amazon SageMaker, you must perform these steps:\n",
        "\n",
        "1. Split the data into `train_data`, `validation_data`, and `test_data` by using `sklearn.model_selection.train_test_split`.  \n",
        "\n",
        "2. Convert the dataset to an appropriate file format that the Amazon SageMaker training job can use. This can be either a CSV file or record protobuf. For more information, see [Common Data Formats for Training](https://docs.aws.amazon.com/sagemaker/latest/dg/cdf-training.html).  \n",
        "\n",
        "3. Upload the data to your S3 bucket. If you haven't created one before, see [Create a Bucket](https://docs.aws.amazon.com/AmazonS3/latest/gsg/CreatingABucket.html).  \n",
        "\n",
        "Use the following cells to complete these steps. Insert and delete cells where needed.\n",
        "\n",
        "#### <span style=\"color: blue;\">Project presentation: In your project presentation, write down the key decisions that you made in this phase.</span>"
      ]
    },
    {
      "cell_type": "markdown",
      "metadata": {
        "id": "fh37pj5oP-_Y"
      },
      "source": [
        "### Train-test split"
      ]
    },
    {
      "cell_type": "code",
      "execution_count": null,
      "metadata": {
        "id": "0yWdwXazP-_Y"
      },
      "outputs": [],
      "source": [
        "from sklearn.model_selection import train_test_split\n",
        "def split_data(data):\n",
        "    train, test_and_validate = train_test_split(data, test_size=0.2, random_state=42, stratify=data['target'])\n",
        "    test, validate = train_test_split(test_and_validate, test_size=0.5, random_state=42, stratify=test_and_validate['target'])\n",
        "    return train, validate, test"
      ]
    },
    {
      "cell_type": "code",
      "execution_count": null,
      "metadata": {
        "id": "2XXnuTr3P-_Z",
        "outputId": "e319bbf0-c38a-4183-ee16-ea54a66923ed"
      },
      "outputs": [
        {
          "name": "stdout",
          "output_type": "stream",
          "text": [
            "0.0    1033806\n",
            "1.0     274666\n",
            "Name: target, dtype: int64\n",
            "0.0    129226\n",
            "1.0     34333\n",
            "Name: target, dtype: int64\n",
            "0.0    129226\n",
            "1.0     34333\n",
            "Name: target, dtype: int64\n"
          ]
        }
      ],
      "source": [
        "train, validate, test = split_data(data)\n",
        "print(train['target'].value_counts())\n",
        "print(test['target'].value_counts())\n",
        "print(validate['target'].value_counts())"
      ]
    },
    {
      "cell_type": "markdown",
      "metadata": {
        "id": "tVifL-8CP-_Z"
      },
      "source": [
        "**Sample answer**\n",
        "```\n",
        "0.0    1033570\n",
        "1.0     274902\n",
        "Name: target, dtype: int64\n",
        "0.0    129076\n",
        "1.0     34483\n",
        "Name: target, dtype: int64\n",
        "0.0    129612\n",
        "1.0     33947\n",
        "Name: target, dtype: int64\n",
        "```"
      ]
    },
    {
      "cell_type": "markdown",
      "metadata": {
        "id": "r8KIGUttP-_Z"
      },
      "source": [
        "### Baseline classification model"
      ]
    },
    {
      "cell_type": "code",
      "execution_count": null,
      "metadata": {
        "id": "C4pa2rLYP-_Z"
      },
      "outputs": [],
      "source": [
        "import sagemaker\n",
        "from sagemaker.serializers import CSVSerializer\n",
        "from sagemaker.amazon.amazon_estimator import RecordSet\n",
        "import boto3\n",
        "\n",
        "# Instantiate the LinearLearner estimator object with 1 ml.m4.xlarge\n",
        "classifier_estimator = sagemaker.LinearLearner(role=sagemaker.get_execution_role(),\n",
        "                                               instance_count=1,\n",
        "                                               instance_type='ml.m4.xlarge',\n",
        "                                               predictor_type='binary_classifier',\n",
        "                                               binary_classifier_model_selection_criteria='cross_entropy_loss')"
      ]
    },
    {
      "cell_type": "markdown",
      "metadata": {
        "id": "WlJ0S2OwP-_Z"
      },
      "source": [
        "### Sample code\n",
        "```\n",
        "num_classes = len(pd.unique(train_labels))\n",
        "classifier_estimator = sagemaker.LinearLearner(role=sagemaker.get_execution_role(),\n",
        "                                              instance_count=1,\n",
        "                                              instance_type='ml.m4.xlarge',\n",
        "                                              predictor_type='binary_classifier',\n",
        "                                              binary_classifier_model_selection_criteria = 'cross_entropy_loss')\n",
        "                                              \n",
        "```"
      ]
    },
    {
      "cell_type": "markdown",
      "metadata": {
        "id": "VIM2ZGJHP-_Z"
      },
      "source": [
        "Linear learner accepts training data in protobuf or CSV content types. It also accepts inference requests in protobuf, CSV, or JavaScript Object Notation (JSON) content types. Training data has features and ground-truth labels, but the data in an inference request has only features.\n",
        "\n",
        "In a production pipeline, AWS recommends converting the data to the Amazon SageMaker protobuf format and storing it in Amazon S3. To get up and running quickly, AWS provides the `record_set` operation for converting and uploading the dataset when it's small enough to fit in local memory. It accepts NumPy arrays like the ones you already have, so you will use it for this step. The `RecordSet` object will track the temporary Amazon S3 location of your data. Create train, validation, and test records by using the `estimator.record_set` function. Then, start your training job by using the `estimator.fit` function."
      ]
    },
    {
      "cell_type": "code",
      "execution_count": null,
      "metadata": {
        "id": "q06FsKLoP-_Z"
      },
      "outputs": [],
      "source": [
        "### Create train, validate, and test records\n",
        "train_records = classifier_estimator.record_set(train.values[:, 1:].astype(np.float32), train.values[:, 0].astype(np.float32), channel='train')\n",
        "val_records = classifier_estimator.record_set(validate.values[:, 1:].astype(np.float32), validate.values[:, 0].astype(np.float32), channel='validation')\n",
        "test_records = classifier_estimator.record_set(test.values[:, 1:].astype(np.float32), test.values[:, 0].astype(np.float32), channel='test')"
      ]
    },
    {
      "cell_type": "markdown",
      "metadata": {
        "id": "_WjunDZKP-_Z"
      },
      "source": [
        "Now, train your model on the dataset that you just uploaded.\n",
        "\n",
        "### Sample code\n",
        "```\n",
        "linear.fit([train_records,val_records,test_records])\n",
        "```"
      ]
    },
    {
      "cell_type": "code",
      "execution_count": null,
      "metadata": {
        "id": "W2Ae5APyP-_a",
        "outputId": "71d3e757-2c63-4a58-92ea-08c6570576df"
      },
      "outputs": [
        {
          "name": "stderr",
          "output_type": "stream",
          "text": [
            "Defaulting to the only supported framework/algorithm version: 1. Ignoring framework/algorithm version: 1.\n",
            "Defaulting to the only supported framework/algorithm version: 1. Ignoring framework/algorithm version: 1.\n"
          ]
        },
        {
          "name": "stdout",
          "output_type": "stream",
          "text": [
            "2022-04-21 13:59:48 Starting - Starting the training job...\n",
            "2022-04-21 14:00:17 Starting - Preparing the instances for trainingProfilerReport-1650549588: InProgress\n",
            ".........\n",
            "2022-04-21 14:01:48 Downloading - Downloading input data.........\n",
            "2022-04-21 14:03:16 Training - Training image download completed. Training in progress..\u001b[34mDocker entrypoint called with argument(s): train\u001b[0m\n",
            "\u001b[34mRunning default environment configuration script\u001b[0m\n",
            "\u001b[34m[04/21/2022 14:03:16 INFO 140357410658112 integration.py:636] worker started\u001b[0m\n",
            "\u001b[34m[04/21/2022 14:03:16 INFO 140357410658112] Reading default configuration from /opt/amazon/lib/python3.7/site-packages/algorithm/resources/default-input.json: {'mini_batch_size': '1000', 'epochs': '15', 'feature_dim': 'auto', 'use_bias': 'true', 'binary_classifier_model_selection_criteria': 'accuracy', 'f_beta': '1.0', 'target_recall': '0.8', 'target_precision': '0.8', 'num_models': 'auto', 'num_calibration_samples': '10000000', 'init_method': 'uniform', 'init_scale': '0.07', 'init_sigma': '0.01', 'init_bias': '0.0', 'optimizer': 'auto', 'loss': 'auto', 'margin': '1.0', 'quantile': '0.5', 'loss_insensitivity': '0.01', 'huber_delta': '1.0', 'num_classes': '1', 'accuracy_top_k': '3', 'wd': 'auto', 'l1': 'auto', 'momentum': 'auto', 'learning_rate': 'auto', 'beta_1': 'auto', 'beta_2': 'auto', 'bias_lr_mult': 'auto', 'bias_wd_mult': 'auto', 'use_lr_scheduler': 'true', 'lr_scheduler_step': 'auto', 'lr_scheduler_factor': 'auto', 'lr_scheduler_minimum_lr': 'auto', 'positive_example_weight_mult': '1.0', 'balance_multiclass_weights': 'false', 'normalize_data': 'true', 'normalize_label': 'auto', 'unbias_data': 'auto', 'unbias_label': 'auto', 'num_point_for_scaler': '10000', '_kvstore': 'auto', '_num_gpus': 'auto', '_num_kv_servers': 'auto', '_log_level': 'info', '_tuning_objective_metric': '', 'early_stopping_patience': '3', 'early_stopping_tolerance': '0.001', '_enable_profiler': 'false'}\u001b[0m\n",
            "\u001b[34m[04/21/2022 14:03:16 INFO 140357410658112] Merging with provided configuration from /opt/ml/input/config/hyperparameters.json: {'binary_classifier_model_selection_criteria': 'cross_entropy_loss', 'feature_dim': '93', 'mini_batch_size': '1000', 'predictor_type': 'binary_classifier'}\u001b[0m\n",
            "\u001b[34m[04/21/2022 14:03:16 INFO 140357410658112] Final configuration: {'mini_batch_size': '1000', 'epochs': '15', 'feature_dim': '93', 'use_bias': 'true', 'binary_classifier_model_selection_criteria': 'cross_entropy_loss', 'f_beta': '1.0', 'target_recall': '0.8', 'target_precision': '0.8', 'num_models': 'auto', 'num_calibration_samples': '10000000', 'init_method': 'uniform', 'init_scale': '0.07', 'init_sigma': '0.01', 'init_bias': '0.0', 'optimizer': 'auto', 'loss': 'auto', 'margin': '1.0', 'quantile': '0.5', 'loss_insensitivity': '0.01', 'huber_delta': '1.0', 'num_classes': '1', 'accuracy_top_k': '3', 'wd': 'auto', 'l1': 'auto', 'momentum': 'auto', 'learning_rate': 'auto', 'beta_1': 'auto', 'beta_2': 'auto', 'bias_lr_mult': 'auto', 'bias_wd_mult': 'auto', 'use_lr_scheduler': 'true', 'lr_scheduler_step': 'auto', 'lr_scheduler_factor': 'auto', 'lr_scheduler_minimum_lr': 'auto', 'positive_example_weight_mult': '1.0', 'balance_multiclass_weights': 'false', 'normalize_data': 'true', 'normalize_label': 'auto', 'unbias_data': 'auto', 'unbias_label': 'auto', 'num_point_for_scaler': '10000', '_kvstore': 'auto', '_num_gpus': 'auto', '_num_kv_servers': 'auto', '_log_level': 'info', '_tuning_objective_metric': '', 'early_stopping_patience': '3', 'early_stopping_tolerance': '0.001', '_enable_profiler': 'false', 'predictor_type': 'binary_classifier'}\u001b[0m\n",
            "\u001b[34m[04/21/2022 14:03:16 WARNING 140357410658112] Loggers have already been setup.\u001b[0m\n",
            "\u001b[34mProcess 1 is a worker.\u001b[0m\n",
            "\u001b[34m[04/21/2022 14:03:16 INFO 140357410658112] Using default worker.\u001b[0m\n",
            "\u001b[34m[04/21/2022 14:03:17 INFO 140357410658112] Checkpoint loading and saving are disabled.\u001b[0m\n",
            "\u001b[34m[2022-04-21 14:03:17.026] [tensorio] [warning] TensorIO is already initialized; ignoring the initialization routine.\u001b[0m\n",
            "\u001b[34m[2022-04-21 14:03:17.038] [tensorio] [warning] TensorIO is already initialized; ignoring the initialization routine.\u001b[0m\n",
            "\u001b[34m[2022-04-21 14:03:17.118] [tensorio] [info] epoch_stats={\"data_pipeline\": \"/opt/ml/input/data/train\", \"epoch\": 0, \"duration\": 102, \"num_examples\": 1, \"num_bytes\": 420000}\u001b[0m\n",
            "\u001b[34m[04/21/2022 14:03:17 INFO 140357410658112] Create Store: local\u001b[0m\n",
            "\u001b[34m[2022-04-21 14:03:17.274] [tensorio] [info] epoch_stats={\"data_pipeline\": \"/opt/ml/input/data/train\", \"epoch\": 1, \"duration\": 154, \"num_examples\": 11, \"num_bytes\": 4620000}\u001b[0m\n",
            "\u001b[34m[04/21/2022 14:03:17 INFO 140357410658112] Scaler algorithm parameters\n",
            " <algorithm.scaler.ScalerAlgorithmStable object at 0x7fa7211eba90>\u001b[0m\n",
            "\u001b[34m[04/21/2022 14:03:17 INFO 140357410658112] Scaling model computed with parameters:\n",
            " {'stdev_label': None, 'stdev_weight': \u001b[0m\n",
            "\u001b[34m[5.3855560e+02 4.3442065e-01 4.3858448e-01 4.3833536e-01 2.5560609e-01\n",
            " 2.7588221e-01 2.8196824e-01 2.7241579e-01 2.7833980e-01 2.8289783e-01\n",
            " 2.8851199e-01 2.7213579e-01 2.7806833e-01 2.7820408e-01 2.8683189e-01\n",
            " 1.8076093e-01 1.8216139e-01 1.7405386e-01 1.7744365e-01 1.7600001e-01\n",
            " 1.8146272e-01 1.7982030e-01 1.7380884e-01 1.7624155e-01 1.8719327e-01\n",
            " 1.7744364e-01 1.7600001e-01 1.7478654e-01 1.8308818e-01 1.7356344e-01\n",
            " 1.8239361e-01 1.8469720e-01 1.8583658e-01 1.7233044e-01 1.7356345e-01\n",
            " 1.8099521e-01 1.6626751e-01 1.7058723e-01 1.7720398e-01 1.8377976e-01\n",
            " 1.7863651e-01 1.8331906e-01 1.7233042e-01 1.7331763e-01 1.2893090e-01\n",
            " 3.4895688e-01 3.5090533e-01 3.6051250e-01 3.5671464e-01 3.2686532e-01\n",
            " 3.4317434e-01 3.7362394e-01 2.3562472e-01 4.5888969e-01 3.1592485e-01\n",
            " 2.3408696e-01 3.2044283e-01 3.3102790e-01 2.7353188e-01 3.5989985e-01\n",
            " 3.3560199e-01 3.0048424e-01 3.2770532e-01 2.4907498e-01 3.1759030e-01\n",
            " 3.2633850e-01 2.7436471e-01 3.5237563e-01 3.3799595e-01 2.9396686e-01\n",
            " 3.2822841e-01 5.9438068e-02 1.0000000e+00 1.0000000e+00 1.6101824e-01\n",
            " 2.2851183e-01 2.4764535e-01 2.5468680e-01 2.3916349e-01 2.4410403e-01\n",
            " 2.3799145e-01 2.4636540e-01 2.4230777e-01 2.5314471e-01 2.4165025e-01\n",
            " 2.3698089e-01 2.4065955e-01 2.2147587e-01 2.2129181e-01 1.8831517e-01\n",
            " 1.5640128e-01 1.6261294e-01 1.1130169e-01]\u001b[0m\n",
            "\u001b[34m<NDArray 93 @cpu(0)>, 'mean_label': None, 'mean_weight': \u001b[0m\n",
            "\u001b[34m[1.01073090e+03 2.52454579e-01 2.59909123e-01 2.59454548e-01\n",
            " 7.02727363e-02 8.30000043e-02 8.70909169e-02 8.07272792e-02\n",
            " 8.46363604e-02 8.77272636e-02 9.16363746e-02 8.05454627e-02\n",
            " 8.44545513e-02 8.45454633e-02 9.04545486e-02 3.38181891e-02\n",
            " 3.43636386e-02 3.12727317e-02 3.25454585e-02 3.20000015e-02\n",
            " 3.40909138e-02 3.34545448e-02 3.11818216e-02 3.20909098e-02\n",
            " 3.63636389e-02 3.25454585e-02 3.20000015e-02 3.15454565e-02\n",
            " 3.47272716e-02 3.10909115e-02 3.44545431e-02 3.53636444e-02\n",
            " 3.58181819e-02 3.06363627e-02 3.10909152e-02 3.39090936e-02\n",
            " 2.84545496e-02 3.00000049e-02 3.24545465e-02 3.50000001e-02\n",
            " 3.30000035e-02 3.48181836e-02 3.06363646e-02 3.10000032e-02\n",
            " 1.69090908e-02 1.41909093e-01 1.43818185e-01 1.53545454e-01\n",
            " 1.49636358e-01 1.21636376e-01 1.36363655e-01 1.67727292e-01\n",
            " 5.90000004e-02 3.01454574e-01 1.12454556e-01 5.81818186e-02\n",
            " 1.16181828e-01 1.25272721e-01 8.14545453e-02 1.52909085e-01\n",
            " 1.29363656e-01 1.00363642e-01 1.22363642e-01 6.64545521e-02\n",
            " 1.13818191e-01 1.21181838e-01 8.20000172e-02 1.45272747e-01\n",
            " 1.31545469e-01 9.55454633e-02 1.22818194e-01 3.54545447e-03\n",
            " 0.00000000e+00 0.00000000e+00 2.66363677e-02 5.52727319e-02\n",
            " 6.56363741e-02 6.97272643e-02 6.09090999e-02 6.36363551e-02\n",
            " 6.02727309e-02 6.49091005e-02 6.26363754e-02 6.88181892e-02\n",
            " 6.22727312e-02 5.97272739e-02 6.17272817e-02 5.17272763e-02\n",
            " 5.16363718e-02 3.68181802e-02 2.50909105e-02 2.71818209e-02\n",
            " 1.25454562e-02]\u001b[0m\n",
            "\u001b[34m<NDArray 93 @cpu(0)>}\u001b[0m\n",
            "\u001b[34m[04/21/2022 14:03:17 INFO 140357410658112] nvidia-smi: took 0.086 seconds to run.\u001b[0m\n",
            "\u001b[34m[04/21/2022 14:03:17 INFO 140357410658112] nvidia-smi identified 0 GPUs.\u001b[0m\n",
            "\u001b[34m[04/21/2022 14:03:17 INFO 140357410658112] Number of GPUs being used: 0\u001b[0m\n",
            "\u001b[34m#metrics {\"StartTime\": 1650549797.501051, \"EndTime\": 1650549797.5010967, \"Dimensions\": {\"Algorithm\": \"Linear Learner\", \"Host\": \"algo-1\", \"Operation\": \"training\", \"Meta\": \"init_train_data_iter\"}, \"Metrics\": {\"Total Records Seen\": {\"sum\": 12000.0, \"count\": 1, \"min\": 12000, \"max\": 12000}, \"Total Batches Seen\": {\"sum\": 12.0, \"count\": 1, \"min\": 12, \"max\": 12}, \"Max Records Seen Between Resets\": {\"sum\": 11000.0, \"count\": 1, \"min\": 11000, \"max\": 11000}, \"Max Batches Seen Between Resets\": {\"sum\": 11.0, \"count\": 1, \"min\": 11, \"max\": 11}, \"Reset Count\": {\"sum\": 2.0, \"count\": 1, \"min\": 2, \"max\": 2}, \"Number of Records Since Last Reset\": {\"sum\": 0.0, \"count\": 1, \"min\": 0, \"max\": 0}, \"Number of Batches Since Last Reset\": {\"sum\": 0.0, \"count\": 1, \"min\": 0, \"max\": 0}}}\u001b[0m\n",
            "\u001b[34m[2022-04-21 14:04:17.963] [tensorio] [info] epoch_stats={\"data_pipeline\": \"/opt/ml/input/data/train\", \"epoch\": 3, \"duration\": 60461, \"num_examples\": 1309, \"num_bytes\": 549558240}\u001b[0m\n",
            "\u001b[34m#metrics {\"StartTime\": 1650549857.9631548, \"EndTime\": 1650549857.9632776, \"Dimensions\": {\"Algorithm\": \"Linear Learner\", \"Host\": \"algo-1\", \"Operation\": \"training\", \"epoch\": 0, \"model\": 0}, \"Metrics\": {\"train_binary_classification_cross_entropy_objective\": {\"sum\": 0.4942983007168551, \"count\": 1, \"min\": 0.4942983007168551, \"max\": 0.4942983007168551}}}\u001b[0m\n",
            "\u001b[34m#metrics {\"StartTime\": 1650549857.9636974, \"EndTime\": 1650549857.9637253, \"Dimensions\": {\"Algorithm\": \"Linear Learner\", \"Host\": \"algo-1\", \"Operation\": \"training\", \"epoch\": 0, \"model\": 1}, \"Metrics\": {\"train_binary_classification_cross_entropy_objective\": {\"sum\": 0.4949457395127789, \"count\": 1, \"min\": 0.4949457395127789, \"max\": 0.4949457395127789}}}\u001b[0m\n",
            "\u001b[34m#metrics {\"StartTime\": 1650549857.9637926, \"EndTime\": 1650549857.9638124, \"Dimensions\": {\"Algorithm\": \"Linear Learner\", \"Host\": \"algo-1\", \"Operation\": \"training\", \"epoch\": 0, \"model\": 2}, \"Metrics\": {\"train_binary_classification_cross_entropy_objective\": {\"sum\": 0.49442694511763546, \"count\": 1, \"min\": 0.49442694511763546, \"max\": 0.49442694511763546}}}\u001b[0m\n",
            "\u001b[34m#metrics {\"StartTime\": 1650549857.963874, \"EndTime\": 1650549857.9638922, \"Dimensions\": {\"Algorithm\": \"Linear Learner\", \"Host\": \"algo-1\", \"Operation\": \"training\", \"epoch\": 0, \"model\": 3}, \"Metrics\": {\"train_binary_classification_cross_entropy_objective\": {\"sum\": 0.49497375163973656, \"count\": 1, \"min\": 0.49497375163973656, \"max\": 0.49497375163973656}}}\u001b[0m\n",
            "\u001b[34m#metrics {\"StartTime\": 1650549857.963951, \"EndTime\": 1650549857.9639797, \"Dimensions\": {\"Algorithm\": \"Linear Learner\", \"Host\": \"algo-1\", \"Operation\": \"training\", \"epoch\": 0, \"model\": 4}, \"Metrics\": {\"train_binary_classification_cross_entropy_objective\": {\"sum\": 0.5076322331093138, \"count\": 1, \"min\": 0.5076322331093138, \"max\": 0.5076322331093138}}}\u001b[0m\n",
            "\u001b[34m#metrics {\"StartTime\": 1650549857.964032, \"EndTime\": 1650549857.9640484, \"Dimensions\": {\"Algorithm\": \"Linear Learner\", \"Host\": \"algo-1\", \"Operation\": \"training\", \"epoch\": 0, \"model\": 5}, \"Metrics\": {\"train_binary_classification_cross_entropy_objective\": {\"sum\": 0.5183741895809815, \"count\": 1, \"min\": 0.5183741895809815, \"max\": 0.5183741895809815}}}\u001b[0m\n",
            "\u001b[34m#metrics {\"StartTime\": 1650549857.964101, \"EndTime\": 1650549857.9641178, \"Dimensions\": {\"Algorithm\": \"Linear Learner\", \"Host\": \"algo-1\", \"Operation\": \"training\", \"epoch\": 0, \"model\": 6}, \"Metrics\": {\"train_binary_classification_cross_entropy_objective\": {\"sum\": 0.5076204375287444, \"count\": 1, \"min\": 0.5076204375287444, \"max\": 0.5076204375287444}}}\u001b[0m\n",
            "\u001b[34m#metrics {\"StartTime\": 1650549857.9641702, \"EndTime\": 1650549857.9641871, \"Dimensions\": {\"Algorithm\": \"Linear Learner\", \"Host\": \"algo-1\", \"Operation\": \"training\", \"epoch\": 0, \"model\": 7}, \"Metrics\": {\"train_binary_classification_cross_entropy_objective\": {\"sum\": 0.5183790197576587, \"count\": 1, \"min\": 0.5183790197576587, \"max\": 0.5183790197576587}}}\u001b[0m\n",
            "\u001b[34m#metrics {\"StartTime\": 1650549857.9642403, \"EndTime\": 1650549857.9642568, \"Dimensions\": {\"Algorithm\": \"Linear Learner\", \"Host\": \"algo-1\", \"Operation\": \"training\", \"epoch\": 0, \"model\": 8}, \"Metrics\": {\"train_binary_classification_cross_entropy_objective\": {\"sum\": 0.49448206548661633, \"count\": 1, \"min\": 0.49448206548661633, \"max\": 0.49448206548661633}}}\u001b[0m\n",
            "\u001b[34m#metrics {\"StartTime\": 1650549857.964308, \"EndTime\": 1650549857.9643228, \"Dimensions\": {\"Algorithm\": \"Linear Learner\", \"Host\": \"algo-1\", \"Operation\": \"training\", \"epoch\": 0, \"model\": 9}, \"Metrics\": {\"train_binary_classification_cross_entropy_objective\": {\"sum\": 0.4949748059660652, \"count\": 1, \"min\": 0.4949748059660652, \"max\": 0.4949748059660652}}}\u001b[0m\n",
            "\u001b[34m#metrics {\"StartTime\": 1650549857.9643753, \"EndTime\": 1650549857.9643917, \"Dimensions\": {\"Algorithm\": \"Linear Learner\", \"Host\": \"algo-1\", \"Operation\": \"training\", \"epoch\": 0, \"model\": 10}, \"Metrics\": {\"train_binary_classification_cross_entropy_objective\": {\"sum\": 0.49452812519131817, \"count\": 1, \"min\": 0.49452812519131817, \"max\": 0.49452812519131817}}}\u001b[0m\n",
            "\u001b[34m#metrics {\"StartTime\": 1650549857.9644454, \"EndTime\": 1650549857.9644618, \"Dimensions\": {\"Algorithm\": \"Linear Learner\", \"Host\": \"algo-1\", \"Operation\": \"training\", \"epoch\": 0, \"model\": 11}, \"Metrics\": {\"train_binary_classification_cross_entropy_objective\": {\"sum\": 0.49496610707974215, \"count\": 1, \"min\": 0.49496610707974215, \"max\": 0.49496610707974215}}}\u001b[0m\n",
            "\u001b[34m#metrics {\"StartTime\": 1650549857.9645147, \"EndTime\": 1650549857.9645312, \"Dimensions\": {\"Algorithm\": \"Linear Learner\", \"Host\": \"algo-1\", \"Operation\": \"training\", \"epoch\": 0, \"model\": 12}, \"Metrics\": {\"train_binary_classification_cross_entropy_objective\": {\"sum\": 0.5066858723958333, \"count\": 1, \"min\": 0.5066858723958333, \"max\": 0.5066858723958333}}}\u001b[0m\n",
            "\u001b[34m#metrics {\"StartTime\": 1650549857.964583, \"EndTime\": 1650549857.9645996, \"Dimensions\": {\"Algorithm\": \"Linear Learner\", \"Host\": \"algo-1\", \"Operation\": \"training\", \"epoch\": 0, \"model\": 13}, \"Metrics\": {\"train_binary_classification_cross_entropy_objective\": {\"sum\": 0.5166026000743248, \"count\": 1, \"min\": 0.5166026000743248, \"max\": 0.5166026000743248}}}\u001b[0m\n",
            "\u001b[34m#metrics {\"StartTime\": 1650549857.9646492, \"EndTime\": 1650549857.964666, \"Dimensions\": {\"Algorithm\": \"Linear Learner\", \"Host\": \"algo-1\", \"Operation\": \"training\", \"epoch\": 0, \"model\": 14}, \"Metrics\": {\"train_binary_classification_cross_entropy_objective\": {\"sum\": 0.5067046037493131, \"count\": 1, \"min\": 0.5067046037493131, \"max\": 0.5067046037493131}}}\u001b[0m\n",
            "\u001b[34m#metrics {\"StartTime\": 1650549857.9647186, \"EndTime\": 1650549857.964735, \"Dimensions\": {\"Algorithm\": \"Linear Learner\", \"Host\": \"algo-1\", \"Operation\": \"training\", \"epoch\": 0, \"model\": 15}, \"Metrics\": {\"train_binary_classification_cross_entropy_objective\": {\"sum\": 0.5166300160352608, \"count\": 1, \"min\": 0.5166300160352608, \"max\": 0.5166300160352608}}}\u001b[0m\n",
            "\u001b[34m#metrics {\"StartTime\": 1650549857.9647846, \"EndTime\": 1650549857.9648008, \"Dimensions\": {\"Algorithm\": \"Linear Learner\", \"Host\": \"algo-1\", \"Operation\": \"training\", \"epoch\": 0, \"model\": 16}, \"Metrics\": {\"train_binary_classification_cross_entropy_objective\": {\"sum\": 0.5092101184016703, \"count\": 1, \"min\": 0.5092101184016703, \"max\": 0.5092101184016703}}}\u001b[0m\n",
            "\u001b[34m#metrics {\"StartTime\": 1650549857.9648535, \"EndTime\": 1650549857.964869, \"Dimensions\": {\"Algorithm\": \"Linear Learner\", \"Host\": \"algo-1\", \"Operation\": \"training\", \"epoch\": 0, \"model\": 17}, \"Metrics\": {\"train_binary_classification_cross_entropy_objective\": {\"sum\": 0.5092739700644023, \"count\": 1, \"min\": 0.5092739700644023, \"max\": 0.5092739700644023}}}\u001b[0m\n",
            "\u001b[34m#metrics {\"StartTime\": 1650549857.9649212, \"EndTime\": 1650549857.9649394, \"Dimensions\": {\"Algorithm\": \"Linear Learner\", \"Host\": \"algo-1\", \"Operation\": \"training\", \"epoch\": 0, \"model\": 18}, \"Metrics\": {\"train_binary_classification_cross_entropy_objective\": {\"sum\": 0.5091612091997713, \"count\": 1, \"min\": 0.5091612091997713, \"max\": 0.5091612091997713}}}\u001b[0m\n",
            "\u001b[34m#metrics {\"StartTime\": 1650549857.964991, \"EndTime\": 1650549857.9650078, \"Dimensions\": {\"Algorithm\": \"Linear Learner\", \"Host\": \"algo-1\", \"Operation\": \"training\", \"epoch\": 0, \"model\": 19}, \"Metrics\": {\"train_binary_classification_cross_entropy_objective\": {\"sum\": 0.5092937513345608, \"count\": 1, \"min\": 0.5092937513345608, \"max\": 0.5092937513345608}}}\u001b[0m\n",
            "\u001b[34m#metrics {\"StartTime\": 1650549857.9650624, \"EndTime\": 1650549857.965078, \"Dimensions\": {\"Algorithm\": \"Linear Learner\", \"Host\": \"algo-1\", \"Operation\": \"training\", \"epoch\": 0, \"model\": 20}, \"Metrics\": {\"train_binary_classification_cross_entropy_objective\": {\"sum\": 0.5105308751564143, \"count\": 1, \"min\": 0.5105308751564143, \"max\": 0.5105308751564143}}}\u001b[0m\n",
            "\u001b[34m#metrics {\"StartTime\": 1650549857.9651306, \"EndTime\": 1650549857.9651468, \"Dimensions\": {\"Algorithm\": \"Linear Learner\", \"Host\": \"algo-1\", \"Operation\": \"training\", \"epoch\": 0, \"model\": 21}, \"Metrics\": {\"train_binary_classification_cross_entropy_objective\": {\"sum\": 0.5122683442142032, \"count\": 1, \"min\": 0.5122683442142032, \"max\": 0.5122683442142032}}}\u001b[0m\n",
            "\u001b[34m#metrics {\"StartTime\": 1650549857.9652002, \"EndTime\": 1650549857.9652154, \"Dimensions\": {\"Algorithm\": \"Linear Learner\", \"Host\": \"algo-1\", \"Operation\": \"training\", \"epoch\": 0, \"model\": 22}, \"Metrics\": {\"train_binary_classification_cross_entropy_objective\": {\"sum\": 0.5105485668590674, \"count\": 1, \"min\": 0.5105485668590674, \"max\": 0.5105485668590674}}}\u001b[0m\n",
            "\u001b[34m#metrics {\"StartTime\": 1650549857.965267, \"EndTime\": 1650549857.9652827, \"Dimensions\": {\"Algorithm\": \"Linear Learner\", \"Host\": \"algo-1\", \"Operation\": \"training\", \"epoch\": 0, \"model\": 23}, \"Metrics\": {\"train_binary_classification_cross_entropy_objective\": {\"sum\": 0.5122610669383945, \"count\": 1, \"min\": 0.5122610669383945, \"max\": 0.5122610669383945}}}\u001b[0m\n",
            "\u001b[34m#metrics {\"StartTime\": 1650549857.9653406, \"EndTime\": 1650549857.9653568, \"Dimensions\": {\"Algorithm\": \"Linear Learner\", \"Host\": \"algo-1\", \"Operation\": \"training\", \"epoch\": 0, \"model\": 24}, \"Metrics\": {\"train_binary_classification_cross_entropy_objective\": {\"sum\": 0.5150470425900334, \"count\": 1, \"min\": 0.5150470425900334, \"max\": 0.5150470425900334}}}\u001b[0m\n",
            "\u001b[34m#metrics {\"StartTime\": 1650549857.965408, \"EndTime\": 1650549857.965424, \"Dimensions\": {\"Algorithm\": \"Linear Learner\", \"Host\": \"algo-1\", \"Operation\": \"training\", \"epoch\": 0, \"model\": 25}, \"Metrics\": {\"train_binary_classification_cross_entropy_objective\": {\"sum\": 0.5151070600270495, \"count\": 1, \"min\": 0.5151070600270495, \"max\": 0.5151070600270495}}}\u001b[0m\n",
            "\u001b[34m#metrics {\"StartTime\": 1650549857.965513, \"EndTime\": 1650549857.9655297, \"Dimensions\": {\"Algorithm\": \"Linear Learner\", \"Host\": \"algo-1\", \"Operation\": \"training\", \"epoch\": 0, \"model\": 26}, \"Metrics\": {\"train_binary_classification_cross_entropy_objective\": {\"sum\": 0.5150455337431088, \"count\": 1, \"min\": 0.5150455337431088, \"max\": 0.5150455337431088}}}\u001b[0m\n",
            "\u001b[34m#metrics {\"StartTime\": 1650549857.9655778, \"EndTime\": 1650549857.965593, \"Dimensions\": {\"Algorithm\": \"Linear Learner\", \"Host\": \"algo-1\", \"Operation\": \"training\", \"epoch\": 0, \"model\": 27}, \"Metrics\": {\"train_binary_classification_cross_entropy_objective\": {\"sum\": 0.5151032348306172, \"count\": 1, \"min\": 0.5151032348306172, \"max\": 0.5151032348306172}}}\u001b[0m\n",
            "\u001b[34m#metrics {\"StartTime\": 1650549857.9656446, \"EndTime\": 1650549857.9656603, \"Dimensions\": {\"Algorithm\": \"Linear Learner\", \"Host\": \"algo-1\", \"Operation\": \"training\", \"epoch\": 0, \"model\": 28}, \"Metrics\": {\"train_binary_classification_cross_entropy_objective\": {\"sum\": 0.5150817396298096, \"count\": 1, \"min\": 0.5150817396298096, \"max\": 0.5150817396298096}}}\u001b[0m\n",
            "\u001b[34m#metrics {\"StartTime\": 1650549857.965715, \"EndTime\": 1650549857.9657302, \"Dimensions\": {\"Algorithm\": \"Linear Learner\", \"Host\": \"algo-1\", \"Operation\": \"training\", \"epoch\": 0, \"model\": 29}, \"Metrics\": {\"train_binary_classification_cross_entropy_objective\": {\"sum\": 0.5158195354216689, \"count\": 1, \"min\": 0.5158195354216689, \"max\": 0.5158195354216689}}}\u001b[0m\n",
            "\u001b[34m#metrics {\"StartTime\": 1650549857.9657815, \"EndTime\": 1650549857.965797, \"Dimensions\": {\"Algorithm\": \"Linear Learner\", \"Host\": \"algo-1\", \"Operation\": \"training\", \"epoch\": 0, \"model\": 30}, \"Metrics\": {\"train_binary_classification_cross_entropy_objective\": {\"sum\": 0.5150771690858613, \"count\": 1, \"min\": 0.5150771690858613, \"max\": 0.5150771690858613}}}\u001b[0m\n",
            "\u001b[34m#metrics {\"StartTime\": 1650549857.9658496, \"EndTime\": 1650549857.9658651, \"Dimensions\": {\"Algorithm\": \"Linear Learner\", \"Host\": \"algo-1\", \"Operation\": \"training\", \"epoch\": 0, \"model\": 31}, \"Metrics\": {\"train_binary_classification_cross_entropy_objective\": {\"sum\": 0.5157819450915042, \"count\": 1, \"min\": 0.5157819450915042, \"max\": 0.5157819450915042}}}\u001b[0m\n",
            "\u001b[34m[04/21/2022 14:04:17 INFO 140357410658112] #quality_metric: host=algo-1, epoch=0, train binary_classification_cross_entropy_objective <loss>=0.4942983007168551\u001b[0m\n",
            "\u001b[34m[2022-04-21 14:04:17.992] [tensorio] [info] epoch_stats={\"data_pipeline\": \"/opt/ml/input/data/validation\", \"epoch\": 0, \"duration\": 60965, \"num_examples\": 1, \"num_bytes\": 420000}\u001b[0m\n",
            "\u001b[34m[2022-04-21 14:04:23.730] [tensorio] [info] epoch_stats={\"data_pipeline\": \"/opt/ml/input/data/validation\", \"epoch\": 2, \"duration\": 5737, \"num_examples\": 164, \"num_bytes\": 68694780}\u001b[0m\n",
            "\u001b[34m#metrics {\"StartTime\": 1650549863.7435822, \"EndTime\": 1650549863.743695, \"Dimensions\": {\"Algorithm\": \"Linear Learner\", \"Host\": \"algo-1\", \"Operation\": \"training\", \"epoch\": 0, \"model\": 0}, \"Metrics\": {\"validation_binary_classification_cross_entropy_objective\": {\"sum\": 0.49270368907039086, \"count\": 1, \"min\": 0.49270368907039086, \"max\": 0.49270368907039086}}}\u001b[0m\n",
            "\u001b[34m#metrics {\"StartTime\": 1650549863.7438421, \"EndTime\": 1650549863.7438672, \"Dimensions\": {\"Algorithm\": \"Linear Learner\", \"Host\": \"algo-1\", \"Operation\": \"training\", \"epoch\": 0, \"model\": 1}, \"Metrics\": {\"validation_binary_classification_cross_entropy_objective\": {\"sum\": 0.49414112653919995, \"count\": 1, \"min\": 0.49414112653919995, \"max\": 0.49414112653919995}}}\u001b[0m\n",
            "\u001b[34m#metrics {\"StartTime\": 1650549863.7439325, \"EndTime\": 1650549863.7439501, \"Dimensions\": {\"Algorithm\": \"Linear Learner\", \"Host\": \"algo-1\", \"Operation\": \"training\", \"epoch\": 0, \"model\": 2}, \"Metrics\": {\"validation_binary_classification_cross_entropy_objective\": {\"sum\": 0.4927095793572221, \"count\": 1, \"min\": 0.4927095793572221, \"max\": 0.4927095793572221}}}\u001b[0m\n",
            "\u001b[34m#metrics {\"StartTime\": 1650549863.744009, \"EndTime\": 1650549863.7440252, \"Dimensions\": {\"Algorithm\": \"Linear Learner\", \"Host\": \"algo-1\", \"Operation\": \"training\", \"epoch\": 0, \"model\": 3}, \"Metrics\": {\"validation_binary_classification_cross_entropy_objective\": {\"sum\": 0.49413686569501486, \"count\": 1, \"min\": 0.49413686569501486, \"max\": 0.49413686569501486}}}\u001b[0m\n",
            "\u001b[34m#metrics {\"StartTime\": 1650549863.7440932, \"EndTime\": 1650549863.7441118, \"Dimensions\": {\"Algorithm\": \"Linear Learner\", \"Host\": \"algo-1\", \"Operation\": \"training\", \"epoch\": 0, \"model\": 4}, \"Metrics\": {\"validation_binary_classification_cross_entropy_objective\": {\"sum\": 0.5007219261223683, \"count\": 1, \"min\": 0.5007219261223683, \"max\": 0.5007219261223683}}}\u001b[0m\n",
            "\u001b[34m#metrics {\"StartTime\": 1650549863.744176, \"EndTime\": 1650549863.7441947, \"Dimensions\": {\"Algorithm\": \"Linear Learner\", \"Host\": \"algo-1\", \"Operation\": \"training\", \"epoch\": 0, \"model\": 5}, \"Metrics\": {\"validation_binary_classification_cross_entropy_objective\": {\"sum\": 0.5121851850010332, \"count\": 1, \"min\": 0.5121851850010332, \"max\": 0.5121851850010332}}}\u001b[0m\n",
            "\u001b[34m#metrics {\"StartTime\": 1650549863.7442558, \"EndTime\": 1650549863.7442732, \"Dimensions\": {\"Algorithm\": \"Linear Learner\", \"Host\": \"algo-1\", \"Operation\": \"training\", \"epoch\": 0, \"model\": 6}, \"Metrics\": {\"validation_binary_classification_cross_entropy_objective\": {\"sum\": 0.5007173979025606, \"count\": 1, \"min\": 0.5007173979025606, \"max\": 0.5007173979025606}}}\u001b[0m\n",
            "\u001b[34m#metrics {\"StartTime\": 1650549863.744333, \"EndTime\": 1650549863.7443502, \"Dimensions\": {\"Algorithm\": \"Linear Learner\", \"Host\": \"algo-1\", \"Operation\": \"training\", \"epoch\": 0, \"model\": 7}, \"Metrics\": {\"validation_binary_classification_cross_entropy_objective\": {\"sum\": 0.5121759869437643, \"count\": 1, \"min\": 0.5121759869437643, \"max\": 0.5121759869437643}}}\u001b[0m\n",
            "\u001b[34m#metrics {\"StartTime\": 1650549863.744416, \"EndTime\": 1650549863.7444358, \"Dimensions\": {\"Algorithm\": \"Linear Learner\", \"Host\": \"algo-1\", \"Operation\": \"training\", \"epoch\": 0, \"model\": 8}, \"Metrics\": {\"validation_binary_classification_cross_entropy_objective\": {\"sum\": 0.4928302728625211, \"count\": 1, \"min\": 0.4928302728625211, \"max\": 0.4928302728625211}}}\u001b[0m\n",
            "\u001b[34m#metrics {\"StartTime\": 1650549863.7444937, \"EndTime\": 1650549863.744514, \"Dimensions\": {\"Algorithm\": \"Linear Learner\", \"Host\": \"algo-1\", \"Operation\": \"training\", \"epoch\": 0, \"model\": 9}, \"Metrics\": {\"validation_binary_classification_cross_entropy_objective\": {\"sum\": 0.4941744865459602, \"count\": 1, \"min\": 0.4941744865459602, \"max\": 0.4941744865459602}}}\u001b[0m\n",
            "\u001b[34m#metrics {\"StartTime\": 1650549863.744577, \"EndTime\": 1650549863.7445927, \"Dimensions\": {\"Algorithm\": \"Linear Learner\", \"Host\": \"algo-1\", \"Operation\": \"training\", \"epoch\": 0, \"model\": 10}, \"Metrics\": {\"validation_binary_classification_cross_entropy_objective\": {\"sum\": 0.49282984446445455, \"count\": 1, \"min\": 0.49282984446445455, \"max\": 0.49282984446445455}}}\u001b[0m\n",
            "\u001b[34m#metrics {\"StartTime\": 1650549863.7446508, \"EndTime\": 1650549863.7446725, \"Dimensions\": {\"Algorithm\": \"Linear Learner\", \"Host\": \"algo-1\", \"Operation\": \"training\", \"epoch\": 0, \"model\": 11}, \"Metrics\": {\"validation_binary_classification_cross_entropy_objective\": {\"sum\": 0.4941750287605863, \"count\": 1, \"min\": 0.4941750287605863, \"max\": 0.4941750287605863}}}\u001b[0m\n",
            "\u001b[34m#metrics {\"StartTime\": 1650549863.7447298, \"EndTime\": 1650549863.7447484, \"Dimensions\": {\"Algorithm\": \"Linear Learner\", \"Host\": \"algo-1\", \"Operation\": \"training\", \"epoch\": 0, \"model\": 12}, \"Metrics\": {\"validation_binary_classification_cross_entropy_objective\": {\"sum\": 0.5007809288134007, \"count\": 1, \"min\": 0.5007809288134007, \"max\": 0.5007809288134007}}}\u001b[0m\n",
            "\u001b[34m#metrics {\"StartTime\": 1650549863.7448049, \"EndTime\": 1650549863.744819, \"Dimensions\": {\"Algorithm\": \"Linear Learner\", \"Host\": \"algo-1\", \"Operation\": \"training\", \"epoch\": 0, \"model\": 13}, \"Metrics\": {\"validation_binary_classification_cross_entropy_objective\": {\"sum\": 0.5107153467565007, \"count\": 1, \"min\": 0.5107153467565007, \"max\": 0.5107153467565007}}}\u001b[0m\n",
            "\u001b[34m#metrics {\"StartTime\": 1650549863.7448702, \"EndTime\": 1650549863.7448857, \"Dimensions\": {\"Algorithm\": \"Linear Learner\", \"Host\": \"algo-1\", \"Operation\": \"training\", \"epoch\": 0, \"model\": 14}, \"Metrics\": {\"validation_binary_classification_cross_entropy_objective\": {\"sum\": 0.5007850616606025, \"count\": 1, \"min\": 0.5007850616606025, \"max\": 0.5007850616606025}}}\u001b[0m\n",
            "\u001b[34m#metrics {\"StartTime\": 1650549863.7449343, \"EndTime\": 1650549863.7449505, \"Dimensions\": {\"Algorithm\": \"Linear Learner\", \"Host\": \"algo-1\", \"Operation\": \"training\", \"epoch\": 0, \"model\": 15}, \"Metrics\": {\"validation_binary_classification_cross_entropy_objective\": {\"sum\": 0.5107203940544534, \"count\": 1, \"min\": 0.5107203940544534, \"max\": 0.5107203940544534}}}\u001b[0m\n",
            "\u001b[34m#metrics {\"StartTime\": 1650549863.7450035, \"EndTime\": 1650549863.7450206, \"Dimensions\": {\"Algorithm\": \"Linear Learner\", \"Host\": \"algo-1\", \"Operation\": \"training\", \"epoch\": 0, \"model\": 16}, \"Metrics\": {\"validation_binary_classification_cross_entropy_objective\": {\"sum\": 0.5078525083865116, \"count\": 1, \"min\": 0.5078525083865116, \"max\": 0.5078525083865116}}}\u001b[0m\n",
            "\u001b[34m#metrics {\"StartTime\": 1650549863.7450771, \"EndTime\": 1650549863.7450953, \"Dimensions\": {\"Algorithm\": \"Linear Learner\", \"Host\": \"algo-1\", \"Operation\": \"training\", \"epoch\": 0, \"model\": 17}, \"Metrics\": {\"validation_binary_classification_cross_entropy_objective\": {\"sum\": 0.508577200251276, \"count\": 1, \"min\": 0.508577200251276, \"max\": 0.508577200251276}}}\u001b[0m\n",
            "\u001b[34m#metrics {\"StartTime\": 1650549863.7451396, \"EndTime\": 1650549863.745157, \"Dimensions\": {\"Algorithm\": \"Linear Learner\", \"Host\": \"algo-1\", \"Operation\": \"training\", \"epoch\": 0, \"model\": 18}, \"Metrics\": {\"validation_binary_classification_cross_entropy_objective\": {\"sum\": 0.507846748708847, \"count\": 1, \"min\": 0.507846748708847, \"max\": 0.507846748708847}}}\u001b[0m\n",
            "\u001b[34m#metrics {\"StartTime\": 1650549863.7452142, \"EndTime\": 1650549863.7452314, \"Dimensions\": {\"Algorithm\": \"Linear Learner\", \"Host\": \"algo-1\", \"Operation\": \"training\", \"epoch\": 0, \"model\": 19}, \"Metrics\": {\"validation_binary_classification_cross_entropy_objective\": {\"sum\": 0.5085686806153356, \"count\": 1, \"min\": 0.5085686806153356, \"max\": 0.5085686806153356}}}\u001b[0m\n",
            "\u001b[34m#metrics {\"StartTime\": 1650549863.745285, \"EndTime\": 1650549863.7453032, \"Dimensions\": {\"Algorithm\": \"Linear Learner\", \"Host\": \"algo-1\", \"Operation\": \"training\", \"epoch\": 0, \"model\": 20}, \"Metrics\": {\"validation_binary_classification_cross_entropy_objective\": {\"sum\": 0.5098109077578299, \"count\": 1, \"min\": 0.5098109077578299, \"max\": 0.5098109077578299}}}\u001b[0m\n",
            "\u001b[34m#metrics {\"StartTime\": 1650549863.7453566, \"EndTime\": 1650549863.7453732, \"Dimensions\": {\"Algorithm\": \"Linear Learner\", \"Host\": \"algo-1\", \"Operation\": \"training\", \"epoch\": 0, \"model\": 21}, \"Metrics\": {\"validation_binary_classification_cross_entropy_objective\": {\"sum\": 0.5102440159641479, \"count\": 1, \"min\": 0.5102440159641479, \"max\": 0.5102440159641479}}}\u001b[0m\n",
            "\u001b[34m#metrics {\"StartTime\": 1650549863.7454293, \"EndTime\": 1650549863.7454703, \"Dimensions\": {\"Algorithm\": \"Linear Learner\", \"Host\": \"algo-1\", \"Operation\": \"training\", \"epoch\": 0, \"model\": 22}, \"Metrics\": {\"validation_binary_classification_cross_entropy_objective\": {\"sum\": 0.5097952102152596, \"count\": 1, \"min\": 0.5097952102152596, \"max\": 0.5097952102152596}}}\u001b[0m\n",
            "\u001b[34m#metrics {\"StartTime\": 1650549863.7455282, \"EndTime\": 1650549863.7455456, \"Dimensions\": {\"Algorithm\": \"Linear Learner\", \"Host\": \"algo-1\", \"Operation\": \"training\", \"epoch\": 0, \"model\": 23}, \"Metrics\": {\"validation_binary_classification_cross_entropy_objective\": {\"sum\": 0.5102510865846767, \"count\": 1, \"min\": 0.5102510865846767, \"max\": 0.5102510865846767}}}\u001b[0m\n",
            "\u001b[34m#metrics {\"StartTime\": 1650549863.7456, \"EndTime\": 1650549863.7456176, \"Dimensions\": {\"Algorithm\": \"Linear Learner\", \"Host\": \"algo-1\", \"Operation\": \"training\", \"epoch\": 0, \"model\": 24}, \"Metrics\": {\"validation_binary_classification_cross_entropy_objective\": {\"sum\": 0.5137596081625887, \"count\": 1, \"min\": 0.5137596081625887, \"max\": 0.5137596081625887}}}\u001b[0m\n",
            "\u001b[34m#metrics {\"StartTime\": 1650549863.7456717, \"EndTime\": 1650549863.7456894, \"Dimensions\": {\"Algorithm\": \"Linear Learner\", \"Host\": \"algo-1\", \"Operation\": \"training\", \"epoch\": 0, \"model\": 25}, \"Metrics\": {\"validation_binary_classification_cross_entropy_objective\": {\"sum\": 0.5144418106264287, \"count\": 1, \"min\": 0.5144418106264287, \"max\": 0.5144418106264287}}}\u001b[0m\n",
            "\u001b[34m#metrics {\"StartTime\": 1650549863.7457564, \"EndTime\": 1650549863.745776, \"Dimensions\": {\"Algorithm\": \"Linear Learner\", \"Host\": \"algo-1\", \"Operation\": \"training\", \"epoch\": 0, \"model\": 26}, \"Metrics\": {\"validation_binary_classification_cross_entropy_objective\": {\"sum\": 0.5137749836602709, \"count\": 1, \"min\": 0.5137749836602709, \"max\": 0.5137749836602709}}}\u001b[0m\n",
            "\u001b[34m#metrics {\"StartTime\": 1650549863.7458432, \"EndTime\": 1650549863.7458615, \"Dimensions\": {\"Algorithm\": \"Linear Learner\", \"Host\": \"algo-1\", \"Operation\": \"training\", \"epoch\": 0, \"model\": 27}, \"Metrics\": {\"validation_binary_classification_cross_entropy_objective\": {\"sum\": 0.5144620520619064, \"count\": 1, \"min\": 0.5144620520619064, \"max\": 0.5144620520619064}}}\u001b[0m\n",
            "\u001b[34m#metrics {\"StartTime\": 1650549863.7459288, \"EndTime\": 1650549863.7459474, \"Dimensions\": {\"Algorithm\": \"Linear Learner\", \"Host\": \"algo-1\", \"Operation\": \"training\", \"epoch\": 0, \"model\": 28}, \"Metrics\": {\"validation_binary_classification_cross_entropy_objective\": {\"sum\": 0.5153278919469737, \"count\": 1, \"min\": 0.5153278919469737, \"max\": 0.5153278919469737}}}\u001b[0m\n",
            "\u001b[34m#metrics {\"StartTime\": 1650549863.7460136, \"EndTime\": 1650549863.746033, \"Dimensions\": {\"Algorithm\": \"Linear Learner\", \"Host\": \"algo-1\", \"Operation\": \"training\", \"epoch\": 0, \"model\": 29}, \"Metrics\": {\"validation_binary_classification_cross_entropy_objective\": {\"sum\": 0.5139021154511474, \"count\": 1, \"min\": 0.5139021154511474, \"max\": 0.5139021154511474}}}\u001b[0m\n",
            "\u001b[34m#metrics {\"StartTime\": 1650549863.7460997, \"EndTime\": 1650549863.7461176, \"Dimensions\": {\"Algorithm\": \"Linear Learner\", \"Host\": \"algo-1\", \"Operation\": \"training\", \"epoch\": 0, \"model\": 30}, \"Metrics\": {\"validation_binary_classification_cross_entropy_objective\": {\"sum\": 0.5153605007644413, \"count\": 1, \"min\": 0.5153605007644413, \"max\": 0.5153605007644413}}}\u001b[0m\n",
            "\u001b[34m#metrics {\"StartTime\": 1650549863.7461693, \"EndTime\": 1650549863.746186, \"Dimensions\": {\"Algorithm\": \"Linear Learner\", \"Host\": \"algo-1\", \"Operation\": \"training\", \"epoch\": 0, \"model\": 31}, \"Metrics\": {\"validation_binary_classification_cross_entropy_objective\": {\"sum\": 0.5138736536613054, \"count\": 1, \"min\": 0.5138736536613054, \"max\": 0.5138736536613054}}}\u001b[0m\n",
            "\u001b[34m[04/21/2022 14:04:23 INFO 140357410658112] #quality_metric: host=algo-1, epoch=0, validation binary_classification_cross_entropy_objective <loss>=0.49270368907039086\u001b[0m\n",
            "\u001b[34m[04/21/2022 14:04:23 INFO 140357410658112] #early_stopping_criteria_metric: host=algo-1, epoch=0, criteria=binary_classification_cross_entropy_objective, value=0.49270368907039086\u001b[0m\n",
            "\u001b[34m[04/21/2022 14:04:23 INFO 140357410658112] Epoch 0: Loss improved. Updating best model\u001b[0m\n",
            "\u001b[34m[04/21/2022 14:04:23 INFO 140357410658112] Saving model for epoch: 0\u001b[0m\n",
            "\u001b[34m[04/21/2022 14:04:23 INFO 140357410658112] Saved checkpoint to \"/tmp/tmpa6p100wy/mx-mod-0000.params\"\u001b[0m\n",
            "\u001b[34m[04/21/2022 14:04:23 INFO 140357410658112] #progress_metric: host=algo-1, completed 6.666666666666667 % of epochs\u001b[0m\n",
            "\u001b[34m#metrics {\"StartTime\": 1650549797.5015385, \"EndTime\": 1650549863.7606356, \"Dimensions\": {\"Algorithm\": \"Linear Learner\", \"Host\": \"algo-1\", \"Operation\": \"training\", \"epoch\": 0, \"Meta\": \"training_data_iter\"}, \"Metrics\": {\"Total Records Seen\": {\"sum\": 1320472.0, \"count\": 1, \"min\": 1320472, \"max\": 1320472}, \"Total Batches Seen\": {\"sum\": 1321.0, \"count\": 1, \"min\": 1321, \"max\": 1321}, \"Max Records Seen Between Resets\": {\"sum\": 1308472.0, \"count\": 1, \"min\": 1308472, \"max\": 1308472}, \"Max Batches Seen Between Resets\": {\"sum\": 1309.0, \"count\": 1, \"min\": 1309, \"max\": 1309}, \"Reset Count\": {\"sum\": 3.0, \"count\": 1, \"min\": 3, \"max\": 3}, \"Number of Records Since Last Reset\": {\"sum\": 1308472.0, \"count\": 1, \"min\": 1308472, \"max\": 1308472}, \"Number of Batches Since Last Reset\": {\"sum\": 1309.0, \"count\": 1, \"min\": 1309, \"max\": 1309}}}\u001b[0m\n",
            "\u001b[34m[04/21/2022 14:04:23 INFO 140357410658112] #throughput_metric: host=algo-1, train throughput=19747.752314861133 records/second\u001b[0m\n",
            "\u001b[34m[2022-04-21 14:05:24.436] [tensorio] [info] epoch_stats={\"data_pipeline\": \"/opt/ml/input/data/train\", \"epoch\": 5, \"duration\": 60673, \"num_examples\": 1309, \"num_bytes\": 549558240}\u001b[0m\n",
            "\u001b[34m#metrics {\"StartTime\": 1650549924.4367578, \"EndTime\": 1650549924.4368708, \"Dimensions\": {\"Algorithm\": \"Linear Learner\", \"Host\": \"algo-1\", \"Operation\": \"training\", \"epoch\": 1, \"model\": 0}, \"Metrics\": {\"train_binary_classification_cross_entropy_objective\": {\"sum\": 0.49217400656417243, \"count\": 1, \"min\": 0.49217400656417243, \"max\": 0.49217400656417243}}}\u001b[0m\n",
            "\u001b[34m#metrics {\"StartTime\": 1650549924.436988, \"EndTime\": 1650549924.4370272, \"Dimensions\": {\"Algorithm\": \"Linear Learner\", \"Host\": \"algo-1\", \"Operation\": \"training\", \"epoch\": 1, \"model\": 1}, \"Metrics\": {\"train_binary_classification_cross_entropy_objective\": {\"sum\": 0.4932048908665275, \"count\": 1, \"min\": 0.4932048908665275, \"max\": 0.4932048908665275}}}\u001b[0m\n",
            "\u001b[34m#metrics {\"StartTime\": 1650549924.4370954, \"EndTime\": 1650549924.4371173, \"Dimensions\": {\"Algorithm\": \"Linear Learner\", \"Host\": \"algo-1\", \"Operation\": \"training\", \"epoch\": 1, \"model\": 2}, \"Metrics\": {\"train_binary_classification_cross_entropy_objective\": {\"sum\": 0.49217778955395436, \"count\": 1, \"min\": 0.49217778955395436, \"max\": 0.49217778955395436}}}\u001b[0m\n",
            "\u001b[34m#metrics {\"StartTime\": 1650549924.4371777, \"EndTime\": 1650549924.4371958, \"Dimensions\": {\"Algorithm\": \"Linear Learner\", \"Host\": \"algo-1\", \"Operation\": \"training\", \"epoch\": 1, \"model\": 3}, \"Metrics\": {\"train_binary_classification_cross_entropy_objective\": {\"sum\": 0.4932021172199774, \"count\": 1, \"min\": 0.4932021172199774, \"max\": 0.4932021172199774}}}\u001b[0m\n",
            "\u001b[34m#metrics {\"StartTime\": 1650549924.4372554, \"EndTime\": 1650549924.4372728, \"Dimensions\": {\"Algorithm\": \"Linear Learner\", \"Host\": \"algo-1\", \"Operation\": \"training\", \"epoch\": 1, \"model\": 4}, \"Metrics\": {\"train_binary_classification_cross_entropy_objective\": {\"sum\": 0.49635643017036835, \"count\": 1, \"min\": 0.49635643017036835, \"max\": 0.49635643017036835}}}\u001b[0m\n",
            "\u001b[34m#metrics {\"StartTime\": 1650549924.437332, \"EndTime\": 1650549924.4373507, \"Dimensions\": {\"Algorithm\": \"Linear Learner\", \"Host\": \"algo-1\", \"Operation\": \"training\", \"epoch\": 1, \"model\": 5}, \"Metrics\": {\"train_binary_classification_cross_entropy_objective\": {\"sum\": 0.5145158612079213, \"count\": 1, \"min\": 0.5145158612079213, \"max\": 0.5145158612079213}}}\u001b[0m\n",
            "\u001b[34m#metrics {\"StartTime\": 1650549924.437408, \"EndTime\": 1650549924.4374254, \"Dimensions\": {\"Algorithm\": \"Linear Learner\", \"Host\": \"algo-1\", \"Operation\": \"training\", \"epoch\": 1, \"model\": 6}, \"Metrics\": {\"train_binary_classification_cross_entropy_objective\": {\"sum\": 0.49635581202609097, \"count\": 1, \"min\": 0.49635581202609097, \"max\": 0.49635581202609097}}}\u001b[0m\n",
            "\u001b[34m#metrics {\"StartTime\": 1650549924.4375093, \"EndTime\": 1650549924.4375286, \"Dimensions\": {\"Algorithm\": \"Linear Learner\", \"Host\": \"algo-1\", \"Operation\": \"training\", \"epoch\": 1, \"model\": 7}, \"Metrics\": {\"train_binary_classification_cross_entropy_objective\": {\"sum\": 0.5145160314110806, \"count\": 1, \"min\": 0.5145160314110806, \"max\": 0.5145160314110806}}}\u001b[0m\n",
            "\u001b[34m#metrics {\"StartTime\": 1650549924.4375856, \"EndTime\": 1650549924.4376032, \"Dimensions\": {\"Algorithm\": \"Linear Learner\", \"Host\": \"algo-1\", \"Operation\": \"training\", \"epoch\": 1, \"model\": 8}, \"Metrics\": {\"train_binary_classification_cross_entropy_objective\": {\"sum\": 0.4923516518595751, \"count\": 1, \"min\": 0.4923516518595751, \"max\": 0.4923516518595751}}}\u001b[0m\n",
            "\u001b[34m#metrics {\"StartTime\": 1650549924.4376607, \"EndTime\": 1650549924.4376786, \"Dimensions\": {\"Algorithm\": \"Linear Learner\", \"Host\": \"algo-1\", \"Operation\": \"training\", \"epoch\": 1, \"model\": 9}, \"Metrics\": {\"train_binary_classification_cross_entropy_objective\": {\"sum\": 0.4933351916858545, \"count\": 1, \"min\": 0.4933351916858545, \"max\": 0.4933351916858545}}}\u001b[0m\n",
            "\u001b[34m#metrics {\"StartTime\": 1650549924.4377363, \"EndTime\": 1650549924.437754, \"Dimensions\": {\"Algorithm\": \"Linear Learner\", \"Host\": \"algo-1\", \"Operation\": \"training\", \"epoch\": 1, \"model\": 10}, \"Metrics\": {\"train_binary_classification_cross_entropy_objective\": {\"sum\": 0.49235107918835563, \"count\": 1, \"min\": 0.49235107918835563, \"max\": 0.49235107918835563}}}\u001b[0m\n",
            "\u001b[34m#metrics {\"StartTime\": 1650549924.4378107, \"EndTime\": 1650549924.4378889, \"Dimensions\": {\"Algorithm\": \"Linear Learner\", \"Host\": \"algo-1\", \"Operation\": \"training\", \"epoch\": 1, \"model\": 11}, \"Metrics\": {\"train_binary_classification_cross_entropy_objective\": {\"sum\": 0.4933352754692054, \"count\": 1, \"min\": 0.4933352754692054, \"max\": 0.4933352754692054}}}\u001b[0m\n",
            "\u001b[34m#metrics {\"StartTime\": 1650549924.4379594, \"EndTime\": 1650549924.4379776, \"Dimensions\": {\"Algorithm\": \"Linear Learner\", \"Host\": \"algo-1\", \"Operation\": \"training\", \"epoch\": 1, \"model\": 12}, \"Metrics\": {\"train_binary_classification_cross_entropy_objective\": {\"sum\": 0.4963000747960642, \"count\": 1, \"min\": 0.4963000747960642, \"max\": 0.4963000747960642}}}\u001b[0m\n",
            "\u001b[34m#metrics {\"StartTime\": 1650549924.4380443, \"EndTime\": 1650549924.4380627, \"Dimensions\": {\"Algorithm\": \"Linear Learner\", \"Host\": \"algo-1\", \"Operation\": \"training\", \"epoch\": 1, \"model\": 13}, \"Metrics\": {\"train_binary_classification_cross_entropy_objective\": {\"sum\": 0.5131567274321109, \"count\": 1, \"min\": 0.5131567274321109, \"max\": 0.5131567274321109}}}\u001b[0m\n",
            "\u001b[34m#metrics {\"StartTime\": 1650549924.4381185, \"EndTime\": 1650549924.438137, \"Dimensions\": {\"Algorithm\": \"Linear Learner\", \"Host\": \"algo-1\", \"Operation\": \"training\", \"epoch\": 1, \"model\": 14}, \"Metrics\": {\"train_binary_classification_cross_entropy_objective\": {\"sum\": 0.49630006051719733, \"count\": 1, \"min\": 0.49630006051719733, \"max\": 0.49630006051719733}}}\u001b[0m\n",
            "\u001b[34m#metrics {\"StartTime\": 1650549924.438194, \"EndTime\": 1650549924.4382122, \"Dimensions\": {\"Algorithm\": \"Linear Learner\", \"Host\": \"algo-1\", \"Operation\": \"training\", \"epoch\": 1, \"model\": 15}, \"Metrics\": {\"train_binary_classification_cross_entropy_objective\": {\"sum\": 0.5131558505650325, \"count\": 1, \"min\": 0.5131558505650325, \"max\": 0.5131558505650325}}}\u001b[0m\n",
            "\u001b[34m#metrics {\"StartTime\": 1650549924.438267, \"EndTime\": 1650549924.4382856, \"Dimensions\": {\"Algorithm\": \"Linear Learner\", \"Host\": \"algo-1\", \"Operation\": \"training\", \"epoch\": 1, \"model\": 16}, \"Metrics\": {\"train_binary_classification_cross_entropy_objective\": {\"sum\": 0.5077785984704254, \"count\": 1, \"min\": 0.5077785984704254, \"max\": 0.5077785984704254}}}\u001b[0m\n",
            "\u001b[34m#metrics {\"StartTime\": 1650549924.438341, \"EndTime\": 1650549924.4383588, \"Dimensions\": {\"Algorithm\": \"Linear Learner\", \"Host\": \"algo-1\", \"Operation\": \"training\", \"epoch\": 1, \"model\": 17}, \"Metrics\": {\"train_binary_classification_cross_entropy_objective\": {\"sum\": 0.5080245914050927, \"count\": 1, \"min\": 0.5080245914050927, \"max\": 0.5080245914050927}}}\u001b[0m\n",
            "\u001b[34m#metrics {\"StartTime\": 1650549924.4384143, \"EndTime\": 1650549924.438431, \"Dimensions\": {\"Algorithm\": \"Linear Learner\", \"Host\": \"algo-1\", \"Operation\": \"training\", \"epoch\": 1, \"model\": 18}, \"Metrics\": {\"train_binary_classification_cross_entropy_objective\": {\"sum\": 0.5077785278926931, \"count\": 1, \"min\": 0.5077785278926931, \"max\": 0.5077785278926931}}}\u001b[0m\n",
            "\u001b[34m#metrics {\"StartTime\": 1650549924.4384835, \"EndTime\": 1650549924.4385006, \"Dimensions\": {\"Algorithm\": \"Linear Learner\", \"Host\": \"algo-1\", \"Operation\": \"training\", \"epoch\": 1, \"model\": 19}, \"Metrics\": {\"train_binary_classification_cross_entropy_objective\": {\"sum\": 0.5080246522535972, \"count\": 1, \"min\": 0.5080246522535972, \"max\": 0.5080246522535972}}}\u001b[0m\n",
            "\u001b[34m#metrics {\"StartTime\": 1650549924.4385557, \"EndTime\": 1650549924.4385717, \"Dimensions\": {\"Algorithm\": \"Linear Learner\", \"Host\": \"algo-1\", \"Operation\": \"training\", \"epoch\": 1, \"model\": 20}, \"Metrics\": {\"train_binary_classification_cross_entropy_objective\": {\"sum\": 0.5086267151905491, \"count\": 1, \"min\": 0.5086267151905491, \"max\": 0.5086267151905491}}}\u001b[0m\n",
            "\u001b[34m#metrics {\"StartTime\": 1650549924.438624, \"EndTime\": 1650549924.4386408, \"Dimensions\": {\"Algorithm\": \"Linear Learner\", \"Host\": \"algo-1\", \"Operation\": \"training\", \"epoch\": 1, \"model\": 21}, \"Metrics\": {\"train_binary_classification_cross_entropy_objective\": {\"sum\": 0.5115276643012278, \"count\": 1, \"min\": 0.5115276643012278, \"max\": 0.5115276643012278}}}\u001b[0m\n",
            "\u001b[34m#metrics {\"StartTime\": 1650549924.4386942, \"EndTime\": 1650549924.4387102, \"Dimensions\": {\"Algorithm\": \"Linear Learner\", \"Host\": \"algo-1\", \"Operation\": \"training\", \"epoch\": 1, \"model\": 22}, \"Metrics\": {\"train_binary_classification_cross_entropy_objective\": {\"sum\": 0.5086260688151788, \"count\": 1, \"min\": 0.5086260688151788, \"max\": 0.5086260688151788}}}\u001b[0m\n",
            "\u001b[34m#metrics {\"StartTime\": 1650549924.438764, \"EndTime\": 1650549924.4387813, \"Dimensions\": {\"Algorithm\": \"Linear Learner\", \"Host\": \"algo-1\", \"Operation\": \"training\", \"epoch\": 1, \"model\": 23}, \"Metrics\": {\"train_binary_classification_cross_entropy_objective\": {\"sum\": 0.5115277178703098, \"count\": 1, \"min\": 0.5115277178703098, \"max\": 0.5115277178703098}}}\u001b[0m\n",
            "\u001b[34m#metrics {\"StartTime\": 1650549924.4388418, \"EndTime\": 1650549924.438857, \"Dimensions\": {\"Algorithm\": \"Linear Learner\", \"Host\": \"algo-1\", \"Operation\": \"training\", \"epoch\": 1, \"model\": 24}, \"Metrics\": {\"train_binary_classification_cross_entropy_objective\": {\"sum\": 0.5137805305037659, \"count\": 1, \"min\": 0.5137805305037659, \"max\": 0.5137805305037659}}}\u001b[0m\n",
            "\u001b[34m#metrics {\"StartTime\": 1650549924.4389145, \"EndTime\": 1650549924.438931, \"Dimensions\": {\"Algorithm\": \"Linear Learner\", \"Host\": \"algo-1\", \"Operation\": \"training\", \"epoch\": 1, \"model\": 25}, \"Metrics\": {\"train_binary_classification_cross_entropy_objective\": {\"sum\": 0.5138796254195934, \"count\": 1, \"min\": 0.5138796254195934, \"max\": 0.5138796254195934}}}\u001b[0m\n",
            "\u001b[34m#metrics {\"StartTime\": 1650549924.4389863, \"EndTime\": 1650549924.439003, \"Dimensions\": {\"Algorithm\": \"Linear Learner\", \"Host\": \"algo-1\", \"Operation\": \"training\", \"epoch\": 1, \"model\": 26}, \"Metrics\": {\"train_binary_classification_cross_entropy_objective\": {\"sum\": 0.5137803737628716, \"count\": 1, \"min\": 0.5137803737628716, \"max\": 0.5137803737628716}}}\u001b[0m\n",
            "\u001b[34m#metrics {\"StartTime\": 1650549924.4390593, \"EndTime\": 1650549924.4390752, \"Dimensions\": {\"Algorithm\": \"Linear Learner\", \"Host\": \"algo-1\", \"Operation\": \"training\", \"epoch\": 1, \"model\": 27}, \"Metrics\": {\"train_binary_classification_cross_entropy_objective\": {\"sum\": 0.5138772939746168, \"count\": 1, \"min\": 0.5138772939746168, \"max\": 0.5138772939746168}}}\u001b[0m\n",
            "\u001b[34m#metrics {\"StartTime\": 1650549924.4391344, \"EndTime\": 1650549924.4391515, \"Dimensions\": {\"Algorithm\": \"Linear Learner\", \"Host\": \"algo-1\", \"Operation\": \"training\", \"epoch\": 1, \"model\": 28}, \"Metrics\": {\"train_binary_classification_cross_entropy_objective\": {\"sum\": 0.5141604256819512, \"count\": 1, \"min\": 0.5141604256819512, \"max\": 0.5141604256819512}}}\u001b[0m\n",
            "\u001b[34m#metrics {\"StartTime\": 1650549924.4392056, \"EndTime\": 1650549924.4392226, \"Dimensions\": {\"Algorithm\": \"Linear Learner\", \"Host\": \"algo-1\", \"Operation\": \"training\", \"epoch\": 1, \"model\": 29}, \"Metrics\": {\"train_binary_classification_cross_entropy_objective\": {\"sum\": 0.5152410501135963, \"count\": 1, \"min\": 0.5152410501135963, \"max\": 0.5152410501135963}}}\u001b[0m\n",
            "\u001b[34m#metrics {\"StartTime\": 1650549924.4392784, \"EndTime\": 1650549924.4392953, \"Dimensions\": {\"Algorithm\": \"Linear Learner\", \"Host\": \"algo-1\", \"Operation\": \"training\", \"epoch\": 1, \"model\": 30}, \"Metrics\": {\"train_binary_classification_cross_entropy_objective\": {\"sum\": 0.5141603923412638, \"count\": 1, \"min\": 0.5141603923412638, \"max\": 0.5141603923412638}}}\u001b[0m\n",
            "\u001b[34m#metrics {\"StartTime\": 1650549924.4393487, \"EndTime\": 1650549924.4393647, \"Dimensions\": {\"Algorithm\": \"Linear Learner\", \"Host\": \"algo-1\", \"Operation\": \"training\", \"epoch\": 1, \"model\": 31}, \"Metrics\": {\"train_binary_classification_cross_entropy_objective\": {\"sum\": 0.5152485181009369, \"count\": 1, \"min\": 0.5152485181009369, \"max\": 0.5152485181009369}}}\u001b[0m\n",
            "\u001b[34m[04/21/2022 14:05:24 INFO 140357410658112] #quality_metric: host=algo-1, epoch=1, train binary_classification_cross_entropy_objective <loss>=0.49217400656417243\u001b[0m\n",
            "\u001b[34m[2022-04-21 14:05:29.653] [tensorio] [info] epoch_stats={\"data_pipeline\": \"/opt/ml/input/data/validation\", \"epoch\": 5, \"duration\": 5184, \"num_examples\": 164, \"num_bytes\": 68694780}\u001b[0m\n",
            "\u001b[34m#metrics {\"StartTime\": 1650549929.662747, \"EndTime\": 1650549929.6628351, \"Dimensions\": {\"Algorithm\": \"Linear Learner\", \"Host\": \"algo-1\", \"Operation\": \"training\", \"epoch\": 1, \"model\": 0}, \"Metrics\": {\"validation_binary_classification_cross_entropy_objective\": {\"sum\": 0.49240267300451407, \"count\": 1, \"min\": 0.49240267300451407, \"max\": 0.49240267300451407}}}\u001b[0m\n",
            "\u001b[34m#metrics {\"StartTime\": 1650549929.662933, \"EndTime\": 1650549929.6629472, \"Dimensions\": {\"Algorithm\": \"Linear Learner\", \"Host\": \"algo-1\", \"Operation\": \"training\", \"epoch\": 1, \"model\": 1}, \"Metrics\": {\"validation_binary_classification_cross_entropy_objective\": {\"sum\": 0.49415375495293845, \"count\": 1, \"min\": 0.49415375495293845, \"max\": 0.49415375495293845}}}\u001b[0m\n",
            "\u001b[34m#metrics {\"StartTime\": 1650549929.6629958, \"EndTime\": 1650549929.663009, \"Dimensions\": {\"Algorithm\": \"Linear Learner\", \"Host\": \"algo-1\", \"Operation\": \"training\", \"epoch\": 1, \"model\": 2}, \"Metrics\": {\"validation_binary_classification_cross_entropy_objective\": {\"sum\": 0.4924081013080644, \"count\": 1, \"min\": 0.4924081013080644, \"max\": 0.4924081013080644}}}\u001b[0m\n",
            "\u001b[34m#metrics {\"StartTime\": 1650549929.6630619, \"EndTime\": 1650549929.6630762, \"Dimensions\": {\"Algorithm\": \"Linear Learner\", \"Host\": \"algo-1\", \"Operation\": \"training\", \"epoch\": 1, \"model\": 3}, \"Metrics\": {\"validation_binary_classification_cross_entropy_objective\": {\"sum\": 0.49415195926348154, \"count\": 1, \"min\": 0.49415195926348154, \"max\": 0.49415195926348154}}}\u001b[0m\n",
            "\u001b[34m#metrics {\"StartTime\": 1650549929.6631064, \"EndTime\": 1650549929.663115, \"Dimensions\": {\"Algorithm\": \"Linear Learner\", \"Host\": \"algo-1\", \"Operation\": \"training\", \"epoch\": 1, \"model\": 4}, \"Metrics\": {\"validation_binary_classification_cross_entropy_objective\": {\"sum\": 0.49410222459891434, \"count\": 1, \"min\": 0.49410222459891434, \"max\": 0.49410222459891434}}}\u001b[0m\n",
            "\u001b[34m#metrics {\"StartTime\": 1650549929.6631455, \"EndTime\": 1650549929.6631577, \"Dimensions\": {\"Algorithm\": \"Linear Learner\", \"Host\": \"algo-1\", \"Operation\": \"training\", \"epoch\": 1, \"model\": 5}, \"Metrics\": {\"validation_binary_classification_cross_entropy_objective\": {\"sum\": 0.5114874262391075, \"count\": 1, \"min\": 0.5114874262391075, \"max\": 0.5114874262391075}}}\u001b[0m\n",
            "\u001b[34m#metrics {\"StartTime\": 1650549929.6632032, \"EndTime\": 1650549929.6632173, \"Dimensions\": {\"Algorithm\": \"Linear Learner\", \"Host\": \"algo-1\", \"Operation\": \"training\", \"epoch\": 1, \"model\": 6}, \"Metrics\": {\"validation_binary_classification_cross_entropy_objective\": {\"sum\": 0.4941029746686999, \"count\": 1, \"min\": 0.4941029746686999, \"max\": 0.4941029746686999}}}\u001b[0m\n",
            "\u001b[34m#metrics {\"StartTime\": 1650549929.6632645, \"EndTime\": 1650549929.6632786, \"Dimensions\": {\"Algorithm\": \"Linear Learner\", \"Host\": \"algo-1\", \"Operation\": \"training\", \"epoch\": 1, \"model\": 7}, \"Metrics\": {\"validation_binary_classification_cross_entropy_objective\": {\"sum\": 0.5114868554770493, \"count\": 1, \"min\": 0.5114868554770493, \"max\": 0.5114868554770493}}}\u001b[0m\n",
            "\u001b[34m#metrics {\"StartTime\": 1650549929.6633277, \"EndTime\": 1650549929.6633444, \"Dimensions\": {\"Algorithm\": \"Linear Learner\", \"Host\": \"algo-1\", \"Operation\": \"training\", \"epoch\": 1, \"model\": 8}, \"Metrics\": {\"validation_binary_classification_cross_entropy_objective\": {\"sum\": 0.4925882576218315, \"count\": 1, \"min\": 0.4925882576218315, \"max\": 0.4925882576218315}}}\u001b[0m\n",
            "\u001b[34m#metrics {\"StartTime\": 1650549929.663397, \"EndTime\": 1650549929.6634135, \"Dimensions\": {\"Algorithm\": \"Linear Learner\", \"Host\": \"algo-1\", \"Operation\": \"training\", \"epoch\": 1, \"model\": 9}, \"Metrics\": {\"validation_binary_classification_cross_entropy_objective\": {\"sum\": 0.49421358178781244, \"count\": 1, \"min\": 0.49421358178781244, \"max\": 0.49421358178781244}}}\u001b[0m\n",
            "\u001b[34m#metrics {\"StartTime\": 1650549929.6634638, \"EndTime\": 1650549929.6634793, \"Dimensions\": {\"Algorithm\": \"Linear Learner\", \"Host\": \"algo-1\", \"Operation\": \"training\", \"epoch\": 1, \"model\": 10}, \"Metrics\": {\"validation_binary_classification_cross_entropy_objective\": {\"sum\": 0.49258804304962917, \"count\": 1, \"min\": 0.49258804304962917, \"max\": 0.49258804304962917}}}\u001b[0m\n",
            "\u001b[34m#metrics {\"StartTime\": 1650549929.663584, \"EndTime\": 1650549929.663596, \"Dimensions\": {\"Algorithm\": \"Linear Learner\", \"Host\": \"algo-1\", \"Operation\": \"training\", \"epoch\": 1, \"model\": 11}, \"Metrics\": {\"validation_binary_classification_cross_entropy_objective\": {\"sum\": 0.494213637203416, \"count\": 1, \"min\": 0.494213637203416, \"max\": 0.494213637203416}}}\u001b[0m\n",
            "\u001b[34m#metrics {\"StartTime\": 1650549929.6636245, \"EndTime\": 1650549929.6636372, \"Dimensions\": {\"Algorithm\": \"Linear Learner\", \"Host\": \"algo-1\", \"Operation\": \"training\", \"epoch\": 1, \"model\": 12}, \"Metrics\": {\"validation_binary_classification_cross_entropy_objective\": {\"sum\": 0.4941491409042499, \"count\": 1, \"min\": 0.4941491409042499, \"max\": 0.4941491409042499}}}\u001b[0m\n",
            "\u001b[34m#metrics {\"StartTime\": 1650549929.6636808, \"EndTime\": 1650549929.6636906, \"Dimensions\": {\"Algorithm\": \"Linear Learner\", \"Host\": \"algo-1\", \"Operation\": \"training\", \"epoch\": 1, \"model\": 13}, \"Metrics\": {\"validation_binary_classification_cross_entropy_objective\": {\"sum\": 0.5100169728254, \"count\": 1, \"min\": 0.5100169728254, \"max\": 0.5100169728254}}}\u001b[0m\n",
            "\u001b[34m#metrics {\"StartTime\": 1650549929.6637316, \"EndTime\": 1650549929.6637485, \"Dimensions\": {\"Algorithm\": \"Linear Learner\", \"Host\": \"algo-1\", \"Operation\": \"training\", \"epoch\": 1, \"model\": 14}, \"Metrics\": {\"validation_binary_classification_cross_entropy_objective\": {\"sum\": 0.49414895487947963, \"count\": 1, \"min\": 0.49414895487947963, \"max\": 0.49414895487947963}}}\u001b[0m\n",
            "\u001b[34m#metrics {\"StartTime\": 1650549929.6638012, \"EndTime\": 1650549929.6638157, \"Dimensions\": {\"Algorithm\": \"Linear Learner\", \"Host\": \"algo-1\", \"Operation\": \"training\", \"epoch\": 1, \"model\": 15}, \"Metrics\": {\"validation_binary_classification_cross_entropy_objective\": {\"sum\": 0.5100171929951381, \"count\": 1, \"min\": 0.5100171929951381, \"max\": 0.5100171929951381}}}\u001b[0m\n",
            "\u001b[34m#metrics {\"StartTime\": 1650549929.6638687, \"EndTime\": 1650549929.6638846, \"Dimensions\": {\"Algorithm\": \"Linear Learner\", \"Host\": \"algo-1\", \"Operation\": \"training\", \"epoch\": 1, \"model\": 16}, \"Metrics\": {\"validation_binary_classification_cross_entropy_objective\": {\"sum\": 0.5077351295552776, \"count\": 1, \"min\": 0.5077351295552776, \"max\": 0.5077351295552776}}}\u001b[0m\n",
            "\u001b[34m#metrics {\"StartTime\": 1650549929.6639347, \"EndTime\": 1650549929.6639504, \"Dimensions\": {\"Algorithm\": \"Linear Learner\", \"Host\": \"algo-1\", \"Operation\": \"training\", \"epoch\": 1, \"model\": 17}, \"Metrics\": {\"validation_binary_classification_cross_entropy_objective\": {\"sum\": 0.50867629753087, \"count\": 1, \"min\": 0.50867629753087, \"max\": 0.50867629753087}}}\u001b[0m\n",
            "\u001b[34m#metrics {\"StartTime\": 1650549929.6640012, \"EndTime\": 1650549929.6640153, \"Dimensions\": {\"Algorithm\": \"Linear Learner\", \"Host\": \"algo-1\", \"Operation\": \"training\", \"epoch\": 1, \"model\": 18}, \"Metrics\": {\"validation_binary_classification_cross_entropy_objective\": {\"sum\": 0.5077351879562335, \"count\": 1, \"min\": 0.5077351879562335, \"max\": 0.5077351879562335}}}\u001b[0m\n",
            "\u001b[34m#metrics {\"StartTime\": 1650549929.6640627, \"EndTime\": 1650549929.6640773, \"Dimensions\": {\"Algorithm\": \"Linear Learner\", \"Host\": \"algo-1\", \"Operation\": \"training\", \"epoch\": 1, \"model\": 19}, \"Metrics\": {\"validation_binary_classification_cross_entropy_objective\": {\"sum\": 0.5086750175610368, \"count\": 1, \"min\": 0.5086750175610368, \"max\": 0.5086750175610368}}}\u001b[0m\n",
            "\u001b[34m#metrics {\"StartTime\": 1650549929.6641068, \"EndTime\": 1650549929.664115, \"Dimensions\": {\"Algorithm\": \"Linear Learner\", \"Host\": \"algo-1\", \"Operation\": \"training\", \"epoch\": 1, \"model\": 20}, \"Metrics\": {\"validation_binary_classification_cross_entropy_objective\": {\"sum\": 0.5083504657233303, \"count\": 1, \"min\": 0.5083504657233303, \"max\": 0.5083504657233303}}}\u001b[0m\n",
            "\u001b[34m#metrics {\"StartTime\": 1650549929.6641397, \"EndTime\": 1650549929.664147, \"Dimensions\": {\"Algorithm\": \"Linear Learner\", \"Host\": \"algo-1\", \"Operation\": \"training\", \"epoch\": 1, \"model\": 21}, \"Metrics\": {\"validation_binary_classification_cross_entropy_objective\": {\"sum\": 0.5106951094258824, \"count\": 1, \"min\": 0.5106951094258824, \"max\": 0.5106951094258824}}}\u001b[0m\n",
            "\u001b[34m#metrics {\"StartTime\": 1650549929.6641712, \"EndTime\": 1650549929.6641784, \"Dimensions\": {\"Algorithm\": \"Linear Learner\", \"Host\": \"algo-1\", \"Operation\": \"training\", \"epoch\": 1, \"model\": 22}, \"Metrics\": {\"validation_binary_classification_cross_entropy_objective\": {\"sum\": 0.508350843183822, \"count\": 1, \"min\": 0.508350843183822, \"max\": 0.508350843183822}}}\u001b[0m\n",
            "\u001b[34m#metrics {\"StartTime\": 1650549929.6642025, \"EndTime\": 1650549929.6642096, \"Dimensions\": {\"Algorithm\": \"Linear Learner\", \"Host\": \"algo-1\", \"Operation\": \"training\", \"epoch\": 1, \"model\": 23}, \"Metrics\": {\"validation_binary_classification_cross_entropy_objective\": {\"sum\": 0.5106976660070272, \"count\": 1, \"min\": 0.5106976660070272, \"max\": 0.5106976660070272}}}\u001b[0m\n",
            "\u001b[34m#metrics {\"StartTime\": 1650549929.6642551, \"EndTime\": 1650549929.6642647, \"Dimensions\": {\"Algorithm\": \"Linear Learner\", \"Host\": \"algo-1\", \"Operation\": \"training\", \"epoch\": 1, \"model\": 24}, \"Metrics\": {\"validation_binary_classification_cross_entropy_objective\": {\"sum\": 0.5137615303563526, \"count\": 1, \"min\": 0.5137615303563526, \"max\": 0.5137615303563526}}}\u001b[0m\n",
            "\u001b[34m#metrics {\"StartTime\": 1650549929.6642926, \"EndTime\": 1650549929.6643, \"Dimensions\": {\"Algorithm\": \"Linear Learner\", \"Host\": \"algo-1\", \"Operation\": \"training\", \"epoch\": 1, \"model\": 25}, \"Metrics\": {\"validation_binary_classification_cross_entropy_objective\": {\"sum\": 0.5145895661644723, \"count\": 1, \"min\": 0.5145895661644723, \"max\": 0.5145895661644723}}}\u001b[0m\n",
            "\u001b[34m#metrics {\"StartTime\": 1650549929.6643252, \"EndTime\": 1650549929.6643324, \"Dimensions\": {\"Algorithm\": \"Linear Learner\", \"Host\": \"algo-1\", \"Operation\": \"training\", \"epoch\": 1, \"model\": 26}, \"Metrics\": {\"validation_binary_classification_cross_entropy_objective\": {\"sum\": 0.513766887757784, \"count\": 1, \"min\": 0.513766887757784, \"max\": 0.513766887757784}}}\u001b[0m\n",
            "\u001b[34m#metrics {\"StartTime\": 1650549929.6643586, \"EndTime\": 1650549929.6643658, \"Dimensions\": {\"Algorithm\": \"Linear Learner\", \"Host\": \"algo-1\", \"Operation\": \"training\", \"epoch\": 1, \"model\": 27}, \"Metrics\": {\"validation_binary_classification_cross_entropy_objective\": {\"sum\": 0.5145997340880957, \"count\": 1, \"min\": 0.5145997340880957, \"max\": 0.5145997340880957}}}\u001b[0m\n",
            "\u001b[34m#metrics {\"StartTime\": 1650549929.6644034, \"EndTime\": 1650549929.6644177, \"Dimensions\": {\"Algorithm\": \"Linear Learner\", \"Host\": \"algo-1\", \"Operation\": \"training\", \"epoch\": 1, \"model\": 28}, \"Metrics\": {\"validation_binary_classification_cross_entropy_objective\": {\"sum\": 0.5140006787258344, \"count\": 1, \"min\": 0.5140006787258344, \"max\": 0.5140006787258344}}}\u001b[0m\n",
            "\u001b[34m#metrics {\"StartTime\": 1650549929.6644518, \"EndTime\": 1650549929.6644602, \"Dimensions\": {\"Algorithm\": \"Linear Learner\", \"Host\": \"algo-1\", \"Operation\": \"training\", \"epoch\": 1, \"model\": 29}, \"Metrics\": {\"validation_binary_classification_cross_entropy_objective\": {\"sum\": 0.5140842818399892, \"count\": 1, \"min\": 0.5140842818399892, \"max\": 0.5140842818399892}}}\u001b[0m\n",
            "\u001b[34m#metrics {\"StartTime\": 1650549929.6644855, \"EndTime\": 1650549929.6644928, \"Dimensions\": {\"Algorithm\": \"Linear Learner\", \"Host\": \"algo-1\", \"Operation\": \"training\", \"epoch\": 1, \"model\": 30}, \"Metrics\": {\"validation_binary_classification_cross_entropy_objective\": {\"sum\": 0.5139587585942922, \"count\": 1, \"min\": 0.5139587585942922, \"max\": 0.5139587585942922}}}\u001b[0m\n",
            "\u001b[34m#metrics {\"StartTime\": 1650549929.6645308, \"EndTime\": 1650549929.6645436, \"Dimensions\": {\"Algorithm\": \"Linear Learner\", \"Host\": \"algo-1\", \"Operation\": \"training\", \"epoch\": 1, \"model\": 31}, \"Metrics\": {\"validation_binary_classification_cross_entropy_objective\": {\"sum\": 0.5140782475099056, \"count\": 1, \"min\": 0.5140782475099056, \"max\": 0.5140782475099056}}}\u001b[0m\n",
            "\u001b[34m[04/21/2022 14:05:29 INFO 140357410658112] #quality_metric: host=algo-1, epoch=1, validation binary_classification_cross_entropy_objective <loss>=0.49240267300451407\u001b[0m\n",
            "\u001b[34m[04/21/2022 14:05:29 INFO 140357410658112] #early_stopping_criteria_metric: host=algo-1, epoch=1, criteria=binary_classification_cross_entropy_objective, value=0.49240267300451407\u001b[0m\n",
            "\u001b[34m[04/21/2022 14:05:29 INFO 140357410658112] Saving model for epoch: 1\u001b[0m\n",
            "\u001b[34m[04/21/2022 14:05:29 INFO 140357410658112] Saved checkpoint to \"/tmp/tmpcp7ys7p0/mx-mod-0000.params\"\u001b[0m\n",
            "\u001b[34m[04/21/2022 14:05:29 INFO 140357410658112] #progress_metric: host=algo-1, completed 13.333333333333334 % of epochs\u001b[0m\n",
            "\u001b[34m#metrics {\"StartTime\": 1650549863.7633557, \"EndTime\": 1650549929.6728075, \"Dimensions\": {\"Algorithm\": \"Linear Learner\", \"Host\": \"algo-1\", \"Operation\": \"training\", \"epoch\": 1, \"Meta\": \"training_data_iter\"}, \"Metrics\": {\"Total Records Seen\": {\"sum\": 2628944.0, \"count\": 1, \"min\": 2628944, \"max\": 2628944}, \"Total Batches Seen\": {\"sum\": 2630.0, \"count\": 1, \"min\": 2630, \"max\": 2630}, \"Max Records Seen Between Resets\": {\"sum\": 1308472.0, \"count\": 1, \"min\": 1308472, \"max\": 1308472}, \"Max Batches Seen Between Resets\": {\"sum\": 1309.0, \"count\": 1, \"min\": 1309, \"max\": 1309}, \"Reset Count\": {\"sum\": 4.0, \"count\": 1, \"min\": 4, \"max\": 4}, \"Number of Records Since Last Reset\": {\"sum\": 1308472.0, \"count\": 1, \"min\": 1308472, \"max\": 1308472}, \"Number of Batches Since Last Reset\": {\"sum\": 1309.0, \"count\": 1, \"min\": 1309, \"max\": 1309}}}\u001b[0m\n",
            "\u001b[34m[04/21/2022 14:05:29 INFO 140357410658112] #throughput_metric: host=algo-1, train throughput=19852.519238838926 records/second\u001b[0m\n",
            "\u001b[34m[2022-04-21 14:06:30.743] [tensorio] [info] epoch_stats={\"data_pipeline\": \"/opt/ml/input/data/train\", \"epoch\": 7, \"duration\": 61067, \"num_examples\": 1309, \"num_bytes\": 549558240}\u001b[0m\n",
            "\u001b[34m#metrics {\"StartTime\": 1650549990.7435446, \"EndTime\": 1650549990.7439415, \"Dimensions\": {\"Algorithm\": \"Linear Learner\", \"Host\": \"algo-1\", \"Operation\": \"training\", \"epoch\": 2, \"model\": 0}, \"Metrics\": {\"train_binary_classification_cross_entropy_objective\": {\"sum\": 0.49199721499101834, \"count\": 1, \"min\": 0.49199721499101834, \"max\": 0.49199721499101834}}}\u001b[0m\n",
            "\u001b[34m#metrics {\"StartTime\": 1650549990.7440686, \"EndTime\": 1650549990.7440867, \"Dimensions\": {\"Algorithm\": \"Linear Learner\", \"Host\": \"algo-1\", \"Operation\": \"training\", \"epoch\": 2, \"model\": 1}, \"Metrics\": {\"train_binary_classification_cross_entropy_objective\": {\"sum\": 0.4930595152502031, \"count\": 1, \"min\": 0.4930595152502031, \"max\": 0.4930595152502031}}}\u001b[0m\n",
            "\u001b[34m#metrics {\"StartTime\": 1650549990.7442865, \"EndTime\": 1650549990.7443051, \"Dimensions\": {\"Algorithm\": \"Linear Learner\", \"Host\": \"algo-1\", \"Operation\": \"training\", \"epoch\": 2, \"model\": 2}, \"Metrics\": {\"train_binary_classification_cross_entropy_objective\": {\"sum\": 0.49200084816935596, \"count\": 1, \"min\": 0.49200084816935596, \"max\": 0.49200084816935596}}}\u001b[0m\n",
            "\u001b[34m#metrics {\"StartTime\": 1650549990.7444947, \"EndTime\": 1650549990.744513, \"Dimensions\": {\"Algorithm\": \"Linear Learner\", \"Host\": \"algo-1\", \"Operation\": \"training\", \"epoch\": 2, \"model\": 3}, \"Metrics\": {\"train_binary_classification_cross_entropy_objective\": {\"sum\": 0.49305858535066655, \"count\": 1, \"min\": 0.49305858535066655, \"max\": 0.49305858535066655}}}\u001b[0m\n",
            "\u001b[34m#metrics {\"StartTime\": 1650549990.7446895, \"EndTime\": 1650549990.7448268, \"Dimensions\": {\"Algorithm\": \"Linear Learner\", \"Host\": \"algo-1\", \"Operation\": \"training\", \"epoch\": 2, \"model\": 4}, \"Metrics\": {\"train_binary_classification_cross_entropy_objective\": {\"sum\": 0.49315515360700973, \"count\": 1, \"min\": 0.49315515360700973, \"max\": 0.49315515360700973}}}\u001b[0m\n",
            "\u001b[34m#metrics {\"StartTime\": 1650549990.7448957, \"EndTime\": 1650549990.7449114, \"Dimensions\": {\"Algorithm\": \"Linear Learner\", \"Host\": \"algo-1\", \"Operation\": \"training\", \"epoch\": 2, \"model\": 5}, \"Metrics\": {\"train_binary_classification_cross_entropy_objective\": {\"sum\": 0.5117850643006304, \"count\": 1, \"min\": 0.5117850643006304, \"max\": 0.5117850643006304}}}\u001b[0m\n",
            "\u001b[34m#metrics {\"StartTime\": 1650549990.744956, \"EndTime\": 1650549990.7449963, \"Dimensions\": {\"Algorithm\": \"Linear Learner\", \"Host\": \"algo-1\", \"Operation\": \"training\", \"epoch\": 2, \"model\": 6}, \"Metrics\": {\"train_binary_classification_cross_entropy_objective\": {\"sum\": 0.49315510897388515, \"count\": 1, \"min\": 0.49315510897388515, \"max\": 0.49315510897388515}}}\u001b[0m\n",
            "\u001b[34m#metrics {\"StartTime\": 1650549990.7450647, \"EndTime\": 1650549990.7450833, \"Dimensions\": {\"Algorithm\": \"Linear Learner\", \"Host\": \"algo-1\", \"Operation\": \"training\", \"epoch\": 2, \"model\": 7}, \"Metrics\": {\"train_binary_classification_cross_entropy_objective\": {\"sum\": 0.5117850851823066, \"count\": 1, \"min\": 0.5117850851823066, \"max\": 0.5117850851823066}}}\u001b[0m\n",
            "\u001b[34m#metrics {\"StartTime\": 1650549990.7451458, \"EndTime\": 1650549990.7451625, \"Dimensions\": {\"Algorithm\": \"Linear Learner\", \"Host\": \"algo-1\", \"Operation\": \"training\", \"epoch\": 2, \"model\": 8}, \"Metrics\": {\"train_binary_classification_cross_entropy_objective\": {\"sum\": 0.4921845015312918, \"count\": 1, \"min\": 0.4921845015312918, \"max\": 0.4921845015312918}}}\u001b[0m\n",
            "\u001b[34m#metrics {\"StartTime\": 1650549990.745226, \"EndTime\": 1650549990.7452438, \"Dimensions\": {\"Algorithm\": \"Linear Learner\", \"Host\": \"algo-1\", \"Operation\": \"training\", \"epoch\": 2, \"model\": 9}, \"Metrics\": {\"train_binary_classification_cross_entropy_objective\": {\"sum\": 0.4932034902076838, \"count\": 1, \"min\": 0.4932034902076838, \"max\": 0.4932034902076838}}}\u001b[0m\n",
            "\u001b[34m#metrics {\"StartTime\": 1650549990.745308, \"EndTime\": 1650549990.7453268, \"Dimensions\": {\"Algorithm\": \"Linear Learner\", \"Host\": \"algo-1\", \"Operation\": \"training\", \"epoch\": 2, \"model\": 10}, \"Metrics\": {\"train_binary_classification_cross_entropy_objective\": {\"sum\": 0.49218425085785195, \"count\": 1, \"min\": 0.49218425085785195, \"max\": 0.49218425085785195}}}\u001b[0m\n",
            "\u001b[34m#metrics {\"StartTime\": 1650549990.7453835, \"EndTime\": 1650549990.7454007, \"Dimensions\": {\"Algorithm\": \"Linear Learner\", \"Host\": \"algo-1\", \"Operation\": \"training\", \"epoch\": 2, \"model\": 11}, \"Metrics\": {\"train_binary_classification_cross_entropy_objective\": {\"sum\": 0.49320350352995984, \"count\": 1, \"min\": 0.49320350352995984, \"max\": 0.49320350352995984}}}\u001b[0m\n",
            "\u001b[34m#metrics {\"StartTime\": 1650549990.7456524, \"EndTime\": 1650549990.745668, \"Dimensions\": {\"Algorithm\": \"Linear Learner\", \"Host\": \"algo-1\", \"Operation\": \"training\", \"epoch\": 2, \"model\": 12}, \"Metrics\": {\"train_binary_classification_cross_entropy_objective\": {\"sum\": 0.4932976724000517, \"count\": 1, \"min\": 0.4932976724000517, \"max\": 0.4932976724000517}}}\u001b[0m\n",
            "\u001b[34m#metrics {\"StartTime\": 1650549990.7457318, \"EndTime\": 1650549990.7457476, \"Dimensions\": {\"Algorithm\": \"Linear Learner\", \"Host\": \"algo-1\", \"Operation\": \"training\", \"epoch\": 2, \"model\": 13}, \"Metrics\": {\"train_binary_classification_cross_entropy_objective\": {\"sum\": 0.5106391238058015, \"count\": 1, \"min\": 0.5106391238058015, \"max\": 0.5106391238058015}}}\u001b[0m\n",
            "\u001b[34m#metrics {\"StartTime\": 1650549990.7458005, \"EndTime\": 1650549990.7458177, \"Dimensions\": {\"Algorithm\": \"Linear Learner\", \"Host\": \"algo-1\", \"Operation\": \"training\", \"epoch\": 2, \"model\": 14}, \"Metrics\": {\"train_binary_classification_cross_entropy_objective\": {\"sum\": 0.4932976678737442, \"count\": 1, \"min\": 0.4932976678737442, \"max\": 0.4932976678737442}}}\u001b[0m\n",
            "\u001b[34m#metrics {\"StartTime\": 1650549990.7458787, \"EndTime\": 1650549990.745897, \"Dimensions\": {\"Algorithm\": \"Linear Learner\", \"Host\": \"algo-1\", \"Operation\": \"training\", \"epoch\": 2, \"model\": 15}, \"Metrics\": {\"train_binary_classification_cross_entropy_objective\": {\"sum\": 0.5106390068684149, \"count\": 1, \"min\": 0.5106390068684149, \"max\": 0.5106390068684149}}}\u001b[0m\n",
            "\u001b[34m#metrics {\"StartTime\": 1650549990.7459643, \"EndTime\": 1650549990.7459817, \"Dimensions\": {\"Algorithm\": \"Linear Learner\", \"Host\": \"algo-1\", \"Operation\": \"training\", \"epoch\": 2, \"model\": 16}, \"Metrics\": {\"train_binary_classification_cross_entropy_objective\": {\"sum\": 0.5077420006148312, \"count\": 1, \"min\": 0.5077420006148312, \"max\": 0.5077420006148312}}}\u001b[0m\n",
            "\u001b[34m#metrics {\"StartTime\": 1650549990.7460408, \"EndTime\": 1650549990.7460582, \"Dimensions\": {\"Algorithm\": \"Linear Learner\", \"Host\": \"algo-1\", \"Operation\": \"training\", \"epoch\": 2, \"model\": 17}, \"Metrics\": {\"train_binary_classification_cross_entropy_objective\": {\"sum\": 0.5080060718781357, \"count\": 1, \"min\": 0.5080060718781357, \"max\": 0.5080060718781357}}}\u001b[0m\n",
            "\u001b[34m#metrics {\"StartTime\": 1650549990.746115, \"EndTime\": 1650549990.7461321, \"Dimensions\": {\"Algorithm\": \"Linear Learner\", \"Host\": \"algo-1\", \"Operation\": \"training\", \"epoch\": 2, \"model\": 18}, \"Metrics\": {\"train_binary_classification_cross_entropy_objective\": {\"sum\": 0.507742032765613, \"count\": 1, \"min\": 0.507742032765613, \"max\": 0.507742032765613}}}\u001b[0m\n",
            "\u001b[34m#metrics {\"StartTime\": 1650549990.7461877, \"EndTime\": 1650549990.746204, \"Dimensions\": {\"Algorithm\": \"Linear Learner\", \"Host\": \"algo-1\", \"Operation\": \"training\", \"epoch\": 2, \"model\": 19}, \"Metrics\": {\"train_binary_classification_cross_entropy_objective\": {\"sum\": 0.5080060909399563, \"count\": 1, \"min\": 0.5080060909399563, \"max\": 0.5080060909399563}}}\u001b[0m\n",
            "\u001b[34m#metrics {\"StartTime\": 1650549990.746256, \"EndTime\": 1650549990.7462714, \"Dimensions\": {\"Algorithm\": \"Linear Learner\", \"Host\": \"algo-1\", \"Operation\": \"training\", \"epoch\": 2, \"model\": 20}, \"Metrics\": {\"train_binary_classification_cross_entropy_objective\": {\"sum\": 0.5079971391637026, \"count\": 1, \"min\": 0.5079971391637026, \"max\": 0.5079971391637026}}}\u001b[0m\n",
            "\u001b[34m#metrics {\"StartTime\": 1650549990.7463279, \"EndTime\": 1650549990.7463455, \"Dimensions\": {\"Algorithm\": \"Linear Learner\", \"Host\": \"algo-1\", \"Operation\": \"training\", \"epoch\": 2, \"model\": 21}, \"Metrics\": {\"train_binary_classification_cross_entropy_objective\": {\"sum\": 0.511080715331098, \"count\": 1, \"min\": 0.511080715331098, \"max\": 0.511080715331098}}}\u001b[0m\n",
            "\u001b[34m#metrics {\"StartTime\": 1650549990.7464018, \"EndTime\": 1650549990.7464187, \"Dimensions\": {\"Algorithm\": \"Linear Learner\", \"Host\": \"algo-1\", \"Operation\": \"training\", \"epoch\": 2, \"model\": 22}, \"Metrics\": {\"train_binary_classification_cross_entropy_objective\": {\"sum\": 0.5079970834014612, \"count\": 1, \"min\": 0.5079970834014612, \"max\": 0.5079970834014612}}}\u001b[0m\n",
            "\u001b[34m#metrics {\"StartTime\": 1650549990.7464724, \"EndTime\": 1650549990.7464883, \"Dimensions\": {\"Algorithm\": \"Linear Learner\", \"Host\": \"algo-1\", \"Operation\": \"training\", \"epoch\": 2, \"model\": 23}, \"Metrics\": {\"train_binary_classification_cross_entropy_objective\": {\"sum\": 0.5110807369127186, \"count\": 1, \"min\": 0.5110807369127186, \"max\": 0.5110807369127186}}}\u001b[0m\n",
            "\u001b[34m#metrics {\"StartTime\": 1650549990.7465339, \"EndTime\": 1650549990.74655, \"Dimensions\": {\"Algorithm\": \"Linear Learner\", \"Host\": \"algo-1\", \"Operation\": \"training\", \"epoch\": 2, \"model\": 24}, \"Metrics\": {\"train_binary_classification_cross_entropy_objective\": {\"sum\": 0.5137723122226353, \"count\": 1, \"min\": 0.5137723122226353, \"max\": 0.5137723122226353}}}\u001b[0m\n",
            "\u001b[34m#metrics {\"StartTime\": 1650549990.7466154, \"EndTime\": 1650549990.746632, \"Dimensions\": {\"Algorithm\": \"Linear Learner\", \"Host\": \"algo-1\", \"Operation\": \"training\", \"epoch\": 2, \"model\": 25}, \"Metrics\": {\"train_binary_classification_cross_entropy_objective\": {\"sum\": 0.5138805965691896, \"count\": 1, \"min\": 0.5138805965691896, \"max\": 0.5138805965691896}}}\u001b[0m\n",
            "\u001b[34m#metrics {\"StartTime\": 1650549990.7466884, \"EndTime\": 1650549990.7467048, \"Dimensions\": {\"Algorithm\": \"Linear Learner\", \"Host\": \"algo-1\", \"Operation\": \"training\", \"epoch\": 2, \"model\": 26}, \"Metrics\": {\"train_binary_classification_cross_entropy_objective\": {\"sum\": 0.5137726154385721, \"count\": 1, \"min\": 0.5137726154385721, \"max\": 0.5137726154385721}}}\u001b[0m\n",
            "\u001b[34m#metrics {\"StartTime\": 1650549990.746767, \"EndTime\": 1650549990.7467859, \"Dimensions\": {\"Algorithm\": \"Linear Learner\", \"Host\": \"algo-1\", \"Operation\": \"training\", \"epoch\": 2, \"model\": 27}, \"Metrics\": {\"train_binary_classification_cross_entropy_objective\": {\"sum\": 0.5138786754316511, \"count\": 1, \"min\": 0.5138786754316511, \"max\": 0.5138786754316511}}}\u001b[0m\n",
            "\u001b[34m#metrics {\"StartTime\": 1650549990.7468407, \"EndTime\": 1650549990.7468588, \"Dimensions\": {\"Algorithm\": \"Linear Learner\", \"Host\": \"algo-1\", \"Operation\": \"training\", \"epoch\": 2, \"model\": 28}, \"Metrics\": {\"train_binary_classification_cross_entropy_objective\": {\"sum\": 0.513873872039515, \"count\": 1, \"min\": 0.513873872039515, \"max\": 0.513873872039515}}}\u001b[0m\n",
            "\u001b[34m#metrics {\"StartTime\": 1650549990.7469127, \"EndTime\": 1650549990.74693, \"Dimensions\": {\"Algorithm\": \"Linear Learner\", \"Host\": \"algo-1\", \"Operation\": \"training\", \"epoch\": 2, \"model\": 29}, \"Metrics\": {\"train_binary_classification_cross_entropy_objective\": {\"sum\": 0.5150671813218236, \"count\": 1, \"min\": 0.5150671813218236, \"max\": 0.5150671813218236}}}\u001b[0m\n",
            "\u001b[34m#metrics {\"StartTime\": 1650549990.746983, \"EndTime\": 1650549990.747001, \"Dimensions\": {\"Algorithm\": \"Linear Learner\", \"Host\": \"algo-1\", \"Operation\": \"training\", \"epoch\": 2, \"model\": 30}, \"Metrics\": {\"train_binary_classification_cross_entropy_objective\": {\"sum\": 0.5138738929911856, \"count\": 1, \"min\": 0.5138738929911856, \"max\": 0.5138738929911856}}}\u001b[0m\n",
            "\u001b[34m#metrics {\"StartTime\": 1650549990.7470586, \"EndTime\": 1650549990.7470756, \"Dimensions\": {\"Algorithm\": \"Linear Learner\", \"Host\": \"algo-1\", \"Operation\": \"training\", \"epoch\": 2, \"model\": 31}, \"Metrics\": {\"train_binary_classification_cross_entropy_objective\": {\"sum\": 0.5150679091473968, \"count\": 1, \"min\": 0.5150679091473968, \"max\": 0.5150679091473968}}}\u001b[0m\n",
            "\u001b[34m[04/21/2022 14:06:30 INFO 140357410658112] #quality_metric: host=algo-1, epoch=2, train binary_classification_cross_entropy_objective <loss>=0.49199721499101834\u001b[0m\n",
            "\u001b[34m[2022-04-21 14:06:36.153] [tensorio] [info] epoch_stats={\"data_pipeline\": \"/opt/ml/input/data/validation\", \"epoch\": 8, \"duration\": 5380, \"num_examples\": 164, \"num_bytes\": 68694780}\u001b[0m\n",
            "\u001b[34m#metrics {\"StartTime\": 1650549996.1624846, \"EndTime\": 1650549996.1625743, \"Dimensions\": {\"Algorithm\": \"Linear Learner\", \"Host\": \"algo-1\", \"Operation\": \"training\", \"epoch\": 2, \"model\": 0}, \"Metrics\": {\"validation_binary_classification_cross_entropy_objective\": {\"sum\": 0.492316078567274, \"count\": 1, \"min\": 0.492316078567274, \"max\": 0.492316078567274}}}\u001b[0m\n",
            "\u001b[34m#metrics {\"StartTime\": 1650549996.162671, \"EndTime\": 1650549996.1626854, \"Dimensions\": {\"Algorithm\": \"Linear Learner\", \"Host\": \"algo-1\", \"Operation\": \"training\", \"epoch\": 2, \"model\": 1}, \"Metrics\": {\"validation_binary_classification_cross_entropy_objective\": {\"sum\": 0.4940113299481547, \"count\": 1, \"min\": 0.4940113299481547, \"max\": 0.4940113299481547}}}\u001b[0m\n",
            "\u001b[34m#metrics {\"StartTime\": 1650549996.1627202, \"EndTime\": 1650549996.16273, \"Dimensions\": {\"Algorithm\": \"Linear Learner\", \"Host\": \"algo-1\", \"Operation\": \"training\", \"epoch\": 2, \"model\": 2}, \"Metrics\": {\"validation_binary_classification_cross_entropy_objective\": {\"sum\": 0.4923212243818553, \"count\": 1, \"min\": 0.4923212243818553, \"max\": 0.4923212243818553}}}\u001b[0m\n",
            "\u001b[34m#metrics {\"StartTime\": 1650549996.1627612, \"EndTime\": 1650549996.16277, \"Dimensions\": {\"Algorithm\": \"Linear Learner\", \"Host\": \"algo-1\", \"Operation\": \"training\", \"epoch\": 2, \"model\": 3}, \"Metrics\": {\"validation_binary_classification_cross_entropy_objective\": {\"sum\": 0.4940104897580441, \"count\": 1, \"min\": 0.4940104897580441, \"max\": 0.4940104897580441}}}\u001b[0m\n",
            "\u001b[34m#metrics {\"StartTime\": 1650549996.1627972, \"EndTime\": 1650549996.1628053, \"Dimensions\": {\"Algorithm\": \"Linear Learner\", \"Host\": \"algo-1\", \"Operation\": \"training\", \"epoch\": 2, \"model\": 4}, \"Metrics\": {\"validation_binary_classification_cross_entropy_objective\": {\"sum\": 0.49307694805169217, \"count\": 1, \"min\": 0.49307694805169217, \"max\": 0.49307694805169217}}}\u001b[0m\n",
            "\u001b[34m#metrics {\"StartTime\": 1650549996.1628313, \"EndTime\": 1650549996.162839, \"Dimensions\": {\"Algorithm\": \"Linear Learner\", \"Host\": \"algo-1\", \"Operation\": \"training\", \"epoch\": 2, \"model\": 5}, \"Metrics\": {\"validation_binary_classification_cross_entropy_objective\": {\"sum\": 0.5102054172237135, \"count\": 1, \"min\": 0.5102054172237135, \"max\": 0.5102054172237135}}}\u001b[0m\n",
            "\u001b[34m#metrics {\"StartTime\": 1650549996.1628647, \"EndTime\": 1650549996.1628766, \"Dimensions\": {\"Algorithm\": \"Linear Learner\", \"Host\": \"algo-1\", \"Operation\": \"training\", \"epoch\": 2, \"model\": 6}, \"Metrics\": {\"validation_binary_classification_cross_entropy_objective\": {\"sum\": 0.493076876030066, \"count\": 1, \"min\": 0.493076876030066, \"max\": 0.493076876030066}}}\u001b[0m\n",
            "\u001b[34m#metrics {\"StartTime\": 1650549996.1629262, \"EndTime\": 1650549996.1629424, \"Dimensions\": {\"Algorithm\": \"Linear Learner\", \"Host\": \"algo-1\", \"Operation\": \"training\", \"epoch\": 2, \"model\": 7}, \"Metrics\": {\"validation_binary_classification_cross_entropy_objective\": {\"sum\": 0.5102054161042063, \"count\": 1, \"min\": 0.5102054161042063, \"max\": 0.5102054161042063}}}\u001b[0m\n",
            "\u001b[34m#metrics {\"StartTime\": 1650549996.1629953, \"EndTime\": 1650549996.1630113, \"Dimensions\": {\"Algorithm\": \"Linear Learner\", \"Host\": \"algo-1\", \"Operation\": \"training\", \"epoch\": 2, \"model\": 8}, \"Metrics\": {\"validation_binary_classification_cross_entropy_objective\": {\"sum\": 0.4925141598696562, \"count\": 1, \"min\": 0.4925141598696562, \"max\": 0.4925141598696562}}}\u001b[0m\n",
            "\u001b[34m#metrics {\"StartTime\": 1650549996.1630595, \"EndTime\": 1650549996.1631103, \"Dimensions\": {\"Algorithm\": \"Linear Learner\", \"Host\": \"algo-1\", \"Operation\": \"training\", \"epoch\": 2, \"model\": 9}, \"Metrics\": {\"validation_binary_classification_cross_entropy_objective\": {\"sum\": 0.49408926611715326, \"count\": 1, \"min\": 0.49408926611715326, \"max\": 0.49408926611715326}}}\u001b[0m\n",
            "\u001b[34m#metrics {\"StartTime\": 1650549996.163165, \"EndTime\": 1650549996.1631827, \"Dimensions\": {\"Algorithm\": \"Linear Learner\", \"Host\": \"algo-1\", \"Operation\": \"training\", \"epoch\": 2, \"model\": 10}, \"Metrics\": {\"validation_binary_classification_cross_entropy_objective\": {\"sum\": 0.49251378670060864, \"count\": 1, \"min\": 0.49251378670060864, \"max\": 0.49251378670060864}}}\u001b[0m\n",
            "\u001b[34m#metrics {\"StartTime\": 1650549996.1632404, \"EndTime\": 1650549996.1632588, \"Dimensions\": {\"Algorithm\": \"Linear Learner\", \"Host\": \"algo-1\", \"Operation\": \"training\", \"epoch\": 2, \"model\": 11}, \"Metrics\": {\"validation_binary_classification_cross_entropy_objective\": {\"sum\": 0.49408927003542824, \"count\": 1, \"min\": 0.49408927003542824, \"max\": 0.49408927003542824}}}\u001b[0m\n",
            "\u001b[34m#metrics {\"StartTime\": 1650549996.1633053, \"EndTime\": 1650549996.1633224, \"Dimensions\": {\"Algorithm\": \"Linear Learner\", \"Host\": \"algo-1\", \"Operation\": \"training\", \"epoch\": 2, \"model\": 12}, \"Metrics\": {\"validation_binary_classification_cross_entropy_objective\": {\"sum\": 0.4932066263481493, \"count\": 1, \"min\": 0.4932066263481493, \"max\": 0.4932066263481493}}}\u001b[0m\n",
            "\u001b[34m#metrics {\"StartTime\": 1650549996.1633682, \"EndTime\": 1650549996.1633854, \"Dimensions\": {\"Algorithm\": \"Linear Learner\", \"Host\": \"algo-1\", \"Operation\": \"training\", \"epoch\": 2, \"model\": 13}, \"Metrics\": {\"validation_binary_classification_cross_entropy_objective\": {\"sum\": 0.5088789479150705, \"count\": 1, \"min\": 0.5088789479150705, \"max\": 0.5088789479150705}}}\u001b[0m\n",
            "\u001b[34m#metrics {\"StartTime\": 1650549996.1634395, \"EndTime\": 1650549996.163457, \"Dimensions\": {\"Algorithm\": \"Linear Learner\", \"Host\": \"algo-1\", \"Operation\": \"training\", \"epoch\": 2, \"model\": 14}, \"Metrics\": {\"validation_binary_classification_cross_entropy_objective\": {\"sum\": 0.49320663213226956, \"count\": 1, \"min\": 0.49320663213226956, \"max\": 0.49320663213226956}}}\u001b[0m\n",
            "\u001b[34m#metrics {\"StartTime\": 1650549996.1635017, \"EndTime\": 1650549996.1635191, \"Dimensions\": {\"Algorithm\": \"Linear Learner\", \"Host\": \"algo-1\", \"Operation\": \"training\", \"epoch\": 2, \"model\": 15}, \"Metrics\": {\"validation_binary_classification_cross_entropy_objective\": {\"sum\": 0.508878771032942, \"count\": 1, \"min\": 0.508878771032942, \"max\": 0.508878771032942}}}\u001b[0m\n",
            "\u001b[34m#metrics {\"StartTime\": 1650549996.1635659, \"EndTime\": 1650549996.1635823, \"Dimensions\": {\"Algorithm\": \"Linear Learner\", \"Host\": \"algo-1\", \"Operation\": \"training\", \"epoch\": 2, \"model\": 16}, \"Metrics\": {\"validation_binary_classification_cross_entropy_objective\": {\"sum\": 0.5077667229797667, \"count\": 1, \"min\": 0.5077667229797667, \"max\": 0.5077667229797667}}}\u001b[0m\n",
            "\u001b[34m#metrics {\"StartTime\": 1650549996.163641, \"EndTime\": 1650549996.163659, \"Dimensions\": {\"Algorithm\": \"Linear Learner\", \"Host\": \"algo-1\", \"Operation\": \"training\", \"epoch\": 2, \"model\": 17}, \"Metrics\": {\"validation_binary_classification_cross_entropy_objective\": {\"sum\": 0.5086155784488032, \"count\": 1, \"min\": 0.5086155784488032, \"max\": 0.5086155784488032}}}\u001b[0m\n",
            "\u001b[34m#metrics {\"StartTime\": 1650549996.163704, \"EndTime\": 1650549996.1637206, \"Dimensions\": {\"Algorithm\": \"Linear Learner\", \"Host\": \"algo-1\", \"Operation\": \"training\", \"epoch\": 2, \"model\": 18}, \"Metrics\": {\"validation_binary_classification_cross_entropy_objective\": {\"sum\": 0.5077666645788107, \"count\": 1, \"min\": 0.5077666645788107, \"max\": 0.5077666645788107}}}\u001b[0m\n",
            "\u001b[34m#metrics {\"StartTime\": 1650549996.1637647, \"EndTime\": 1650549996.1637797, \"Dimensions\": {\"Algorithm\": \"Linear Learner\", \"Host\": \"algo-1\", \"Operation\": \"training\", \"epoch\": 2, \"model\": 19}, \"Metrics\": {\"validation_binary_classification_cross_entropy_objective\": {\"sum\": 0.5086154513847425, \"count\": 1, \"min\": 0.5086154513847425, \"max\": 0.5086154513847425}}}\u001b[0m\n",
            "\u001b[34m#metrics {\"StartTime\": 1650549996.1638408, \"EndTime\": 1650549996.1638587, \"Dimensions\": {\"Algorithm\": \"Linear Learner\", \"Host\": \"algo-1\", \"Operation\": \"training\", \"epoch\": 2, \"model\": 20}, \"Metrics\": {\"validation_binary_classification_cross_entropy_objective\": {\"sum\": 0.5080430951483271, \"count\": 1, \"min\": 0.5080430951483271, \"max\": 0.5080430951483271}}}\u001b[0m\n",
            "\u001b[34m#metrics {\"StartTime\": 1650549996.163914, \"EndTime\": 1650549996.1639311, \"Dimensions\": {\"Algorithm\": \"Linear Learner\", \"Host\": \"algo-1\", \"Operation\": \"training\", \"epoch\": 2, \"model\": 21}, \"Metrics\": {\"validation_binary_classification_cross_entropy_objective\": {\"sum\": 0.5108629987401335, \"count\": 1, \"min\": 0.5108629987401335, \"max\": 0.5108629987401335}}}\u001b[0m\n",
            "\u001b[34m#metrics {\"StartTime\": 1650549996.1639798, \"EndTime\": 1650549996.1639957, \"Dimensions\": {\"Algorithm\": \"Linear Learner\", \"Host\": \"algo-1\", \"Operation\": \"training\", \"epoch\": 2, \"model\": 22}, \"Metrics\": {\"validation_binary_classification_cross_entropy_objective\": {\"sum\": 0.5080429710696188, \"count\": 1, \"min\": 0.5080429710696188, \"max\": 0.5080429710696188}}}\u001b[0m\n",
            "\u001b[34m#metrics {\"StartTime\": 1650549996.1640472, \"EndTime\": 1650549996.1640623, \"Dimensions\": {\"Algorithm\": \"Linear Learner\", \"Host\": \"algo-1\", \"Operation\": \"training\", \"epoch\": 2, \"model\": 23}, \"Metrics\": {\"validation_binary_classification_cross_entropy_objective\": {\"sum\": 0.510862774465536, \"count\": 1, \"min\": 0.510862774465536, \"max\": 0.510862774465536}}}\u001b[0m\n",
            "\u001b[34m#metrics {\"StartTime\": 1650549996.1641142, \"EndTime\": 1650549996.16413, \"Dimensions\": {\"Algorithm\": \"Linear Learner\", \"Host\": \"algo-1\", \"Operation\": \"training\", \"epoch\": 2, \"model\": 24}, \"Metrics\": {\"validation_binary_classification_cross_entropy_objective\": {\"sum\": 0.5137640305889714, \"count\": 1, \"min\": 0.5137640305889714, \"max\": 0.5137640305889714}}}\u001b[0m\n",
            "\u001b[34m#metrics {\"StartTime\": 1650549996.1641774, \"EndTime\": 1650549996.1641905, \"Dimensions\": {\"Algorithm\": \"Linear Learner\", \"Host\": \"algo-1\", \"Operation\": \"training\", \"epoch\": 2, \"model\": 25}, \"Metrics\": {\"validation_binary_classification_cross_entropy_objective\": {\"sum\": 0.5145316663745599, \"count\": 1, \"min\": 0.5145316663745599, \"max\": 0.5145316663745599}}}\u001b[0m\n",
            "\u001b[34m#metrics {\"StartTime\": 1650549996.1642365, \"EndTime\": 1650549996.1642518, \"Dimensions\": {\"Algorithm\": \"Linear Learner\", \"Host\": \"algo-1\", \"Operation\": \"training\", \"epoch\": 2, \"model\": 26}, \"Metrics\": {\"validation_binary_classification_cross_entropy_objective\": {\"sum\": 0.5137630566177572, \"count\": 1, \"min\": 0.5137630566177572, \"max\": 0.5137630566177572}}}\u001b[0m\n",
            "\u001b[34m#metrics {\"StartTime\": 1650549996.1643054, \"EndTime\": 1650549996.1643214, \"Dimensions\": {\"Algorithm\": \"Linear Learner\", \"Host\": \"algo-1\", \"Operation\": \"training\", \"epoch\": 2, \"model\": 27}, \"Metrics\": {\"validation_binary_classification_cross_entropy_objective\": {\"sum\": 0.51454419421924, \"count\": 1, \"min\": 0.51454419421924, \"max\": 0.51454419421924}}}\u001b[0m\n",
            "\u001b[34m#metrics {\"StartTime\": 1650549996.1643786, \"EndTime\": 1650549996.1643949, \"Dimensions\": {\"Algorithm\": \"Linear Learner\", \"Host\": \"algo-1\", \"Operation\": \"training\", \"epoch\": 2, \"model\": 28}, \"Metrics\": {\"validation_binary_classification_cross_entropy_objective\": {\"sum\": 0.5139788822949354, \"count\": 1, \"min\": 0.5139788822949354, \"max\": 0.5139788822949354}}}\u001b[0m\n",
            "\u001b[34m#metrics {\"StartTime\": 1650549996.1644483, \"EndTime\": 1650549996.1644657, \"Dimensions\": {\"Algorithm\": \"Linear Learner\", \"Host\": \"algo-1\", \"Operation\": \"training\", \"epoch\": 2, \"model\": 29}, \"Metrics\": {\"validation_binary_classification_cross_entropy_objective\": {\"sum\": 0.5138529091939515, \"count\": 1, \"min\": 0.5138529091939515, \"max\": 0.5138529091939515}}}\u001b[0m\n",
            "\u001b[34m#metrics {\"StartTime\": 1650549996.1645205, \"EndTime\": 1650549996.1645377, \"Dimensions\": {\"Algorithm\": \"Linear Learner\", \"Host\": \"algo-1\", \"Operation\": \"training\", \"epoch\": 2, \"model\": 30}, \"Metrics\": {\"validation_binary_classification_cross_entropy_objective\": {\"sum\": 0.5139821057291682, \"count\": 1, \"min\": 0.5139821057291682, \"max\": 0.5139821057291682}}}\u001b[0m\n",
            "\u001b[34m#metrics {\"StartTime\": 1650549996.1645918, \"EndTime\": 1650549996.1646087, \"Dimensions\": {\"Algorithm\": \"Linear Learner\", \"Host\": \"algo-1\", \"Operation\": \"training\", \"epoch\": 2, \"model\": 31}, \"Metrics\": {\"validation_binary_classification_cross_entropy_objective\": {\"sum\": 0.5138529319572634, \"count\": 1, \"min\": 0.5138529319572634, \"max\": 0.5138529319572634}}}\u001b[0m\n",
            "\u001b[34m[04/21/2022 14:06:36 INFO 140357410658112] #quality_metric: host=algo-1, epoch=2, validation binary_classification_cross_entropy_objective <loss>=0.492316078567274\u001b[0m\n",
            "\u001b[34m[04/21/2022 14:06:36 INFO 140357410658112] #early_stopping_criteria_metric: host=algo-1, epoch=2, criteria=binary_classification_cross_entropy_objective, value=0.492316078567274\u001b[0m\n",
            "\u001b[34m[04/21/2022 14:06:36 INFO 140357410658112] Saving model for epoch: 2\u001b[0m\n",
            "\u001b[34m[04/21/2022 14:06:36 INFO 140357410658112] Saved checkpoint to \"/tmp/tmpdhx9a97u/mx-mod-0000.params\"\u001b[0m\n",
            "\u001b[34m[04/21/2022 14:06:36 INFO 140357410658112] #progress_metric: host=algo-1, completed 20.0 % of epochs\u001b[0m\n",
            "\u001b[34m#metrics {\"StartTime\": 1650549929.6753376, \"EndTime\": 1650549996.1732285, \"Dimensions\": {\"Algorithm\": \"Linear Learner\", \"Host\": \"algo-1\", \"Operation\": \"training\", \"epoch\": 2, \"Meta\": \"training_data_iter\"}, \"Metrics\": {\"Total Records Seen\": {\"sum\": 3937416.0, \"count\": 1, \"min\": 3937416, \"max\": 3937416}, \"Total Batches Seen\": {\"sum\": 3939.0, \"count\": 1, \"min\": 3939, \"max\": 3939}, \"Max Records Seen Between Resets\": {\"sum\": 1308472.0, \"count\": 1, \"min\": 1308472, \"max\": 1308472}, \"Max Batches Seen Between Resets\": {\"sum\": 1309.0, \"count\": 1, \"min\": 1309, \"max\": 1309}, \"Reset Count\": {\"sum\": 5.0, \"count\": 1, \"min\": 5, \"max\": 5}, \"Number of Records Since Last Reset\": {\"sum\": 1308472.0, \"count\": 1, \"min\": 1308472, \"max\": 1308472}, \"Number of Batches Since Last Reset\": {\"sum\": 1309.0, \"count\": 1, \"min\": 1309, \"max\": 1309}}}\u001b[0m\n",
            "\u001b[34m[04/21/2022 14:06:36 INFO 140357410658112] #throughput_metric: host=algo-1, train throughput=19676.83800940862 records/second\u001b[0m\n",
            "\u001b[34m[2022-04-21 14:07:36.460] [tensorio] [info] epoch_stats={\"data_pipeline\": \"/opt/ml/input/data/train\", \"epoch\": 9, \"duration\": 60278, \"num_examples\": 1309, \"num_bytes\": 549558240}\u001b[0m\n",
            "\u001b[34m#metrics {\"StartTime\": 1650550056.4603045, \"EndTime\": 1650550056.460441, \"Dimensions\": {\"Algorithm\": \"Linear Learner\", \"Host\": \"algo-1\", \"Operation\": \"training\", \"epoch\": 3, \"model\": 0}, \"Metrics\": {\"train_binary_classification_cross_entropy_objective\": {\"sum\": 0.4919284149076596, \"count\": 1, \"min\": 0.4919284149076596, \"max\": 0.4919284149076596}}}\u001b[0m\n",
            "\u001b[34m#metrics {\"StartTime\": 1650550056.4605742, \"EndTime\": 1650550056.4605985, \"Dimensions\": {\"Algorithm\": \"Linear Learner\", \"Host\": \"algo-1\", \"Operation\": \"training\", \"epoch\": 3, \"model\": 1}, \"Metrics\": {\"train_binary_classification_cross_entropy_objective\": {\"sum\": 0.4929217083432259, \"count\": 1, \"min\": 0.4929217083432259, \"max\": 0.4929217083432259}}}\u001b[0m\n",
            "\u001b[34m#metrics {\"StartTime\": 1650550056.460674, \"EndTime\": 1650550056.4606946, \"Dimensions\": {\"Algorithm\": \"Linear Learner\", \"Host\": \"algo-1\", \"Operation\": \"training\", \"epoch\": 3, \"model\": 2}, \"Metrics\": {\"train_binary_classification_cross_entropy_objective\": {\"sum\": 0.4919494324897043, \"count\": 1, \"min\": 0.4919494324897043, \"max\": 0.4919494324897043}}}\u001b[0m\n",
            "\u001b[34m#metrics {\"StartTime\": 1650550056.4607542, \"EndTime\": 1650550056.4607723, \"Dimensions\": {\"Algorithm\": \"Linear Learner\", \"Host\": \"algo-1\", \"Operation\": \"training\", \"epoch\": 3, \"model\": 3}, \"Metrics\": {\"train_binary_classification_cross_entropy_objective\": {\"sum\": 0.4929213083716343, \"count\": 1, \"min\": 0.4929213083716343, \"max\": 0.4929213083716343}}}\u001b[0m\n",
            "\u001b[34m#metrics {\"StartTime\": 1650550056.4608278, \"EndTime\": 1650550056.4608433, \"Dimensions\": {\"Algorithm\": \"Linear Learner\", \"Host\": \"algo-1\", \"Operation\": \"training\", \"epoch\": 3, \"model\": 4}, \"Metrics\": {\"train_binary_classification_cross_entropy_objective\": {\"sum\": 0.49225609010002297, \"count\": 1, \"min\": 0.49225609010002297, \"max\": 0.49225609010002297}}}\u001b[0m\n",
            "\u001b[34m#metrics {\"StartTime\": 1650550056.4608984, \"EndTime\": 1650550056.4609141, \"Dimensions\": {\"Algorithm\": \"Linear Learner\", \"Host\": \"algo-1\", \"Operation\": \"training\", \"epoch\": 3, \"model\": 5}, \"Metrics\": {\"train_binary_classification_cross_entropy_objective\": {\"sum\": 0.5094085773619672, \"count\": 1, \"min\": 0.5094085773619672, \"max\": 0.5094085773619672}}}\u001b[0m\n",
            "\u001b[34m#metrics {\"StartTime\": 1650550056.460969, \"EndTime\": 1650550056.4609892, \"Dimensions\": {\"Algorithm\": \"Linear Learner\", \"Host\": \"algo-1\", \"Operation\": \"training\", \"epoch\": 3, \"model\": 6}, \"Metrics\": {\"train_binary_classification_cross_entropy_objective\": {\"sum\": 0.49225608618033406, \"count\": 1, \"min\": 0.49225608618033406, \"max\": 0.49225608618033406}}}\u001b[0m\n",
            "\u001b[34m#metrics {\"StartTime\": 1650550056.4610481, \"EndTime\": 1650550056.4610648, \"Dimensions\": {\"Algorithm\": \"Linear Learner\", \"Host\": \"algo-1\", \"Operation\": \"training\", \"epoch\": 3, \"model\": 7}, \"Metrics\": {\"train_binary_classification_cross_entropy_objective\": {\"sum\": 0.5094085561303189, \"count\": 1, \"min\": 0.5094085561303189, \"max\": 0.5094085561303189}}}\u001b[0m\n",
            "\u001b[34m#metrics {\"StartTime\": 1650550056.4611213, \"EndTime\": 1650550056.461142, \"Dimensions\": {\"Algorithm\": \"Linear Learner\", \"Host\": \"algo-1\", \"Operation\": \"training\", \"epoch\": 3, \"model\": 8}, \"Metrics\": {\"train_binary_classification_cross_entropy_objective\": {\"sum\": 0.49212328968573055, \"count\": 1, \"min\": 0.49212328968573055, \"max\": 0.49212328968573055}}}\u001b[0m\n",
            "\u001b[34m#metrics {\"StartTime\": 1650550056.4611974, \"EndTime\": 1650550056.4612145, \"Dimensions\": {\"Algorithm\": \"Linear Learner\", \"Host\": \"algo-1\", \"Operation\": \"training\", \"epoch\": 3, \"model\": 9}, \"Metrics\": {\"train_binary_classification_cross_entropy_objective\": {\"sum\": 0.4930751368904697, \"count\": 1, \"min\": 0.4930751368904697, \"max\": 0.4930751368904697}}}\u001b[0m\n",
            "\u001b[34m#metrics {\"StartTime\": 1650550056.4612691, \"EndTime\": 1650550056.4612825, \"Dimensions\": {\"Algorithm\": \"Linear Learner\", \"Host\": \"algo-1\", \"Operation\": \"training\", \"epoch\": 3, \"model\": 10}, \"Metrics\": {\"train_binary_classification_cross_entropy_objective\": {\"sum\": 0.4921415240086547, \"count\": 1, \"min\": 0.4921415240086547, \"max\": 0.4921415240086547}}}\u001b[0m\n",
            "\u001b[34m#metrics {\"StartTime\": 1650550056.461332, \"EndTime\": 1650550056.4613469, \"Dimensions\": {\"Algorithm\": \"Linear Learner\", \"Host\": \"algo-1\", \"Operation\": \"training\", \"epoch\": 3, \"model\": 11}, \"Metrics\": {\"train_binary_classification_cross_entropy_objective\": {\"sum\": 0.49307513990023083, \"count\": 1, \"min\": 0.49307513990023083, \"max\": 0.49307513990023083}}}\u001b[0m\n",
            "\u001b[34m#metrics {\"StartTime\": 1650550056.4613936, \"EndTime\": 1650550056.4614077, \"Dimensions\": {\"Algorithm\": \"Linear Learner\", \"Host\": \"algo-1\", \"Operation\": \"training\", \"epoch\": 3, \"model\": 12}, \"Metrics\": {\"train_binary_classification_cross_entropy_objective\": {\"sum\": 0.4924475036527768, \"count\": 1, \"min\": 0.4924475036527768, \"max\": 0.4924475036527768}}}\u001b[0m\n",
            "\u001b[34m#metrics {\"StartTime\": 1650550056.4615011, \"EndTime\": 1650550056.4615188, \"Dimensions\": {\"Algorithm\": \"Linear Learner\", \"Host\": \"algo-1\", \"Operation\": \"training\", \"epoch\": 3, \"model\": 13}, \"Metrics\": {\"train_binary_classification_cross_entropy_objective\": {\"sum\": 0.5084263686433844, \"count\": 1, \"min\": 0.5084263686433844, \"max\": 0.5084263686433844}}}\u001b[0m\n",
            "\u001b[34m#metrics {\"StartTime\": 1650550056.4615803, \"EndTime\": 1650550056.4616008, \"Dimensions\": {\"Algorithm\": \"Linear Learner\", \"Host\": \"algo-1\", \"Operation\": \"training\", \"epoch\": 3, \"model\": 14}, \"Metrics\": {\"train_binary_classification_cross_entropy_objective\": {\"sum\": 0.49244750393275455, \"count\": 1, \"min\": 0.49244750393275455, \"max\": 0.49244750393275455}}}\u001b[0m\n",
            "\u001b[34m#metrics {\"StartTime\": 1650550056.461655, \"EndTime\": 1650550056.4616706, \"Dimensions\": {\"Algorithm\": \"Linear Learner\", \"Host\": \"algo-1\", \"Operation\": \"training\", \"epoch\": 3, \"model\": 15}, \"Metrics\": {\"train_binary_classification_cross_entropy_objective\": {\"sum\": 0.5084263505614861, \"count\": 1, \"min\": 0.5084263505614861, \"max\": 0.5084263505614861}}}\u001b[0m\n",
            "\u001b[34m#metrics {\"StartTime\": 1650550056.4617224, \"EndTime\": 1650550056.461739, \"Dimensions\": {\"Algorithm\": \"Linear Learner\", \"Host\": \"algo-1\", \"Operation\": \"training\", \"epoch\": 3, \"model\": 16}, \"Metrics\": {\"train_binary_classification_cross_entropy_objective\": {\"sum\": 0.5077233668336081, \"count\": 1, \"min\": 0.5077233668336081, \"max\": 0.5077233668336081}}}\u001b[0m\n",
            "\u001b[34m#metrics {\"StartTime\": 1650550056.4617944, \"EndTime\": 1650550056.461809, \"Dimensions\": {\"Algorithm\": \"Linear Learner\", \"Host\": \"algo-1\", \"Operation\": \"training\", \"epoch\": 3, \"model\": 17}, \"Metrics\": {\"train_binary_classification_cross_entropy_objective\": {\"sum\": 0.5079756798000511, \"count\": 1, \"min\": 0.5079756798000511, \"max\": 0.5079756798000511}}}\u001b[0m\n",
            "\u001b[34m#metrics {\"StartTime\": 1650550056.4618611, \"EndTime\": 1650550056.4618754, \"Dimensions\": {\"Algorithm\": \"Linear Learner\", \"Host\": \"algo-1\", \"Operation\": \"training\", \"epoch\": 3, \"model\": 18}, \"Metrics\": {\"train_binary_classification_cross_entropy_objective\": {\"sum\": 0.5077338216005844, \"count\": 1, \"min\": 0.5077338216005844, \"max\": 0.5077338216005844}}}\u001b[0m\n",
            "\u001b[34m#metrics {\"StartTime\": 1650550056.461906, \"EndTime\": 1650550056.4619136, \"Dimensions\": {\"Algorithm\": \"Linear Learner\", \"Host\": \"algo-1\", \"Operation\": \"training\", \"epoch\": 3, \"model\": 19}, \"Metrics\": {\"train_binary_classification_cross_entropy_objective\": {\"sum\": 0.5079756840930437, \"count\": 1, \"min\": 0.5079756840930437, \"max\": 0.5079756840930437}}}\u001b[0m\n",
            "\u001b[34m#metrics {\"StartTime\": 1650550056.461939, \"EndTime\": 1650550056.4619467, \"Dimensions\": {\"Algorithm\": \"Linear Learner\", \"Host\": \"algo-1\", \"Operation\": \"training\", \"epoch\": 3, \"model\": 20}, \"Metrics\": {\"train_binary_classification_cross_entropy_objective\": {\"sum\": 0.5078002323535604, \"count\": 1, \"min\": 0.5078002323535604, \"max\": 0.5078002323535604}}}\u001b[0m\n",
            "\u001b[34m#metrics {\"StartTime\": 1650550056.461972, \"EndTime\": 1650550056.4619792, \"Dimensions\": {\"Algorithm\": \"Linear Learner\", \"Host\": \"algo-1\", \"Operation\": \"training\", \"epoch\": 3, \"model\": 21}, \"Metrics\": {\"train_binary_classification_cross_entropy_objective\": {\"sum\": 0.5106436381208788, \"count\": 1, \"min\": 0.5106436381208788, \"max\": 0.5106436381208788}}}\u001b[0m\n",
            "\u001b[34m#metrics {\"StartTime\": 1650550056.4620042, \"EndTime\": 1650550056.4620113, \"Dimensions\": {\"Algorithm\": \"Linear Learner\", \"Host\": \"algo-1\", \"Operation\": \"training\", \"epoch\": 3, \"model\": 22}, \"Metrics\": {\"train_binary_classification_cross_entropy_objective\": {\"sum\": 0.5078002294837881, \"count\": 1, \"min\": 0.5078002294837881, \"max\": 0.5078002294837881}}}\u001b[0m\n",
            "\u001b[34m#metrics {\"StartTime\": 1650550056.4620361, \"EndTime\": 1650550056.462043, \"Dimensions\": {\"Algorithm\": \"Linear Learner\", \"Host\": \"algo-1\", \"Operation\": \"training\", \"epoch\": 3, \"model\": 23}, \"Metrics\": {\"train_binary_classification_cross_entropy_objective\": {\"sum\": 0.5106436449803343, \"count\": 1, \"min\": 0.5106436449803343, \"max\": 0.5106436449803343}}}\u001b[0m\n",
            "\u001b[34m#metrics {\"StartTime\": 1650550056.462068, \"EndTime\": 1650550056.4620755, \"Dimensions\": {\"Algorithm\": \"Linear Learner\", \"Host\": \"algo-1\", \"Operation\": \"training\", \"epoch\": 3, \"model\": 24}, \"Metrics\": {\"train_binary_classification_cross_entropy_objective\": {\"sum\": 0.5137678538564513, \"count\": 1, \"min\": 0.5137678538564513, \"max\": 0.5137678538564513}}}\u001b[0m\n",
            "\u001b[34m#metrics {\"StartTime\": 1650550056.4621, \"EndTime\": 1650550056.462107, \"Dimensions\": {\"Algorithm\": \"Linear Learner\", \"Host\": \"algo-1\", \"Operation\": \"training\", \"epoch\": 3, \"model\": 25}, \"Metrics\": {\"train_binary_classification_cross_entropy_objective\": {\"sum\": 0.5138679070195656, \"count\": 1, \"min\": 0.5138679070195656, \"max\": 0.5138679070195656}}}\u001b[0m\n",
            "\u001b[34m#metrics {\"StartTime\": 1650550056.4621332, \"EndTime\": 1650550056.4621406, \"Dimensions\": {\"Algorithm\": \"Linear Learner\", \"Host\": \"algo-1\", \"Operation\": \"training\", \"epoch\": 3, \"model\": 26}, \"Metrics\": {\"train_binary_classification_cross_entropy_objective\": {\"sum\": 0.5137696010577933, \"count\": 1, \"min\": 0.5137696010577933, \"max\": 0.5137696010577933}}}\u001b[0m\n",
            "\u001b[34m#metrics {\"StartTime\": 1650550056.4621658, \"EndTime\": 1650550056.462173, \"Dimensions\": {\"Algorithm\": \"Linear Learner\", \"Host\": \"algo-1\", \"Operation\": \"training\", \"epoch\": 3, \"model\": 27}, \"Metrics\": {\"train_binary_classification_cross_entropy_objective\": {\"sum\": 0.5138675813587433, \"count\": 1, \"min\": 0.5138675813587433, \"max\": 0.5138675813587433}}}\u001b[0m\n",
            "\u001b[34m#metrics {\"StartTime\": 1650550056.4621975, \"EndTime\": 1650550056.462205, \"Dimensions\": {\"Algorithm\": \"Linear Learner\", \"Host\": \"algo-1\", \"Operation\": \"training\", \"epoch\": 3, \"model\": 28}, \"Metrics\": {\"train_binary_classification_cross_entropy_objective\": {\"sum\": 0.5137879638671875, \"count\": 1, \"min\": 0.5137879638671875, \"max\": 0.5137879638671875}}}\u001b[0m\n",
            "\u001b[34m#metrics {\"StartTime\": 1650550056.4622293, \"EndTime\": 1650550056.4622364, \"Dimensions\": {\"Algorithm\": \"Linear Learner\", \"Host\": \"algo-1\", \"Operation\": \"training\", \"epoch\": 3, \"model\": 29}, \"Metrics\": {\"train_binary_classification_cross_entropy_objective\": {\"sum\": 0.5148575498481773, \"count\": 1, \"min\": 0.5148575498481773, \"max\": 0.5148575498481773}}}\u001b[0m\n",
            "\u001b[34m#metrics {\"StartTime\": 1650550056.4622612, \"EndTime\": 1650550056.4622684, \"Dimensions\": {\"Algorithm\": \"Linear Learner\", \"Host\": \"algo-1\", \"Operation\": \"training\", \"epoch\": 3, \"model\": 30}, \"Metrics\": {\"train_binary_classification_cross_entropy_objective\": {\"sum\": 0.5137880001009787, \"count\": 1, \"min\": 0.5137880001009787, \"max\": 0.5137880001009787}}}\u001b[0m\n",
            "\u001b[34m#metrics {\"StartTime\": 1650550056.4622948, \"EndTime\": 1650550056.4623022, \"Dimensions\": {\"Algorithm\": \"Linear Learner\", \"Host\": \"algo-1\", \"Operation\": \"training\", \"epoch\": 3, \"model\": 31}, \"Metrics\": {\"train_binary_classification_cross_entropy_objective\": {\"sum\": 0.5148575850320518, \"count\": 1, \"min\": 0.5148575850320518, \"max\": 0.5148575850320518}}}\u001b[0m\n",
            "\u001b[34m[04/21/2022 14:07:36 INFO 140357410658112] #quality_metric: host=algo-1, epoch=3, train binary_classification_cross_entropy_objective <loss>=0.4919284149076596\u001b[0m\n",
            "\u001b[34m[2022-04-21 14:07:41.751] [tensorio] [info] epoch_stats={\"data_pipeline\": \"/opt/ml/input/data/validation\", \"epoch\": 11, \"duration\": 5258, \"num_examples\": 164, \"num_bytes\": 68694780}\u001b[0m\n",
            "\u001b[34m#metrics {\"StartTime\": 1650550061.7607274, \"EndTime\": 1650550061.760811, \"Dimensions\": {\"Algorithm\": \"Linear Learner\", \"Host\": \"algo-1\", \"Operation\": \"training\", \"epoch\": 3, \"model\": 0}, \"Metrics\": {\"validation_binary_classification_cross_entropy_objective\": {\"sum\": 0.49230388545522946, \"count\": 1, \"min\": 0.49230388545522946, \"max\": 0.49230388545522946}}}\u001b[0m\n",
            "\u001b[34m#metrics {\"StartTime\": 1650550061.7609131, \"EndTime\": 1650550061.760934, \"Dimensions\": {\"Algorithm\": \"Linear Learner\", \"Host\": \"algo-1\", \"Operation\": \"training\", \"epoch\": 3, \"model\": 1}, \"Metrics\": {\"validation_binary_classification_cross_entropy_objective\": {\"sum\": 0.49381221142240483, \"count\": 1, \"min\": 0.49381221142240483, \"max\": 0.49381221142240483}}}\u001b[0m\n",
            "\u001b[34m#metrics {\"StartTime\": 1650550061.7609997, \"EndTime\": 1650550061.7610183, \"Dimensions\": {\"Algorithm\": \"Linear Learner\", \"Host\": \"algo-1\", \"Operation\": \"training\", \"epoch\": 3, \"model\": 2}, \"Metrics\": {\"validation_binary_classification_cross_entropy_objective\": {\"sum\": 0.4923210530972625, \"count\": 1, \"min\": 0.4923210530972625, \"max\": 0.4923210530972625}}}\u001b[0m\n",
            "\u001b[34m#metrics {\"StartTime\": 1650550061.7610757, \"EndTime\": 1650550061.761093, \"Dimensions\": {\"Algorithm\": \"Linear Learner\", \"Host\": \"algo-1\", \"Operation\": \"training\", \"epoch\": 3, \"model\": 3}, \"Metrics\": {\"validation_binary_classification_cross_entropy_objective\": {\"sum\": 0.4938117412294049, \"count\": 1, \"min\": 0.4938117412294049, \"max\": 0.4938117412294049}}}\u001b[0m\n",
            "\u001b[34m#metrics {\"StartTime\": 1650550061.761137, \"EndTime\": 1650550061.7611527, \"Dimensions\": {\"Algorithm\": \"Linear Learner\", \"Host\": \"algo-1\", \"Operation\": \"training\", \"epoch\": 3, \"model\": 4}, \"Metrics\": {\"validation_binary_classification_cross_entropy_objective\": {\"sum\": 0.4924177385853022, \"count\": 1, \"min\": 0.4924177385853022, \"max\": 0.4924177385853022}}}\u001b[0m\n",
            "\u001b[34m#metrics {\"StartTime\": 1650550061.7611957, \"EndTime\": 1650550061.7612116, \"Dimensions\": {\"Algorithm\": \"Linear Learner\", \"Host\": \"algo-1\", \"Operation\": \"training\", \"epoch\": 3, \"model\": 5}, \"Metrics\": {\"validation_binary_classification_cross_entropy_objective\": {\"sum\": 0.5088246951062599, \"count\": 1, \"min\": 0.5088246951062599, \"max\": 0.5088246951062599}}}\u001b[0m\n",
            "\u001b[34m#metrics {\"StartTime\": 1650550061.7612538, \"EndTime\": 1650550061.76127, \"Dimensions\": {\"Algorithm\": \"Linear Learner\", \"Host\": \"algo-1\", \"Operation\": \"training\", \"epoch\": 3, \"model\": 6}, \"Metrics\": {\"validation_binary_classification_cross_entropy_objective\": {\"sum\": 0.49241773690604146, \"count\": 1, \"min\": 0.49241773690604146, \"max\": 0.49241773690604146}}}\u001b[0m\n",
            "\u001b[34m#metrics {\"StartTime\": 1650550061.7613122, \"EndTime\": 1650550061.7613282, \"Dimensions\": {\"Algorithm\": \"Linear Learner\", \"Host\": \"algo-1\", \"Operation\": \"training\", \"epoch\": 3, \"model\": 7}, \"Metrics\": {\"validation_binary_classification_cross_entropy_objective\": {\"sum\": 0.5088247633961956, \"count\": 1, \"min\": 0.5088247633961956, \"max\": 0.5088247633961956}}}\u001b[0m\n",
            "\u001b[34m#metrics {\"StartTime\": 1650550061.7613707, \"EndTime\": 1650550061.7614286, \"Dimensions\": {\"Algorithm\": \"Linear Learner\", \"Host\": \"algo-1\", \"Operation\": \"training\", \"epoch\": 3, \"model\": 8}, \"Metrics\": {\"validation_binary_classification_cross_entropy_objective\": {\"sum\": 0.49249782383484564, \"count\": 1, \"min\": 0.49249782383484564, \"max\": 0.49249782383484564}}}\u001b[0m\n",
            "\u001b[34m#metrics {\"StartTime\": 1650550061.7614923, \"EndTime\": 1650550061.7615104, \"Dimensions\": {\"Algorithm\": \"Linear Learner\", \"Host\": \"algo-1\", \"Operation\": \"training\", \"epoch\": 3, \"model\": 9}, \"Metrics\": {\"validation_binary_classification_cross_entropy_objective\": {\"sum\": 0.4939062589784473, \"count\": 1, \"min\": 0.4939062589784473, \"max\": 0.4939062589784473}}}\u001b[0m\n",
            "\u001b[34m#metrics {\"StartTime\": 1650550061.761569, \"EndTime\": 1650550061.7615862, \"Dimensions\": {\"Algorithm\": \"Linear Learner\", \"Host\": \"algo-1\", \"Operation\": \"training\", \"epoch\": 3, \"model\": 10}, \"Metrics\": {\"validation_binary_classification_cross_entropy_objective\": {\"sum\": 0.4925131571644254, \"count\": 1, \"min\": 0.4925131571644254, \"max\": 0.4925131571644254}}}\u001b[0m\n",
            "\u001b[34m#metrics {\"StartTime\": 1650550061.7616239, \"EndTime\": 1650550061.761639, \"Dimensions\": {\"Algorithm\": \"Linear Learner\", \"Host\": \"algo-1\", \"Operation\": \"training\", \"epoch\": 3, \"model\": 11}, \"Metrics\": {\"validation_binary_classification_cross_entropy_objective\": {\"sum\": 0.4939062558065104, \"count\": 1, \"min\": 0.4939062558065104, \"max\": 0.4939062558065104}}}\u001b[0m\n",
            "\u001b[34m#metrics {\"StartTime\": 1650550061.7616808, \"EndTime\": 1650550061.7616968, \"Dimensions\": {\"Algorithm\": \"Linear Learner\", \"Host\": \"algo-1\", \"Operation\": \"training\", \"epoch\": 3, \"model\": 12}, \"Metrics\": {\"validation_binary_classification_cross_entropy_objective\": {\"sum\": 0.492615569677838, \"count\": 1, \"min\": 0.492615569677838, \"max\": 0.492615569677838}}}\u001b[0m\n",
            "\u001b[34m#metrics {\"StartTime\": 1650550061.7617369, \"EndTime\": 1650550061.7617526, \"Dimensions\": {\"Algorithm\": \"Linear Learner\", \"Host\": \"algo-1\", \"Operation\": \"training\", \"epoch\": 3, \"model\": 13}, \"Metrics\": {\"validation_binary_classification_cross_entropy_objective\": {\"sum\": 0.5075415727410125, \"count\": 1, \"min\": 0.5075415727410125, \"max\": 0.5075415727410125}}}\u001b[0m\n",
            "\u001b[34m#metrics {\"StartTime\": 1650550061.7618032, \"EndTime\": 1650550061.7618198, \"Dimensions\": {\"Algorithm\": \"Linear Learner\", \"Host\": \"algo-1\", \"Operation\": \"training\", \"epoch\": 3, \"model\": 14}, \"Metrics\": {\"validation_binary_classification_cross_entropy_objective\": {\"sum\": 0.49261557005100703, \"count\": 1, \"min\": 0.49261557005100703, \"max\": 0.49261557005100703}}}\u001b[0m\n",
            "\u001b[34m#metrics {\"StartTime\": 1650550061.7618713, \"EndTime\": 1650550061.761887, \"Dimensions\": {\"Algorithm\": \"Linear Learner\", \"Host\": \"algo-1\", \"Operation\": \"training\", \"epoch\": 3, \"model\": 15}, \"Metrics\": {\"validation_binary_classification_cross_entropy_objective\": {\"sum\": 0.5075415208705149, \"count\": 1, \"min\": 0.5075415208705149, \"max\": 0.5075415208705149}}}\u001b[0m\n",
            "\u001b[34m#metrics {\"StartTime\": 1650550061.76193, \"EndTime\": 1650550061.7619455, \"Dimensions\": {\"Algorithm\": \"Linear Learner\", \"Host\": \"algo-1\", \"Operation\": \"training\", \"epoch\": 3, \"model\": 16}, \"Metrics\": {\"validation_binary_classification_cross_entropy_objective\": {\"sum\": 0.5077834047556998, \"count\": 1, \"min\": 0.5077834047556998, \"max\": 0.5077834047556998}}}\u001b[0m\n",
            "\u001b[34m#metrics {\"StartTime\": 1650550061.7619863, \"EndTime\": 1650550061.7620018, \"Dimensions\": {\"Algorithm\": \"Linear Learner\", \"Host\": \"algo-1\", \"Operation\": \"training\", \"epoch\": 3, \"model\": 17}, \"Metrics\": {\"validation_binary_classification_cross_entropy_objective\": {\"sum\": 0.508510650402841, \"count\": 1, \"min\": 0.508510650402841, \"max\": 0.508510650402841}}}\u001b[0m\n",
            "\u001b[34m#metrics {\"StartTime\": 1650550061.7620475, \"EndTime\": 1650550061.7620635, \"Dimensions\": {\"Algorithm\": \"Linear Learner\", \"Host\": \"algo-1\", \"Operation\": \"training\", \"epoch\": 3, \"model\": 18}, \"Metrics\": {\"validation_binary_classification_cross_entropy_objective\": {\"sum\": 0.5077662238661655, \"count\": 1, \"min\": 0.5077662238661655, \"max\": 0.5077662238661655}}}\u001b[0m\n",
            "\u001b[34m#metrics {\"StartTime\": 1650550061.7621133, \"EndTime\": 1650550061.7621284, \"Dimensions\": {\"Algorithm\": \"Linear Learner\", \"Host\": \"algo-1\", \"Operation\": \"training\", \"epoch\": 3, \"model\": 19}, \"Metrics\": {\"validation_binary_classification_cross_entropy_objective\": {\"sum\": 0.5085106729795684, \"count\": 1, \"min\": 0.5085106729795684, \"max\": 0.5085106729795684}}}\u001b[0m\n",
            "\u001b[34m#metrics {\"StartTime\": 1650550061.762179, \"EndTime\": 1650550061.7621949, \"Dimensions\": {\"Algorithm\": \"Linear Learner\", \"Host\": \"algo-1\", \"Operation\": \"training\", \"epoch\": 3, \"model\": 20}, \"Metrics\": {\"validation_binary_classification_cross_entropy_objective\": {\"sum\": 0.5077641091171731, \"count\": 1, \"min\": 0.5077641091171731, \"max\": 0.5077641091171731}}}\u001b[0m\n",
            "\u001b[34m#metrics {\"StartTime\": 1650550061.7622461, \"EndTime\": 1650550061.7622633, \"Dimensions\": {\"Algorithm\": \"Linear Learner\", \"Host\": \"algo-1\", \"Operation\": \"training\", \"epoch\": 3, \"model\": 21}, \"Metrics\": {\"validation_binary_classification_cross_entropy_objective\": {\"sum\": 0.510950906359252, \"count\": 1, \"min\": 0.510950906359252, \"max\": 0.510950906359252}}}\u001b[0m\n",
            "\u001b[34m#metrics {\"StartTime\": 1650550061.7623155, \"EndTime\": 1650550061.7623317, \"Dimensions\": {\"Algorithm\": \"Linear Learner\", \"Host\": \"algo-1\", \"Operation\": \"training\", \"epoch\": 3, \"model\": 22}, \"Metrics\": {\"validation_binary_classification_cross_entropy_objective\": {\"sum\": 0.5077641191927373, \"count\": 1, \"min\": 0.5077641191927373, \"max\": 0.5077641191927373}}}\u001b[0m\n",
            "\u001b[34m#metrics {\"StartTime\": 1650550061.762384, \"EndTime\": 1650550061.7624006, \"Dimensions\": {\"Algorithm\": \"Linear Learner\", \"Host\": \"algo-1\", \"Operation\": \"training\", \"epoch\": 3, \"model\": 23}, \"Metrics\": {\"validation_binary_classification_cross_entropy_objective\": {\"sum\": 0.5109508121340675, \"count\": 1, \"min\": 0.5109508121340675, \"max\": 0.5109508121340675}}}\u001b[0m\n",
            "\u001b[34m#metrics {\"StartTime\": 1650550061.7624547, \"EndTime\": 1650550061.7624705, \"Dimensions\": {\"Algorithm\": \"Linear Learner\", \"Host\": \"algo-1\", \"Operation\": \"training\", \"epoch\": 3, \"model\": 24}, \"Metrics\": {\"validation_binary_classification_cross_entropy_objective\": {\"sum\": 0.5137632144682643, \"count\": 1, \"min\": 0.5137632144682643, \"max\": 0.5137632144682643}}}\u001b[0m\n",
            "\u001b[34m#metrics {\"StartTime\": 1650550061.762521, \"EndTime\": 1650550061.7625377, \"Dimensions\": {\"Algorithm\": \"Linear Learner\", \"Host\": \"algo-1\", \"Operation\": \"training\", \"epoch\": 3, \"model\": 25}, \"Metrics\": {\"validation_binary_classification_cross_entropy_objective\": {\"sum\": 0.5144386256286078, \"count\": 1, \"min\": 0.5144386256286078, \"max\": 0.5144386256286078}}}\u001b[0m\n",
            "\u001b[34m#metrics {\"StartTime\": 1650550061.762586, \"EndTime\": 1650550061.762603, \"Dimensions\": {\"Algorithm\": \"Linear Learner\", \"Host\": \"algo-1\", \"Operation\": \"training\", \"epoch\": 3, \"model\": 26}, \"Metrics\": {\"validation_binary_classification_cross_entropy_objective\": {\"sum\": 0.5137631152052977, \"count\": 1, \"min\": 0.5137631152052977, \"max\": 0.5137631152052977}}}\u001b[0m\n",
            "\u001b[34m#metrics {\"StartTime\": 1650550061.7626545, \"EndTime\": 1650550061.76267, \"Dimensions\": {\"Algorithm\": \"Linear Learner\", \"Host\": \"algo-1\", \"Operation\": \"training\", \"epoch\": 3, \"model\": 27}, \"Metrics\": {\"validation_binary_classification_cross_entropy_objective\": {\"sum\": 0.5144437936467474, \"count\": 1, \"min\": 0.5144437936467474, \"max\": 0.5144437936467474}}}\u001b[0m\n",
            "\u001b[34m#metrics {\"StartTime\": 1650550061.7627237, \"EndTime\": 1650550061.7627397, \"Dimensions\": {\"Algorithm\": \"Linear Learner\", \"Host\": \"algo-1\", \"Operation\": \"training\", \"epoch\": 3, \"model\": 28}, \"Metrics\": {\"validation_binary_classification_cross_entropy_objective\": {\"sum\": 0.5137622098971882, \"count\": 1, \"min\": 0.5137622098971882, \"max\": 0.5137622098971882}}}\u001b[0m\n",
            "\u001b[34m#metrics {\"StartTime\": 1650550061.7627912, \"EndTime\": 1650550061.7628064, \"Dimensions\": {\"Algorithm\": \"Linear Learner\", \"Host\": \"algo-1\", \"Operation\": \"training\", \"epoch\": 3, \"model\": 29}, \"Metrics\": {\"validation_binary_classification_cross_entropy_objective\": {\"sum\": 0.5138740393315161, \"count\": 1, \"min\": 0.5138740393315161, \"max\": 0.5138740393315161}}}\u001b[0m\n",
            "\u001b[34m#metrics {\"StartTime\": 1650550061.7628598, \"EndTime\": 1650550061.7628753, \"Dimensions\": {\"Algorithm\": \"Linear Learner\", \"Host\": \"algo-1\", \"Operation\": \"training\", \"epoch\": 3, \"model\": 30}, \"Metrics\": {\"validation_binary_classification_cross_entropy_objective\": {\"sum\": 0.5137598037031696, \"count\": 1, \"min\": 0.5137598037031696, \"max\": 0.5137598037031696}}}\u001b[0m\n",
            "\u001b[34m#metrics {\"StartTime\": 1650550061.7629275, \"EndTime\": 1650550061.762945, \"Dimensions\": {\"Algorithm\": \"Linear Learner\", \"Host\": \"algo-1\", \"Operation\": \"training\", \"epoch\": 3, \"model\": 31}, \"Metrics\": {\"validation_binary_classification_cross_entropy_objective\": {\"sum\": 0.5138740436229601, \"count\": 1, \"min\": 0.5138740436229601, \"max\": 0.5138740436229601}}}\u001b[0m\n",
            "\u001b[34m[04/21/2022 14:07:41 INFO 140357410658112] #quality_metric: host=algo-1, epoch=3, validation binary_classification_cross_entropy_objective <loss>=0.49230388545522946\u001b[0m\n",
            "\u001b[34m[04/21/2022 14:07:41 INFO 140357410658112] #early_stopping_criteria_metric: host=algo-1, epoch=3, criteria=binary_classification_cross_entropy_objective, value=0.49230388545522946\u001b[0m\n",
            "\u001b[34m[04/21/2022 14:07:41 INFO 140357410658112] Saving model for epoch: 3\u001b[0m\n",
            "\u001b[34m[04/21/2022 14:07:41 INFO 140357410658112] Saved checkpoint to \"/tmp/tmp5slhrv5k/mx-mod-0000.params\"\u001b[0m\n",
            "\u001b[34m[04/21/2022 14:07:41 INFO 140357410658112] #progress_metric: host=algo-1, completed 26.666666666666668 % of epochs\u001b[0m\n",
            "\u001b[34m#metrics {\"StartTime\": 1650549996.1815271, \"EndTime\": 1650550061.7707264, \"Dimensions\": {\"Algorithm\": \"Linear Learner\", \"Host\": \"algo-1\", \"Operation\": \"training\", \"epoch\": 3, \"Meta\": \"training_data_iter\"}, \"Metrics\": {\"Total Records Seen\": {\"sum\": 5245888.0, \"count\": 1, \"min\": 5245888, \"max\": 5245888}, \"Total Batches Seen\": {\"sum\": 5248.0, \"count\": 1, \"min\": 5248, \"max\": 5248}, \"Max Records Seen Between Resets\": {\"sum\": 1308472.0, \"count\": 1, \"min\": 1308472, \"max\": 1308472}, \"Max Batches Seen Between Resets\": {\"sum\": 1309.0, \"count\": 1, \"min\": 1309, \"max\": 1309}, \"Reset Count\": {\"sum\": 6.0, \"count\": 1, \"min\": 6, \"max\": 6}, \"Number of Records Since Last Reset\": {\"sum\": 1308472.0, \"count\": 1, \"min\": 1308472, \"max\": 1308472}, \"Number of Batches Since Last Reset\": {\"sum\": 1309.0, \"count\": 1, \"min\": 1309, \"max\": 1309}}}\u001b[0m\n",
            "\u001b[34m[04/21/2022 14:07:41 INFO 140357410658112] #throughput_metric: host=algo-1, train throughput=19949.431141412046 records/second\u001b[0m\n",
            "\u001b[34m[2022-04-21 14:08:42.235] [tensorio] [info] epoch_stats={\"data_pipeline\": \"/opt/ml/input/data/train\", \"epoch\": 11, \"duration\": 60449, \"num_examples\": 1309, \"num_bytes\": 549558240}\u001b[0m\n",
            "\u001b[34m#metrics {\"StartTime\": 1650550122.235254, \"EndTime\": 1650550122.2353828, \"Dimensions\": {\"Algorithm\": \"Linear Learner\", \"Host\": \"algo-1\", \"Operation\": \"training\", \"epoch\": 4, \"model\": 0}, \"Metrics\": {\"train_binary_classification_cross_entropy_objective\": {\"sum\": 0.49190161557445466, \"count\": 1, \"min\": 0.49190161557445466, \"max\": 0.49190161557445466}}}\u001b[0m\n",
            "\u001b[34m#metrics {\"StartTime\": 1650550122.235509, \"EndTime\": 1650550122.2355337, \"Dimensions\": {\"Algorithm\": \"Linear Learner\", \"Host\": \"algo-1\", \"Operation\": \"training\", \"epoch\": 4, \"model\": 1}, \"Metrics\": {\"train_binary_classification_cross_entropy_objective\": {\"sum\": 0.49279831968534976, \"count\": 1, \"min\": 0.49279831968534976, \"max\": 0.49279831968534976}}}\u001b[0m\n",
            "\u001b[34m#metrics {\"StartTime\": 1650550122.2355962, \"EndTime\": 1650550122.2356148, \"Dimensions\": {\"Algorithm\": \"Linear Learner\", \"Host\": \"algo-1\", \"Operation\": \"training\", \"epoch\": 4, \"model\": 2}, \"Metrics\": {\"train_binary_classification_cross_entropy_objective\": {\"sum\": 0.4919482390610814, \"count\": 1, \"min\": 0.4919482390610814, \"max\": 0.4919482390610814}}}\u001b[0m\n",
            "\u001b[34m#metrics {\"StartTime\": 1650550122.235675, \"EndTime\": 1650550122.235693, \"Dimensions\": {\"Algorithm\": \"Linear Learner\", \"Host\": \"algo-1\", \"Operation\": \"training\", \"epoch\": 4, \"model\": 3}, \"Metrics\": {\"train_binary_classification_cross_entropy_objective\": {\"sum\": 0.4927981165148067, \"count\": 1, \"min\": 0.4927981165148067, \"max\": 0.4927981165148067}}}\u001b[0m\n",
            "\u001b[34m#metrics {\"StartTime\": 1650550122.23575, \"EndTime\": 1650550122.2357674, \"Dimensions\": {\"Algorithm\": \"Linear Learner\", \"Host\": \"algo-1\", \"Operation\": \"training\", \"epoch\": 4, \"model\": 4}, \"Metrics\": {\"train_binary_classification_cross_entropy_objective\": {\"sum\": 0.49201213220718804, \"count\": 1, \"min\": 0.49201213220718804, \"max\": 0.49201213220718804}}}\u001b[0m\n",
            "\u001b[34m#metrics {\"StartTime\": 1650550122.2358248, \"EndTime\": 1650550122.2358427, \"Dimensions\": {\"Algorithm\": \"Linear Learner\", \"Host\": \"algo-1\", \"Operation\": \"training\", \"epoch\": 4, \"model\": 5}, \"Metrics\": {\"train_binary_classification_cross_entropy_objective\": {\"sum\": 0.5073844456570593, \"count\": 1, \"min\": 0.5073844456570593, \"max\": 0.5073844456570593}}}\u001b[0m\n",
            "\u001b[34m#metrics {\"StartTime\": 1650550122.2358983, \"EndTime\": 1650550122.2359161, \"Dimensions\": {\"Algorithm\": \"Linear Learner\", \"Host\": \"algo-1\", \"Operation\": \"training\", \"epoch\": 4, \"model\": 6}, \"Metrics\": {\"train_binary_classification_cross_entropy_objective\": {\"sum\": 0.49201213234717694, \"count\": 1, \"min\": 0.49201213234717694, \"max\": 0.49201213234717694}}}\u001b[0m\n",
            "\u001b[34m#metrics {\"StartTime\": 1650550122.2359896, \"EndTime\": 1650550122.2360084, \"Dimensions\": {\"Algorithm\": \"Linear Learner\", \"Host\": \"algo-1\", \"Operation\": \"training\", \"epoch\": 4, \"model\": 7}, \"Metrics\": {\"train_binary_classification_cross_entropy_objective\": {\"sum\": 0.5073844373977148, \"count\": 1, \"min\": 0.5073844373977148, \"max\": 0.5073844373977148}}}\u001b[0m\n",
            "\u001b[34m#metrics {\"StartTime\": 1650550122.236075, \"EndTime\": 1650550122.2360938, \"Dimensions\": {\"Algorithm\": \"Linear Learner\", \"Host\": \"algo-1\", \"Operation\": \"training\", \"epoch\": 4, \"model\": 8}, \"Metrics\": {\"train_binary_classification_cross_entropy_objective\": {\"sum\": 0.4920974425336272, \"count\": 1, \"min\": 0.4920974425336272, \"max\": 0.4920974425336272}}}\u001b[0m\n",
            "\u001b[34m#metrics {\"StartTime\": 1650550122.2361631, \"EndTime\": 1650550122.2361813, \"Dimensions\": {\"Algorithm\": \"Linear Learner\", \"Host\": \"algo-1\", \"Operation\": \"training\", \"epoch\": 4, \"model\": 9}, \"Metrics\": {\"train_binary_classification_cross_entropy_objective\": {\"sum\": 0.49295934449642076, \"count\": 1, \"min\": 0.49295934449642076, \"max\": 0.49295934449642076}}}\u001b[0m\n",
            "\u001b[34m#metrics {\"StartTime\": 1650550122.236244, \"EndTime\": 1650550122.236262, \"Dimensions\": {\"Algorithm\": \"Linear Learner\", \"Host\": \"algo-1\", \"Operation\": \"training\", \"epoch\": 4, \"model\": 10}, \"Metrics\": {\"train_binary_classification_cross_entropy_objective\": {\"sum\": 0.4921404239292903, \"count\": 1, \"min\": 0.4921404239292903, \"max\": 0.4921404239292903}}}\u001b[0m\n",
            "\u001b[34m#metrics {\"StartTime\": 1650550122.2363188, \"EndTime\": 1650550122.2363377, \"Dimensions\": {\"Algorithm\": \"Linear Learner\", \"Host\": \"algo-1\", \"Operation\": \"training\", \"epoch\": 4, \"model\": 11}, \"Metrics\": {\"train_binary_classification_cross_entropy_objective\": {\"sum\": 0.4929593457563208, \"count\": 1, \"min\": 0.4929593457563208, \"max\": 0.4929593457563208}}}\u001b[0m\n",
            "\u001b[34m#metrics {\"StartTime\": 1650550122.2363963, \"EndTime\": 1650550122.2364135, \"Dimensions\": {\"Algorithm\": \"Linear Learner\", \"Host\": \"algo-1\", \"Operation\": \"training\", \"epoch\": 4, \"model\": 12}, \"Metrics\": {\"train_binary_classification_cross_entropy_objective\": {\"sum\": 0.4922132033601813, \"count\": 1, \"min\": 0.4922132033601813, \"max\": 0.4922132033601813}}}\u001b[0m\n",
            "\u001b[34m#metrics {\"StartTime\": 1650550122.2364671, \"EndTime\": 1650550122.2364845, \"Dimensions\": {\"Algorithm\": \"Linear Learner\", \"Host\": \"algo-1\", \"Operation\": \"training\", \"epoch\": 4, \"model\": 13}, \"Metrics\": {\"train_binary_classification_cross_entropy_objective\": {\"sum\": 0.5065432970006167, \"count\": 1, \"min\": 0.5065432970006167, \"max\": 0.5065432970006167}}}\u001b[0m\n",
            "\u001b[34m#metrics {\"StartTime\": 1650550122.2365398, \"EndTime\": 1650550122.2365572, \"Dimensions\": {\"Algorithm\": \"Linear Learner\", \"Host\": \"algo-1\", \"Operation\": \"training\", \"epoch\": 4, \"model\": 14}, \"Metrics\": {\"train_binary_classification_cross_entropy_objective\": {\"sum\": 0.4922132040601258, \"count\": 1, \"min\": 0.4922132040601258, \"max\": 0.4922132040601258}}}\u001b[0m\n",
            "\u001b[34m#metrics {\"StartTime\": 1650550122.2366142, \"EndTime\": 1650550122.236632, \"Dimensions\": {\"Algorithm\": \"Linear Learner\", \"Host\": \"algo-1\", \"Operation\": \"training\", \"epoch\": 4, \"model\": 15}, \"Metrics\": {\"train_binary_classification_cross_entropy_objective\": {\"sum\": 0.5065432957173852, \"count\": 1, \"min\": 0.5065432957173852, \"max\": 0.5065432957173852}}}\u001b[0m\n",
            "\u001b[34m#metrics {\"StartTime\": 1650550122.2366889, \"EndTime\": 1650550122.2367067, \"Dimensions\": {\"Algorithm\": \"Linear Learner\", \"Host\": \"algo-1\", \"Operation\": \"training\", \"epoch\": 4, \"model\": 16}, \"Metrics\": {\"train_binary_classification_cross_entropy_objective\": {\"sum\": 0.5077188299803195, \"count\": 1, \"min\": 0.5077188299803195, \"max\": 0.5077188299803195}}}\u001b[0m\n",
            "\u001b[34m#metrics {\"StartTime\": 1650550122.2367704, \"EndTime\": 1650550122.2367883, \"Dimensions\": {\"Algorithm\": \"Linear Learner\", \"Host\": \"algo-1\", \"Operation\": \"training\", \"epoch\": 4, \"model\": 17}, \"Metrics\": {\"train_binary_classification_cross_entropy_objective\": {\"sum\": 0.5079453226958576, \"count\": 1, \"min\": 0.5079453226958576, \"max\": 0.5079453226958576}}}\u001b[0m\n",
            "\u001b[34m#metrics {\"StartTime\": 1650550122.23684, \"EndTime\": 1650550122.2368553, \"Dimensions\": {\"Algorithm\": \"Linear Learner\", \"Host\": \"algo-1\", \"Operation\": \"training\", \"epoch\": 4, \"model\": 18}, \"Metrics\": {\"train_binary_classification_cross_entropy_objective\": {\"sum\": 0.5077338896118537, \"count\": 1, \"min\": 0.5077338896118537, \"max\": 0.5077338896118537}}}\u001b[0m\n",
            "\u001b[34m#metrics {\"StartTime\": 1650550122.2369096, \"EndTime\": 1650550122.236925, \"Dimensions\": {\"Algorithm\": \"Linear Learner\", \"Host\": \"algo-1\", \"Operation\": \"training\", \"epoch\": 4, \"model\": 19}, \"Metrics\": {\"train_binary_classification_cross_entropy_objective\": {\"sum\": 0.5079453229991668, \"count\": 1, \"min\": 0.5079453229991668, \"max\": 0.5079453229991668}}}\u001b[0m\n",
            "\u001b[34m#metrics {\"StartTime\": 1650550122.2369897, \"EndTime\": 1650550122.2370074, \"Dimensions\": {\"Algorithm\": \"Linear Learner\", \"Host\": \"algo-1\", \"Operation\": \"training\", \"epoch\": 4, \"model\": 20}, \"Metrics\": {\"train_binary_classification_cross_entropy_objective\": {\"sum\": 0.5077498283036258, \"count\": 1, \"min\": 0.5077498283036258, \"max\": 0.5077498283036258}}}\u001b[0m\n",
            "\u001b[34m#metrics {\"StartTime\": 1650550122.237062, \"EndTime\": 1650550122.2370803, \"Dimensions\": {\"Algorithm\": \"Linear Learner\", \"Host\": \"algo-1\", \"Operation\": \"training\", \"epoch\": 4, \"model\": 21}, \"Metrics\": {\"train_binary_classification_cross_entropy_objective\": {\"sum\": 0.5103136747634375, \"count\": 1, \"min\": 0.5103136747634375, \"max\": 0.5103136747634375}}}\u001b[0m\n",
            "\u001b[34m#metrics {\"StartTime\": 1650550122.2371347, \"EndTime\": 1650550122.2371523, \"Dimensions\": {\"Algorithm\": \"Linear Learner\", \"Host\": \"algo-1\", \"Operation\": \"training\", \"epoch\": 4, \"model\": 22}, \"Metrics\": {\"train_binary_classification_cross_entropy_objective\": {\"sum\": 0.5077498282336314, \"count\": 1, \"min\": 0.5077498282336314, \"max\": 0.5077498282336314}}}\u001b[0m\n",
            "\u001b[34m#metrics {\"StartTime\": 1650550122.2372065, \"EndTime\": 1650550122.237224, \"Dimensions\": {\"Algorithm\": \"Linear Learner\", \"Host\": \"algo-1\", \"Operation\": \"training\", \"epoch\": 4, \"model\": 23}, \"Metrics\": {\"train_binary_classification_cross_entropy_objective\": {\"sum\": 0.5103136759300115, \"count\": 1, \"min\": 0.5103136759300115, \"max\": 0.5103136759300115}}}\u001b[0m\n",
            "\u001b[34m#metrics {\"StartTime\": 1650550122.2372797, \"EndTime\": 1650550122.237298, \"Dimensions\": {\"Algorithm\": \"Linear Learner\", \"Host\": \"algo-1\", \"Operation\": \"training\", \"epoch\": 4, \"model\": 24}, \"Metrics\": {\"train_binary_classification_cross_entropy_objective\": {\"sum\": 0.5137658561449897, \"count\": 1, \"min\": 0.5137658561449897, \"max\": 0.5137658561449897}}}\u001b[0m\n",
            "\u001b[34m#metrics {\"StartTime\": 1650550122.2373514, \"EndTime\": 1650550122.2373683, \"Dimensions\": {\"Algorithm\": \"Linear Learner\", \"Host\": \"algo-1\", \"Operation\": \"training\", \"epoch\": 4, \"model\": 25}, \"Metrics\": {\"train_binary_classification_cross_entropy_objective\": {\"sum\": 0.5138546359560905, \"count\": 1, \"min\": 0.5138546359560905, \"max\": 0.5138546359560905}}}\u001b[0m\n",
            "\u001b[34m#metrics {\"StartTime\": 1650550122.2374253, \"EndTime\": 1650550122.2374663, \"Dimensions\": {\"Algorithm\": \"Linear Learner\", \"Host\": \"algo-1\", \"Operation\": \"training\", \"epoch\": 4, \"model\": 26}, \"Metrics\": {\"train_binary_classification_cross_entropy_objective\": {\"sum\": 0.5137695863589599, \"count\": 1, \"min\": 0.5137695863589599, \"max\": 0.5137695863589599}}}\u001b[0m\n",
            "\u001b[34m#metrics {\"StartTime\": 1650550122.2375169, \"EndTime\": 1650550122.2375307, \"Dimensions\": {\"Algorithm\": \"Linear Learner\", \"Host\": \"algo-1\", \"Operation\": \"training\", \"epoch\": 4, \"model\": 27}, \"Metrics\": {\"train_binary_classification_cross_entropy_objective\": {\"sum\": 0.5138548568118967, \"count\": 1, \"min\": 0.5138548568118967, \"max\": 0.5138548568118967}}}\u001b[0m\n",
            "\u001b[34m#metrics {\"StartTime\": 1650550122.2375834, \"EndTime\": 1650550122.2375998, \"Dimensions\": {\"Algorithm\": \"Linear Learner\", \"Host\": \"algo-1\", \"Operation\": \"training\", \"epoch\": 4, \"model\": 28}, \"Metrics\": {\"train_binary_classification_cross_entropy_objective\": {\"sum\": 0.5137751199331487, \"count\": 1, \"min\": 0.5137751199331487, \"max\": 0.5137751199331487}}}\u001b[0m\n",
            "\u001b[34m#metrics {\"StartTime\": 1650550122.2376664, \"EndTime\": 1650550122.2376812, \"Dimensions\": {\"Algorithm\": \"Linear Learner\", \"Host\": \"algo-1\", \"Operation\": \"training\", \"epoch\": 4, \"model\": 29}, \"Metrics\": {\"train_binary_classification_cross_entropy_objective\": {\"sum\": 0.5147186165439244, \"count\": 1, \"min\": 0.5147186165439244, \"max\": 0.5147186165439244}}}\u001b[0m\n",
            "\u001b[34m#metrics {\"StartTime\": 1650550122.2377396, \"EndTime\": 1650550122.2377596, \"Dimensions\": {\"Algorithm\": \"Linear Learner\", \"Host\": \"algo-1\", \"Operation\": \"training\", \"epoch\": 4, \"model\": 30}, \"Metrics\": {\"train_binary_classification_cross_entropy_objective\": {\"sum\": 0.5137750953184356, \"count\": 1, \"min\": 0.5137750953184356, \"max\": 0.5137750953184356}}}\u001b[0m\n",
            "\u001b[34m#metrics {\"StartTime\": 1650550122.2378237, \"EndTime\": 1650550122.2378395, \"Dimensions\": {\"Algorithm\": \"Linear Learner\", \"Host\": \"algo-1\", \"Operation\": \"training\", \"epoch\": 4, \"model\": 31}, \"Metrics\": {\"train_binary_classification_cross_entropy_objective\": {\"sum\": 0.5147186158439799, \"count\": 1, \"min\": 0.5147186158439799, \"max\": 0.5147186158439799}}}\u001b[0m\n",
            "\u001b[34m[04/21/2022 14:08:42 INFO 140357410658112] #quality_metric: host=algo-1, epoch=4, train binary_classification_cross_entropy_objective <loss>=0.49190161557445466\u001b[0m\n",
            "\u001b[34m[2022-04-21 14:08:47.618] [tensorio] [info] epoch_stats={\"data_pipeline\": \"/opt/ml/input/data/validation\", \"epoch\": 14, \"duration\": 5345, \"num_examples\": 164, \"num_bytes\": 68694780}\u001b[0m\n",
            "\u001b[34m#metrics {\"StartTime\": 1650550127.6310997, \"EndTime\": 1650550127.631288, \"Dimensions\": {\"Algorithm\": \"Linear Learner\", \"Host\": \"algo-1\", \"Operation\": \"training\", \"epoch\": 4, \"model\": 0}, \"Metrics\": {\"validation_binary_classification_cross_entropy_objective\": {\"sum\": 0.49230331040172715, \"count\": 1, \"min\": 0.49230331040172715, \"max\": 0.49230331040172715}}}\u001b[0m\n",
            "\u001b[34m#metrics {\"StartTime\": 1650550127.631444, \"EndTime\": 1650550127.6314685, \"Dimensions\": {\"Algorithm\": \"Linear Learner\", \"Host\": \"algo-1\", \"Operation\": \"training\", \"epoch\": 4, \"model\": 1}, \"Metrics\": {\"validation_binary_classification_cross_entropy_objective\": {\"sum\": 0.4935839452221035, \"count\": 1, \"min\": 0.4935839452221035, \"max\": 0.4935839452221035}}}\u001b[0m\n",
            "\u001b[34m#metrics {\"StartTime\": 1650550127.6315355, \"EndTime\": 1650550127.6315548, \"Dimensions\": {\"Algorithm\": \"Linear Learner\", \"Host\": \"algo-1\", \"Operation\": \"training\", \"epoch\": 4, \"model\": 2}, \"Metrics\": {\"validation_binary_classification_cross_entropy_objective\": {\"sum\": 0.49232039258804833, \"count\": 1, \"min\": 0.49232039258804833, \"max\": 0.49232039258804833}}}\u001b[0m\n",
            "\u001b[34m#metrics {\"StartTime\": 1650550127.6316133, \"EndTime\": 1650550127.631631, \"Dimensions\": {\"Algorithm\": \"Linear Learner\", \"Host\": \"algo-1\", \"Operation\": \"training\", \"epoch\": 4, \"model\": 3}, \"Metrics\": {\"validation_binary_classification_cross_entropy_objective\": {\"sum\": 0.4935836571355988, \"count\": 1, \"min\": 0.4935836571355988, \"max\": 0.4935836571355988}}}\u001b[0m\n",
            "\u001b[34m#metrics {\"StartTime\": 1650550127.6316903, \"EndTime\": 1650550127.6317086, \"Dimensions\": {\"Algorithm\": \"Linear Learner\", \"Host\": \"algo-1\", \"Operation\": \"training\", \"epoch\": 4, \"model\": 4}, \"Metrics\": {\"validation_binary_classification_cross_entropy_objective\": {\"sum\": 0.49230679654696946, \"count\": 1, \"min\": 0.49230679654696946, \"max\": 0.49230679654696946}}}\u001b[0m\n",
            "\u001b[34m#metrics {\"StartTime\": 1650550127.6317778, \"EndTime\": 1650550127.6317968, \"Dimensions\": {\"Algorithm\": \"Linear Learner\", \"Host\": \"algo-1\", \"Operation\": \"training\", \"epoch\": 4, \"model\": 5}, \"Metrics\": {\"validation_binary_classification_cross_entropy_objective\": {\"sum\": 0.5074590381964253, \"count\": 1, \"min\": 0.5074590381964253, \"max\": 0.5074590381964253}}}\u001b[0m\n",
            "\u001b[34m#metrics {\"StartTime\": 1650550127.6318612, \"EndTime\": 1650550127.6318784, \"Dimensions\": {\"Algorithm\": \"Linear Learner\", \"Host\": \"algo-1\", \"Operation\": \"training\", \"epoch\": 4, \"model\": 6}, \"Metrics\": {\"validation_binary_classification_cross_entropy_objective\": {\"sum\": 0.49230679542746236, \"count\": 1, \"min\": 0.49230679542746236, \"max\": 0.49230679542746236}}}\u001b[0m\n",
            "\u001b[34m#metrics {\"StartTime\": 1650550127.631945, \"EndTime\": 1650550127.6319628, \"Dimensions\": {\"Algorithm\": \"Linear Learner\", \"Host\": \"algo-1\", \"Operation\": \"training\", \"epoch\": 4, \"model\": 7}, \"Metrics\": {\"validation_binary_classification_cross_entropy_objective\": {\"sum\": 0.5074590658109349, \"count\": 1, \"min\": 0.5074590658109349, \"max\": 0.5074590658109349}}}\u001b[0m\n",
            "\u001b[34m#metrics {\"StartTime\": 1650550127.6320283, \"EndTime\": 1650550127.6320508, \"Dimensions\": {\"Algorithm\": \"Linear Learner\", \"Host\": \"algo-1\", \"Operation\": \"training\", \"epoch\": 4, \"model\": 8}, \"Metrics\": {\"validation_binary_classification_cross_entropy_objective\": {\"sum\": 0.49249595687010067, \"count\": 1, \"min\": 0.49249595687010067, \"max\": 0.49249595687010067}}}\u001b[0m\n",
            "\u001b[34m#metrics {\"StartTime\": 1650550127.6321247, \"EndTime\": 1650550127.6321445, \"Dimensions\": {\"Algorithm\": \"Linear Learner\", \"Host\": \"algo-1\", \"Operation\": \"training\", \"epoch\": 4, \"model\": 9}, \"Metrics\": {\"validation_binary_classification_cross_entropy_objective\": {\"sum\": 0.49369211480099734, \"count\": 1, \"min\": 0.49369211480099734, \"max\": 0.49369211480099734}}}\u001b[0m\n",
            "\u001b[34m#metrics {\"StartTime\": 1650550127.6322117, \"EndTime\": 1650550127.6322298, \"Dimensions\": {\"Algorithm\": \"Linear Learner\", \"Host\": \"algo-1\", \"Operation\": \"training\", \"epoch\": 4, \"model\": 10}, \"Metrics\": {\"validation_binary_classification_cross_entropy_objective\": {\"sum\": 0.49251315529858014, \"count\": 1, \"min\": 0.49251315529858014, \"max\": 0.49251315529858014}}}\u001b[0m\n",
            "\u001b[34m#metrics {\"StartTime\": 1650550127.632292, \"EndTime\": 1650550127.632308, \"Dimensions\": {\"Algorithm\": \"Linear Learner\", \"Host\": \"algo-1\", \"Operation\": \"training\", \"epoch\": 4, \"model\": 11}, \"Metrics\": {\"validation_binary_classification_cross_entropy_objective\": {\"sum\": 0.4936921140546593, \"count\": 1, \"min\": 0.4936921140546593, \"max\": 0.4936921140546593}}}\u001b[0m\n",
            "\u001b[34m#metrics {\"StartTime\": 1650550127.6323607, \"EndTime\": 1650550127.6323764, \"Dimensions\": {\"Algorithm\": \"Linear Learner\", \"Host\": \"algo-1\", \"Operation\": \"training\", \"epoch\": 4, \"model\": 12}, \"Metrics\": {\"validation_binary_classification_cross_entropy_objective\": {\"sum\": 0.49252924298938955, \"count\": 1, \"min\": 0.49252924298938955, \"max\": 0.49252924298938955}}}\u001b[0m\n",
            "\u001b[34m#metrics {\"StartTime\": 1650550127.6324286, \"EndTime\": 1650550127.6324446, \"Dimensions\": {\"Algorithm\": \"Linear Learner\", \"Host\": \"algo-1\", \"Operation\": \"training\", \"epoch\": 4, \"model\": 13}, \"Metrics\": {\"validation_binary_classification_cross_entropy_objective\": {\"sum\": 0.5063999215604633, \"count\": 1, \"min\": 0.5063999215604633, \"max\": 0.5063999215604633}}}\u001b[0m\n",
            "\u001b[34m#metrics {\"StartTime\": 1650550127.632494, \"EndTime\": 1650550127.632512, \"Dimensions\": {\"Algorithm\": \"Linear Learner\", \"Host\": \"algo-1\", \"Operation\": \"training\", \"epoch\": 4, \"model\": 14}, \"Metrics\": {\"validation_binary_classification_cross_entropy_objective\": {\"sum\": 0.4925292446686502, \"count\": 1, \"min\": 0.4925292446686502, \"max\": 0.4925292446686502}}}\u001b[0m\n",
            "\u001b[34m#metrics {\"StartTime\": 1650550127.6325638, \"EndTime\": 1650550127.6325786, \"Dimensions\": {\"Algorithm\": \"Linear Learner\", \"Host\": \"algo-1\", \"Operation\": \"training\", \"epoch\": 4, \"model\": 15}, \"Metrics\": {\"validation_binary_classification_cross_entropy_objective\": {\"sum\": 0.5063999090593002, \"count\": 1, \"min\": 0.5063999090593002, \"max\": 0.5063999090593002}}}\u001b[0m\n",
            "\u001b[34m#metrics {\"StartTime\": 1650550127.6326277, \"EndTime\": 1650550127.6326437, \"Dimensions\": {\"Algorithm\": \"Linear Learner\", \"Host\": \"algo-1\", \"Operation\": \"training\", \"epoch\": 4, \"model\": 16}, \"Metrics\": {\"validation_binary_classification_cross_entropy_objective\": {\"sum\": 0.50776799306062, \"count\": 1, \"min\": 0.50776799306062, \"max\": 0.50776799306062}}}\u001b[0m\n",
            "\u001b[34m#metrics {\"StartTime\": 1650550127.632698, \"EndTime\": 1650550127.6327155, \"Dimensions\": {\"Algorithm\": \"Linear Learner\", \"Host\": \"algo-1\", \"Operation\": \"training\", \"epoch\": 4, \"model\": 17}, \"Metrics\": {\"validation_binary_classification_cross_entropy_objective\": {\"sum\": 0.508379172125483, \"count\": 1, \"min\": 0.508379172125483, \"max\": 0.508379172125483}}}\u001b[0m\n",
            "\u001b[34m#metrics {\"StartTime\": 1650550127.6327505, \"EndTime\": 1650550127.6327648, \"Dimensions\": {\"Algorithm\": \"Linear Learner\", \"Host\": \"algo-1\", \"Operation\": \"training\", \"epoch\": 4, \"model\": 18}, \"Metrics\": {\"validation_binary_classification_cross_entropy_objective\": {\"sum\": 0.5077662164027846, \"count\": 1, \"min\": 0.5077662164027846, \"max\": 0.5077662164027846}}}\u001b[0m\n",
            "\u001b[34m#metrics {\"StartTime\": 1650550127.6328158, \"EndTime\": 1650550127.632832, \"Dimensions\": {\"Algorithm\": \"Linear Learner\", \"Host\": \"algo-1\", \"Operation\": \"training\", \"epoch\": 4, \"model\": 19}, \"Metrics\": {\"validation_binary_classification_cross_entropy_objective\": {\"sum\": 0.5083791889180902, \"count\": 1, \"min\": 0.5083791889180902, \"max\": 0.5083791889180902}}}\u001b[0m\n",
            "\u001b[34m#metrics {\"StartTime\": 1650550127.6328855, \"EndTime\": 1650550127.6329033, \"Dimensions\": {\"Algorithm\": \"Linear Learner\", \"Host\": \"algo-1\", \"Operation\": \"training\", \"epoch\": 4, \"model\": 20}, \"Metrics\": {\"validation_binary_classification_cross_entropy_objective\": {\"sum\": 0.5077533599827581, \"count\": 1, \"min\": 0.5077533599827581, \"max\": 0.5077533599827581}}}\u001b[0m\n",
            "\u001b[34m#metrics {\"StartTime\": 1650550127.6329577, \"EndTime\": 1650550127.632975, \"Dimensions\": {\"Algorithm\": \"Linear Learner\", \"Host\": \"algo-1\", \"Operation\": \"training\", \"epoch\": 4, \"model\": 21}, \"Metrics\": {\"validation_binary_classification_cross_entropy_objective\": {\"sum\": 0.510523660265502, \"count\": 1, \"min\": 0.510523660265502, \"max\": 0.510523660265502}}}\u001b[0m\n",
            "\u001b[34m#metrics {\"StartTime\": 1650550127.6330285, \"EndTime\": 1650550127.6330457, \"Dimensions\": {\"Algorithm\": \"Linear Learner\", \"Host\": \"algo-1\", \"Operation\": \"training\", \"epoch\": 4, \"model\": 22}, \"Metrics\": {\"validation_binary_classification_cross_entropy_objective\": {\"sum\": 0.5077533646473711, \"count\": 1, \"min\": 0.5077533646473711, \"max\": 0.5077533646473711}}}\u001b[0m\n",
            "\u001b[34m#metrics {\"StartTime\": 1650550127.6331003, \"EndTime\": 1650550127.633117, \"Dimensions\": {\"Algorithm\": \"Linear Learner\", \"Host\": \"algo-1\", \"Operation\": \"training\", \"epoch\": 4, \"model\": 23}, \"Metrics\": {\"validation_binary_classification_cross_entropy_objective\": {\"sum\": 0.5105236520557829, \"count\": 1, \"min\": 0.5105236520557829, \"max\": 0.5105236520557829}}}\u001b[0m\n",
            "\u001b[34m#metrics {\"StartTime\": 1650550127.6331728, \"EndTime\": 1650550127.633191, \"Dimensions\": {\"Algorithm\": \"Linear Learner\", \"Host\": \"algo-1\", \"Operation\": \"training\", \"epoch\": 4, \"model\": 24}, \"Metrics\": {\"validation_binary_classification_cross_entropy_objective\": {\"sum\": 0.5137605617960898, \"count\": 1, \"min\": 0.5137605617960898, \"max\": 0.5137605617960898}}}\u001b[0m\n",
            "\u001b[34m#metrics {\"StartTime\": 1650550127.633246, \"EndTime\": 1650550127.6332622, \"Dimensions\": {\"Algorithm\": \"Linear Learner\", \"Host\": \"algo-1\", \"Operation\": \"training\", \"epoch\": 4, \"model\": 25}, \"Metrics\": {\"validation_binary_classification_cross_entropy_objective\": {\"sum\": 0.5143059692565666, \"count\": 1, \"min\": 0.5143059692565666, \"max\": 0.5143059692565666}}}\u001b[0m\n",
            "\u001b[34m#metrics {\"StartTime\": 1650550127.6333141, \"EndTime\": 1650550127.6333323, \"Dimensions\": {\"Algorithm\": \"Linear Learner\", \"Host\": \"algo-1\", \"Operation\": \"training\", \"epoch\": 4, \"model\": 26}, \"Metrics\": {\"validation_binary_classification_cross_entropy_objective\": {\"sum\": 0.5137647620003045, \"count\": 1, \"min\": 0.5137647620003045, \"max\": 0.5137647620003045}}}\u001b[0m\n",
            "\u001b[34m#metrics {\"StartTime\": 1650550127.6333847, \"EndTime\": 1650550127.6334007, \"Dimensions\": {\"Algorithm\": \"Linear Learner\", \"Host\": \"algo-1\", \"Operation\": \"training\", \"epoch\": 4, \"model\": 27}, \"Metrics\": {\"validation_binary_classification_cross_entropy_objective\": {\"sum\": 0.5143047049598334, \"count\": 1, \"min\": 0.5143047049598334, \"max\": 0.5143047049598334}}}\u001b[0m\n",
            "\u001b[34m#metrics {\"StartTime\": 1650550127.6334736, \"EndTime\": 1650550127.6334925, \"Dimensions\": {\"Algorithm\": \"Linear Learner\", \"Host\": \"algo-1\", \"Operation\": \"training\", \"epoch\": 4, \"model\": 28}, \"Metrics\": {\"validation_binary_classification_cross_entropy_objective\": {\"sum\": 0.5137658150833567, \"count\": 1, \"min\": 0.5137658150833567, \"max\": 0.5137658150833567}}}\u001b[0m\n",
            "\u001b[34m#metrics {\"StartTime\": 1650550127.6335511, \"EndTime\": 1650550127.6335692, \"Dimensions\": {\"Algorithm\": \"Linear Learner\", \"Host\": \"algo-1\", \"Operation\": \"training\", \"epoch\": 4, \"model\": 29}, \"Metrics\": {\"validation_binary_classification_cross_entropy_objective\": {\"sum\": 0.5140625846720569, \"count\": 1, \"min\": 0.5140625846720569, \"max\": 0.5140625846720569}}}\u001b[0m\n",
            "\u001b[34m#metrics {\"StartTime\": 1650550127.6336322, \"EndTime\": 1650550127.63365, \"Dimensions\": {\"Algorithm\": \"Linear Learner\", \"Host\": \"algo-1\", \"Operation\": \"training\", \"epoch\": 4, \"model\": 30}, \"Metrics\": {\"validation_binary_classification_cross_entropy_objective\": {\"sum\": 0.5137645032075701, \"count\": 1, \"min\": 0.5137645032075701, \"max\": 0.5137645032075701}}}\u001b[0m\n",
            "\u001b[34m#metrics {\"StartTime\": 1650550127.6337054, \"EndTime\": 1650550127.6337242, \"Dimensions\": {\"Algorithm\": \"Linear Learner\", \"Host\": \"algo-1\", \"Operation\": \"training\", \"epoch\": 4, \"model\": 31}, \"Metrics\": {\"validation_binary_classification_cross_entropy_objective\": {\"sum\": 0.5140625852318105, \"count\": 1, \"min\": 0.5140625852318105, \"max\": 0.5140625852318105}}}\u001b[0m\n",
            "\u001b[34m[04/21/2022 14:08:47 INFO 140357410658112] #quality_metric: host=algo-1, epoch=4, validation binary_classification_cross_entropy_objective <loss>=0.49230331040172715\u001b[0m\n",
            "\u001b[34m[04/21/2022 14:08:47 INFO 140357410658112] #early_stopping_criteria_metric: host=algo-1, epoch=4, criteria=binary_classification_cross_entropy_objective, value=0.49230331040172715\u001b[0m\n",
            "\u001b[34m[04/21/2022 14:08:47 INFO 140357410658112] Saving model for epoch: 4\u001b[0m\n",
            "\u001b[34m[04/21/2022 14:08:47 INFO 140357410658112] Saved checkpoint to \"/tmp/tmpm4ojn_dj/mx-mod-0000.params\"\u001b[0m\n",
            "\u001b[34m[04/21/2022 14:08:47 INFO 140357410658112] Early stop condition met. Stopping training.\u001b[0m\n",
            "\u001b[34m[04/21/2022 14:08:47 INFO 140357410658112] #progress_metric: host=algo-1, completed 100 % epochs\u001b[0m\n",
            "\u001b[34m#metrics {\"StartTime\": 1650550061.7849452, \"EndTime\": 1650550127.644653, \"Dimensions\": {\"Algorithm\": \"Linear Learner\", \"Host\": \"algo-1\", \"Operation\": \"training\", \"epoch\": 4, \"Meta\": \"training_data_iter\"}, \"Metrics\": {\"Total Records Seen\": {\"sum\": 6554360.0, \"count\": 1, \"min\": 6554360, \"max\": 6554360}, \"Total Batches Seen\": {\"sum\": 6557.0, \"count\": 1, \"min\": 6557, \"max\": 6557}, \"Max Records Seen Between Resets\": {\"sum\": 1308472.0, \"count\": 1, \"min\": 1308472, \"max\": 1308472}, \"Max Batches Seen Between Resets\": {\"sum\": 1309.0, \"count\": 1, \"min\": 1309, \"max\": 1309}, \"Reset Count\": {\"sum\": 7.0, \"count\": 1, \"min\": 7, \"max\": 7}, \"Number of Records Since Last Reset\": {\"sum\": 1308472.0, \"count\": 1, \"min\": 1308472, \"max\": 1308472}, \"Number of Batches Since Last Reset\": {\"sum\": 1309.0, \"count\": 1, \"min\": 1309, \"max\": 1309}}}\u001b[0m\n",
            "\u001b[34m[04/21/2022 14:08:47 INFO 140357410658112] #throughput_metric: host=algo-1, train throughput=19867.495843881537 records/second\u001b[0m\n",
            "\u001b[34m[04/21/2022 14:08:47 WARNING 140357410658112] wait_for_all_workers will not sync workers since the kv store is not running distributed\u001b[0m\n",
            "\u001b[34m[04/21/2022 14:08:47 WARNING 140357410658112] wait_for_all_workers will not sync workers since the kv store is not running distributed\u001b[0m\n",
            "\u001b[34m[2022-04-21 14:08:52.938] [tensorio] [info] epoch_stats={\"data_pipeline\": \"/opt/ml/input/data/validation\", \"epoch\": 17, \"duration\": 5271, \"num_examples\": 164, \"num_bytes\": 68694780}\u001b[0m\n",
            "\u001b[34m[04/21/2022 14:08:52 INFO 140357410658112] #early_stopping_criteria_metric: host=algo-1, epoch=4, criteria=binary_classification_cross_entropy_objective, value=0.49230331040172715\u001b[0m\n",
            "\u001b[34m[2022-04-21 14:08:53.827] [tensorio] [info] epoch_stats={\"data_pipeline\": \"/opt/ml/input/data/validation\", \"epoch\": 19, \"duration\": 871, \"num_examples\": 164, \"num_bytes\": 68694780}\u001b[0m\n",
            "\u001b[34m[04/21/2022 14:08:54 INFO 140357410658112] #validation_score (algo-1) : ('binary_classification_cross_entropy_objective', 0.49270368907039086)\u001b[0m\n",
            "\u001b[34m[04/21/2022 14:08:54 INFO 140357410658112] #validation_score (algo-1) : ('binary_classification_accuracy', 0.7902224885209619)\u001b[0m\n",
            "\u001b[34m[04/21/2022 14:08:54 INFO 140357410658112] #validation_score (algo-1) : ('binary_f_1.000', 0.009583465635193257)\u001b[0m\n",
            "\u001b[34m[04/21/2022 14:08:54 INFO 140357410658112] #validation_score (algo-1) : ('precision', 0.535483870967742)\u001b[0m\n",
            "\u001b[34m[04/21/2022 14:08:54 INFO 140357410658112] #validation_score (algo-1) : ('recall', 0.0048349983980427)\u001b[0m\n",
            "\u001b[34m[04/21/2022 14:08:54 INFO 140357410658112] #validation_score (algo-1) : ('roc_auc_score', 0.6429463556197512)\u001b[0m\n",
            "\u001b[34m[04/21/2022 14:08:54 INFO 140357410658112] #validation_score (algo-1) : ('binary_balanced_accuracy', 0.5)\u001b[0m\n",
            "\u001b[34m[04/21/2022 14:08:54 INFO 140357410658112] #validation_score (algo-1) : ('binary_log_loss', 0.7533094628447967)\u001b[0m\n",
            "\u001b[34m[04/21/2022 14:08:54 INFO 140357410658112] #quality_metric: host=algo-1, validation binary_classification_cross_entropy_objective <loss>=0.49270368907039086\u001b[0m\n",
            "\u001b[34m[04/21/2022 14:08:54 INFO 140357410658112] #quality_metric: host=algo-1, validation binary_classification_accuracy <score>=0.7902224885209619\u001b[0m\n",
            "\u001b[34m[04/21/2022 14:08:54 INFO 140357410658112] #quality_metric: host=algo-1, validation binary_f_1.000 <score>=0.009583465635193257\u001b[0m\n",
            "\u001b[34m[04/21/2022 14:08:54 INFO 140357410658112] #quality_metric: host=algo-1, validation precision <score>=0.535483870967742\u001b[0m\n",
            "\u001b[34m[04/21/2022 14:08:54 INFO 140357410658112] #quality_metric: host=algo-1, validation recall <score>=0.0048349983980427\u001b[0m\n",
            "\u001b[34m[04/21/2022 14:08:54 INFO 140357410658112] #quality_metric: host=algo-1, validation roc_auc_score <score>=0.6429463556197512\u001b[0m\n",
            "\u001b[34m[04/21/2022 14:08:54 INFO 140357410658112] #quality_metric: host=algo-1, validation binary_balanced_accuracy <score>=0.5\u001b[0m\n",
            "\u001b[34m[04/21/2022 14:08:54 INFO 140357410658112] #quality_metric: host=algo-1, validation binary_log_loss <score>=0.7533094628447967\u001b[0m\n",
            "\u001b[34m[04/21/2022 14:08:54 INFO 140357410658112] Best model found for hyperparameters: {\"optimizer\": \"adam\", \"learning_rate\": 0.005, \"l1\": 0.0, \"wd\": 0.0001, \"lr_scheduler_step\": 10, \"lr_scheduler_factor\": 0.99, \"lr_scheduler_minimum_lr\": 1e-05}\u001b[0m\n",
            "\u001b[34m[04/21/2022 14:08:54 INFO 140357410658112] Saved checkpoint to \"/tmp/tmp4f5_4o8y/mx-mod-0000.params\"\u001b[0m\n",
            "\u001b[34m[2022-04-21 14:08:54.204] [tensorio] [info] epoch_stats={\"data_pipeline\": \"/opt/ml/input/data/test\", \"epoch\": 0, \"duration\": 337165, \"num_examples\": 1, \"num_bytes\": 420000}\u001b[0m\n",
            "\u001b[34m[2022-04-21 14:08:55.126] [tensorio] [info] epoch_stats={\"data_pipeline\": \"/opt/ml/input/data/test\", \"epoch\": 1, \"duration\": 920, \"num_examples\": 164, \"num_bytes\": 68694780}\u001b[0m\n",
            "\u001b[34m#metrics {\"StartTime\": 1650550134.2015176, \"EndTime\": 1650550135.444097, \"Dimensions\": {\"Algorithm\": \"Linear Learner\", \"Host\": \"algo-1\", \"Operation\": \"training\", \"Meta\": \"test_data_iter\"}, \"Metrics\": {\"Total Records Seen\": {\"sum\": 163559.0, \"count\": 1, \"min\": 163559, \"max\": 163559}, \"Total Batches Seen\": {\"sum\": 164.0, \"count\": 1, \"min\": 164, \"max\": 164}, \"Max Records Seen Between Resets\": {\"sum\": 163559.0, \"count\": 1, \"min\": 163559, \"max\": 163559}, \"Max Batches Seen Between Resets\": {\"sum\": 164.0, \"count\": 1, \"min\": 164, \"max\": 164}, \"Reset Count\": {\"sum\": 1.0, \"count\": 1, \"min\": 1, \"max\": 1}, \"Number of Records Since Last Reset\": {\"sum\": 163559.0, \"count\": 1, \"min\": 163559, \"max\": 163559}, \"Number of Batches Since Last Reset\": {\"sum\": 164.0, \"count\": 1, \"min\": 164, \"max\": 164}}}\u001b[0m\n",
            "\u001b[34m[04/21/2022 14:08:55 INFO 140357410658112] #test_score (algo-1) : ('binary_classification_cross_entropy_objective', 0.49257096646084375)\u001b[0m\n",
            "\u001b[34m[04/21/2022 14:08:55 INFO 140357410658112] #test_score (algo-1) : ('binary_classification_accuracy', 0.7902469445276628)\u001b[0m\n",
            "\u001b[34m[04/21/2022 14:08:55 INFO 140357410658112] #test_score (algo-1) : ('binary_f_1.000', 0.009470189115057023)\u001b[0m\n",
            "\u001b[34m[04/21/2022 14:08:55 INFO 140357410658112] #test_score (algo-1) : ('precision', 0.543046357615894)\u001b[0m\n",
            "\u001b[34m[04/21/2022 14:08:55 INFO 140357410658112] #test_score (algo-1) : ('recall', 0.004776745405295197)\u001b[0m\n",
            "\u001b[34m[04/21/2022 14:08:55 INFO 140357410658112] #test_score (algo-1) : ('roc_auc_score', 0.6426896266711857)\u001b[0m\n",
            "\u001b[34m[04/21/2022 14:08:55 INFO 140357410658112] #test_score (algo-1) : ('binary_balanced_accuracy', 0.5)\u001b[0m\n",
            "\u001b[34m[04/21/2022 14:08:55 INFO 140357410658112] #test_score (algo-1) : ('binary_log_loss', 0.7532040187925425)\u001b[0m\n",
            "\u001b[34m[04/21/2022 14:08:55 INFO 140357410658112] #quality_metric: host=algo-1, test binary_classification_cross_entropy_objective <loss>=0.49257096646084375\u001b[0m\n",
            "\u001b[34m[04/21/2022 14:08:55 INFO 140357410658112] #quality_metric: host=algo-1, test binary_classification_accuracy <score>=0.7902469445276628\u001b[0m\n",
            "\u001b[34m[04/21/2022 14:08:55 INFO 140357410658112] #quality_metric: host=algo-1, test binary_f_1.000 <score>=0.009470189115057023\u001b[0m\n",
            "\u001b[34m[04/21/2022 14:08:55 INFO 140357410658112] #quality_metric: host=algo-1, test precision <score>=0.543046357615894\u001b[0m\n",
            "\u001b[34m[04/21/2022 14:08:55 INFO 140357410658112] #quality_metric: host=algo-1, test recall <score>=0.004776745405295197\u001b[0m\n",
            "\u001b[34m[04/21/2022 14:08:55 INFO 140357410658112] #quality_metric: host=algo-1, test roc_auc_score <score>=0.6426896266711857\u001b[0m\n",
            "\u001b[34m[04/21/2022 14:08:55 INFO 140357410658112] #quality_metric: host=algo-1, test binary_balanced_accuracy <score>=0.5\u001b[0m\n",
            "\u001b[34m[04/21/2022 14:08:55 INFO 140357410658112] #quality_metric: host=algo-1, test binary_log_loss <score>=0.7532040187925425\u001b[0m\n",
            "\u001b[34m#metrics {\"StartTime\": 1650549797.0158608, \"EndTime\": 1650550135.4541225, \"Dimensions\": {\"Algorithm\": \"Linear Learner\", \"Host\": \"algo-1\", \"Operation\": \"training\"}, \"Metrics\": {\"initialize.time\": {\"sum\": 436.0544681549072, \"count\": 1, \"min\": 436.0544681549072, \"max\": 436.0544681549072}, \"epochs\": {\"sum\": 15.0, \"count\": 1, \"min\": 15, \"max\": 15}, \"check_early_stopping.time\": {\"sum\": 3.072023391723633, \"count\": 6, \"min\": 0.28443336486816406, \"max\": 1.1477470397949219}, \"update.time\": {\"sum\": 330092.0350551605, \"count\": 5, \"min\": 65585.88457107544, \"max\": 66493.60203742981}, \"finalize.time\": {\"sum\": 6552.734375, \"count\": 1, \"min\": 6552.734375, \"max\": 6552.734375}, \"setuptime\": {\"sum\": 29.085397720336914, \"count\": 1, \"min\": 29.085397720336914, \"max\": 29.085397720336914}, \"totaltime\": {\"sum\": 338693.56322288513, \"count\": 1, \"min\": 338693.56322288513, \"max\": 338693.56322288513}}}\u001b[0m\n",
            "\u001b[34m[04/21/2022 14:08:55 INFO 140357410658112 integration.py:636] worker closed\u001b[0m\n",
            "\n",
            "2022-04-21 14:09:22 Uploading - Uploading generated training model\n",
            "2022-04-21 14:09:22 Completed - Training job completed\n",
            "Training seconds: 454\n",
            "Billable seconds: 454\n"
          ]
        }
      ],
      "source": [
        "### Fit the classifier\n",
        "classifier_estimator.fit([train_records,val_records,test_records])"
      ]
    },
    {
      "cell_type": "markdown",
      "metadata": {
        "id": "eArvSeTnP-_a"
      },
      "source": [
        "## Model evaluation\n",
        "In this section, you will evaluate your trained model. "
      ]
    },
    {
      "cell_type": "markdown",
      "metadata": {
        "id": "2-6yKSTlP-_a"
      },
      "source": [
        "First, examine the metrics for the training job:"
      ]
    },
    {
      "cell_type": "code",
      "execution_count": null,
      "metadata": {
        "id": "5_f_KmrSP-_a",
        "outputId": "6dd54b39-6001-48d3-87f0-51f18cef3096"
      },
      "outputs": [
        {
          "data": {
            "text/html": [
              "<div>\n",
              "<style scoped>\n",
              "    .dataframe tbody tr th:only-of-type {\n",
              "        vertical-align: middle;\n",
              "    }\n",
              "\n",
              "    .dataframe tbody tr th {\n",
              "        vertical-align: top;\n",
              "    }\n",
              "\n",
              "    .dataframe thead th {\n",
              "        text-align: right;\n",
              "    }\n",
              "</style>\n",
              "<table border=\"1\" class=\"dataframe\">\n",
              "  <thead>\n",
              "    <tr style=\"text-align: right;\">\n",
              "      <th></th>\n",
              "      <th>timestamp</th>\n",
              "      <th>metric_name</th>\n",
              "      <th>value</th>\n",
              "    </tr>\n",
              "  </thead>\n",
              "  <tbody>\n",
              "    <tr>\n",
              "      <th>0</th>\n",
              "      <td>0.0</td>\n",
              "      <td>test:objective_loss</td>\n",
              "      <td>0.492571</td>\n",
              "    </tr>\n",
              "    <tr>\n",
              "      <th>1</th>\n",
              "      <td>0.0</td>\n",
              "      <td>test:binary_f_beta</td>\n",
              "      <td>0.009470</td>\n",
              "    </tr>\n",
              "    <tr>\n",
              "      <th>2</th>\n",
              "      <td>0.0</td>\n",
              "      <td>test:precision</td>\n",
              "      <td>0.543046</td>\n",
              "    </tr>\n",
              "    <tr>\n",
              "      <th>3</th>\n",
              "      <td>0.0</td>\n",
              "      <td>test:recall</td>\n",
              "      <td>0.004777</td>\n",
              "    </tr>\n",
              "  </tbody>\n",
              "</table>\n",
              "</div>"
            ],
            "text/plain": [
              "   timestamp          metric_name     value\n",
              "0        0.0  test:objective_loss  0.492571\n",
              "1        0.0   test:binary_f_beta  0.009470\n",
              "2        0.0       test:precision  0.543046\n",
              "3        0.0          test:recall  0.004777"
            ]
          },
          "execution_count": 52,
          "metadata": {},
          "output_type": "execute_result"
        }
      ],
      "source": [
        "sagemaker.analytics.TrainingJobAnalytics(classifier_estimator._current_job_name, \n",
        "                                         metric_names = ['test:objective_loss', \n",
        "                                                         'test:binary_f_beta',\n",
        "                                                         'test:precision',\n",
        "                                                         'test:recall']\n",
        "                                        ).dataframe()"
      ]
    },
    {
      "cell_type": "markdown",
      "metadata": {
        "id": "lF8z8vUzP-_a"
      },
      "source": [
        "Next, set up some functions that will help load the test data into Amazon S3 and perform a prediction by using the batch prediction function. Using batch prediction will help reduce costs because the instances will only run when predictions are performed on the supplied test data.\n",
        "\n",
        "**Note:** Replace `<LabBucketName>` with the name of the lab bucket that was created during the lab setup."
      ]
    },
    {
      "cell_type": "code",
      "execution_count": null,
      "metadata": {
        "id": "y6IhjUmZP-_a"
      },
      "outputs": [],
      "source": [
        "import io\n",
        "bucket='sagemaker-us-east-1-371966911999'\n",
        "prefix='flight-linear'\n",
        "train_file='flight_train.csv'\n",
        "test_file='flight_test.csv'\n",
        "validate_file='flight_validate.csv'\n",
        "whole_file='flight.csv'\n",
        "s3_resource = boto3.Session().resource('s3')\n",
        "\n",
        "def upload_s3_csv(filename, folder, dataframe):\n",
        "    csv_buffer = io.StringIO()\n",
        "    dataframe.to_csv(csv_buffer, header=False, index=False )\n",
        "    s3_resource.Bucket(bucket).Object(os.path.join(prefix, folder, filename)).put(Body=csv_buffer.getvalue())"
      ]
    },
    {
      "cell_type": "code",
      "execution_count": null,
      "metadata": {
        "id": "Ow0HohngP-_a"
      },
      "outputs": [],
      "source": [
        "def batch_linear_predict(test_data, estimator):\n",
        "    batch_X = test_data.iloc[:,1:];\n",
        "    batch_X_file='batch-in.csv'\n",
        "    upload_s3_csv(batch_X_file, 'batch-in', batch_X)\n",
        "\n",
        "    batch_output = \"s3://{}/{}/batch-out/\".format(bucket,prefix)\n",
        "    batch_input = \"s3://{}/{}/batch-in/{}\".format(bucket,prefix,batch_X_file)\n",
        "\n",
        "    classifier_transformer = estimator.transformer(instance_count=1,\n",
        "                                           instance_type='ml.m4.xlarge',\n",
        "                                           strategy='MultiRecord',\n",
        "                                           assemble_with='Line',\n",
        "                                           output_path=batch_output)\n",
        "\n",
        "    classifier_transformer.transform(data=batch_input,\n",
        "                             data_type='S3Prefix',\n",
        "                             content_type='text/csv',\n",
        "                             split_type='Line')\n",
        "    \n",
        "    classifier_transformer.wait()\n",
        "\n",
        "    s3 = boto3.client('s3')\n",
        "    obj = s3.get_object(Bucket=bucket, Key=\"{}/batch-out/{}\".format(prefix,'batch-in.csv.out'))\n",
        "    target_predicted_df = pd.read_json(io.BytesIO(obj['Body'].read()),orient=\"records\",lines=True)\n",
        "    return test_data.iloc[:,0], target_predicted_df.iloc[:,0]"
      ]
    },
    {
      "cell_type": "markdown",
      "metadata": {
        "id": "VeusnywdP-_b"
      },
      "source": [
        "\n",
        "To run the predictions on the test dataset, run the `batch_linear_predict` function (which was defined previously) on your test dataset.\n"
      ]
    },
    {
      "cell_type": "code",
      "execution_count": null,
      "metadata": {
        "id": "-_LhkqCwP-_b",
        "outputId": "8e9f54a0-f92c-4aee-cfb3-3439d3b4a76f"
      },
      "outputs": [
        {
          "name": "stderr",
          "output_type": "stream",
          "text": [
            "Defaulting to the only supported framework/algorithm version: 1. Ignoring framework/algorithm version: 1.\n"
          ]
        },
        {
          "name": "stdout",
          "output_type": "stream",
          "text": [
            ".................................\u001b[34mDocker entrypoint called with argument(s): serve\u001b[0m\n",
            "\u001b[34mRunning default environment configuration script\u001b[0m\n",
            "\u001b[34m[04/21/2022 14:18:56 INFO 139896720631616] loaded entry point class algorithm.serve.server_config:config_api\u001b[0m\n",
            "\u001b[34m[04/21/2022 14:18:56 INFO 139896720631616] loading entry points\u001b[0m\n",
            "\u001b[34m[04/21/2022 14:18:56 INFO 139896720631616] loaded request iterator application/json\u001b[0m\n",
            "\u001b[34m[04/21/2022 14:18:56 INFO 139896720631616] loaded request iterator application/jsonlines\u001b[0m\n",
            "\u001b[34m[04/21/2022 14:18:56 INFO 139896720631616] loaded request iterator application/x-recordio-protobuf\u001b[0m\n",
            "\u001b[34m[04/21/2022 14:18:56 INFO 139896720631616] loaded request iterator text/csv\u001b[0m\n",
            "\u001b[34m[04/21/2022 14:18:56 INFO 139896720631616] loaded response encoder application/json\u001b[0m\n",
            "\u001b[34m[04/21/2022 14:18:56 INFO 139896720631616] loaded response encoder application/jsonlines\u001b[0m\n",
            "\u001b[34m[04/21/2022 14:18:56 INFO 139896720631616] loaded response encoder application/x-recordio-protobuf\u001b[0m\n",
            "\u001b[34m[04/21/2022 14:18:56 INFO 139896720631616] loaded response encoder text/csv\u001b[0m\n",
            "\u001b[34m[04/21/2022 14:18:56 INFO 139896720631616] loaded entry point class algorithm:model\u001b[0m\n",
            "\u001b[34m[04/21/2022 14:18:56 INFO 139896720631616] Number of server workers: 4\u001b[0m\n",
            "\u001b[34m[04/21/2022 14:18:56 INFO 139896720631616] loading model...\u001b[0m\n",
            "\u001b[34m[04/21/2022 14:18:56 INFO 139896720631616] ...model loaded.\u001b[0m\n",
            "\u001b[34m[2022-04-21 14:18:56 +0000] [1] [INFO] Starting gunicorn 20.1.0\u001b[0m\n",
            "\u001b[34m[2022-04-21 14:18:56 +0000] [1] [INFO] Listening at: http://0.0.0.0:8080 (1)\u001b[0m\n",
            "\u001b[34m[2022-04-21 14:18:56 +0000] [1] [INFO] Using worker: sync\u001b[0m\n",
            "\u001b[34m[2022-04-21 14:18:56 +0000] [60] [INFO] Booting worker with pid: 60\u001b[0m\n",
            "\u001b[34m[2022-04-21 14:18:56 +0000] [69] [INFO] Booting worker with pid: 69\u001b[0m\n",
            "\u001b[34m[2022-04-21 14:18:56 +0000] [78] [INFO] Booting worker with pid: 78\u001b[0m\n",
            "\u001b[34m[2022-04-21 14:18:56 +0000] [87] [INFO] Booting worker with pid: 87\u001b[0m\n",
            "\u001b[34m#metrics {\"StartTime\": 1650550736.6178167, \"EndTime\": 1650550737.653325, \"Dimensions\": {\"Algorithm\": \"LinearLearnerModel\", \"Host\": \"UNKNOWN\", \"Operation\": \"scoring\"}, \"Metrics\": {\"execution_parameters.count\": {\"sum\": 1.0, \"count\": 1, \"min\": 1, \"max\": 1}}}\u001b[0m\n",
            "\u001b[32m2022-04-21T14:18:57.659:[sagemaker logs]: MaxConcurrentTransforms=4, MaxPayloadInMB=6, BatchStrategy=MULTI_RECORD\u001b[0m\n",
            "\u001b[34m#metrics {\"StartTime\": 1650550736.6178167, \"EndTime\": 1650550740.4049878, \"Dimensions\": {\"Algorithm\": \"LinearLearnerModel\", \"Host\": \"UNKNOWN\", \"Operation\": \"scoring\"}, \"Metrics\": {\"json.encoder.time\": {\"sum\": 153.92446517944336, \"count\": 1, \"min\": 153.92446517944336, \"max\": 153.92446517944336}, \"invocations.count\": {\"sum\": 1.0, \"count\": 1, \"min\": 1, \"max\": 1}}}\u001b[0m\n",
            "\u001b[34m#metrics {\"StartTime\": 1650550736.6178167, \"EndTime\": 1650550740.4393675, \"Dimensions\": {\"Algorithm\": \"LinearLearnerModel\", \"Host\": \"UNKNOWN\", \"Operation\": \"scoring\"}, \"Metrics\": {\"json.encoder.time\": {\"sum\": 154.47640419006348, \"count\": 1, \"min\": 154.47640419006348, \"max\": 154.47640419006348}, \"invocations.count\": {\"sum\": 1.0, \"count\": 1, \"min\": 1, \"max\": 1}}}\u001b[0m\n",
            "\u001b[34m#metrics {\"StartTime\": 1650550737.6534643, \"EndTime\": 1650550740.6184707, \"Dimensions\": {\"Algorithm\": \"LinearLearnerModel\", \"Host\": \"UNKNOWN\", \"Operation\": \"scoring\"}, \"Metrics\": {\"json.encoder.time\": {\"sum\": 140.2583122253418, \"count\": 1, \"min\": 140.2583122253418, \"max\": 140.2583122253418}, \"invocations.count\": {\"sum\": 1.0, \"count\": 1, \"min\": 1, \"max\": 1}}}\u001b[0m\n",
            "\u001b[34m#metrics {\"StartTime\": 1650550736.6178167, \"EndTime\": 1650550740.6236615, \"Dimensions\": {\"Algorithm\": \"LinearLearnerModel\", \"Host\": \"UNKNOWN\", \"Operation\": \"scoring\"}, \"Metrics\": {\"json.encoder.time\": {\"sum\": 153.2421112060547, \"count\": 1, \"min\": 153.2421112060547, \"max\": 153.2421112060547}, \"invocations.count\": {\"sum\": 1.0, \"count\": 1, \"min\": 1, \"max\": 1}}}\u001b[0m\n",
            "\u001b[35m#metrics {\"StartTime\": 1650550736.6178167, \"EndTime\": 1650550740.4049878, \"Dimensions\": {\"Algorithm\": \"LinearLearnerModel\", \"Host\": \"UNKNOWN\", \"Operation\": \"scoring\"}, \"Metrics\": {\"json.encoder.time\": {\"sum\": 153.92446517944336, \"count\": 1, \"min\": 153.92446517944336, \"max\": 153.92446517944336}, \"invocations.count\": {\"sum\": 1.0, \"count\": 1, \"min\": 1, \"max\": 1}}}\u001b[0m\n",
            "\u001b[35m#metrics {\"StartTime\": 1650550736.6178167, \"EndTime\": 1650550740.4393675, \"Dimensions\": {\"Algorithm\": \"LinearLearnerModel\", \"Host\": \"UNKNOWN\", \"Operation\": \"scoring\"}, \"Metrics\": {\"json.encoder.time\": {\"sum\": 154.47640419006348, \"count\": 1, \"min\": 154.47640419006348, \"max\": 154.47640419006348}, \"invocations.count\": {\"sum\": 1.0, \"count\": 1, \"min\": 1, \"max\": 1}}}\u001b[0m\n",
            "\u001b[35m#metrics {\"StartTime\": 1650550737.6534643, \"EndTime\": 1650550740.6184707, \"Dimensions\": {\"Algorithm\": \"LinearLearnerModel\", \"Host\": \"UNKNOWN\", \"Operation\": \"scoring\"}, \"Metrics\": {\"json.encoder.time\": {\"sum\": 140.2583122253418, \"count\": 1, \"min\": 140.2583122253418, \"max\": 140.2583122253418}, \"invocations.count\": {\"sum\": 1.0, \"count\": 1, \"min\": 1, \"max\": 1}}}\u001b[0m\n",
            "\u001b[35m#metrics {\"StartTime\": 1650550736.6178167, \"EndTime\": 1650550740.6236615, \"Dimensions\": {\"Algorithm\": \"LinearLearnerModel\", \"Host\": \"UNKNOWN\", \"Operation\": \"scoring\"}, \"Metrics\": {\"json.encoder.time\": {\"sum\": 153.2421112060547, \"count\": 1, \"min\": 153.2421112060547, \"max\": 153.2421112060547}, \"invocations.count\": {\"sum\": 1.0, \"count\": 1, \"min\": 1, \"max\": 1}}}\u001b[0m\n",
            "\u001b[34m#metrics {\"StartTime\": 1650550740.4051683, \"EndTime\": 1650550741.3710525, \"Dimensions\": {\"Algorithm\": \"LinearLearnerModel\", \"Host\": \"UNKNOWN\", \"Operation\": \"scoring\"}, \"Metrics\": {\"json.encoder.time\": {\"sum\": 67.55399703979492, \"count\": 1, \"min\": 67.55399703979492, \"max\": 67.55399703979492}, \"invocations.count\": {\"sum\": 1.0, \"count\": 1, \"min\": 1, \"max\": 1}}}\u001b[0m\n",
            "\u001b[35m#metrics {\"StartTime\": 1650550740.4051683, \"EndTime\": 1650550741.3710525, \"Dimensions\": {\"Algorithm\": \"LinearLearnerModel\", \"Host\": \"UNKNOWN\", \"Operation\": \"scoring\"}, \"Metrics\": {\"json.encoder.time\": {\"sum\": 67.55399703979492, \"count\": 1, \"min\": 67.55399703979492, \"max\": 67.55399703979492}, \"invocations.count\": {\"sum\": 1.0, \"count\": 1, \"min\": 1, \"max\": 1}}}\u001b[0m\n",
            "\n",
            "\u001b[34mDocker entrypoint called with argument(s): serve\u001b[0m\n",
            "\u001b[34mRunning default environment configuration script\u001b[0m\n",
            "\u001b[35mDocker entrypoint called with argument(s): serve\u001b[0m\n",
            "\u001b[35mRunning default environment configuration script\u001b[0m\n",
            "\u001b[34m[04/21/2022 14:18:56 INFO 139896720631616] loaded entry point class algorithm.serve.server_config:config_api\u001b[0m\n",
            "\u001b[34m[04/21/2022 14:18:56 INFO 139896720631616] loading entry points\u001b[0m\n",
            "\u001b[34m[04/21/2022 14:18:56 INFO 139896720631616] loaded request iterator application/json\u001b[0m\n",
            "\u001b[34m[04/21/2022 14:18:56 INFO 139896720631616] loaded request iterator application/jsonlines\u001b[0m\n",
            "\u001b[34m[04/21/2022 14:18:56 INFO 139896720631616] loaded request iterator application/x-recordio-protobuf\u001b[0m\n",
            "\u001b[34m[04/21/2022 14:18:56 INFO 139896720631616] loaded request iterator text/csv\u001b[0m\n",
            "\u001b[34m[04/21/2022 14:18:56 INFO 139896720631616] loaded response encoder application/json\u001b[0m\n",
            "\u001b[34m[04/21/2022 14:18:56 INFO 139896720631616] loaded response encoder application/jsonlines\u001b[0m\n",
            "\u001b[34m[04/21/2022 14:18:56 INFO 139896720631616] loaded response encoder application/x-recordio-protobuf\u001b[0m\n",
            "\u001b[34m[04/21/2022 14:18:56 INFO 139896720631616] loaded response encoder text/csv\u001b[0m\n",
            "\u001b[34m[04/21/2022 14:18:56 INFO 139896720631616] loaded entry point class algorithm:model\u001b[0m\n",
            "\u001b[34m[04/21/2022 14:18:56 INFO 139896720631616] Number of server workers: 4\u001b[0m\n",
            "\u001b[34m[04/21/2022 14:18:56 INFO 139896720631616] loading model...\u001b[0m\n",
            "\u001b[34m[04/21/2022 14:18:56 INFO 139896720631616] ...model loaded.\u001b[0m\n",
            "\u001b[34m[2022-04-21 14:18:56 +0000] [1] [INFO] Starting gunicorn 20.1.0\u001b[0m\n",
            "\u001b[34m[2022-04-21 14:18:56 +0000] [1] [INFO] Listening at: http://0.0.0.0:8080 (1)\u001b[0m\n",
            "\u001b[34m[2022-04-21 14:18:56 +0000] [1] [INFO] Using worker: sync\u001b[0m\n",
            "\u001b[34m[2022-04-21 14:18:56 +0000] [60] [INFO] Booting worker with pid: 60\u001b[0m\n",
            "\u001b[34m[2022-04-21 14:18:56 +0000] [69] [INFO] Booting worker with pid: 69\u001b[0m\n",
            "\u001b[34m[2022-04-21 14:18:56 +0000] [78] [INFO] Booting worker with pid: 78\u001b[0m\n",
            "\u001b[34m[2022-04-21 14:18:56 +0000] [87] [INFO] Booting worker with pid: 87\u001b[0m\n",
            "\u001b[35m[04/21/2022 14:18:56 INFO 139896720631616] loaded entry point class algorithm.serve.server_config:config_api\u001b[0m\n",
            "\u001b[35m[04/21/2022 14:18:56 INFO 139896720631616] loading entry points\u001b[0m\n",
            "\u001b[35m[04/21/2022 14:18:56 INFO 139896720631616] loaded request iterator application/json\u001b[0m\n",
            "\u001b[35m[04/21/2022 14:18:56 INFO 139896720631616] loaded request iterator application/jsonlines\u001b[0m\n",
            "\u001b[35m[04/21/2022 14:18:56 INFO 139896720631616] loaded request iterator application/x-recordio-protobuf\u001b[0m\n",
            "\u001b[35m[04/21/2022 14:18:56 INFO 139896720631616] loaded request iterator text/csv\u001b[0m\n",
            "\u001b[35m[04/21/2022 14:18:56 INFO 139896720631616] loaded response encoder application/json\u001b[0m\n",
            "\u001b[35m[04/21/2022 14:18:56 INFO 139896720631616] loaded response encoder application/jsonlines\u001b[0m\n",
            "\u001b[35m[04/21/2022 14:18:56 INFO 139896720631616] loaded response encoder application/x-recordio-protobuf\u001b[0m\n",
            "\u001b[35m[04/21/2022 14:18:56 INFO 139896720631616] loaded response encoder text/csv\u001b[0m\n",
            "\u001b[35m[04/21/2022 14:18:56 INFO 139896720631616] loaded entry point class algorithm:model\u001b[0m\n",
            "\u001b[35m[04/21/2022 14:18:56 INFO 139896720631616] Number of server workers: 4\u001b[0m\n",
            "\u001b[35m[04/21/2022 14:18:56 INFO 139896720631616] loading model...\u001b[0m\n",
            "\u001b[35m[04/21/2022 14:18:56 INFO 139896720631616] ...model loaded.\u001b[0m\n",
            "\u001b[35m[2022-04-21 14:18:56 +0000] [1] [INFO] Starting gunicorn 20.1.0\u001b[0m\n",
            "\u001b[35m[2022-04-21 14:18:56 +0000] [1] [INFO] Listening at: http://0.0.0.0:8080 (1)\u001b[0m\n",
            "\u001b[35m[2022-04-21 14:18:56 +0000] [1] [INFO] Using worker: sync\u001b[0m\n",
            "\u001b[35m[2022-04-21 14:18:56 +0000] [60] [INFO] Booting worker with pid: 60\u001b[0m\n",
            "\u001b[35m[2022-04-21 14:18:56 +0000] [69] [INFO] Booting worker with pid: 69\u001b[0m\n",
            "\u001b[35m[2022-04-21 14:18:56 +0000] [78] [INFO] Booting worker with pid: 78\u001b[0m\n",
            "\u001b[35m[2022-04-21 14:18:56 +0000] [87] [INFO] Booting worker with pid: 87\u001b[0m\n",
            "\u001b[34m#metrics {\"StartTime\": 1650550736.6178167, \"EndTime\": 1650550737.653325, \"Dimensions\": {\"Algorithm\": \"LinearLearnerModel\", \"Host\": \"UNKNOWN\", \"Operation\": \"scoring\"}, \"Metrics\": {\"execution_parameters.count\": {\"sum\": 1.0, \"count\": 1, \"min\": 1, \"max\": 1}}}\u001b[0m\n",
            "\u001b[35m#metrics {\"StartTime\": 1650550736.6178167, \"EndTime\": 1650550737.653325, \"Dimensions\": {\"Algorithm\": \"LinearLearnerModel\", \"Host\": \"UNKNOWN\", \"Operation\": \"scoring\"}, \"Metrics\": {\"execution_parameters.count\": {\"sum\": 1.0, \"count\": 1, \"min\": 1, \"max\": 1}}}\u001b[0m\n",
            "\u001b[32m2022-04-21T14:18:57.659:[sagemaker logs]: MaxConcurrentTransforms=4, MaxPayloadInMB=6, BatchStrategy=MULTI_RECORD\u001b[0m\n",
            "\u001b[34m#metrics {\"StartTime\": 1650550736.6178167, \"EndTime\": 1650550740.4049878, \"Dimensions\": {\"Algorithm\": \"LinearLearnerModel\", \"Host\": \"UNKNOWN\", \"Operation\": \"scoring\"}, \"Metrics\": {\"json.encoder.time\": {\"sum\": 153.92446517944336, \"count\": 1, \"min\": 153.92446517944336, \"max\": 153.92446517944336}, \"invocations.count\": {\"sum\": 1.0, \"count\": 1, \"min\": 1, \"max\": 1}}}\u001b[0m\n",
            "\u001b[34m#metrics {\"StartTime\": 1650550736.6178167, \"EndTime\": 1650550740.4393675, \"Dimensions\": {\"Algorithm\": \"LinearLearnerModel\", \"Host\": \"UNKNOWN\", \"Operation\": \"scoring\"}, \"Metrics\": {\"json.encoder.time\": {\"sum\": 154.47640419006348, \"count\": 1, \"min\": 154.47640419006348, \"max\": 154.47640419006348}, \"invocations.count\": {\"sum\": 1.0, \"count\": 1, \"min\": 1, \"max\": 1}}}\u001b[0m\n",
            "\u001b[34m#metrics {\"StartTime\": 1650550737.6534643, \"EndTime\": 1650550740.6184707, \"Dimensions\": {\"Algorithm\": \"LinearLearnerModel\", \"Host\": \"UNKNOWN\", \"Operation\": \"scoring\"}, \"Metrics\": {\"json.encoder.time\": {\"sum\": 140.2583122253418, \"count\": 1, \"min\": 140.2583122253418, \"max\": 140.2583122253418}, \"invocations.count\": {\"sum\": 1.0, \"count\": 1, \"min\": 1, \"max\": 1}}}\u001b[0m\n",
            "\u001b[34m#metrics {\"StartTime\": 1650550736.6178167, \"EndTime\": 1650550740.6236615, \"Dimensions\": {\"Algorithm\": \"LinearLearnerModel\", \"Host\": \"UNKNOWN\", \"Operation\": \"scoring\"}, \"Metrics\": {\"json.encoder.time\": {\"sum\": 153.2421112060547, \"count\": 1, \"min\": 153.2421112060547, \"max\": 153.2421112060547}, \"invocations.count\": {\"sum\": 1.0, \"count\": 1, \"min\": 1, \"max\": 1}}}\u001b[0m\n",
            "\u001b[35m#metrics {\"StartTime\": 1650550736.6178167, \"EndTime\": 1650550740.4049878, \"Dimensions\": {\"Algorithm\": \"LinearLearnerModel\", \"Host\": \"UNKNOWN\", \"Operation\": \"scoring\"}, \"Metrics\": {\"json.encoder.time\": {\"sum\": 153.92446517944336, \"count\": 1, \"min\": 153.92446517944336, \"max\": 153.92446517944336}, \"invocations.count\": {\"sum\": 1.0, \"count\": 1, \"min\": 1, \"max\": 1}}}\u001b[0m\n",
            "\u001b[35m#metrics {\"StartTime\": 1650550736.6178167, \"EndTime\": 1650550740.4393675, \"Dimensions\": {\"Algorithm\": \"LinearLearnerModel\", \"Host\": \"UNKNOWN\", \"Operation\": \"scoring\"}, \"Metrics\": {\"json.encoder.time\": {\"sum\": 154.47640419006348, \"count\": 1, \"min\": 154.47640419006348, \"max\": 154.47640419006348}, \"invocations.count\": {\"sum\": 1.0, \"count\": 1, \"min\": 1, \"max\": 1}}}\u001b[0m\n",
            "\u001b[35m#metrics {\"StartTime\": 1650550737.6534643, \"EndTime\": 1650550740.6184707, \"Dimensions\": {\"Algorithm\": \"LinearLearnerModel\", \"Host\": \"UNKNOWN\", \"Operation\": \"scoring\"}, \"Metrics\": {\"json.encoder.time\": {\"sum\": 140.2583122253418, \"count\": 1, \"min\": 140.2583122253418, \"max\": 140.2583122253418}, \"invocations.count\": {\"sum\": 1.0, \"count\": 1, \"min\": 1, \"max\": 1}}}\u001b[0m\n",
            "\u001b[35m#metrics {\"StartTime\": 1650550736.6178167, \"EndTime\": 1650550740.6236615, \"Dimensions\": {\"Algorithm\": \"LinearLearnerModel\", \"Host\": \"UNKNOWN\", \"Operation\": \"scoring\"}, \"Metrics\": {\"json.encoder.time\": {\"sum\": 153.2421112060547, \"count\": 1, \"min\": 153.2421112060547, \"max\": 153.2421112060547}, \"invocations.count\": {\"sum\": 1.0, \"count\": 1, \"min\": 1, \"max\": 1}}}\u001b[0m\n",
            "\u001b[34m#metrics {\"StartTime\": 1650550740.4051683, \"EndTime\": 1650550741.3710525, \"Dimensions\": {\"Algorithm\": \"LinearLearnerModel\", \"Host\": \"UNKNOWN\", \"Operation\": \"scoring\"}, \"Metrics\": {\"json.encoder.time\": {\"sum\": 67.55399703979492, \"count\": 1, \"min\": 67.55399703979492, \"max\": 67.55399703979492}, \"invocations.count\": {\"sum\": 1.0, \"count\": 1, \"min\": 1, \"max\": 1}}}\u001b[0m\n",
            "\u001b[35m#metrics {\"StartTime\": 1650550740.4051683, \"EndTime\": 1650550741.3710525, \"Dimensions\": {\"Algorithm\": \"LinearLearnerModel\", \"Host\": \"UNKNOWN\", \"Operation\": \"scoring\"}, \"Metrics\": {\"json.encoder.time\": {\"sum\": 67.55399703979492, \"count\": 1, \"min\": 67.55399703979492, \"max\": 67.55399703979492}, \"invocations.count\": {\"sum\": 1.0, \"count\": 1, \"min\": 1, \"max\": 1}}}\u001b[0m\n"
          ]
        }
      ],
      "source": [
        "test_labels, target_predicted = batch_linear_predict(test, classifier_estimator)"
      ]
    },
    {
      "cell_type": "markdown",
      "metadata": {
        "id": "b_gpgscQP-_b"
      },
      "source": [
        "To view a plot of the confusion matrix, and various scoring metrics, create a couple of functions:"
      ]
    },
    {
      "cell_type": "code",
      "execution_count": null,
      "metadata": {
        "id": "xKhR3V_9P-_b"
      },
      "outputs": [],
      "source": [
        "from sklearn.metrics import confusion_matrix\n",
        "\n",
        "def plot_confusion_matrix(test_labels, target_predicted):\n",
        "    matrix = confusion_matrix(test_labels, target_predicted)\n",
        "    df_confusion = pd.DataFrame(matrix)\n",
        "    colormap = sns.color_palette(\"BrBG\", 10)\n",
        "    sns.heatmap(df_confusion, annot=True, fmt='.2f', cbar=None, cmap=colormap)\n",
        "    plt.title(\"Confusion Matrix\")\n",
        "    plt.tight_layout()\n",
        "    plt.ylabel(\"True Class\")\n",
        "    plt.xlabel(\"Predicted Class\")\n",
        "    plt.show()\n",
        "    "
      ]
    },
    {
      "cell_type": "code",
      "execution_count": null,
      "metadata": {
        "jupyter": {
          "source_hidden": true
        },
        "id": "l7PzxgfFP-_b"
      },
      "outputs": [],
      "source": [
        "from sklearn import metrics\n",
        "\n",
        "def plot_roc(test_labels, target_predicted):\n",
        "    TN, FP, FN, TP = confusion_matrix(test_labels, target_predicted).ravel()\n",
        "    # Sensitivity, hit rate, recall, or true positive rate\n",
        "    Sensitivity  = float(TP)/(TP+FN)*100\n",
        "    # Specificity or true negative rate\n",
        "    Specificity  = float(TN)/(TN+FP)*100\n",
        "    # Precision or positive predictive value\n",
        "    Precision = float(TP)/(TP+FP)*100\n",
        "    # Negative predictive value\n",
        "    NPV = float(TN)/(TN+FN)*100\n",
        "    # Fall out or false positive rate\n",
        "    FPR = float(FP)/(FP+TN)*100\n",
        "    # False negative rate\n",
        "    FNR = float(FN)/(TP+FN)*100\n",
        "    # False discovery rate\n",
        "    FDR = float(FP)/(TP+FP)*100\n",
        "    # Overall accuracy\n",
        "    ACC = float(TP+TN)/(TP+FP+FN+TN)*100\n",
        "\n",
        "    print(\"Sensitivity or TPR: \", Sensitivity, \"%\") \n",
        "    print( \"Specificity or TNR: \",Specificity, \"%\") \n",
        "    print(\"Precision: \",Precision, \"%\") \n",
        "    print(\"Negative Predictive Value: \",NPV, \"%\") \n",
        "    print( \"False Positive Rate: \",FPR,\"%\")\n",
        "    print(\"False Negative Rate: \",FNR, \"%\") \n",
        "    print(\"False Discovery Rate: \",FDR, \"%\" )\n",
        "    print(\"Accuracy: \",ACC, \"%\") \n",
        "\n",
        "    test_labels = test.iloc[:,0];\n",
        "    print(\"Validation AUC\", metrics.roc_auc_score(test_labels, target_predicted) )\n",
        "\n",
        "    fpr, tpr, thresholds = metrics.roc_curve(test_labels, target_predicted)\n",
        "    roc_auc = metrics.auc(fpr, tpr)\n",
        "\n",
        "    plt.figure()\n",
        "    plt.plot(fpr, tpr, label='ROC curve (area = %0.2f)' % (roc_auc))\n",
        "    plt.plot([0, 1], [0, 1], 'k--')\n",
        "    plt.xlim([0.0, 1.0])\n",
        "    plt.ylim([0.0, 1.05])\n",
        "    plt.xlabel('False Positive Rate')\n",
        "    plt.ylabel('True Positive Rate')\n",
        "    plt.title('Receiver operating characteristic')\n",
        "    plt.legend(loc=\"lower right\")\n",
        "\n",
        "    # create the axis of thresholds (scores)\n",
        "    ax2 = plt.gca().twinx()\n",
        "    ax2.plot(fpr, thresholds, markeredgecolor='r',linestyle='dashed', color='r')\n",
        "    ax2.set_ylabel('Threshold',color='r')\n",
        "    ax2.set_ylim([thresholds[-1],thresholds[0]])\n",
        "    ax2.set_xlim([fpr[0],fpr[-1]])\n",
        "\n",
        "    print(plt.figure())"
      ]
    },
    {
      "cell_type": "markdown",
      "metadata": {
        "id": "XRkIFfiVP-_b"
      },
      "source": [
        "To plot the confusion matrix, call the `plot_confusion_matrix` function on the `test_labels` and the `target_predicted` data from your batch job:"
      ]
    },
    {
      "cell_type": "code",
      "execution_count": null,
      "metadata": {
        "id": "XVBs9a5iP-_b",
        "outputId": "f7836a17-91f0-46e3-96a6-809e88064892"
      },
      "outputs": [
        {
          "data": {
            "image/png": "[encoded data removed]",
            "text/plain": [
              "<Figure size 432x288 with 1 Axes>"
            ]
          },
          "metadata": {
            "needs_background": "light"
          },
          "output_type": "display_data"
        }
      ],
      "source": [
        "plot_confusion_matrix(test_labels, target_predicted)"
      ]
    },
    {
      "cell_type": "markdown",
      "metadata": {
        "id": "dAjv_h38P-_c"
      },
      "source": [
        "To print statistics and plot a receiver operating characteristic (ROC) curve, call the `plot_roc` function on the `test_labels` and `target_predicted` data from your batch job:"
      ]
    },
    {
      "cell_type": "code",
      "execution_count": null,
      "metadata": {
        "id": "7X_oQpgYP-_c",
        "outputId": "b8634756-17f0-4ff1-a98f-c4c57f4ec18e"
      },
      "outputs": [
        {
          "name": "stdout",
          "output_type": "stream",
          "text": [
            "Sensitivity or TPR:  0.47767454052951974 %\n",
            "Specificity or TNR:  99.89321034466748 %\n",
            "Precision:  54.3046357615894 %\n",
            "Negative Predictive Value:  79.07042270775526 %\n",
            "False Positive Rate:  0.10678965533251822 %\n",
            "False Negative Rate:  99.52232545947048 %\n",
            "False Discovery Rate:  45.6953642384106 %\n",
            "Accuracy:  79.02469445276627 %\n",
            "Validation AUC 0.501854424425985\n",
            "Figure(432x288)\n"
          ]
        },
        {
          "data": {
            "image/png": "[encoded data removed]",
            "text/plain": [
              "<Figure size 432x288 with 2 Axes>"
            ]
          },
          "metadata": {
            "needs_background": "light"
          },
          "output_type": "display_data"
        },
        {
          "data": {
            "text/plain": [
              "<Figure size 432x288 with 0 Axes>"
            ]
          },
          "metadata": {},
          "output_type": "display_data"
        }
      ],
      "source": [
        "plot_roc(test_labels, target_predicted)"
      ]
    },
    {
      "cell_type": "markdown",
      "metadata": {
        "id": "PDkkl1aPP-_c"
      },
      "source": [
        "### Key questions to consider:\n",
        "\n",
        "1. How does your model's performance on the test set compare to its performance on the training set? What can you deduce from this comparison? \n",
        "2. Are there obvious differences between the outcomes of metrics like accuracy, precision, and recall? If so, why might you be seeing those differences? \n",
        "3. Given your business situation and goals, which metric (or metrics) is the most important for you to consider? Why?\n",
        "4. From a business standpoint, is the outcome for the metric (or metrics) that you consider to be the most important sufficient for what you need? If not, what are some things you might change in your next iteration? (This will happen in the feature engineering section, which is next.)\n",
        "\n",
        "Use the following cells to answer these (and other) questions. Insert and delete cells where needed.\n",
        "\n",
        "#### <span style=\"color: blue;\">Project presentation: In your project presentation, write down your answers to these questions -- and other similar questions that you might answer -- in this section. Record the key details and decisions that you made.</span>"
      ]
    },
    {
      "cell_type": "markdown",
      "metadata": {
        "id": "sgg8d1VEP-_c"
      },
      "source": [
        "\n",
        "**Question**: What can you summarize from the confusion matrix?\n"
      ]
    },
    {
      "cell_type": "code",
      "execution_count": null,
      "metadata": {
        "id": "OhbMmLWqP-_c"
      },
      "outputs": [],
      "source": [
        "จาก confusion matrix สรุปได้ว่าทำนายว่าไม่ดีเลย์และไม่ดีเลย์จริง ๆ อยู่ที่ 129088 ส่วนการทำนายว่าดีเลย์แต่ไม่ดีเลย์อยู่ที่ 138 \n",
        "ส่วนที่ทำนายว่าไม่ดีเลย์แต่เกิดการดีเลย์อยู่ที่ 34169 และส่วนสุดท้ายทำนายว่าดีเลย์และเกิดการดีเลย์จริง ๆ อยู่ที่ 164"
      ]
    },
    {
      "cell_type": "markdown",
      "metadata": {
        "id": "adRR6cIqP-_c"
      },
      "source": [
        "## <span style=\"color:red\"> End of Step 3 </span>\n",
        "\n",
        "Save the project file to your local computer. Follow these steps:\n",
        "\n",
        "1. In the file explorer on the left, right-click the notebook that you're working on. \n",
        "\n",
        "2. Select **Download**, and save the file locally.  \n",
        "\n",
        "This action downloads the current notebook to the default download folder on your computer."
      ]
    },
    {
      "cell_type": "markdown",
      "metadata": {
        "id": "4INDC0kNP-_c"
      },
      "source": [
        "# Iteration II"
      ]
    },
    {
      "cell_type": "markdown",
      "metadata": {
        "id": "aw8jju8HP-_c"
      },
      "source": [
        "# Step 4: Feature engineering\n",
        "\n",
        "You have now gone through one iteration of training and evaluating your model. Given that the first outcome that you reached for your model probably wasn't sufficient for solving your business problem, what could you change about your data to possibly improve model performance?\n",
        "\n",
        "### Key questions to consider:\n",
        "\n",
        "1. How might the balance of your two main classes (*delay* and *no delay*) impact model performance?\n",
        "2. Do you have any features that are correlated?\n",
        "3. At this stage, could you perform any feature-reduction techniques that might have a positive impact on model performance? \n",
        "4. Can you think of adding some more data or datasets?\n",
        "5. After performing some feature engineering, how does the performance of your model compare to the first iteration?\n",
        "\n",
        "Use the following cells to perform specific feature-engineering techniques that you think could improve your model performance (use the previous questions as a guide). Insert and delete cells where needed.\n",
        "\n",
        "#### <span style=\"color: blue;\">Project presentation: In your project presentation, record your key decisions and the methods that you use in this section. Also include any new performance metrics that you obtain after you evaluate your model again.</span>\n",
        "\n",
        "Before you start, think about why the precision and recall are around 80 percent, and the accuracy is at 99 percent."
      ]
    },
    {
      "cell_type": "markdown",
      "metadata": {
        "id": "o23qBTjvP-_d"
      },
      "source": [
        "Add more features:\n",
        "\n",
        "1. Holidays\n",
        "2. Weather"
      ]
    },
    {
      "cell_type": "markdown",
      "metadata": {
        "id": "abDj2bO1P-_d"
      },
      "source": [
        "Because the list of holidays from 2014 to 2018 is known, you can create an indicator variable **is_holiday** to mark them.\n",
        "\n",
        "The hypothesis is that airplane delays could be higher during holidays compared to the rest of the days. Add a boolean variable `is_holiday` that includes the holidays for the years 2014-2018."
      ]
    },
    {
      "cell_type": "code",
      "execution_count": null,
      "metadata": {
        "id": "ZXMuPRBFP-_d"
      },
      "outputs": [],
      "source": [
        "# Source: http://www.calendarpedia.com/holidays/federal-holidays-2014.html\n",
        "\n",
        "holidays_14 = ['2014-01-01',  '2014-01-20', '2014-02-17', '2014-05-26', '2014-07-04', '2014-09-01', '2014-10-13', '2014-11-11', '2014-11-27', '2014-12-25' ] \n",
        "holidays_15 = ['2015-01-01',  '2015-01-19', '2015-02-16', '2015-05-25', '2015-06-03', '2015-07-04', '2015-09-07', '2015-10-12', '2015-11-11', '2015-11-26', '2015-12-25'] \n",
        "holidays_16 = ['2016-01-01',  '2016-01-18', '2016-02-15', '2016-05-30', '2016-07-04', '2016-09-05', '2016-10-10', '2016-11-11', '2016-11-24', '2016-12-25', '2016-12-26']\n",
        "holidays_17 = ['2017-01-02', '2017-01-16', '2017-02-20', '2017-05-29' , '2017-07-04', '2017-09-04' ,'2017-10-09', '2017-11-10', '2017-11-23', '2017-12-25']\n",
        "holidays_18 = ['2018-01-01', '2018-01-15', '2018-02-19', '2018-05-28' , '2018-07-04', '2018-09-03' ,'2018-10-08', '2018-11-12','2018-11-22', '2018-12-25']\n",
        "holidays = holidays_14+ holidays_15+ holidays_16 + holidays_17+ holidays_18\n",
        "\n",
        "### Add indicator variable for holidays\n",
        "data_orig['is_holiday'] = np.isin(data_orig['FlightDate'], holidays)"
      ]
    },
    {
      "cell_type": "markdown",
      "metadata": {
        "id": "rGdt_T2_P-_d"
      },
      "source": [
        "Weather data was fetched from https://www.ncei.noaa.gov/access/services/data/v1?dataset=daily-summaries&stations=USW00023174,USW00012960,USW00003017,USW00094846,USW00013874,USW00023234,USW00003927,USW00023183,USW00013881&dataTypes=AWND,PRCP,SNOW,SNWD,TAVG,TMIN,TMAX&startDate=2014-01-01&endDate=2018-12-31.\n",
        "<br>\n",
        "\n",
        "This dataset has information on wind speed, precipitation, snow, and temperature for cities by their airport codes.\n",
        "\n",
        "**Question**: Could bad weather because of rain, heavy winds, or snow lead to airplane delays? You will now check."
      ]
    },
    {
      "cell_type": "code",
      "execution_count": null,
      "metadata": {
        "id": "CzOK7igAP-_d",
        "outputId": "452a8b90-4105-40b1-fa6a-0ec69bb22f90"
      },
      "outputs": [
        {
          "name": "stdout",
          "output_type": "stream",
          "text": [
            "download: s3://aws-tc-largeobjects/CUR-TF-200-ACMLFO-1/flight_delay_project/data2/daily-summaries.csv to ../project/data/daily-summaries.csv\n"
          ]
        }
      ],
      "source": [
        "!aws s3 cp s3://aws-tc-largeobjects/CUR-TF-200-ACMLFO-1/flight_delay_project/data2/daily-summaries.csv /home/ec2-user/SageMaker/project/data/\n",
        "#!wget 'https://www.ncei.noaa.gov/access/services/data/v1?dataset=daily-summaries&stations=USW00023174,USW00012960,USW00003017,USW00094846,USW00013874,USW00023234,USW00003927,USW00023183,USW00013881&dataTypes=AWND,PRCP,SNOW,SNWD,TAVG,TMIN,TMAX&startDate=2014-01-01&endDate=2018-12-31' -O /home/ec2-user/SageMaker/project/data/daily-summaries.csv"
      ]
    },
    {
      "cell_type": "markdown",
      "metadata": {
        "id": "h24CYQCTP-_d"
      },
      "source": [
        "Import the weather data that was prepared for the airport codes in the dataset. Use the following stations and airports  for the analysis. Create a new column called *airport* that maps the weather station to the airport name."
      ]
    },
    {
      "cell_type": "code",
      "execution_count": null,
      "metadata": {
        "id": "xTRAVDZ1P-_d"
      },
      "outputs": [],
      "source": [
        "weather = pd.read_csv('/home/ec2-user/SageMaker/project/data/daily-summaries.csv')\n",
        "station = ['USW00023174','USW00012960','USW00003017','USW00094846','USW00013874','USW00023234','USW00003927','USW00023183','USW00013881'] \n",
        "airports = ['LAX', 'IAH', 'DEN', 'ORD', 'ATL', 'SFO', 'DFW', 'PHX', 'CLT']\n",
        "\n",
        "### Map weather stations to airport code\n",
        "station_map = {s:a for s,a in zip(station, airports)}\n",
        "weather['airport'] = weather['STATION'].map(station_map)"
      ]
    },
    {
      "cell_type": "markdown",
      "metadata": {
        "id": "F_KV0QQlP-_e"
      },
      "source": [
        "From the **DATE** column, create another column called *MONTH*."
      ]
    },
    {
      "cell_type": "code",
      "execution_count": null,
      "metadata": {
        "id": "otzxDYT2P-_e",
        "outputId": "6ef8b7ba-d3bf-4a6f-cd7f-3a3c8fc72784"
      },
      "outputs": [
        {
          "data": {
            "text/html": [
              "<div>\n",
              "<style scoped>\n",
              "    .dataframe tbody tr th:only-of-type {\n",
              "        vertical-align: middle;\n",
              "    }\n",
              "\n",
              "    .dataframe tbody tr th {\n",
              "        vertical-align: top;\n",
              "    }\n",
              "\n",
              "    .dataframe thead th {\n",
              "        text-align: right;\n",
              "    }\n",
              "</style>\n",
              "<table border=\"1\" class=\"dataframe\">\n",
              "  <thead>\n",
              "    <tr style=\"text-align: right;\">\n",
              "      <th></th>\n",
              "      <th>STATION</th>\n",
              "      <th>DATE</th>\n",
              "      <th>AWND</th>\n",
              "      <th>PRCP</th>\n",
              "      <th>SNOW</th>\n",
              "      <th>SNWD</th>\n",
              "      <th>TAVG</th>\n",
              "      <th>TMAX</th>\n",
              "      <th>TMIN</th>\n",
              "      <th>airport</th>\n",
              "      <th>MONTH</th>\n",
              "    </tr>\n",
              "  </thead>\n",
              "  <tbody>\n",
              "    <tr>\n",
              "      <th>0</th>\n",
              "      <td>USW00023174</td>\n",
              "      <td>2014-01-01</td>\n",
              "      <td>16</td>\n",
              "      <td>0</td>\n",
              "      <td>NaN</td>\n",
              "      <td>NaN</td>\n",
              "      <td>131.0</td>\n",
              "      <td>178.0</td>\n",
              "      <td>78.0</td>\n",
              "      <td>LAX</td>\n",
              "      <td>01</td>\n",
              "    </tr>\n",
              "    <tr>\n",
              "      <th>1</th>\n",
              "      <td>USW00023174</td>\n",
              "      <td>2014-01-02</td>\n",
              "      <td>22</td>\n",
              "      <td>0</td>\n",
              "      <td>NaN</td>\n",
              "      <td>NaN</td>\n",
              "      <td>159.0</td>\n",
              "      <td>256.0</td>\n",
              "      <td>100.0</td>\n",
              "      <td>LAX</td>\n",
              "      <td>01</td>\n",
              "    </tr>\n",
              "    <tr>\n",
              "      <th>2</th>\n",
              "      <td>USW00023174</td>\n",
              "      <td>2014-01-03</td>\n",
              "      <td>17</td>\n",
              "      <td>0</td>\n",
              "      <td>NaN</td>\n",
              "      <td>NaN</td>\n",
              "      <td>140.0</td>\n",
              "      <td>178.0</td>\n",
              "      <td>83.0</td>\n",
              "      <td>LAX</td>\n",
              "      <td>01</td>\n",
              "    </tr>\n",
              "    <tr>\n",
              "      <th>3</th>\n",
              "      <td>USW00023174</td>\n",
              "      <td>2014-01-04</td>\n",
              "      <td>18</td>\n",
              "      <td>0</td>\n",
              "      <td>NaN</td>\n",
              "      <td>NaN</td>\n",
              "      <td>136.0</td>\n",
              "      <td>183.0</td>\n",
              "      <td>100.0</td>\n",
              "      <td>LAX</td>\n",
              "      <td>01</td>\n",
              "    </tr>\n",
              "    <tr>\n",
              "      <th>4</th>\n",
              "      <td>USW00023174</td>\n",
              "      <td>2014-01-05</td>\n",
              "      <td>18</td>\n",
              "      <td>0</td>\n",
              "      <td>NaN</td>\n",
              "      <td>NaN</td>\n",
              "      <td>151.0</td>\n",
              "      <td>244.0</td>\n",
              "      <td>83.0</td>\n",
              "      <td>LAX</td>\n",
              "      <td>01</td>\n",
              "    </tr>\n",
              "  </tbody>\n",
              "</table>\n",
              "</div>"
            ],
            "text/plain": [
              "       STATION        DATE  AWND  PRCP  SNOW  SNWD   TAVG   TMAX   TMIN  \\\n",
              "0  USW00023174  2014-01-01    16     0   NaN   NaN  131.0  178.0   78.0   \n",
              "1  USW00023174  2014-01-02    22     0   NaN   NaN  159.0  256.0  100.0   \n",
              "2  USW00023174  2014-01-03    17     0   NaN   NaN  140.0  178.0   83.0   \n",
              "3  USW00023174  2014-01-04    18     0   NaN   NaN  136.0  183.0  100.0   \n",
              "4  USW00023174  2014-01-05    18     0   NaN   NaN  151.0  244.0   83.0   \n",
              "\n",
              "  airport MONTH  \n",
              "0     LAX    01  \n",
              "1     LAX    01  \n",
              "2     LAX    01  \n",
              "3     LAX    01  \n",
              "4     LAX    01  "
            ]
          },
          "execution_count": 67,
          "metadata": {},
          "output_type": "execute_result"
        }
      ],
      "source": [
        "weather['MONTH'] = weather['DATE'].apply(lambda x: x.split('-')[1])\n",
        "weather.head()"
      ]
    },
    {
      "cell_type": "markdown",
      "metadata": {
        "id": "W7r1-HW3P-_e"
      },
      "source": [
        "### Sample output\n",
        "```\n",
        "  STATION     DATE      AWND PRCP SNOW SNWD TAVG TMAX  TMIN airport MONTH\n",
        "0 USW00023174 2014-01-01 16   0   NaN  NaN 131.0 178.0 78.0  LAX    01\n",
        "1 USW00023174 2014-01-02 22   0   NaN  NaN 159.0 256.0 100.0 LAX    01\n",
        "2 USW00023174 2014-01-03 17   0   NaN  NaN 140.0 178.0 83.0  LAX    01\n",
        "3 USW00023174 2014-01-04 18   0   NaN  NaN 136.0 183.0 100.0 LAX    01\n",
        "4 USW00023174 2014-01-05 18   0   NaN  NaN 151.0 244.0 83.0  LAX    01\n",
        "```"
      ]
    },
    {
      "cell_type": "markdown",
      "metadata": {
        "id": "1U9oi0LUP-_e"
      },
      "source": [
        "Analyze and handle the **SNOW** and **SNWD** columns for missing values by using `fillna()`. To check the missing values for all the columns, use the `isna()` function."
      ]
    },
    {
      "cell_type": "code",
      "execution_count": null,
      "metadata": {
        "id": "PloBUDteP-_e",
        "outputId": "f5357fe6-ccdb-4fd8-b8cc-aa0391fd0b50"
      },
      "outputs": [
        {
          "data": {
            "text/plain": [
              "STATION     0\n",
              "DATE        0\n",
              "AWND        0\n",
              "PRCP        0\n",
              "SNOW        0\n",
              "SNWD        0\n",
              "TAVG       62\n",
              "TMAX       20\n",
              "TMIN       20\n",
              "airport     0\n",
              "MONTH       0\n",
              "dtype: int64"
            ]
          },
          "execution_count": 68,
          "metadata": {},
          "output_type": "execute_result"
        }
      ],
      "source": [
        "weather.SNOW.fillna(0, inplace=True)\n",
        "weather.SNWD.fillna(0, inplace=True)\n",
        "weather.isna().sum()"
      ]
    },
    {
      "cell_type": "markdown",
      "metadata": {
        "id": "hlBZRq32P-_e"
      },
      "source": [
        "**Question**: Print the index of the rows that have missing values for *TAVG*, *TMAX*, *TMIN*.\n",
        "\n",
        "**Hint**: To find the rows that are missing, use the `isna()` function. Then, to get the index, use the list on the *idx* variable."
      ]
    },
    {
      "cell_type": "code",
      "execution_count": null,
      "metadata": {
        "id": "4uC-txXYP-_e",
        "outputId": "f8830de0-6429-4567-80b1-77d898b8b2b5"
      },
      "outputs": [
        {
          "data": {
            "text/plain": [
              "array([ 3956,  3957,  3958,  3959,  3960,  3961,  3962,  3963,  3964,\n",
              "        3965,  3966,  3967,  3968,  3969,  3970,  3971,  3972,  3973,\n",
              "        3974,  3975,  3976,  3977,  3978,  3979,  3980,  3981,  3982,\n",
              "        3983,  3984,  3985,  4017,  4018,  4019,  4020,  4021,  4022,\n",
              "        4023,  4024,  4025,  4026,  4027,  4028,  4029,  4030,  4031,\n",
              "        4032,  4033,  4034,  4035,  4036,  4037,  4038,  4039,  4040,\n",
              "        4041,  4042,  4043,  4044,  4045,  4046,  4047, 13420])"
            ]
          },
          "execution_count": 69,
          "metadata": {},
          "output_type": "execute_result"
        }
      ],
      "source": [
        "idx = np.array([i for i in range(len(weather))])\n",
        "TAVG_idx = idx[weather.TAVG.isna()] \n",
        "TMAX_idx = idx[weather.TMAX.isna()]\n",
        "TMIN_idx = idx[weather.TMIN.isna()] \n",
        "TAVG_idx"
      ]
    },
    {
      "cell_type": "markdown",
      "metadata": {
        "id": "P7lGHdeVP-_f"
      },
      "source": [
        "### Sample output\n",
        "\n",
        "```\n",
        "array([ 3956,  3957,  3958,  3959,  3960,  3961,  3962,  3963,  3964,\n",
        "        3965,  3966,  3967,  3968,  3969,  3970,  3971,  3972,  3973,\n",
        "        3974,  3975,  3976,  3977,  3978,  3979,  3980,  3981,  3982,\n",
        "        3983,  3984,  3985,  4017,  4018,  4019,  4020,  4021,  4022,\n",
        "        4023,  4024,  4025,  4026,  4027,  4028,  4029,  4030,  4031,\n",
        "        4032,  4033,  4034,  4035,  4036,  4037,  4038,  4039,  4040,\n",
        "        4041,  4042,  4043,  4044,  4045,  4046,  4047, 13420])\n",
        "```"
      ]
    },
    {
      "cell_type": "markdown",
      "metadata": {
        "id": "HT50m23kP-_f"
      },
      "source": [
        "You can replace the missing *TAVG*, *TMAX*, and *TMIN* values with the average value for a particular station or airport. Because consecutive rows of *TAVG_idx* are missing, replacing them with a previous value would not be possible. Instead, replace them with the mean. Use the `groupby` function to aggregate the variables with a mean value.\n",
        "\n",
        "**Hint:** Group by `MONTH` and `STATION`."
      ]
    },
    {
      "cell_type": "code",
      "execution_count": null,
      "metadata": {
        "id": "n9PJi6UQP-_f",
        "outputId": "8b6a71e4-dd81-4d4a-e723-4a7b7da57d83"
      },
      "outputs": [
        {
          "data": {
            "text/html": [
              "<div>\n",
              "<style scoped>\n",
              "    .dataframe tbody tr th:only-of-type {\n",
              "        vertical-align: middle;\n",
              "    }\n",
              "\n",
              "    .dataframe tbody tr th {\n",
              "        vertical-align: top;\n",
              "    }\n",
              "\n",
              "    .dataframe thead th {\n",
              "        text-align: right;\n",
              "    }\n",
              "</style>\n",
              "<table border=\"1\" class=\"dataframe\">\n",
              "  <thead>\n",
              "    <tr style=\"text-align: right;\">\n",
              "      <th></th>\n",
              "      <th>MONTH</th>\n",
              "      <th>STATION</th>\n",
              "      <th>TAVG</th>\n",
              "      <th>TMAX</th>\n",
              "      <th>TMIN</th>\n",
              "    </tr>\n",
              "  </thead>\n",
              "  <tbody>\n",
              "    <tr>\n",
              "      <th>0</th>\n",
              "      <td>01</td>\n",
              "      <td>USW00003017</td>\n",
              "      <td>-2.741935</td>\n",
              "      <td>74.000000</td>\n",
              "      <td>-69.858065</td>\n",
              "    </tr>\n",
              "    <tr>\n",
              "      <th>1</th>\n",
              "      <td>01</td>\n",
              "      <td>USW00003927</td>\n",
              "      <td>79.529032</td>\n",
              "      <td>143.767742</td>\n",
              "      <td>20.696774</td>\n",
              "    </tr>\n",
              "  </tbody>\n",
              "</table>\n",
              "</div>"
            ],
            "text/plain": [
              "  MONTH      STATION       TAVG        TMAX       TMIN\n",
              "0    01  USW00003017  -2.741935   74.000000 -69.858065\n",
              "1    01  USW00003927  79.529032  143.767742  20.696774"
            ]
          },
          "execution_count": 71,
          "metadata": {},
          "output_type": "execute_result"
        }
      ],
      "source": [
        "weather_impute = weather.groupby(['MONTH', 'STATION']).agg({'TAVG':'mean','TMAX':'mean', 'TMIN':'mean' }).reset_index()# Enter your code here\n",
        "weather_impute.head(2)"
      ]
    },
    {
      "cell_type": "markdown",
      "metadata": {
        "id": "o6pUZoD5P-_f"
      },
      "source": [
        "Merge the mean data with the weather data."
      ]
    },
    {
      "cell_type": "code",
      "execution_count": null,
      "metadata": {
        "id": "Wl38nJzzP-_f"
      },
      "outputs": [],
      "source": [
        "\n",
        "weather = pd.merge(weather, weather_impute,  how='left', left_on=['MONTH','STATION'], right_on = ['MONTH','STATION'])\\\n",
        ".rename(columns = {'TAVG_y':'TAVG_AVG',\n",
        "                   'TMAX_y':'TMAX_AVG', \n",
        "                   'TMIN_y':'TMIN_AVG',\n",
        "                   'TAVG_x':'TAVG',\n",
        "                   'TMAX_x':'TMAX', \n",
        "                   'TMIN_x':'TMIN'})"
      ]
    },
    {
      "cell_type": "markdown",
      "metadata": {
        "id": "EkhO-W6SP-_f"
      },
      "source": [
        "Check for missing values again."
      ]
    },
    {
      "cell_type": "code",
      "execution_count": null,
      "metadata": {
        "id": "vdpOueT2P-_f",
        "outputId": "b526d28a-75ba-4f8c-e8a0-936fc5a87b4a"
      },
      "outputs": [
        {
          "data": {
            "text/plain": [
              "STATION     0\n",
              "DATE        0\n",
              "AWND        0\n",
              "PRCP        0\n",
              "SNOW        0\n",
              "SNWD        0\n",
              "TAVG        0\n",
              "TMAX        0\n",
              "TMIN        0\n",
              "airport     0\n",
              "MONTH       0\n",
              "TAVG_AVG    0\n",
              "TMAX_AVG    0\n",
              "TMIN_AVG    0\n",
              "dtype: int64"
            ]
          },
          "execution_count": 73,
          "metadata": {},
          "output_type": "execute_result"
        }
      ],
      "source": [
        "weather.TAVG[TAVG_idx] = weather.TAVG_AVG[TAVG_idx]\n",
        "weather.TMAX[TMAX_idx] = weather.TMAX_AVG[TMAX_idx]\n",
        "weather.TMIN[TMIN_idx] = weather.TMIN_AVG[TMIN_idx]\n",
        "weather.isna().sum()"
      ]
    },
    {
      "cell_type": "markdown",
      "metadata": {
        "id": "DytsvnXYP-_g"
      },
      "source": [
        "Drop `STATION,MONTH,TAVG_AVG,TMAX_AVG,TMIN_AVG,TMAX,TMIN,SNWD` from the dataset."
      ]
    },
    {
      "cell_type": "code",
      "execution_count": null,
      "metadata": {
        "id": "PRdjjzKVP-_g"
      },
      "outputs": [],
      "source": [
        "weather.drop(columns=['STATION','MONTH','TAVG_AVG', 'TMAX_AVG', 'TMIN_AVG', 'TMAX' ,'TMIN', 'SNWD'],inplace=True)"
      ]
    },
    {
      "cell_type": "markdown",
      "metadata": {
        "id": "fyeDUuj2P-_g"
      },
      "source": [
        "Add the origin and destination weather conditions to the dataset."
      ]
    },
    {
      "cell_type": "code",
      "execution_count": null,
      "metadata": {
        "id": "8sAVgQhXP-_g"
      },
      "outputs": [],
      "source": [
        "### Add origin weather conditions\n",
        "data_orig = pd.merge(data_orig, weather,  how='left', left_on=['FlightDate','Origin'], right_on = ['DATE','airport'])\\\n",
        ".rename(columns = {'AWND':'AWND_O','PRCP':'PRCP_O', 'TAVG':'TAVG_O', 'SNOW': 'SNOW_O'})\\\n",
        ".drop(columns=['DATE','airport'])\n",
        "\n",
        "### Add destination weather conditions\n",
        "data_orig = pd.merge(data_orig, weather,  how='left', left_on=['FlightDate','Dest'], right_on = ['DATE','airport'])\\\n",
        ".rename(columns = {'AWND':'AWND_D','PRCP':'PRCP_D', 'TAVG':'TAVG_D', 'SNOW': 'SNOW_D'})\\\n",
        ".drop(columns=['DATE','airport'])"
      ]
    },
    {
      "cell_type": "markdown",
      "metadata": {
        "id": "CfppJ-aNP-_g"
      },
      "source": [
        "**Note**: It's always a good practice to check for nulls or NAs after joins."
      ]
    },
    {
      "cell_type": "code",
      "execution_count": null,
      "metadata": {
        "id": "s9WDmdqFP-_g",
        "outputId": "f673d6c1-eae2-4787-c045-8adf159e96a4"
      },
      "outputs": [
        {
          "data": {
            "text/plain": [
              "0"
            ]
          },
          "execution_count": 76,
          "metadata": {},
          "output_type": "execute_result"
        }
      ],
      "source": [
        "sum(data.isna().any())"
      ]
    },
    {
      "cell_type": "code",
      "execution_count": null,
      "metadata": {
        "id": "PfPZwpslP-_g",
        "outputId": "a8c2faa3-3862-4cfe-bcf1-826809388d23"
      },
      "outputs": [
        {
          "data": {
            "text/plain": [
              "Index(['Year', 'Quarter', 'Month', 'DayofMonth', 'DayOfWeek', 'FlightDate',\n",
              "       'Reporting_Airline', 'Origin', 'OriginState', 'Dest', 'DestState',\n",
              "       'CRSDepTime', 'Cancelled', 'Diverted', 'Distance', 'DistanceGroup',\n",
              "       'ArrDelay', 'ArrDelayMinutes', 'is_delay', 'AirTime', 'DepHourofDay',\n",
              "       'is_holiday', 'AWND_O', 'PRCP_O', 'SNOW_O', 'TAVG_O', 'AWND_D',\n",
              "       'PRCP_D', 'SNOW_D', 'TAVG_D'],\n",
              "      dtype='object')"
            ]
          },
          "execution_count": 77,
          "metadata": {},
          "output_type": "execute_result"
        }
      ],
      "source": [
        "data_orig.columns"
      ]
    },
    {
      "cell_type": "markdown",
      "metadata": {
        "id": "xYc_yo5qP-_g"
      },
      "source": [
        "Convert the categorical data into numerical data by using one-hot encoding."
      ]
    },
    {
      "cell_type": "code",
      "execution_count": null,
      "metadata": {
        "id": "RkbXXEo_P-_h"
      },
      "outputs": [],
      "source": [
        "data = data_orig.copy()\n",
        "data = data[['is_delay', 'Year', 'Quarter', 'Month', 'DayofMonth', 'DayOfWeek', \n",
        "       'Reporting_Airline', 'Origin', 'Dest','Distance','DepHourofDay','is_holiday', 'AWND_O', 'PRCP_O',\n",
        "       'TAVG_O', 'AWND_D', 'PRCP_D', 'TAVG_D', 'SNOW_O', 'SNOW_D']]\n",
        "\n",
        "\n",
        "categorical_columns  = ['Year', 'Quarter', 'Month', 'DayofMonth', 'DayOfWeek', \n",
        "       'Reporting_Airline', 'Origin', 'Dest', 'is_holiday']\n",
        "for c in categorical_columns:\n",
        "    data[c] = data[c].astype('category')"
      ]
    },
    {
      "cell_type": "code",
      "execution_count": null,
      "metadata": {
        "id": "sktuOFApP-_h"
      },
      "outputs": [],
      "source": [
        "data_dummies = pd.get_dummies(data[['Year', 'Quarter', 'Month', 'DayofMonth', 'DayOfWeek', 'Reporting_Airline', 'Origin', 'Dest', 'is_holiday']], drop_first=True)\n",
        "data = pd.concat([data, data_dummies], axis = 1)\n",
        "data.drop(categorical_columns,axis=1, inplace=True)"
      ]
    },
    {
      "cell_type": "markdown",
      "metadata": {
        "id": "Tj6aWqMgP-_h"
      },
      "source": [
        "Check the new columns."
      ]
    },
    {
      "cell_type": "code",
      "execution_count": null,
      "metadata": {
        "id": "jhb1S4liP-_h",
        "outputId": "5b88c4da-ed86-43ab-973b-dc9ebcce8ad5"
      },
      "outputs": [
        {
          "data": {
            "text/plain": [
              "(1635590, 86)"
            ]
          },
          "execution_count": 80,
          "metadata": {},
          "output_type": "execute_result"
        }
      ],
      "source": [
        "data.shape"
      ]
    },
    {
      "cell_type": "code",
      "execution_count": null,
      "metadata": {
        "id": "lIEzNGeEP-_h",
        "outputId": "9a4b4b5e-415c-4561-cfd8-1517dfea7224"
      },
      "outputs": [
        {
          "data": {
            "text/plain": [
              "Index(['is_delay', 'Distance', 'DepHourofDay', 'AWND_O', 'PRCP_O', 'TAVG_O',\n",
              "       'AWND_D', 'PRCP_D', 'TAVG_D', 'SNOW_O', 'SNOW_D', 'Year_2015',\n",
              "       'Year_2016', 'Year_2017', 'Year_2018', 'Quarter_2', 'Quarter_3',\n",
              "       'Quarter_4', 'Month_2', 'Month_3', 'Month_4', 'Month_5', 'Month_6',\n",
              "       'Month_7', 'Month_8', 'Month_9', 'Month_10', 'Month_11', 'Month_12',\n",
              "       'DayofMonth_2', 'DayofMonth_3', 'DayofMonth_4', 'DayofMonth_5',\n",
              "       'DayofMonth_6', 'DayofMonth_7', 'DayofMonth_8', 'DayofMonth_9',\n",
              "       'DayofMonth_10', 'DayofMonth_11', 'DayofMonth_12', 'DayofMonth_13',\n",
              "       'DayofMonth_14', 'DayofMonth_15', 'DayofMonth_16', 'DayofMonth_17',\n",
              "       'DayofMonth_18', 'DayofMonth_19', 'DayofMonth_20', 'DayofMonth_21',\n",
              "       'DayofMonth_22', 'DayofMonth_23', 'DayofMonth_24', 'DayofMonth_25',\n",
              "       'DayofMonth_26', 'DayofMonth_27', 'DayofMonth_28', 'DayofMonth_29',\n",
              "       'DayofMonth_30', 'DayofMonth_31', 'DayOfWeek_2', 'DayOfWeek_3',\n",
              "       'DayOfWeek_4', 'DayOfWeek_5', 'DayOfWeek_6', 'DayOfWeek_7',\n",
              "       'Reporting_Airline_DL', 'Reporting_Airline_OO', 'Reporting_Airline_UA',\n",
              "       'Reporting_Airline_WN', 'Origin_CLT', 'Origin_DEN', 'Origin_DFW',\n",
              "       'Origin_IAH', 'Origin_LAX', 'Origin_ORD', 'Origin_PHX', 'Origin_SFO',\n",
              "       'Dest_CLT', 'Dest_DEN', 'Dest_DFW', 'Dest_IAH', 'Dest_LAX', 'Dest_ORD',\n",
              "       'Dest_PHX', 'Dest_SFO', 'is_holiday_True'],\n",
              "      dtype='object')"
            ]
          },
          "execution_count": 81,
          "metadata": {},
          "output_type": "execute_result"
        }
      ],
      "source": [
        "data.columns"
      ]
    },
    {
      "cell_type": "markdown",
      "metadata": {
        "id": "QdMvSKgIP-_h"
      },
      "source": [
        "### Sample output\n",
        "\n",
        "```\n",
        "Index(['Distance', 'DepHourofDay', 'is_delay', 'AWND_O', 'PRCP_O', 'TAVG_O',\n",
        "       'AWND_D', 'PRCP_D', 'TAVG_D', 'SNOW_O', 'SNOW_D', 'Year_2015',\n",
        "       'Year_2016', 'Year_2017', 'Year_2018', 'Quarter_2', 'Quarter_3',\n",
        "       'Quarter_4', 'Month_2', 'Month_3', 'Month_4', 'Month_5', 'Month_6',\n",
        "       'Month_7', 'Month_8', 'Month_9', 'Month_10', 'Month_11', 'Month_12',\n",
        "       'DayofMonth_2', 'DayofMonth_3', 'DayofMonth_4', 'DayofMonth_5',\n",
        "       'DayofMonth_6', 'DayofMonth_7', 'DayofMonth_8', 'DayofMonth_9',\n",
        "       'DayofMonth_10', 'DayofMonth_11', 'DayofMonth_12', 'DayofMonth_13',\n",
        "       'DayofMonth_14', 'DayofMonth_15', 'DayofMonth_16', 'DayofMonth_17',\n",
        "       'DayofMonth_18', 'DayofMonth_19', 'DayofMonth_20', 'DayofMonth_21',\n",
        "       'DayofMonth_22', 'DayofMonth_23', 'DayofMonth_24', 'DayofMonth_25',\n",
        "       'DayofMonth_26', 'DayofMonth_27', 'DayofMonth_28', 'DayofMonth_29',\n",
        "       'DayofMonth_30', 'DayofMonth_31', 'DayOfWeek_2', 'DayOfWeek_3',\n",
        "       'DayOfWeek_4', 'DayOfWeek_5', 'DayOfWeek_6', 'DayOfWeek_7',\n",
        "       'Reporting_Airline_DL', 'Reporting_Airline_OO', 'Reporting_Airline_UA',\n",
        "       'Reporting_Airline_WN', 'Origin_CLT', 'Origin_DEN', 'Origin_DFW',\n",
        "       'Origin_IAH', 'Origin_LAX', 'Origin_ORD', 'Origin_PHX', 'Origin_SFO',\n",
        "       'Dest_CLT', 'Dest_DEN', 'Dest_DFW', 'Dest_IAH', 'Dest_LAX', 'Dest_ORD',\n",
        "       'Dest_PHX', 'Dest_SFO', 'is_holiday_1'],\n",
        "      dtype='object')\n",
        "```"
      ]
    },
    {
      "cell_type": "markdown",
      "metadata": {
        "id": "jZGhmBVNP-_h"
      },
      "source": [
        "Rename the **is_delay** column to *target* again. Use the same code that you used previously."
      ]
    },
    {
      "cell_type": "code",
      "execution_count": null,
      "metadata": {
        "id": "Uu2gontqP-_i"
      },
      "outputs": [],
      "source": [
        "data.rename(columns = {'is_delay':'target'}, inplace=True )# Enter your code here"
      ]
    },
    {
      "cell_type": "markdown",
      "metadata": {
        "id": "MmyK6lj0P-_i"
      },
      "source": [
        "Create the training sets again.\n",
        "\n",
        "**Hint:** Use the `split_data` function that you defined (and used) earlier."
      ]
    },
    {
      "cell_type": "code",
      "execution_count": null,
      "metadata": {
        "id": "0FOSAi-yP-_i",
        "outputId": "2c61765a-38c1-40db-b1da-ea1c8fd4a3c9"
      },
      "outputs": [
        {
          "name": "stdout",
          "output_type": "stream",
          "text": [
            "0.0    1033806\n",
            "1.0     274666\n",
            "Name: target, dtype: int64\n",
            "0.0    129226\n",
            "1.0     34333\n",
            "Name: target, dtype: int64\n",
            "0.0    129226\n",
            "1.0     34333\n",
            "Name: target, dtype: int64\n"
          ]
        }
      ],
      "source": [
        "train, validate, test = split_data(data)\n",
        "print(train['target'].value_counts())\n",
        "print(validate['target'].value_counts())\n",
        "print(test['target'].value_counts())"
      ]
    },
    {
      "cell_type": "markdown",
      "metadata": {
        "id": "IkWiJQQbP-_k"
      },
      "source": [
        "### New baseline classifier\n",
        "\n",
        "Now, see if these new features add any predictive power to the model."
      ]
    },
    {
      "cell_type": "code",
      "execution_count": null,
      "metadata": {
        "id": "ANJXqsjbP-_k"
      },
      "outputs": [],
      "source": [
        "# Instantiate the LinearLearner estimator object\n",
        "classifier_estimator2 = sagemaker.LinearLearner(role=sagemaker.get_execution_role(),\n",
        "                                                instance_count=1,\n",
        "                                                instance_type='ml.m4.xlarge',\n",
        "                                                predictor_type='binary_classifier',\n",
        "                                                binary_classifier_model_selection_criteria = 'cross_entropy_loss')"
      ]
    },
    {
      "cell_type": "markdown",
      "metadata": {
        "id": "KMWWJA4SP-_l"
      },
      "source": [
        "### Sample code\n",
        "\n",
        "```\n",
        "num_classes = len(pd.unique(train_labels)) \n",
        "classifier_estimator2 = sagemaker.LinearLearner(role=sagemaker.get_execution_role(),\n",
        "                                               instance_count=1,\n",
        "                                               instance_type='ml.m4.xlarge',\n",
        "                                               predictor_type='binary_classifier',\n",
        "                                               binary_classifier_model_selection_criteria = 'cross_entropy_loss')\n",
        "```"
      ]
    },
    {
      "cell_type": "code",
      "execution_count": null,
      "metadata": {
        "id": "HqTQ02o4P-_l"
      },
      "outputs": [],
      "source": [
        "train_records = classifier_estimator2.record_set(train.values[:, 1:].astype(np.float32), train.values[:, 0].astype(np.float32), channel='train')\n",
        "val_records = classifier_estimator2.record_set(validate.values[:, 1:].astype(np.float32), validate.values[:, 0].astype(np.float32), channel='validation')\n",
        "test_records = classifier_estimator2.record_set(test.values[:, 1:].astype(np.float32), test.values[:, 0].astype(np.float32), channel='test')"
      ]
    },
    {
      "cell_type": "markdown",
      "metadata": {
        "id": "l8HJjU2wP-_l"
      },
      "source": [
        "Train your model by using the three datasets that you just created."
      ]
    },
    {
      "cell_type": "code",
      "execution_count": null,
      "metadata": {
        "id": "IRBc7R5wP-_l",
        "outputId": "f13ecb12-06e9-44cc-a197-dfa1a89d5edf"
      },
      "outputs": [
        {
          "name": "stderr",
          "output_type": "stream",
          "text": [
            "Defaulting to the only supported framework/algorithm version: 1. Ignoring framework/algorithm version: 1.\n",
            "Defaulting to the only supported framework/algorithm version: 1. Ignoring framework/algorithm version: 1.\n"
          ]
        },
        {
          "name": "stdout",
          "output_type": "stream",
          "text": [
            "2022-04-21 14:43:33 Starting - Starting the training job...\n",
            "2022-04-21 14:43:59 Starting - Preparing the instances for trainingProfilerReport-1650552213: InProgress\n",
            ".........\n",
            "2022-04-21 14:45:30 Downloading - Downloading input data......\n",
            "2022-04-21 14:46:21 Training - Downloading the training image...\n",
            "2022-04-21 14:46:57 Training - Training image download completed. Training in progress.\u001b[34mDocker entrypoint called with argument(s): train\u001b[0m\n",
            "\u001b[34mRunning default environment configuration script\u001b[0m\n",
            "\u001b[34m[04/21/2022 14:47:03 INFO 140472686061376 integration.py:636] worker started\u001b[0m\n",
            "\u001b[34m[04/21/2022 14:47:03 INFO 140472686061376] Reading default configuration from /opt/amazon/lib/python3.7/site-packages/algorithm/resources/default-input.json: {'mini_batch_size': '1000', 'epochs': '15', 'feature_dim': 'auto', 'use_bias': 'true', 'binary_classifier_model_selection_criteria': 'accuracy', 'f_beta': '1.0', 'target_recall': '0.8', 'target_precision': '0.8', 'num_models': 'auto', 'num_calibration_samples': '10000000', 'init_method': 'uniform', 'init_scale': '0.07', 'init_sigma': '0.01', 'init_bias': '0.0', 'optimizer': 'auto', 'loss': 'auto', 'margin': '1.0', 'quantile': '0.5', 'loss_insensitivity': '0.01', 'huber_delta': '1.0', 'num_classes': '1', 'accuracy_top_k': '3', 'wd': 'auto', 'l1': 'auto', 'momentum': 'auto', 'learning_rate': 'auto', 'beta_1': 'auto', 'beta_2': 'auto', 'bias_lr_mult': 'auto', 'bias_wd_mult': 'auto', 'use_lr_scheduler': 'true', 'lr_scheduler_step': 'auto', 'lr_scheduler_factor': 'auto', 'lr_scheduler_minimum_lr': 'auto', 'positive_example_weight_mult': '1.0', 'balance_multiclass_weights': 'false', 'normalize_data': 'true', 'normalize_label': 'auto', 'unbias_data': 'auto', 'unbias_label': 'auto', 'num_point_for_scaler': '10000', '_kvstore': 'auto', '_num_gpus': 'auto', '_num_kv_servers': 'auto', '_log_level': 'info', '_tuning_objective_metric': '', 'early_stopping_patience': '3', 'early_stopping_tolerance': '0.001', '_enable_profiler': 'false'}\u001b[0m\n",
            "\u001b[34m[04/21/2022 14:47:03 INFO 140472686061376] Merging with provided configuration from /opt/ml/input/config/hyperparameters.json: {'binary_classifier_model_selection_criteria': 'cross_entropy_loss', 'feature_dim': '85', 'mini_batch_size': '1000', 'predictor_type': 'binary_classifier'}\u001b[0m\n",
            "\u001b[34m[04/21/2022 14:47:03 INFO 140472686061376] Final configuration: {'mini_batch_size': '1000', 'epochs': '15', 'feature_dim': '85', 'use_bias': 'true', 'binary_classifier_model_selection_criteria': 'cross_entropy_loss', 'f_beta': '1.0', 'target_recall': '0.8', 'target_precision': '0.8', 'num_models': 'auto', 'num_calibration_samples': '10000000', 'init_method': 'uniform', 'init_scale': '0.07', 'init_sigma': '0.01', 'init_bias': '0.0', 'optimizer': 'auto', 'loss': 'auto', 'margin': '1.0', 'quantile': '0.5', 'loss_insensitivity': '0.01', 'huber_delta': '1.0', 'num_classes': '1', 'accuracy_top_k': '3', 'wd': 'auto', 'l1': 'auto', 'momentum': 'auto', 'learning_rate': 'auto', 'beta_1': 'auto', 'beta_2': 'auto', 'bias_lr_mult': 'auto', 'bias_wd_mult': 'auto', 'use_lr_scheduler': 'true', 'lr_scheduler_step': 'auto', 'lr_scheduler_factor': 'auto', 'lr_scheduler_minimum_lr': 'auto', 'positive_example_weight_mult': '1.0', 'balance_multiclass_weights': 'false', 'normalize_data': 'true', 'normalize_label': 'auto', 'unbias_data': 'auto', 'unbias_label': 'auto', 'num_point_for_scaler': '10000', '_kvstore': 'auto', '_num_gpus': 'auto', '_num_kv_servers': 'auto', '_log_level': 'info', '_tuning_objective_metric': '', 'early_stopping_patience': '3', 'early_stopping_tolerance': '0.001', '_enable_profiler': 'false', 'predictor_type': 'binary_classifier'}\u001b[0m\n",
            "\u001b[34m[04/21/2022 14:47:04 WARNING 140472686061376] Loggers have already been setup.\u001b[0m\n",
            "\u001b[34mProcess 1 is a worker.\u001b[0m\n",
            "\u001b[34m[04/21/2022 14:47:04 INFO 140472686061376] Using default worker.\u001b[0m\n",
            "\u001b[34m[04/21/2022 14:47:04 INFO 140472686061376] Checkpoint loading and saving are disabled.\u001b[0m\n",
            "\u001b[34m[2022-04-21 14:47:04.235] [tensorio] [warning] TensorIO is already initialized; ignoring the initialization routine.\u001b[0m\n",
            "\u001b[34m[2022-04-21 14:47:04.244] [tensorio] [warning] TensorIO is already initialized; ignoring the initialization routine.\u001b[0m\n",
            "\u001b[34m[2022-04-21 14:47:04.298] [tensorio] [info] epoch_stats={\"data_pipeline\": \"/opt/ml/input/data/train\", \"epoch\": 0, \"duration\": 71, \"num_examples\": 1, \"num_bytes\": 388000}\u001b[0m\n",
            "\u001b[34m[04/21/2022 14:47:04 INFO 140472686061376] Create Store: local\u001b[0m\n",
            "\u001b[34m[2022-04-21 14:47:04.474] [tensorio] [info] epoch_stats={\"data_pipeline\": \"/opt/ml/input/data/train\", \"epoch\": 1, \"duration\": 174, \"num_examples\": 11, \"num_bytes\": 4268000}\u001b[0m\n",
            "\u001b[34m[04/21/2022 14:47:04 INFO 140472686061376] Scaler algorithm parameters\n",
            " <algorithm.scaler.ScalerAlgorithmStable object at 0x7fc2027acad0>\u001b[0m\n",
            "\u001b[34m[04/21/2022 14:47:04 INFO 140472686061376] Scaling model computed with parameters:\n",
            " {'stdev_label': None, 'stdev_weight': \u001b[0m\n",
            "\u001b[34m[5.3855560e+02 4.9294577e+00 1.6130877e+01 8.3315498e+01 8.8752342e+01\n",
            " 1.6317719e+01 7.9008232e+01 8.8063622e+01 5.5313816e+00 7.1265802e+00\n",
            " 3.9648038e-01 4.1504264e-01 4.0704912e-01 4.0508983e-01 4.3442065e-01\n",
            " 4.3858448e-01 4.3833536e-01 2.5560609e-01 2.7588221e-01 2.8196824e-01\n",
            " 2.7241579e-01 2.7833980e-01 2.8289783e-01 2.8851199e-01 2.7213579e-01\n",
            " 2.7806833e-01 2.7820408e-01 2.8683189e-01 1.8076093e-01 1.8216139e-01\n",
            " 1.7405386e-01 1.7744365e-01 1.7600001e-01 1.8146272e-01 1.7982030e-01\n",
            " 1.7380884e-01 1.7624155e-01 1.8719327e-01 1.7744364e-01 1.7600001e-01\n",
            " 1.7478654e-01 1.8308818e-01 1.7356344e-01 1.8239361e-01 1.8469720e-01\n",
            " 1.8583658e-01 1.7233044e-01 1.7356345e-01 1.8099521e-01 1.6626751e-01\n",
            " 1.7058723e-01 1.7720398e-01 1.8377976e-01 1.7863651e-01 1.8331906e-01\n",
            " 1.7233042e-01 1.7331763e-01 1.2893090e-01 3.4895688e-01 3.5090533e-01\n",
            " 3.6051250e-01 3.5671464e-01 3.2686532e-01 3.4317434e-01 3.7362394e-01\n",
            " 2.3562472e-01 4.5888969e-01 3.1592485e-01 2.3408696e-01 3.2044283e-01\n",
            " 3.3102790e-01 2.7353188e-01 3.5989985e-01 3.3560199e-01 3.0048424e-01\n",
            " 3.2770532e-01 2.4907498e-01 3.1759030e-01 3.2633850e-01 2.7436471e-01\n",
            " 3.5237563e-01 3.3799595e-01 2.9396686e-01 3.2822841e-01 1.6155176e-01]\u001b[0m\n",
            "\u001b[34m<NDArray 85 @cpu(0)>, 'mean_label': None, 'mean_weight': \u001b[0m\n",
            "\u001b[34m[1.01073090e+03 1.28909092e+01 3.86012726e+01 2.13925457e+01\n",
            " 1.71641754e+02 3.84940948e+01 2.13559074e+01 1.71856415e+02\n",
            " 5.26818156e-01 5.65000057e-01 1.95363656e-01 2.21181825e-01\n",
            " 2.09636390e-01 2.06909120e-01 2.52454579e-01 2.59909123e-01\n",
            " 2.59454548e-01 7.02727363e-02 8.30000043e-02 8.70909169e-02\n",
            " 8.07272792e-02 8.46363604e-02 8.77272636e-02 9.16363746e-02\n",
            " 8.05454627e-02 8.44545513e-02 8.45454633e-02 9.04545486e-02\n",
            " 3.38181891e-02 3.43636386e-02 3.12727317e-02 3.25454585e-02\n",
            " 3.20000015e-02 3.40909138e-02 3.34545448e-02 3.11818216e-02\n",
            " 3.20909098e-02 3.63636389e-02 3.25454585e-02 3.20000015e-02\n",
            " 3.15454565e-02 3.47272716e-02 3.10909115e-02 3.44545431e-02\n",
            " 3.53636444e-02 3.58181819e-02 3.06363627e-02 3.10909152e-02\n",
            " 3.39090936e-02 2.84545496e-02 3.00000049e-02 3.24545465e-02\n",
            " 3.50000001e-02 3.30000035e-02 3.48181836e-02 3.06363646e-02\n",
            " 3.10000032e-02 1.69090908e-02 1.41909093e-01 1.43818185e-01\n",
            " 1.53545454e-01 1.49636358e-01 1.21636376e-01 1.36363655e-01\n",
            " 1.67727292e-01 5.90000004e-02 3.01454574e-01 1.12454556e-01\n",
            " 5.81818186e-02 1.16181828e-01 1.25272721e-01 8.14545453e-02\n",
            " 1.52909085e-01 1.29363656e-01 1.00363642e-01 1.22363642e-01\n",
            " 6.64545521e-02 1.13818191e-01 1.21181838e-01 8.20000172e-02\n",
            " 1.45272747e-01 1.31545469e-01 9.55454633e-02 1.22818194e-01\n",
            " 2.68181860e-02]\u001b[0m\n",
            "\u001b[34m<NDArray 85 @cpu(0)>}\u001b[0m\n",
            "\u001b[34m[04/21/2022 14:47:04 INFO 140472686061376] nvidia-smi: took 0.039 seconds to run.\u001b[0m\n",
            "\u001b[34m[04/21/2022 14:47:04 INFO 140472686061376] nvidia-smi identified 0 GPUs.\u001b[0m\n",
            "\u001b[34m[04/21/2022 14:47:04 INFO 140472686061376] Number of GPUs being used: 0\u001b[0m\n",
            "\u001b[34m#metrics {\"StartTime\": 1650552424.6134324, \"EndTime\": 1650552424.6134737, \"Dimensions\": {\"Algorithm\": \"Linear Learner\", \"Host\": \"algo-1\", \"Operation\": \"training\", \"Meta\": \"init_train_data_iter\"}, \"Metrics\": {\"Total Records Seen\": {\"sum\": 12000.0, \"count\": 1, \"min\": 12000, \"max\": 12000}, \"Total Batches Seen\": {\"sum\": 12.0, \"count\": 1, \"min\": 12, \"max\": 12}, \"Max Records Seen Between Resets\": {\"sum\": 11000.0, \"count\": 1, \"min\": 11000, \"max\": 11000}, \"Max Batches Seen Between Resets\": {\"sum\": 11.0, \"count\": 1, \"min\": 11, \"max\": 11}, \"Reset Count\": {\"sum\": 2.0, \"count\": 1, \"min\": 2, \"max\": 2}, \"Number of Records Since Last Reset\": {\"sum\": 0.0, \"count\": 1, \"min\": 0, \"max\": 0}, \"Number of Batches Since Last Reset\": {\"sum\": 0.0, \"count\": 1, \"min\": 0, \"max\": 0}}}\u001b[0m\n",
            "\u001b[34m[2022-04-21 14:48:01.212] [tensorio] [info] epoch_stats={\"data_pipeline\": \"/opt/ml/input/data/train\", \"epoch\": 3, \"duration\": 56598, \"num_examples\": 1309, \"num_bytes\": 507687136}\u001b[0m\n",
            "\u001b[34m#metrics {\"StartTime\": 1650552481.2128239, \"EndTime\": 1650552481.2129188, \"Dimensions\": {\"Algorithm\": \"Linear Learner\", \"Host\": \"algo-1\", \"Operation\": \"training\", \"epoch\": 0, \"model\": 0}, \"Metrics\": {\"train_binary_classification_cross_entropy_objective\": {\"sum\": 0.4830690442706467, \"count\": 1, \"min\": 0.4830690442706467, \"max\": 0.4830690442706467}}}\u001b[0m\n",
            "\u001b[34m#metrics {\"StartTime\": 1650552481.2130153, \"EndTime\": 1650552481.2130334, \"Dimensions\": {\"Algorithm\": \"Linear Learner\", \"Host\": \"algo-1\", \"Operation\": \"training\", \"epoch\": 0, \"model\": 1}, \"Metrics\": {\"train_binary_classification_cross_entropy_objective\": {\"sum\": 0.4836598212099221, \"count\": 1, \"min\": 0.4836598212099221, \"max\": 0.4836598212099221}}}\u001b[0m\n",
            "\u001b[34m#metrics {\"StartTime\": 1650552481.2130792, \"EndTime\": 1650552481.2130911, \"Dimensions\": {\"Algorithm\": \"Linear Learner\", \"Host\": \"algo-1\", \"Operation\": \"training\", \"epoch\": 0, \"model\": 2}, \"Metrics\": {\"train_binary_classification_cross_entropy_objective\": {\"sum\": 0.4831221895597032, \"count\": 1, \"min\": 0.4831221895597032, \"max\": 0.4831221895597032}}}\u001b[0m\n",
            "\u001b[34m#metrics {\"StartTime\": 1650552481.2131312, \"EndTime\": 1650552481.213142, \"Dimensions\": {\"Algorithm\": \"Linear Learner\", \"Host\": \"algo-1\", \"Operation\": \"training\", \"epoch\": 0, \"model\": 3}, \"Metrics\": {\"train_binary_classification_cross_entropy_objective\": {\"sum\": 0.48372601892313827, \"count\": 1, \"min\": 0.48372601892313827, \"max\": 0.48372601892313827}}}\u001b[0m\n",
            "\u001b[34m#metrics {\"StartTime\": 1650552481.2131815, \"EndTime\": 1650552481.2131922, \"Dimensions\": {\"Algorithm\": \"Linear Learner\", \"Host\": \"algo-1\", \"Operation\": \"training\", \"epoch\": 0, \"model\": 4}, \"Metrics\": {\"train_binary_classification_cross_entropy_objective\": {\"sum\": 0.4952613710875905, \"count\": 1, \"min\": 0.4952613710875905, \"max\": 0.4952613710875905}}}\u001b[0m\n",
            "\u001b[34m#metrics {\"StartTime\": 1650552481.2132308, \"EndTime\": 1650552481.2132409, \"Dimensions\": {\"Algorithm\": \"Linear Learner\", \"Host\": \"algo-1\", \"Operation\": \"training\", \"epoch\": 0, \"model\": 5}, \"Metrics\": {\"train_binary_classification_cross_entropy_objective\": {\"sum\": 0.5051597090088263, \"count\": 1, \"min\": 0.5051597090088263, \"max\": 0.5051597090088263}}}\u001b[0m\n",
            "\u001b[34m#metrics {\"StartTime\": 1650552481.213279, \"EndTime\": 1650552481.2132893, \"Dimensions\": {\"Algorithm\": \"Linear Learner\", \"Host\": \"algo-1\", \"Operation\": \"training\", \"epoch\": 0, \"model\": 6}, \"Metrics\": {\"train_binary_classification_cross_entropy_objective\": {\"sum\": 0.4952668110792061, \"count\": 1, \"min\": 0.4952668110792061, \"max\": 0.4952668110792061}}}\u001b[0m\n",
            "\u001b[34m#metrics {\"StartTime\": 1650552481.2133272, \"EndTime\": 1650552481.2133374, \"Dimensions\": {\"Algorithm\": \"Linear Learner\", \"Host\": \"algo-1\", \"Operation\": \"training\", \"epoch\": 0, \"model\": 7}, \"Metrics\": {\"train_binary_classification_cross_entropy_objective\": {\"sum\": 0.5051198994114494, \"count\": 1, \"min\": 0.5051198994114494, \"max\": 0.5051198994114494}}}\u001b[0m\n",
            "\u001b[34m#metrics {\"StartTime\": 1650552481.2134047, \"EndTime\": 1650552481.213418, \"Dimensions\": {\"Algorithm\": \"Linear Learner\", \"Host\": \"algo-1\", \"Operation\": \"training\", \"epoch\": 0, \"model\": 8}, \"Metrics\": {\"train_binary_classification_cross_entropy_objective\": {\"sum\": 0.4833238817267462, \"count\": 1, \"min\": 0.4833238817267462, \"max\": 0.4833238817267462}}}\u001b[0m\n",
            "\u001b[34m#metrics {\"StartTime\": 1650552481.2134635, \"EndTime\": 1650552481.2134748, \"Dimensions\": {\"Algorithm\": \"Linear Learner\", \"Host\": \"algo-1\", \"Operation\": \"training\", \"epoch\": 0, \"model\": 9}, \"Metrics\": {\"train_binary_classification_cross_entropy_objective\": {\"sum\": 0.48384311473041497, \"count\": 1, \"min\": 0.48384311473041497, \"max\": 0.48384311473041497}}}\u001b[0m\n",
            "\u001b[34m#metrics {\"StartTime\": 1650552481.2135146, \"EndTime\": 1650552481.213525, \"Dimensions\": {\"Algorithm\": \"Linear Learner\", \"Host\": \"algo-1\", \"Operation\": \"training\", \"epoch\": 0, \"model\": 10}, \"Metrics\": {\"train_binary_classification_cross_entropy_objective\": {\"sum\": 0.483256699168354, \"count\": 1, \"min\": 0.483256699168354, \"max\": 0.483256699168354}}}\u001b[0m\n",
            "\u001b[34m#metrics {\"StartTime\": 1650552481.2135627, \"EndTime\": 1650552481.2135732, \"Dimensions\": {\"Algorithm\": \"Linear Learner\", \"Host\": \"algo-1\", \"Operation\": \"training\", \"epoch\": 0, \"model\": 11}, \"Metrics\": {\"train_binary_classification_cross_entropy_objective\": {\"sum\": 0.48379348661556887, \"count\": 1, \"min\": 0.48379348661556887, \"max\": 0.48379348661556887}}}\u001b[0m\n",
            "\u001b[34m#metrics {\"StartTime\": 1650552481.2136106, \"EndTime\": 1650552481.213621, \"Dimensions\": {\"Algorithm\": \"Linear Learner\", \"Host\": \"algo-1\", \"Operation\": \"training\", \"epoch\": 0, \"model\": 12}, \"Metrics\": {\"train_binary_classification_cross_entropy_objective\": {\"sum\": 0.4944999565334495, \"count\": 1, \"min\": 0.4944999565334495, \"max\": 0.4944999565334495}}}\u001b[0m\n",
            "\u001b[34m#metrics {\"StartTime\": 1650552481.213658, \"EndTime\": 1650552481.2136683, \"Dimensions\": {\"Algorithm\": \"Linear Learner\", \"Host\": \"algo-1\", \"Operation\": \"training\", \"epoch\": 0, \"model\": 13}, \"Metrics\": {\"train_binary_classification_cross_entropy_objective\": {\"sum\": 0.5034387560036568, \"count\": 1, \"min\": 0.5034387560036568, \"max\": 0.5034387560036568}}}\u001b[0m\n",
            "\u001b[34m#metrics {\"StartTime\": 1650552481.2137113, \"EndTime\": 1650552481.2137218, \"Dimensions\": {\"Algorithm\": \"Linear Learner\", \"Host\": \"algo-1\", \"Operation\": \"training\", \"epoch\": 0, \"model\": 14}, \"Metrics\": {\"train_binary_classification_cross_entropy_objective\": {\"sum\": 0.49448200256161007, \"count\": 1, \"min\": 0.49448200256161007, \"max\": 0.49448200256161007}}}\u001b[0m\n",
            "\u001b[34m#metrics {\"StartTime\": 1650552481.2137594, \"EndTime\": 1650552481.2137697, \"Dimensions\": {\"Algorithm\": \"Linear Learner\", \"Host\": \"algo-1\", \"Operation\": \"training\", \"epoch\": 0, \"model\": 15}, \"Metrics\": {\"train_binary_classification_cross_entropy_objective\": {\"sum\": 0.5034367277512857, \"count\": 1, \"min\": 0.5034367277512857, \"max\": 0.5034367277512857}}}\u001b[0m\n",
            "\u001b[34m#metrics {\"StartTime\": 1650552481.2138073, \"EndTime\": 1650552481.2138176, \"Dimensions\": {\"Algorithm\": \"Linear Learner\", \"Host\": \"algo-1\", \"Operation\": \"training\", \"epoch\": 0, \"model\": 16}, \"Metrics\": {\"train_binary_classification_cross_entropy_objective\": {\"sum\": 0.5056387722003716, \"count\": 1, \"min\": 0.5056387722003716, \"max\": 0.5056387722003716}}}\u001b[0m\n",
            "\u001b[34m#metrics {\"StartTime\": 1650552481.2138548, \"EndTime\": 1650552481.213865, \"Dimensions\": {\"Algorithm\": \"Linear Learner\", \"Host\": \"algo-1\", \"Operation\": \"training\", \"epoch\": 0, \"model\": 17}, \"Metrics\": {\"train_binary_classification_cross_entropy_objective\": {\"sum\": 0.5057680693926797, \"count\": 1, \"min\": 0.5057680693926797, \"max\": 0.5057680693926797}}}\u001b[0m\n",
            "\u001b[34m#metrics {\"StartTime\": 1650552481.2139018, \"EndTime\": 1650552481.2139118, \"Dimensions\": {\"Algorithm\": \"Linear Learner\", \"Host\": \"algo-1\", \"Operation\": \"training\", \"epoch\": 0, \"model\": 18}, \"Metrics\": {\"train_binary_classification_cross_entropy_objective\": {\"sum\": 0.5056000124963417, \"count\": 1, \"min\": 0.5056000124963417, \"max\": 0.5056000124963417}}}\u001b[0m\n",
            "\u001b[34m#metrics {\"StartTime\": 1650552481.2139578, \"EndTime\": 1650552481.2139695, \"Dimensions\": {\"Algorithm\": \"Linear Learner\", \"Host\": \"algo-1\", \"Operation\": \"training\", \"epoch\": 0, \"model\": 19}, \"Metrics\": {\"train_binary_classification_cross_entropy_objective\": {\"sum\": 0.5057410545699094, \"count\": 1, \"min\": 0.5057410545699094, \"max\": 0.5057410545699094}}}\u001b[0m\n",
            "\u001b[34m#metrics {\"StartTime\": 1650552481.2140162, \"EndTime\": 1650552481.214028, \"Dimensions\": {\"Algorithm\": \"Linear Learner\", \"Host\": \"algo-1\", \"Operation\": \"training\", \"epoch\": 0, \"model\": 20}, \"Metrics\": {\"train_binary_classification_cross_entropy_objective\": {\"sum\": 0.5069702283760095, \"count\": 1, \"min\": 0.5069702283760095, \"max\": 0.5069702283760095}}}\u001b[0m\n",
            "\u001b[34m#metrics {\"StartTime\": 1650552481.2140677, \"EndTime\": 1650552481.2140782, \"Dimensions\": {\"Algorithm\": \"Linear Learner\", \"Host\": \"algo-1\", \"Operation\": \"training\", \"epoch\": 0, \"model\": 21}, \"Metrics\": {\"train_binary_classification_cross_entropy_objective\": {\"sum\": 0.5087108377579155, \"count\": 1, \"min\": 0.5087108377579155, \"max\": 0.5087108377579155}}}\u001b[0m\n",
            "\u001b[34m#metrics {\"StartTime\": 1650552481.2141159, \"EndTime\": 1650552481.214126, \"Dimensions\": {\"Algorithm\": \"Linear Learner\", \"Host\": \"algo-1\", \"Operation\": \"training\", \"epoch\": 0, \"model\": 22}, \"Metrics\": {\"train_binary_classification_cross_entropy_objective\": {\"sum\": 0.5069977758331765, \"count\": 1, \"min\": 0.5069977758331765, \"max\": 0.5069977758331765}}}\u001b[0m\n",
            "\u001b[34m#metrics {\"StartTime\": 1650552481.2141633, \"EndTime\": 1650552481.2141738, \"Dimensions\": {\"Algorithm\": \"Linear Learner\", \"Host\": \"algo-1\", \"Operation\": \"training\", \"epoch\": 0, \"model\": 23}, \"Metrics\": {\"train_binary_classification_cross_entropy_objective\": {\"sum\": 0.5087044490382576, \"count\": 1, \"min\": 0.5087044490382576, \"max\": 0.5087044490382576}}}\u001b[0m\n",
            "\u001b[34m#metrics {\"StartTime\": 1650552481.2142107, \"EndTime\": 1650552481.214221, \"Dimensions\": {\"Algorithm\": \"Linear Learner\", \"Host\": \"algo-1\", \"Operation\": \"training\", \"epoch\": 0, \"model\": 24}, \"Metrics\": {\"train_binary_classification_cross_entropy_objective\": {\"sum\": 0.5149995471592708, \"count\": 1, \"min\": 0.5149995471592708, \"max\": 0.5149995471592708}}}\u001b[0m\n",
            "\u001b[34m#metrics {\"StartTime\": 1650552481.2142582, \"EndTime\": 1650552481.2142684, \"Dimensions\": {\"Algorithm\": \"Linear Learner\", \"Host\": \"algo-1\", \"Operation\": \"training\", \"epoch\": 0, \"model\": 25}, \"Metrics\": {\"train_binary_classification_cross_entropy_objective\": {\"sum\": 0.5150361546740984, \"count\": 1, \"min\": 0.5150361546740984, \"max\": 0.5150361546740984}}}\u001b[0m\n",
            "\u001b[34m#metrics {\"StartTime\": 1650552481.2143052, \"EndTime\": 1650552481.2143154, \"Dimensions\": {\"Algorithm\": \"Linear Learner\", \"Host\": \"algo-1\", \"Operation\": \"training\", \"epoch\": 0, \"model\": 26}, \"Metrics\": {\"train_binary_classification_cross_entropy_objective\": {\"sum\": 0.5150298190335615, \"count\": 1, \"min\": 0.5150298190335615, \"max\": 0.5150298190335615}}}\u001b[0m\n",
            "\u001b[34m#metrics {\"StartTime\": 1650552481.2143543, \"EndTime\": 1650552481.2143676, \"Dimensions\": {\"Algorithm\": \"Linear Learner\", \"Host\": \"algo-1\", \"Operation\": \"training\", \"epoch\": 0, \"model\": 27}, \"Metrics\": {\"train_binary_classification_cross_entropy_objective\": {\"sum\": 0.5150770745233658, \"count\": 1, \"min\": 0.5150770745233658, \"max\": 0.5150770745233658}}}\u001b[0m\n",
            "\u001b[34m#metrics {\"StartTime\": 1650552481.2143962, \"EndTime\": 1650552481.214404, \"Dimensions\": {\"Algorithm\": \"Linear Learner\", \"Host\": \"algo-1\", \"Operation\": \"training\", \"epoch\": 0, \"model\": 28}, \"Metrics\": {\"train_binary_classification_cross_entropy_objective\": {\"sum\": 0.5149852006544761, \"count\": 1, \"min\": 0.5149852006544761, \"max\": 0.5149852006544761}}}\u001b[0m\n",
            "\u001b[34m#metrics {\"StartTime\": 1650552481.214439, \"EndTime\": 1650552481.214454, \"Dimensions\": {\"Algorithm\": \"Linear Learner\", \"Host\": \"algo-1\", \"Operation\": \"training\", \"epoch\": 0, \"model\": 29}, \"Metrics\": {\"train_binary_classification_cross_entropy_objective\": {\"sum\": 0.5157111222853354, \"count\": 1, \"min\": 0.5157111222853354, \"max\": 0.5157111222853354}}}\u001b[0m\n",
            "\u001b[34m#metrics {\"StartTime\": 1650552481.2144864, \"EndTime\": 1650552481.2144947, \"Dimensions\": {\"Algorithm\": \"Linear Learner\", \"Host\": \"algo-1\", \"Operation\": \"training\", \"epoch\": 0, \"model\": 30}, \"Metrics\": {\"train_binary_classification_cross_entropy_objective\": {\"sum\": 0.5150030768624868, \"count\": 1, \"min\": 0.5150030768624868, \"max\": 0.5150030768624868}}}\u001b[0m\n",
            "\u001b[34m#metrics {\"StartTime\": 1650552481.2145202, \"EndTime\": 1650552481.2145278, \"Dimensions\": {\"Algorithm\": \"Linear Learner\", \"Host\": \"algo-1\", \"Operation\": \"training\", \"epoch\": 0, \"model\": 31}, \"Metrics\": {\"train_binary_classification_cross_entropy_objective\": {\"sum\": 0.5157544831675491, \"count\": 1, \"min\": 0.5157544831675491, \"max\": 0.5157544831675491}}}\u001b[0m\n",
            "\u001b[34m[04/21/2022 14:48:01 INFO 140472686061376] #quality_metric: host=algo-1, epoch=0, train binary_classification_cross_entropy_objective <loss>=0.4830690442706467\u001b[0m\n",
            "\u001b[34m[2022-04-21 14:48:01.239] [tensorio] [info] epoch_stats={\"data_pipeline\": \"/opt/ml/input/data/validation\", \"epoch\": 0, \"duration\": 57003, \"num_examples\": 1, \"num_bytes\": 388000}\u001b[0m\n",
            "\u001b[34m[2022-04-21 14:48:07.688] [tensorio] [info] epoch_stats={\"data_pipeline\": \"/opt/ml/input/data/validation\", \"epoch\": 2, \"duration\": 6448, \"num_examples\": 164, \"num_bytes\": 63460892}\u001b[0m\n",
            "\u001b[34m#metrics {\"StartTime\": 1650552487.7005188, \"EndTime\": 1650552487.7006521, \"Dimensions\": {\"Algorithm\": \"Linear Learner\", \"Host\": \"algo-1\", \"Operation\": \"training\", \"epoch\": 0, \"model\": 0}, \"Metrics\": {\"validation_binary_classification_cross_entropy_objective\": {\"sum\": 0.4807412749822646, \"count\": 1, \"min\": 0.4807412749822646, \"max\": 0.4807412749822646}}}\u001b[0m\n",
            "\u001b[34m#metrics {\"StartTime\": 1650552487.7007883, \"EndTime\": 1650552487.700815, \"Dimensions\": {\"Algorithm\": \"Linear Learner\", \"Host\": \"algo-1\", \"Operation\": \"training\", \"epoch\": 0, \"model\": 1}, \"Metrics\": {\"validation_binary_classification_cross_entropy_objective\": {\"sum\": 0.48228511526111184, \"count\": 1, \"min\": 0.48228511526111184, \"max\": 0.48228511526111184}}}\u001b[0m\n",
            "\u001b[34m#metrics {\"StartTime\": 1650552487.7008836, \"EndTime\": 1650552487.7009032, \"Dimensions\": {\"Algorithm\": \"Linear Learner\", \"Host\": \"algo-1\", \"Operation\": \"training\", \"epoch\": 0, \"model\": 2}, \"Metrics\": {\"validation_binary_classification_cross_entropy_objective\": {\"sum\": 0.480741285430998, \"count\": 1, \"min\": 0.480741285430998, \"max\": 0.480741285430998}}}\u001b[0m\n",
            "\u001b[34m#metrics {\"StartTime\": 1650552487.7009711, \"EndTime\": 1650552487.70099, \"Dimensions\": {\"Algorithm\": \"Linear Learner\", \"Host\": \"algo-1\", \"Operation\": \"training\", \"epoch\": 0, \"model\": 3}, \"Metrics\": {\"validation_binary_classification_cross_entropy_objective\": {\"sum\": 0.4822881612534625, \"count\": 1, \"min\": 0.4822881612534625, \"max\": 0.4822881612534625}}}\u001b[0m\n",
            "\u001b[34m#metrics {\"StartTime\": 1650552487.7010472, \"EndTime\": 1650552487.7010653, \"Dimensions\": {\"Algorithm\": \"Linear Learner\", \"Host\": \"algo-1\", \"Operation\": \"training\", \"epoch\": 0, \"model\": 4}, \"Metrics\": {\"validation_binary_classification_cross_entropy_objective\": {\"sum\": 0.488239582877072, \"count\": 1, \"min\": 0.488239582877072, \"max\": 0.488239582877072}}}\u001b[0m\n",
            "\u001b[34m#metrics {\"StartTime\": 1650552487.7011297, \"EndTime\": 1650552487.7011476, \"Dimensions\": {\"Algorithm\": \"Linear Learner\", \"Host\": \"algo-1\", \"Operation\": \"training\", \"epoch\": 0, \"model\": 5}, \"Metrics\": {\"validation_binary_classification_cross_entropy_objective\": {\"sum\": 0.49926393244998984, \"count\": 1, \"min\": 0.49926393244998984, \"max\": 0.49926393244998984}}}\u001b[0m\n",
            "\u001b[34m#metrics {\"StartTime\": 1650552487.7012043, \"EndTime\": 1650552487.7012208, \"Dimensions\": {\"Algorithm\": \"Linear Learner\", \"Host\": \"algo-1\", \"Operation\": \"training\", \"epoch\": 0, \"model\": 6}, \"Metrics\": {\"validation_binary_classification_cross_entropy_objective\": {\"sum\": 0.488241156344361, \"count\": 1, \"min\": 0.488241156344361, \"max\": 0.488241156344361}}}\u001b[0m\n",
            "\u001b[34m#metrics {\"StartTime\": 1650552487.7012763, \"EndTime\": 1650552487.7012928, \"Dimensions\": {\"Algorithm\": \"Linear Learner\", \"Host\": \"algo-1\", \"Operation\": \"training\", \"epoch\": 0, \"model\": 7}, \"Metrics\": {\"validation_binary_classification_cross_entropy_objective\": {\"sum\": 0.4992641459026851, \"count\": 1, \"min\": 0.4992641459026851, \"max\": 0.4992641459026851}}}\u001b[0m\n",
            "\u001b[34m#metrics {\"StartTime\": 1650552487.7013733, \"EndTime\": 1650552487.7013924, \"Dimensions\": {\"Algorithm\": \"Linear Learner\", \"Host\": \"algo-1\", \"Operation\": \"training\", \"epoch\": 0, \"model\": 8}, \"Metrics\": {\"validation_binary_classification_cross_entropy_objective\": {\"sum\": 0.48102930010067324, \"count\": 1, \"min\": 0.48102930010067324, \"max\": 0.48102930010067324}}}\u001b[0m\n",
            "\u001b[34m#metrics {\"StartTime\": 1650552487.7014492, \"EndTime\": 1650552487.7014663, \"Dimensions\": {\"Algorithm\": \"Linear Learner\", \"Host\": \"algo-1\", \"Operation\": \"training\", \"epoch\": 0, \"model\": 9}, \"Metrics\": {\"validation_binary_classification_cross_entropy_objective\": {\"sum\": 0.48249001977294415, \"count\": 1, \"min\": 0.48249001977294415, \"max\": 0.48249001977294415}}}\u001b[0m\n",
            "\u001b[34m#metrics {\"StartTime\": 1650552487.7015285, \"EndTime\": 1650552487.7015467, \"Dimensions\": {\"Algorithm\": \"Linear Learner\", \"Host\": \"algo-1\", \"Operation\": \"training\", \"epoch\": 0, \"model\": 10}, \"Metrics\": {\"validation_binary_classification_cross_entropy_objective\": {\"sum\": 0.48102851383349005, \"count\": 1, \"min\": 0.48102851383349005, \"max\": 0.48102851383349005}}}\u001b[0m\n",
            "\u001b[34m#metrics {\"StartTime\": 1650552487.7016134, \"EndTime\": 1650552487.7016315, \"Dimensions\": {\"Algorithm\": \"Linear Learner\", \"Host\": \"algo-1\", \"Operation\": \"training\", \"epoch\": 0, \"model\": 11}, \"Metrics\": {\"validation_binary_classification_cross_entropy_objective\": {\"sum\": 0.4824929243342258, \"count\": 1, \"min\": 0.4824929243342258, \"max\": 0.4824929243342258}}}\u001b[0m\n",
            "\u001b[34m#metrics {\"StartTime\": 1650552487.701694, \"EndTime\": 1650552487.701712, \"Dimensions\": {\"Algorithm\": \"Linear Learner\", \"Host\": \"algo-1\", \"Operation\": \"training\", \"epoch\": 0, \"model\": 12}, \"Metrics\": {\"validation_binary_classification_cross_entropy_objective\": {\"sum\": 0.48830117666738615, \"count\": 1, \"min\": 0.48830117666738615, \"max\": 0.48830117666738615}}}\u001b[0m\n",
            "\u001b[34m#metrics {\"StartTime\": 1650552487.7017658, \"EndTime\": 1650552487.7017837, \"Dimensions\": {\"Algorithm\": \"Linear Learner\", \"Host\": \"algo-1\", \"Operation\": \"training\", \"epoch\": 0, \"model\": 13}, \"Metrics\": {\"validation_binary_classification_cross_entropy_objective\": {\"sum\": 0.49782774603041274, \"count\": 1, \"min\": 0.49782774603041274, \"max\": 0.49782774603041274}}}\u001b[0m\n",
            "\u001b[34m#metrics {\"StartTime\": 1650552487.7018456, \"EndTime\": 1650552487.7018642, \"Dimensions\": {\"Algorithm\": \"Linear Learner\", \"Host\": \"algo-1\", \"Operation\": \"training\", \"epoch\": 0, \"model\": 14}, \"Metrics\": {\"validation_binary_classification_cross_entropy_objective\": {\"sum\": 0.48829852287570447, \"count\": 1, \"min\": 0.48829852287570447, \"max\": 0.48829852287570447}}}\u001b[0m\n",
            "\u001b[34m#metrics {\"StartTime\": 1650552487.701928, \"EndTime\": 1650552487.701946, \"Dimensions\": {\"Algorithm\": \"Linear Learner\", \"Host\": \"algo-1\", \"Operation\": \"training\", \"epoch\": 0, \"model\": 15}, \"Metrics\": {\"validation_binary_classification_cross_entropy_objective\": {\"sum\": 0.4978298788781041, \"count\": 1, \"min\": 0.4978298788781041, \"max\": 0.4978298788781041}}}\u001b[0m\n",
            "\u001b[34m#metrics {\"StartTime\": 1650552487.702001, \"EndTime\": 1650552487.7020178, \"Dimensions\": {\"Algorithm\": \"Linear Learner\", \"Host\": \"algo-1\", \"Operation\": \"training\", \"epoch\": 0, \"model\": 16}, \"Metrics\": {\"validation_binary_classification_cross_entropy_objective\": {\"sum\": 0.5045053111463815, \"count\": 1, \"min\": 0.5045053111463815, \"max\": 0.5045053111463815}}}\u001b[0m\n",
            "\u001b[34m#metrics {\"StartTime\": 1650552487.7020721, \"EndTime\": 1650552487.702089, \"Dimensions\": {\"Algorithm\": \"Linear Learner\", \"Host\": \"algo-1\", \"Operation\": \"training\", \"epoch\": 0, \"model\": 17}, \"Metrics\": {\"validation_binary_classification_cross_entropy_objective\": {\"sum\": 0.5054610149892991, \"count\": 1, \"min\": 0.5054610149892991, \"max\": 0.5054610149892991}}}\u001b[0m\n",
            "\u001b[34m#metrics {\"StartTime\": 1650552487.7021434, \"EndTime\": 1650552487.70216, \"Dimensions\": {\"Algorithm\": \"Linear Learner\", \"Host\": \"algo-1\", \"Operation\": \"training\", \"epoch\": 0, \"model\": 18}, \"Metrics\": {\"validation_binary_classification_cross_entropy_objective\": {\"sum\": 0.5045002806410359, \"count\": 1, \"min\": 0.5045002806410359, \"max\": 0.5045002806410359}}}\u001b[0m\n",
            "\u001b[34m#metrics {\"StartTime\": 1650552487.7022252, \"EndTime\": 1650552487.7022436, \"Dimensions\": {\"Algorithm\": \"Linear Learner\", \"Host\": \"algo-1\", \"Operation\": \"training\", \"epoch\": 0, \"model\": 19}, \"Metrics\": {\"validation_binary_classification_cross_entropy_objective\": {\"sum\": 0.5054453310673991, \"count\": 1, \"min\": 0.5054453310673991, \"max\": 0.5054453310673991}}}\u001b[0m\n",
            "\u001b[34m#metrics {\"StartTime\": 1650552487.7023084, \"EndTime\": 1650552487.702326, \"Dimensions\": {\"Algorithm\": \"Linear Learner\", \"Host\": \"algo-1\", \"Operation\": \"training\", \"epoch\": 0, \"model\": 20}, \"Metrics\": {\"validation_binary_classification_cross_entropy_objective\": {\"sum\": 0.5049250352716398, \"count\": 1, \"min\": 0.5049250352716398, \"max\": 0.5049250352716398}}}\u001b[0m\n",
            "\u001b[34m#metrics {\"StartTime\": 1650552487.7023888, \"EndTime\": 1650552487.702407, \"Dimensions\": {\"Algorithm\": \"Linear Learner\", \"Host\": \"algo-1\", \"Operation\": \"training\", \"epoch\": 0, \"model\": 21}, \"Metrics\": {\"validation_binary_classification_cross_entropy_objective\": {\"sum\": 0.5051187743789846, \"count\": 1, \"min\": 0.5051187743789846, \"max\": 0.5051187743789846}}}\u001b[0m\n",
            "\u001b[34m#metrics {\"StartTime\": 1650552487.7024713, \"EndTime\": 1650552487.7024894, \"Dimensions\": {\"Algorithm\": \"Linear Learner\", \"Host\": \"algo-1\", \"Operation\": \"training\", \"epoch\": 0, \"model\": 22}, \"Metrics\": {\"validation_binary_classification_cross_entropy_objective\": {\"sum\": 0.5049129690370715, \"count\": 1, \"min\": 0.5049129690370715, \"max\": 0.5049129690370715}}}\u001b[0m\n",
            "\u001b[34m#metrics {\"StartTime\": 1650552487.7025461, \"EndTime\": 1650552487.7025633, \"Dimensions\": {\"Algorithm\": \"Linear Learner\", \"Host\": \"algo-1\", \"Operation\": \"training\", \"epoch\": 0, \"model\": 23}, \"Metrics\": {\"validation_binary_classification_cross_entropy_objective\": {\"sum\": 0.5051222317902102, \"count\": 1, \"min\": 0.5051222317902102, \"max\": 0.5051222317902102}}}\u001b[0m\n",
            "\u001b[34m#metrics {\"StartTime\": 1650552487.702633, \"EndTime\": 1650552487.7026489, \"Dimensions\": {\"Algorithm\": \"Linear Learner\", \"Host\": \"algo-1\", \"Operation\": \"training\", \"epoch\": 0, \"model\": 24}, \"Metrics\": {\"validation_binary_classification_cross_entropy_objective\": {\"sum\": 0.5136973745739425, \"count\": 1, \"min\": 0.5136973745739425, \"max\": 0.5136973745739425}}}\u001b[0m\n",
            "\u001b[34m#metrics {\"StartTime\": 1650552487.702704, \"EndTime\": 1650552487.7027194, \"Dimensions\": {\"Algorithm\": \"Linear Learner\", \"Host\": \"algo-1\", \"Operation\": \"training\", \"epoch\": 0, \"model\": 25}, \"Metrics\": {\"validation_binary_classification_cross_entropy_objective\": {\"sum\": 0.5143437337775951, \"count\": 1, \"min\": 0.5143437337775951, \"max\": 0.5143437337775951}}}\u001b[0m\n",
            "\u001b[34m#metrics {\"StartTime\": 1650552487.7027707, \"EndTime\": 1650552487.702787, \"Dimensions\": {\"Algorithm\": \"Linear Learner\", \"Host\": \"algo-1\", \"Operation\": \"training\", \"epoch\": 0, \"model\": 26}, \"Metrics\": {\"validation_binary_classification_cross_entropy_objective\": {\"sum\": 0.513690976217453, \"count\": 1, \"min\": 0.513690976217453, \"max\": 0.513690976217453}}}\u001b[0m\n",
            "\u001b[34m#metrics {\"StartTime\": 1650552487.7028203, \"EndTime\": 1650552487.7028294, \"Dimensions\": {\"Algorithm\": \"Linear Learner\", \"Host\": \"algo-1\", \"Operation\": \"training\", \"epoch\": 0, \"model\": 27}, \"Metrics\": {\"validation_binary_classification_cross_entropy_objective\": {\"sum\": 0.5143649620586193, \"count\": 1, \"min\": 0.5143649620586193, \"max\": 0.5143649620586193}}}\u001b[0m\n",
            "\u001b[34m#metrics {\"StartTime\": 1650552487.7028553, \"EndTime\": 1650552487.7028632, \"Dimensions\": {\"Algorithm\": \"Linear Learner\", \"Host\": \"algo-1\", \"Operation\": \"training\", \"epoch\": 0, \"model\": 28}, \"Metrics\": {\"validation_binary_classification_cross_entropy_objective\": {\"sum\": 0.5152230853675365, \"count\": 1, \"min\": 0.5152230853675365, \"max\": 0.5152230853675365}}}\u001b[0m\n",
            "\u001b[34m#metrics {\"StartTime\": 1650552487.7028885, \"EndTime\": 1650552487.7028959, \"Dimensions\": {\"Algorithm\": \"Linear Learner\", \"Host\": \"algo-1\", \"Operation\": \"training\", \"epoch\": 0, \"model\": 29}, \"Metrics\": {\"validation_binary_classification_cross_entropy_objective\": {\"sum\": 0.5138226371610598, \"count\": 1, \"min\": 0.5138226371610598, \"max\": 0.5138226371610598}}}\u001b[0m\n",
            "\u001b[34m#metrics {\"StartTime\": 1650552487.7029207, \"EndTime\": 1650552487.702928, \"Dimensions\": {\"Algorithm\": \"Linear Learner\", \"Host\": \"algo-1\", \"Operation\": \"training\", \"epoch\": 0, \"model\": 30}, \"Metrics\": {\"validation_binary_classification_cross_entropy_objective\": {\"sum\": 0.5152965011532774, \"count\": 1, \"min\": 0.5152965011532774, \"max\": 0.5152965011532774}}}\u001b[0m\n",
            "\u001b[34m#metrics {\"StartTime\": 1650552487.7029562, \"EndTime\": 1650552487.702964, \"Dimensions\": {\"Algorithm\": \"Linear Learner\", \"Host\": \"algo-1\", \"Operation\": \"training\", \"epoch\": 0, \"model\": 31}, \"Metrics\": {\"validation_binary_classification_cross_entropy_objective\": {\"sum\": 0.5140640329411305, \"count\": 1, \"min\": 0.5140640329411305, \"max\": 0.5140640329411305}}}\u001b[0m\n",
            "\u001b[34m[04/21/2022 14:48:07 INFO 140472686061376] #quality_metric: host=algo-1, epoch=0, validation binary_classification_cross_entropy_objective <loss>=0.4807412749822646\u001b[0m\n",
            "\u001b[34m[04/21/2022 14:48:07 INFO 140472686061376] #early_stopping_criteria_metric: host=algo-1, epoch=0, criteria=binary_classification_cross_entropy_objective, value=0.4807412749822646\u001b[0m\n",
            "\u001b[34m[04/21/2022 14:48:07 INFO 140472686061376] Epoch 0: Loss improved. Updating best model\u001b[0m\n",
            "\u001b[34m[04/21/2022 14:48:07 INFO 140472686061376] Saving model for epoch: 0\u001b[0m\n",
            "\u001b[34m[04/21/2022 14:48:07 INFO 140472686061376] Saved checkpoint to \"/tmp/tmpeohb4hq4/mx-mod-0000.params\"\u001b[0m\n",
            "\u001b[34m[04/21/2022 14:48:07 INFO 140472686061376] #progress_metric: host=algo-1, completed 6.666666666666667 % of epochs\u001b[0m\n",
            "\u001b[34m#metrics {\"StartTime\": 1650552424.6137905, \"EndTime\": 1650552487.7147005, \"Dimensions\": {\"Algorithm\": \"Linear Learner\", \"Host\": \"algo-1\", \"Operation\": \"training\", \"epoch\": 0, \"Meta\": \"training_data_iter\"}, \"Metrics\": {\"Total Records Seen\": {\"sum\": 1320472.0, \"count\": 1, \"min\": 1320472, \"max\": 1320472}, \"Total Batches Seen\": {\"sum\": 1321.0, \"count\": 1, \"min\": 1321, \"max\": 1321}, \"Max Records Seen Between Resets\": {\"sum\": 1308472.0, \"count\": 1, \"min\": 1308472, \"max\": 1308472}, \"Max Batches Seen Between Resets\": {\"sum\": 1309.0, \"count\": 1, \"min\": 1309, \"max\": 1309}, \"Reset Count\": {\"sum\": 3.0, \"count\": 1, \"min\": 3, \"max\": 3}, \"Number of Records Since Last Reset\": {\"sum\": 1308472.0, \"count\": 1, \"min\": 1308472, \"max\": 1308472}, \"Number of Batches Since Last Reset\": {\"sum\": 1309.0, \"count\": 1, \"min\": 1309, \"max\": 1309}}}\u001b[0m\n",
            "\u001b[34m[04/21/2022 14:48:07 INFO 140472686061376] #throughput_metric: host=algo-1, train throughput=20736.135264607423 records/second\u001b[0m\n",
            "\u001b[34m[2022-04-21 14:49:04.289] [tensorio] [info] epoch_stats={\"data_pipeline\": \"/opt/ml/input/data/train\", \"epoch\": 5, \"duration\": 56571, \"num_examples\": 1309, \"num_bytes\": 507687136}\u001b[0m\n",
            "\u001b[34m#metrics {\"StartTime\": 1650552544.289294, \"EndTime\": 1650552544.289442, \"Dimensions\": {\"Algorithm\": \"Linear Learner\", \"Host\": \"algo-1\", \"Operation\": \"training\", \"epoch\": 1, \"model\": 0}, \"Metrics\": {\"train_binary_classification_cross_entropy_objective\": {\"sum\": 0.48075650498043143, \"count\": 1, \"min\": 0.48075650498043143, \"max\": 0.48075650498043143}}}\u001b[0m\n",
            "\u001b[34m#metrics {\"StartTime\": 1650552544.2895935, \"EndTime\": 1650552544.2896218, \"Dimensions\": {\"Algorithm\": \"Linear Learner\", \"Host\": \"algo-1\", \"Operation\": \"training\", \"epoch\": 1, \"model\": 1}, \"Metrics\": {\"train_binary_classification_cross_entropy_objective\": {\"sum\": 0.4817339083237021, \"count\": 1, \"min\": 0.4817339083237021, \"max\": 0.4817339083237021}}}\u001b[0m\n",
            "\u001b[34m#metrics {\"StartTime\": 1650552544.2896926, \"EndTime\": 1650552544.2897139, \"Dimensions\": {\"Algorithm\": \"Linear Learner\", \"Host\": \"algo-1\", \"Operation\": \"training\", \"epoch\": 1, \"model\": 2}, \"Metrics\": {\"train_binary_classification_cross_entropy_objective\": {\"sum\": 0.4807566592948517, \"count\": 1, \"min\": 0.4807566592948517, \"max\": 0.4807566592948517}}}\u001b[0m\n",
            "\u001b[34m#metrics {\"StartTime\": 1650552544.2898452, \"EndTime\": 1650552544.2898686, \"Dimensions\": {\"Algorithm\": \"Linear Learner\", \"Host\": \"algo-1\", \"Operation\": \"training\", \"epoch\": 1, \"model\": 3}, \"Metrics\": {\"train_binary_classification_cross_entropy_objective\": {\"sum\": 0.4817337618719912, \"count\": 1, \"min\": 0.4817337618719912, \"max\": 0.4817337618719912}}}\u001b[0m\n",
            "\u001b[34m#metrics {\"StartTime\": 1650552544.289968, \"EndTime\": 1650552544.289991, \"Dimensions\": {\"Algorithm\": \"Linear Learner\", \"Host\": \"algo-1\", \"Operation\": \"training\", \"epoch\": 1, \"model\": 4}, \"Metrics\": {\"train_binary_classification_cross_entropy_objective\": {\"sum\": 0.48465754480391104, \"count\": 1, \"min\": 0.48465754480391104, \"max\": 0.48465754480391104}}}\u001b[0m\n",
            "\u001b[34m#metrics {\"StartTime\": 1650552544.2900531, \"EndTime\": 1650552544.2901094, \"Dimensions\": {\"Algorithm\": \"Linear Learner\", \"Host\": \"algo-1\", \"Operation\": \"training\", \"epoch\": 1, \"model\": 5}, \"Metrics\": {\"train_binary_classification_cross_entropy_objective\": {\"sum\": 0.5016502017333238, \"count\": 1, \"min\": 0.5016502017333238, \"max\": 0.5016502017333238}}}\u001b[0m\n",
            "\u001b[34m#metrics {\"StartTime\": 1650552544.2902062, \"EndTime\": 1650552544.290228, \"Dimensions\": {\"Algorithm\": \"Linear Learner\", \"Host\": \"algo-1\", \"Operation\": \"training\", \"epoch\": 1, \"model\": 6}, \"Metrics\": {\"train_binary_classification_cross_entropy_objective\": {\"sum\": 0.4846573292676826, \"count\": 1, \"min\": 0.4846573292676826, \"max\": 0.4846573292676826}}}\u001b[0m\n",
            "\u001b[34m#metrics {\"StartTime\": 1650552544.2903283, \"EndTime\": 1650552544.290349, \"Dimensions\": {\"Algorithm\": \"Linear Learner\", \"Host\": \"algo-1\", \"Operation\": \"training\", \"epoch\": 1, \"model\": 7}, \"Metrics\": {\"train_binary_classification_cross_entropy_objective\": {\"sum\": 0.5016508802594759, \"count\": 1, \"min\": 0.5016508802594759, \"max\": 0.5016508802594759}}}\u001b[0m\n",
            "\u001b[34m#metrics {\"StartTime\": 1650552544.2912927, \"EndTime\": 1650552544.2913277, \"Dimensions\": {\"Algorithm\": \"Linear Learner\", \"Host\": \"algo-1\", \"Operation\": \"training\", \"epoch\": 1, \"model\": 8}, \"Metrics\": {\"train_binary_classification_cross_entropy_objective\": {\"sum\": 0.4810038720693792, \"count\": 1, \"min\": 0.4810038720693792, \"max\": 0.4810038720693792}}}\u001b[0m\n",
            "\u001b[34m#metrics {\"StartTime\": 1650552544.2914448, \"EndTime\": 1650552544.291471, \"Dimensions\": {\"Algorithm\": \"Linear Learner\", \"Host\": \"algo-1\", \"Operation\": \"training\", \"epoch\": 1, \"model\": 9}, \"Metrics\": {\"train_binary_classification_cross_entropy_objective\": {\"sum\": 0.4819285925768931, \"count\": 1, \"min\": 0.4819285925768931, \"max\": 0.4819285925768931}}}\u001b[0m\n",
            "\u001b[34m#metrics {\"StartTime\": 1650552544.2915385, \"EndTime\": 1650552544.291589, \"Dimensions\": {\"Algorithm\": \"Linear Learner\", \"Host\": \"algo-1\", \"Operation\": \"training\", \"epoch\": 1, \"model\": 10}, \"Metrics\": {\"train_binary_classification_cross_entropy_objective\": {\"sum\": 0.4810036105934633, \"count\": 1, \"min\": 0.4810036105934633, \"max\": 0.4810036105934633}}}\u001b[0m\n",
            "\u001b[34m#metrics {\"StartTime\": 1650552544.2916586, \"EndTime\": 1650552544.2916799, \"Dimensions\": {\"Algorithm\": \"Linear Learner\", \"Host\": \"algo-1\", \"Operation\": \"training\", \"epoch\": 1, \"model\": 11}, \"Metrics\": {\"train_binary_classification_cross_entropy_objective\": {\"sum\": 0.48192873965855404, \"count\": 1, \"min\": 0.48192873965855404, \"max\": 0.48192873965855404}}}\u001b[0m\n",
            "\u001b[34m#metrics {\"StartTime\": 1650552544.2917752, \"EndTime\": 1650552544.2917979, \"Dimensions\": {\"Algorithm\": \"Linear Learner\", \"Host\": \"algo-1\", \"Operation\": \"training\", \"epoch\": 1, \"model\": 12}, \"Metrics\": {\"train_binary_classification_cross_entropy_objective\": {\"sum\": 0.4846681271474296, \"count\": 1, \"min\": 0.4846681271474296, \"max\": 0.4846681271474296}}}\u001b[0m\n",
            "\u001b[34m#metrics {\"StartTime\": 1650552544.2934554, \"EndTime\": 1650552544.2934804, \"Dimensions\": {\"Algorithm\": \"Linear Learner\", \"Host\": \"algo-1\", \"Operation\": \"training\", \"epoch\": 1, \"model\": 13}, \"Metrics\": {\"train_binary_classification_cross_entropy_objective\": {\"sum\": 0.5003661386565695, \"count\": 1, \"min\": 0.5003661386565695, \"max\": 0.5003661386565695}}}\u001b[0m\n",
            "\u001b[34m#metrics {\"StartTime\": 1650552544.2935386, \"EndTime\": 1650552544.2935553, \"Dimensions\": {\"Algorithm\": \"Linear Learner\", \"Host\": \"algo-1\", \"Operation\": \"training\", \"epoch\": 1, \"model\": 14}, \"Metrics\": {\"train_binary_classification_cross_entropy_objective\": {\"sum\": 0.48466781210243154, \"count\": 1, \"min\": 0.48466781210243154, \"max\": 0.48466781210243154}}}\u001b[0m\n",
            "\u001b[34m#metrics {\"StartTime\": 1650552544.2936041, \"EndTime\": 1650552544.2936177, \"Dimensions\": {\"Algorithm\": \"Linear Learner\", \"Host\": \"algo-1\", \"Operation\": \"training\", \"epoch\": 1, \"model\": 15}, \"Metrics\": {\"train_binary_classification_cross_entropy_objective\": {\"sum\": 0.5003650338409144, \"count\": 1, \"min\": 0.5003650338409144, \"max\": 0.5003650338409144}}}\u001b[0m\n",
            "\u001b[34m#metrics {\"StartTime\": 1650552544.2936637, \"EndTime\": 1650552544.2936773, \"Dimensions\": {\"Algorithm\": \"Linear Learner\", \"Host\": \"algo-1\", \"Operation\": \"training\", \"epoch\": 1, \"model\": 16}, \"Metrics\": {\"train_binary_classification_cross_entropy_objective\": {\"sum\": 0.5042028417091486, \"count\": 1, \"min\": 0.5042028417091486, \"max\": 0.5042028417091486}}}\u001b[0m\n",
            "\u001b[34m#metrics {\"StartTime\": 1650552544.2937229, \"EndTime\": 1650552544.2937365, \"Dimensions\": {\"Algorithm\": \"Linear Learner\", \"Host\": \"algo-1\", \"Operation\": \"training\", \"epoch\": 1, \"model\": 17}, \"Metrics\": {\"train_binary_classification_cross_entropy_objective\": {\"sum\": 0.5044464757376854, \"count\": 1, \"min\": 0.5044464757376854, \"max\": 0.5044464757376854}}}\u001b[0m\n",
            "\u001b[34m#metrics {\"StartTime\": 1650552544.293781, \"EndTime\": 1650552544.2937942, \"Dimensions\": {\"Algorithm\": \"Linear Learner\", \"Host\": \"algo-1\", \"Operation\": \"training\", \"epoch\": 1, \"model\": 18}, \"Metrics\": {\"train_binary_classification_cross_entropy_objective\": {\"sum\": 0.5042028625908248, \"count\": 1, \"min\": 0.5042028625908248, \"max\": 0.5042028625908248}}}\u001b[0m\n",
            "\u001b[34m#metrics {\"StartTime\": 1650552544.2938402, \"EndTime\": 1650552544.2938538, \"Dimensions\": {\"Algorithm\": \"Linear Learner\", \"Host\": \"algo-1\", \"Operation\": \"training\", \"epoch\": 1, \"model\": 19}, \"Metrics\": {\"train_binary_classification_cross_entropy_objective\": {\"sum\": 0.5044462828563259, \"count\": 1, \"min\": 0.5044462828563259, \"max\": 0.5044462828563259}}}\u001b[0m\n",
            "\u001b[34m#metrics {\"StartTime\": 1650552544.2938976, \"EndTime\": 1650552544.293911, \"Dimensions\": {\"Algorithm\": \"Linear Learner\", \"Host\": \"algo-1\", \"Operation\": \"training\", \"epoch\": 1, \"model\": 20}, \"Metrics\": {\"train_binary_classification_cross_entropy_objective\": {\"sum\": 0.5050622012637077, \"count\": 1, \"min\": 0.5050622012637077, \"max\": 0.5050622012637077}}}\u001b[0m\n",
            "\u001b[34m#metrics {\"StartTime\": 1650552544.2939553, \"EndTime\": 1650552544.2939682, \"Dimensions\": {\"Algorithm\": \"Linear Learner\", \"Host\": \"algo-1\", \"Operation\": \"training\", \"epoch\": 1, \"model\": 21}, \"Metrics\": {\"train_binary_classification_cross_entropy_objective\": {\"sum\": 0.5079700840474634, \"count\": 1, \"min\": 0.5079700840474634, \"max\": 0.5079700840474634}}}\u001b[0m\n",
            "\u001b[34m#metrics {\"StartTime\": 1650552544.2940137, \"EndTime\": 1650552544.294028, \"Dimensions\": {\"Algorithm\": \"Linear Learner\", \"Host\": \"algo-1\", \"Operation\": \"training\", \"epoch\": 1, \"model\": 22}, \"Metrics\": {\"train_binary_classification_cross_entropy_objective\": {\"sum\": 0.5050618891118134, \"count\": 1, \"min\": 0.5050618891118134, \"max\": 0.5050618891118134}}}\u001b[0m\n",
            "\u001b[34m#metrics {\"StartTime\": 1650552544.294073, \"EndTime\": 1650552544.2940862, \"Dimensions\": {\"Algorithm\": \"Linear Learner\", \"Host\": \"algo-1\", \"Operation\": \"training\", \"epoch\": 1, \"model\": 23}, \"Metrics\": {\"train_binary_classification_cross_entropy_objective\": {\"sum\": 0.5079697389048539, \"count\": 1, \"min\": 0.5079697389048539, \"max\": 0.5079697389048539}}}\u001b[0m\n",
            "\u001b[34m#metrics {\"StartTime\": 1650552544.2941365, \"EndTime\": 1650552544.294152, \"Dimensions\": {\"Algorithm\": \"Linear Learner\", \"Host\": \"algo-1\", \"Operation\": \"training\", \"epoch\": 1, \"model\": 24}, \"Metrics\": {\"train_binary_classification_cross_entropy_objective\": {\"sum\": 0.5137322764732057, \"count\": 1, \"min\": 0.5137322764732057, \"max\": 0.5137322764732057}}}\u001b[0m\n",
            "\u001b[34m#metrics {\"StartTime\": 1650552544.2942019, \"EndTime\": 1650552544.2942374, \"Dimensions\": {\"Algorithm\": \"Linear Learner\", \"Host\": \"algo-1\", \"Operation\": \"training\", \"epoch\": 1, \"model\": 25}, \"Metrics\": {\"train_binary_classification_cross_entropy_objective\": {\"sum\": 0.5138304327168596, \"count\": 1, \"min\": 0.5138304327168596, \"max\": 0.5138304327168596}}}\u001b[0m\n",
            "\u001b[34m#metrics {\"StartTime\": 1650552544.2942889, \"EndTime\": 1650552544.2943058, \"Dimensions\": {\"Algorithm\": \"Linear Learner\", \"Host\": \"algo-1\", \"Operation\": \"training\", \"epoch\": 1, \"model\": 26}, \"Metrics\": {\"train_binary_classification_cross_entropy_objective\": {\"sum\": 0.513732537529155, \"count\": 1, \"min\": 0.513732537529155, \"max\": 0.513732537529155}}}\u001b[0m\n",
            "\u001b[34m#metrics {\"StartTime\": 1650552544.29436, \"EndTime\": 1650552544.2943764, \"Dimensions\": {\"Algorithm\": \"Linear Learner\", \"Host\": \"algo-1\", \"Operation\": \"training\", \"epoch\": 1, \"model\": 27}, \"Metrics\": {\"train_binary_classification_cross_entropy_objective\": {\"sum\": 0.5138299044921129, \"count\": 1, \"min\": 0.5138299044921129, \"max\": 0.5138299044921129}}}\u001b[0m\n",
            "\u001b[34m#metrics {\"StartTime\": 1650552544.2944338, \"EndTime\": 1650552544.2944555, \"Dimensions\": {\"Algorithm\": \"Linear Learner\", \"Host\": \"algo-1\", \"Operation\": \"training\", \"epoch\": 1, \"model\": 28}, \"Metrics\": {\"train_binary_classification_cross_entropy_objective\": {\"sum\": 0.5141131134266518, \"count\": 1, \"min\": 0.5141131134266518, \"max\": 0.5141131134266518}}}\u001b[0m\n",
            "\u001b[34m#metrics {\"StartTime\": 1650552544.2945113, \"EndTime\": 1650552544.2945554, \"Dimensions\": {\"Algorithm\": \"Linear Learner\", \"Host\": \"algo-1\", \"Operation\": \"training\", \"epoch\": 1, \"model\": 29}, \"Metrics\": {\"train_binary_classification_cross_entropy_objective\": {\"sum\": 0.5151994399091154, \"count\": 1, \"min\": 0.5151994399091154, \"max\": 0.5151994399091154}}}\u001b[0m\n",
            "\u001b[34m#metrics {\"StartTime\": 1650552544.2946484, \"EndTime\": 1650552544.2946694, \"Dimensions\": {\"Algorithm\": \"Linear Learner\", \"Host\": \"algo-1\", \"Operation\": \"training\", \"epoch\": 1, \"model\": 30}, \"Metrics\": {\"train_binary_classification_cross_entropy_objective\": {\"sum\": 0.5141134407440092, \"count\": 1, \"min\": 0.5141134407440092, \"max\": 0.5141134407440092}}}\u001b[0m\n",
            "\u001b[34m#metrics {\"StartTime\": 1650552544.2954338, \"EndTime\": 1650552544.295465, \"Dimensions\": {\"Algorithm\": \"Linear Learner\", \"Host\": \"algo-1\", \"Operation\": \"training\", \"epoch\": 1, \"model\": 31}, \"Metrics\": {\"train_binary_classification_cross_entropy_objective\": {\"sum\": 0.5152014718245294, \"count\": 1, \"min\": 0.5152014718245294, \"max\": 0.5152014718245294}}}\u001b[0m\n",
            "\u001b[34m[04/21/2022 14:49:04 INFO 140472686061376] #quality_metric: host=algo-1, epoch=1, train binary_classification_cross_entropy_objective <loss>=0.48075650498043143\u001b[0m\n",
            "\u001b[34m[2022-04-21 14:49:09.917] [tensorio] [info] epoch_stats={\"data_pipeline\": \"/opt/ml/input/data/validation\", \"epoch\": 5, \"duration\": 5585, \"num_examples\": 164, \"num_bytes\": 63460892}\u001b[0m\n",
            "\u001b[34m#metrics {\"StartTime\": 1650552549.9256525, \"EndTime\": 1650552549.9257104, \"Dimensions\": {\"Algorithm\": \"Linear Learner\", \"Host\": \"algo-1\", \"Operation\": \"training\", \"epoch\": 1, \"model\": 0}, \"Metrics\": {\"validation_binary_classification_cross_entropy_objective\": {\"sum\": 0.4804271207537303, \"count\": 1, \"min\": 0.4804271207537303, \"max\": 0.4804271207537303}}}\u001b[0m\n",
            "\u001b[34m#metrics {\"StartTime\": 1650552549.9257877, \"EndTime\": 1650552549.925802, \"Dimensions\": {\"Algorithm\": \"Linear Learner\", \"Host\": \"algo-1\", \"Operation\": \"training\", \"epoch\": 1, \"model\": 1}, \"Metrics\": {\"validation_binary_classification_cross_entropy_objective\": {\"sum\": 0.4822761414784406, \"count\": 1, \"min\": 0.4822761414784406, \"max\": 0.4822761414784406}}}\u001b[0m\n",
            "\u001b[34m#metrics {\"StartTime\": 1650552549.9258363, \"EndTime\": 1650552549.925846, \"Dimensions\": {\"Algorithm\": \"Linear Learner\", \"Host\": \"algo-1\", \"Operation\": \"training\", \"epoch\": 1, \"model\": 2}, \"Metrics\": {\"validation_binary_classification_cross_entropy_objective\": {\"sum\": 0.48042693118385416, \"count\": 1, \"min\": 0.48042693118385416, \"max\": 0.48042693118385416}}}\u001b[0m\n",
            "\u001b[34m#metrics {\"StartTime\": 1650552549.9258752, \"EndTime\": 1650552549.9258833, \"Dimensions\": {\"Algorithm\": \"Linear Learner\", \"Host\": \"algo-1\", \"Operation\": \"training\", \"epoch\": 1, \"model\": 3}, \"Metrics\": {\"validation_binary_classification_cross_entropy_objective\": {\"sum\": 0.4822767997486405, \"count\": 1, \"min\": 0.4822767997486405, \"max\": 0.4822767997486405}}}\u001b[0m\n",
            "\u001b[34m#metrics {\"StartTime\": 1650552549.9259098, \"EndTime\": 1650552549.9259176, \"Dimensions\": {\"Algorithm\": \"Linear Learner\", \"Host\": \"algo-1\", \"Operation\": \"training\", \"epoch\": 1, \"model\": 4}, \"Metrics\": {\"validation_binary_classification_cross_entropy_objective\": {\"sum\": 0.4824969579184609, \"count\": 1, \"min\": 0.4824969579184609, \"max\": 0.4824969579184609}}}\u001b[0m\n",
            "\u001b[34m#metrics {\"StartTime\": 1650552549.9259431, \"EndTime\": 1650552549.9259508, \"Dimensions\": {\"Algorithm\": \"Linear Learner\", \"Host\": \"algo-1\", \"Operation\": \"training\", \"epoch\": 1, \"model\": 5}, \"Metrics\": {\"validation_binary_classification_cross_entropy_objective\": {\"sum\": 0.49761582873925414, \"count\": 1, \"min\": 0.49761582873925414, \"max\": 0.49761582873925414}}}\u001b[0m\n",
            "\u001b[34m#metrics {\"StartTime\": 1650552549.9259765, \"EndTime\": 1650552549.9259841, \"Dimensions\": {\"Algorithm\": \"Linear Learner\", \"Host\": \"algo-1\", \"Operation\": \"training\", \"epoch\": 1, \"model\": 6}, \"Metrics\": {\"validation_binary_classification_cross_entropy_objective\": {\"sum\": 0.48249704300100377, \"count\": 1, \"min\": 0.48249704300100377, \"max\": 0.48249704300100377}}}\u001b[0m\n",
            "\u001b[34m#metrics {\"StartTime\": 1650552549.9260101, \"EndTime\": 1650552549.9260175, \"Dimensions\": {\"Algorithm\": \"Linear Learner\", \"Host\": \"algo-1\", \"Operation\": \"training\", \"epoch\": 1, \"model\": 7}, \"Metrics\": {\"validation_binary_classification_cross_entropy_objective\": {\"sum\": 0.4976180787620264, \"count\": 1, \"min\": 0.4976180787620264, \"max\": 0.4976180787620264}}}\u001b[0m\n",
            "\u001b[34m#metrics {\"StartTime\": 1650552549.9260435, \"EndTime\": 1650552549.926051, \"Dimensions\": {\"Algorithm\": \"Linear Learner\", \"Host\": \"algo-1\", \"Operation\": \"training\", \"epoch\": 1, \"model\": 8}, \"Metrics\": {\"validation_binary_classification_cross_entropy_objective\": {\"sum\": 0.4807334169750456, \"count\": 1, \"min\": 0.4807334169750456, \"max\": 0.4807334169750456}}}\u001b[0m\n",
            "\u001b[34m#metrics {\"StartTime\": 1650552549.9260764, \"EndTime\": 1650552549.9260836, \"Dimensions\": {\"Algorithm\": \"Linear Learner\", \"Host\": \"algo-1\", \"Operation\": \"training\", \"epoch\": 1, \"model\": 9}, \"Metrics\": {\"validation_binary_classification_cross_entropy_objective\": {\"sum\": 0.48249077711952615, \"count\": 1, \"min\": 0.48249077711952615, \"max\": 0.48249077711952615}}}\u001b[0m\n",
            "\u001b[34m#metrics {\"StartTime\": 1650552549.9261086, \"EndTime\": 1650552549.9261158, \"Dimensions\": {\"Algorithm\": \"Linear Learner\", \"Host\": \"algo-1\", \"Operation\": \"training\", \"epoch\": 1, \"model\": 10}, \"Metrics\": {\"validation_binary_classification_cross_entropy_objective\": {\"sum\": 0.48073327983542063, \"count\": 1, \"min\": 0.48073327983542063, \"max\": 0.48073327983542063}}}\u001b[0m\n",
            "\u001b[34m#metrics {\"StartTime\": 1650552549.926141, \"EndTime\": 1650552549.926148, \"Dimensions\": {\"Algorithm\": \"Linear Learner\", \"Host\": \"algo-1\", \"Operation\": \"training\", \"epoch\": 1, \"model\": 11}, \"Metrics\": {\"validation_binary_classification_cross_entropy_objective\": {\"sum\": 0.4824914088947237, \"count\": 1, \"min\": 0.4824914088947237, \"max\": 0.4824914088947237}}}\u001b[0m\n",
            "\u001b[34m#metrics {\"StartTime\": 1650552549.9261758, \"EndTime\": 1650552549.9261837, \"Dimensions\": {\"Algorithm\": \"Linear Learner\", \"Host\": \"algo-1\", \"Operation\": \"training\", \"epoch\": 1, \"model\": 12}, \"Metrics\": {\"validation_binary_classification_cross_entropy_objective\": {\"sum\": 0.4826848552509506, \"count\": 1, \"min\": 0.4826848552509506, \"max\": 0.4826848552509506}}}\u001b[0m\n",
            "\u001b[34m#metrics {\"StartTime\": 1650552549.9262092, \"EndTime\": 1650552549.9262166, \"Dimensions\": {\"Algorithm\": \"Linear Learner\", \"Host\": \"algo-1\", \"Operation\": \"training\", \"epoch\": 1, \"model\": 13}, \"Metrics\": {\"validation_binary_classification_cross_entropy_objective\": {\"sum\": 0.49637474442696805, \"count\": 1, \"min\": 0.49637474442696805, \"max\": 0.49637474442696805}}}\u001b[0m\n",
            "\u001b[34m#metrics {\"StartTime\": 1650552549.926242, \"EndTime\": 1650552549.9262493, \"Dimensions\": {\"Algorithm\": \"Linear Learner\", \"Host\": \"algo-1\", \"Operation\": \"training\", \"epoch\": 1, \"model\": 14}, \"Metrics\": {\"validation_binary_classification_cross_entropy_objective\": {\"sum\": 0.48268585347815285, \"count\": 1, \"min\": 0.48268585347815285, \"max\": 0.48268585347815285}}}\u001b[0m\n",
            "\u001b[34m#metrics {\"StartTime\": 1650552549.9262743, \"EndTime\": 1650552549.9262812, \"Dimensions\": {\"Algorithm\": \"Linear Learner\", \"Host\": \"algo-1\", \"Operation\": \"training\", \"epoch\": 1, \"model\": 15}, \"Metrics\": {\"validation_binary_classification_cross_entropy_objective\": {\"sum\": 0.49637547714439295, \"count\": 1, \"min\": 0.49637547714439295, \"max\": 0.49637547714439295}}}\u001b[0m\n",
            "\u001b[34m#metrics {\"StartTime\": 1650552549.9263062, \"EndTime\": 1650552549.9263134, \"Dimensions\": {\"Algorithm\": \"Linear Learner\", \"Host\": \"algo-1\", \"Operation\": \"training\", \"epoch\": 1, \"model\": 16}, \"Metrics\": {\"validation_binary_classification_cross_entropy_objective\": {\"sum\": 0.5042139452320746, \"count\": 1, \"min\": 0.5042139452320746, \"max\": 0.5042139452320746}}}\u001b[0m\n",
            "\u001b[34m#metrics {\"StartTime\": 1650552549.9263387, \"EndTime\": 1650552549.9263458, \"Dimensions\": {\"Algorithm\": \"Linear Learner\", \"Host\": \"algo-1\", \"Operation\": \"training\", \"epoch\": 1, \"model\": 17}, \"Metrics\": {\"validation_binary_classification_cross_entropy_objective\": {\"sum\": 0.5055323647246082, \"count\": 1, \"min\": 0.5055323647246082, \"max\": 0.5055323647246082}}}\u001b[0m\n",
            "\u001b[34m#metrics {\"StartTime\": 1650552549.9263709, \"EndTime\": 1650552549.926378, \"Dimensions\": {\"Algorithm\": \"Linear Learner\", \"Host\": \"algo-1\", \"Operation\": \"training\", \"epoch\": 1, \"model\": 18}, \"Metrics\": {\"validation_binary_classification_cross_entropy_objective\": {\"sum\": 0.5042140360987377, \"count\": 1, \"min\": 0.5042140360987377, \"max\": 0.5042140360987377}}}\u001b[0m\n",
            "\u001b[34m#metrics {\"StartTime\": 1650552549.9264028, \"EndTime\": 1650552549.92641, \"Dimensions\": {\"Algorithm\": \"Linear Learner\", \"Host\": \"algo-1\", \"Operation\": \"training\", \"epoch\": 1, \"model\": 19}, \"Metrics\": {\"validation_binary_classification_cross_entropy_objective\": {\"sum\": 0.5055305654900454, \"count\": 1, \"min\": 0.5055305654900454, \"max\": 0.5055305654900454}}}\u001b[0m\n",
            "\u001b[34m#metrics {\"StartTime\": 1650552549.9264348, \"EndTime\": 1650552549.9264424, \"Dimensions\": {\"Algorithm\": \"Linear Learner\", \"Host\": \"algo-1\", \"Operation\": \"training\", \"epoch\": 1, \"model\": 20}, \"Metrics\": {\"validation_binary_classification_cross_entropy_objective\": {\"sum\": 0.5052647762090892, \"count\": 1, \"min\": 0.5052647762090892, \"max\": 0.5052647762090892}}}\u001b[0m\n",
            "\u001b[34m#metrics {\"StartTime\": 1650552549.9264889, \"EndTime\": 1650552549.9265053, \"Dimensions\": {\"Algorithm\": \"Linear Learner\", \"Host\": \"algo-1\", \"Operation\": \"training\", \"epoch\": 1, \"model\": 21}, \"Metrics\": {\"validation_binary_classification_cross_entropy_objective\": {\"sum\": 0.5058362749030334, \"count\": 1, \"min\": 0.5058362749030334, \"max\": 0.5058362749030334}}}\u001b[0m\n",
            "\u001b[34m#metrics {\"StartTime\": 1650552549.9265418, \"EndTime\": 1650552549.9265532, \"Dimensions\": {\"Algorithm\": \"Linear Learner\", \"Host\": \"algo-1\", \"Operation\": \"training\", \"epoch\": 1, \"model\": 22}, \"Metrics\": {\"validation_binary_classification_cross_entropy_objective\": {\"sum\": 0.5052653385748439, \"count\": 1, \"min\": 0.5052653385748439, \"max\": 0.5052653385748439}}}\u001b[0m\n",
            "\u001b[34m#metrics {\"StartTime\": 1650552549.9266007, \"EndTime\": 1650552549.9266174, \"Dimensions\": {\"Algorithm\": \"Linear Learner\", \"Host\": \"algo-1\", \"Operation\": \"training\", \"epoch\": 1, \"model\": 23}, \"Metrics\": {\"validation_binary_classification_cross_entropy_objective\": {\"sum\": 0.5058386034778901, \"count\": 1, \"min\": 0.5058386034778901, \"max\": 0.5058386034778901}}}\u001b[0m\n",
            "\u001b[34m#metrics {\"StartTime\": 1650552549.926675, \"EndTime\": 1650552549.926697, \"Dimensions\": {\"Algorithm\": \"Linear Learner\", \"Host\": \"algo-1\", \"Operation\": \"training\", \"epoch\": 1, \"model\": 24}, \"Metrics\": {\"validation_binary_classification_cross_entropy_objective\": {\"sum\": 0.5137114074093915, \"count\": 1, \"min\": 0.5137114074093915, \"max\": 0.5137114074093915}}}\u001b[0m\n",
            "\u001b[34m#metrics {\"StartTime\": 1650552549.926754, \"EndTime\": 1650552549.9267685, \"Dimensions\": {\"Algorithm\": \"Linear Learner\", \"Host\": \"algo-1\", \"Operation\": \"training\", \"epoch\": 1, \"model\": 25}, \"Metrics\": {\"validation_binary_classification_cross_entropy_objective\": {\"sum\": 0.5144971698814653, \"count\": 1, \"min\": 0.5144971698814653, \"max\": 0.5144971698814653}}}\u001b[0m\n",
            "\u001b[34m#metrics {\"StartTime\": 1650552549.9268198, \"EndTime\": 1650552549.9268365, \"Dimensions\": {\"Algorithm\": \"Linear Learner\", \"Host\": \"algo-1\", \"Operation\": \"training\", \"epoch\": 1, \"model\": 26}, \"Metrics\": {\"validation_binary_classification_cross_entropy_objective\": {\"sum\": 0.513705420844946, \"count\": 1, \"min\": 0.513705420844946, \"max\": 0.513705420844946}}}\u001b[0m\n",
            "\u001b[34m#metrics {\"StartTime\": 1650552549.9268882, \"EndTime\": 1650552549.9269028, \"Dimensions\": {\"Algorithm\": \"Linear Learner\", \"Host\": \"algo-1\", \"Operation\": \"training\", \"epoch\": 1, \"model\": 27}, \"Metrics\": {\"validation_binary_classification_cross_entropy_objective\": {\"sum\": 0.5144914477072899, \"count\": 1, \"min\": 0.5144914477072899, \"max\": 0.5144914477072899}}}\u001b[0m\n",
            "\u001b[34m#metrics {\"StartTime\": 1650552549.926952, \"EndTime\": 1650552549.9269621, \"Dimensions\": {\"Algorithm\": \"Linear Learner\", \"Host\": \"algo-1\", \"Operation\": \"training\", \"epoch\": 1, \"model\": 28}, \"Metrics\": {\"validation_binary_classification_cross_entropy_objective\": {\"sum\": 0.513885333106156, \"count\": 1, \"min\": 0.513885333106156, \"max\": 0.513885333106156}}}\u001b[0m\n",
            "\u001b[34m#metrics {\"StartTime\": 1650552549.9269898, \"EndTime\": 1650552549.9269974, \"Dimensions\": {\"Algorithm\": \"Linear Learner\", \"Host\": \"algo-1\", \"Operation\": \"training\", \"epoch\": 1, \"model\": 29}, \"Metrics\": {\"validation_binary_classification_cross_entropy_objective\": {\"sum\": 0.514202000068472, \"count\": 1, \"min\": 0.514202000068472, \"max\": 0.514202000068472}}}\u001b[0m\n",
            "\u001b[34m#metrics {\"StartTime\": 1650552549.9270232, \"EndTime\": 1650552549.9270306, \"Dimensions\": {\"Algorithm\": \"Linear Learner\", \"Host\": \"algo-1\", \"Operation\": \"training\", \"epoch\": 1, \"model\": 30}, \"Metrics\": {\"validation_binary_classification_cross_entropy_objective\": {\"sum\": 0.5139365794785349, \"count\": 1, \"min\": 0.5139365794785349, \"max\": 0.5139365794785349}}}\u001b[0m\n",
            "\u001b[34m#metrics {\"StartTime\": 1650552549.9270558, \"EndTime\": 1650552549.9270632, \"Dimensions\": {\"Algorithm\": \"Linear Learner\", \"Host\": \"algo-1\", \"Operation\": \"training\", \"epoch\": 1, \"model\": 31}, \"Metrics\": {\"validation_binary_classification_cross_entropy_objective\": {\"sum\": 0.5142039039769527, \"count\": 1, \"min\": 0.5142039039769527, \"max\": 0.5142039039769527}}}\u001b[0m\n",
            "\u001b[34m[04/21/2022 14:49:09 INFO 140472686061376] #quality_metric: host=algo-1, epoch=1, validation binary_classification_cross_entropy_objective <loss>=0.4804271207537303\u001b[0m\n",
            "\u001b[34m[04/21/2022 14:49:09 INFO 140472686061376] #early_stopping_criteria_metric: host=algo-1, epoch=1, criteria=binary_classification_cross_entropy_objective, value=0.48042693118385416\u001b[0m\n",
            "\u001b[34m[04/21/2022 14:49:09 INFO 140472686061376] Saving model for epoch: 1\u001b[0m\n",
            "\u001b[34m[04/21/2022 14:49:09 INFO 140472686061376] Saved checkpoint to \"/tmp/tmp9k6vla2h/mx-mod-0000.params\"\u001b[0m\n",
            "\u001b[34m[04/21/2022 14:49:09 INFO 140472686061376] #progress_metric: host=algo-1, completed 13.333333333333334 % of epochs\u001b[0m\n",
            "\u001b[34m#metrics {\"StartTime\": 1650552487.7169933, \"EndTime\": 1650552549.934826, \"Dimensions\": {\"Algorithm\": \"Linear Learner\", \"Host\": \"algo-1\", \"Operation\": \"training\", \"epoch\": 1, \"Meta\": \"training_data_iter\"}, \"Metrics\": {\"Total Records Seen\": {\"sum\": 2628944.0, \"count\": 1, \"min\": 2628944, \"max\": 2628944}, \"Total Batches Seen\": {\"sum\": 2630.0, \"count\": 1, \"min\": 2630, \"max\": 2630}, \"Max Records Seen Between Resets\": {\"sum\": 1308472.0, \"count\": 1, \"min\": 1308472, \"max\": 1308472}, \"Max Batches Seen Between Resets\": {\"sum\": 1309.0, \"count\": 1, \"min\": 1309, \"max\": 1309}, \"Reset Count\": {\"sum\": 4.0, \"count\": 1, \"min\": 4, \"max\": 4}, \"Number of Records Since Last Reset\": {\"sum\": 1308472.0, \"count\": 1, \"min\": 1308472, \"max\": 1308472}, \"Number of Batches Since Last Reset\": {\"sum\": 1309.0, \"count\": 1, \"min\": 1309, \"max\": 1309}}}\u001b[0m\n",
            "\u001b[34m[04/21/2022 14:49:09 INFO 140472686061376] #throughput_metric: host=algo-1, train throughput=21030.448142723726 records/second\u001b[0m\n",
            "\u001b[34m[2022-04-21 14:50:07.281] [tensorio] [info] epoch_stats={\"data_pipeline\": \"/opt/ml/input/data/train\", \"epoch\": 7, \"duration\": 57346, \"num_examples\": 1309, \"num_bytes\": 507687136}\u001b[0m\n",
            "\u001b[34m#metrics {\"StartTime\": 1650552607.281898, \"EndTime\": 1650552607.2820075, \"Dimensions\": {\"Algorithm\": \"Linear Learner\", \"Host\": \"algo-1\", \"Operation\": \"training\", \"epoch\": 2, \"model\": 0}, \"Metrics\": {\"train_binary_classification_cross_entropy_objective\": {\"sum\": 0.4806003075229283, \"count\": 1, \"min\": 0.4806003075229283, \"max\": 0.4806003075229283}}}\u001b[0m\n",
            "\u001b[34m#metrics {\"StartTime\": 1650552607.2821198, \"EndTime\": 1650552607.2821443, \"Dimensions\": {\"Algorithm\": \"Linear Learner\", \"Host\": \"algo-1\", \"Operation\": \"training\", \"epoch\": 2, \"model\": 1}, \"Metrics\": {\"train_binary_classification_cross_entropy_objective\": {\"sum\": 0.4816018576432441, \"count\": 1, \"min\": 0.4816018576432441, \"max\": 0.4816018576432441}}}\u001b[0m\n",
            "\u001b[34m#metrics {\"StartTime\": 1650552607.2822108, \"EndTime\": 1650552607.28223, \"Dimensions\": {\"Algorithm\": \"Linear Learner\", \"Host\": \"algo-1\", \"Operation\": \"training\", \"epoch\": 2, \"model\": 2}, \"Metrics\": {\"train_binary_classification_cross_entropy_objective\": {\"sum\": 0.4806003716845031, \"count\": 1, \"min\": 0.4806003716845031, \"max\": 0.4806003716845031}}}\u001b[0m\n",
            "\u001b[34m#metrics {\"StartTime\": 1650552607.2822883, \"EndTime\": 1650552607.282307, \"Dimensions\": {\"Algorithm\": \"Linear Learner\", \"Host\": \"algo-1\", \"Operation\": \"training\", \"epoch\": 2, \"model\": 3}, \"Metrics\": {\"train_binary_classification_cross_entropy_objective\": {\"sum\": 0.48160185479680334, \"count\": 1, \"min\": 0.48160185479680334, \"max\": 0.48160185479680334}}}\u001b[0m\n",
            "\u001b[34m#metrics {\"StartTime\": 1650552607.282366, \"EndTime\": 1650552607.282384, \"Dimensions\": {\"Algorithm\": \"Linear Learner\", \"Host\": \"algo-1\", \"Operation\": \"training\", \"epoch\": 2, \"model\": 4}, \"Metrics\": {\"train_binary_classification_cross_entropy_objective\": {\"sum\": 0.4816915766164797, \"count\": 1, \"min\": 0.4816915766164797, \"max\": 0.4816915766164797}}}\u001b[0m\n",
            "\u001b[34m#metrics {\"StartTime\": 1650552607.2824373, \"EndTime\": 1650552607.2824538, \"Dimensions\": {\"Algorithm\": \"Linear Learner\", \"Host\": \"algo-1\", \"Operation\": \"training\", \"epoch\": 2, \"model\": 5}, \"Metrics\": {\"train_binary_classification_cross_entropy_objective\": {\"sum\": 0.4991112531842806, \"count\": 1, \"min\": 0.4991112531842806, \"max\": 0.4991112531842806}}}\u001b[0m\n",
            "\u001b[34m#metrics {\"StartTime\": 1650552607.282509, \"EndTime\": 1650552607.282526, \"Dimensions\": {\"Algorithm\": \"Linear Learner\", \"Host\": \"algo-1\", \"Operation\": \"training\", \"epoch\": 2, \"model\": 6}, \"Metrics\": {\"train_binary_classification_cross_entropy_objective\": {\"sum\": 0.48169156352751846, \"count\": 1, \"min\": 0.48169156352751846, \"max\": 0.48169156352751846}}}\u001b[0m\n",
            "\u001b[34m#metrics {\"StartTime\": 1650552607.282578, \"EndTime\": 1650552607.2825937, \"Dimensions\": {\"Algorithm\": \"Linear Learner\", \"Host\": \"algo-1\", \"Operation\": \"training\", \"epoch\": 2, \"model\": 7}, \"Metrics\": {\"train_binary_classification_cross_entropy_objective\": {\"sum\": 0.49911145831466813, \"count\": 1, \"min\": 0.49911145831466813, \"max\": 0.49911145831466813}}}\u001b[0m\n",
            "\u001b[34m#metrics {\"StartTime\": 1650552607.2826524, \"EndTime\": 1650552607.282673, \"Dimensions\": {\"Algorithm\": \"Linear Learner\", \"Host\": \"algo-1\", \"Operation\": \"training\", \"epoch\": 2, \"model\": 8}, \"Metrics\": {\"train_binary_classification_cross_entropy_objective\": {\"sum\": 0.4808567863487687, \"count\": 1, \"min\": 0.4808567863487687, \"max\": 0.4808567863487687}}}\u001b[0m\n",
            "\u001b[34m#metrics {\"StartTime\": 1650552607.2827237, \"EndTime\": 1650552607.28274, \"Dimensions\": {\"Algorithm\": \"Linear Learner\", \"Host\": \"algo-1\", \"Operation\": \"training\", \"epoch\": 2, \"model\": 9}, \"Metrics\": {\"train_binary_classification_cross_entropy_objective\": {\"sum\": 0.48180474242230803, \"count\": 1, \"min\": 0.48180474242230803, \"max\": 0.48180474242230803}}}\u001b[0m\n",
            "\u001b[34m#metrics {\"StartTime\": 1650552607.2827973, \"EndTime\": 1650552607.2828193, \"Dimensions\": {\"Algorithm\": \"Linear Learner\", \"Host\": \"algo-1\", \"Operation\": \"training\", \"epoch\": 2, \"model\": 10}, \"Metrics\": {\"train_binary_classification_cross_entropy_objective\": {\"sum\": 0.4808566357673855, \"count\": 1, \"min\": 0.4808566357673855, \"max\": 0.4808566357673855}}}\u001b[0m\n",
            "\u001b[34m#metrics {\"StartTime\": 1650552607.2828872, \"EndTime\": 1650552607.2829018, \"Dimensions\": {\"Algorithm\": \"Linear Learner\", \"Host\": \"algo-1\", \"Operation\": \"training\", \"epoch\": 2, \"model\": 11}, \"Metrics\": {\"train_binary_classification_cross_entropy_objective\": {\"sum\": 0.4818047772562103, \"count\": 1, \"min\": 0.4818047772562103, \"max\": 0.4818047772562103}}}\u001b[0m\n",
            "\u001b[34m#metrics {\"StartTime\": 1650552607.2829607, \"EndTime\": 1650552607.2829788, \"Dimensions\": {\"Algorithm\": \"Linear Learner\", \"Host\": \"algo-1\", \"Operation\": \"training\", \"epoch\": 2, \"model\": 12}, \"Metrics\": {\"train_binary_classification_cross_entropy_objective\": {\"sum\": 0.4818847954426337, \"count\": 1, \"min\": 0.4818847954426337, \"max\": 0.4818847954426337}}}\u001b[0m\n",
            "\u001b[34m#metrics {\"StartTime\": 1650552607.2830293, \"EndTime\": 1650552607.2830446, \"Dimensions\": {\"Algorithm\": \"Linear Learner\", \"Host\": \"algo-1\", \"Operation\": \"training\", \"epoch\": 2, \"model\": 13}, \"Metrics\": {\"train_binary_classification_cross_entropy_objective\": {\"sum\": 0.49806420403810087, \"count\": 1, \"min\": 0.49806420403810087, \"max\": 0.49806420403810087}}}\u001b[0m\n",
            "\u001b[34m#metrics {\"StartTime\": 1650552607.2830956, \"EndTime\": 1650552607.2831106, \"Dimensions\": {\"Algorithm\": \"Linear Learner\", \"Host\": \"algo-1\", \"Operation\": \"training\", \"epoch\": 2, \"model\": 14}, \"Metrics\": {\"train_binary_classification_cross_entropy_objective\": {\"sum\": 0.48188477771070753, \"count\": 1, \"min\": 0.48188477771070753, \"max\": 0.48188477771070753}}}\u001b[0m\n",
            "\u001b[34m#metrics {\"StartTime\": 1650552607.2831626, \"EndTime\": 1650552607.2831776, \"Dimensions\": {\"Algorithm\": \"Linear Learner\", \"Host\": \"algo-1\", \"Operation\": \"training\", \"epoch\": 2, \"model\": 15}, \"Metrics\": {\"train_binary_classification_cross_entropy_objective\": {\"sum\": 0.49806410053964784, \"count\": 1, \"min\": 0.49806410053964784, \"max\": 0.49806410053964784}}}\u001b[0m\n",
            "\u001b[34m#metrics {\"StartTime\": 1650552607.2832155, \"EndTime\": 1650552607.2832248, \"Dimensions\": {\"Algorithm\": \"Linear Learner\", \"Host\": \"algo-1\", \"Operation\": \"training\", \"epoch\": 2, \"model\": 16}, \"Metrics\": {\"train_binary_classification_cross_entropy_objective\": {\"sum\": 0.5041663233905758, \"count\": 1, \"min\": 0.5041663233905758, \"max\": 0.5041663233905758}}}\u001b[0m\n",
            "\u001b[34m#metrics {\"StartTime\": 1650552607.2832685, \"EndTime\": 1650552607.2832842, \"Dimensions\": {\"Algorithm\": \"Linear Learner\", \"Host\": \"algo-1\", \"Operation\": \"training\", \"epoch\": 2, \"model\": 17}, \"Metrics\": {\"train_binary_classification_cross_entropy_objective\": {\"sum\": 0.504428978129629, \"count\": 1, \"min\": 0.504428978129629, \"max\": 0.504428978129629}}}\u001b[0m\n",
            "\u001b[34m#metrics {\"StartTime\": 1650552607.2833257, \"EndTime\": 1650552607.2833352, \"Dimensions\": {\"Algorithm\": \"Linear Learner\", \"Host\": \"algo-1\", \"Operation\": \"training\", \"epoch\": 2, \"model\": 18}, \"Metrics\": {\"train_binary_classification_cross_entropy_objective\": {\"sum\": 0.5041663086450793, \"count\": 1, \"min\": 0.5041663086450793, \"max\": 0.5041663086450793}}}\u001b[0m\n",
            "\u001b[34m#metrics {\"StartTime\": 1650552607.2833624, \"EndTime\": 1650552607.28337, \"Dimensions\": {\"Algorithm\": \"Linear Learner\", \"Host\": \"algo-1\", \"Operation\": \"training\", \"epoch\": 2, \"model\": 19}, \"Metrics\": {\"train_binary_classification_cross_entropy_objective\": {\"sum\": 0.5044289310933617, \"count\": 1, \"min\": 0.5044289310933617, \"max\": 0.5044289310933617}}}\u001b[0m\n",
            "\u001b[34m#metrics {\"StartTime\": 1650552607.2833953, \"EndTime\": 1650552607.283403, \"Dimensions\": {\"Algorithm\": \"Linear Learner\", \"Host\": \"algo-1\", \"Operation\": \"training\", \"epoch\": 2, \"model\": 20}, \"Metrics\": {\"train_binary_classification_cross_entropy_objective\": {\"sum\": 0.5044184165277977, \"count\": 1, \"min\": 0.5044184165277977, \"max\": 0.5044184165277977}}}\u001b[0m\n",
            "\u001b[34m#metrics {\"StartTime\": 1650552607.2834287, \"EndTime\": 1650552607.283436, \"Dimensions\": {\"Algorithm\": \"Linear Learner\", \"Host\": \"algo-1\", \"Operation\": \"training\", \"epoch\": 2, \"model\": 21}, \"Metrics\": {\"train_binary_classification_cross_entropy_objective\": {\"sum\": 0.5075227627535479, \"count\": 1, \"min\": 0.5075227627535479, \"max\": 0.5075227627535479}}}\u001b[0m\n",
            "\u001b[34m#metrics {\"StartTime\": 1650552607.2834613, \"EndTime\": 1650552607.2834687, \"Dimensions\": {\"Algorithm\": \"Linear Learner\", \"Host\": \"algo-1\", \"Operation\": \"training\", \"epoch\": 2, \"model\": 22}, \"Metrics\": {\"train_binary_classification_cross_entropy_objective\": {\"sum\": 0.5044184076851661, \"count\": 1, \"min\": 0.5044184076851661, \"max\": 0.5044184076851661}}}\u001b[0m\n",
            "\u001b[34m#metrics {\"StartTime\": 1650552607.2834942, \"EndTime\": 1650552607.2835016, \"Dimensions\": {\"Algorithm\": \"Linear Learner\", \"Host\": \"algo-1\", \"Operation\": \"training\", \"epoch\": 2, \"model\": 23}, \"Metrics\": {\"train_binary_classification_cross_entropy_objective\": {\"sum\": 0.5075227323992901, \"count\": 1, \"min\": 0.5075227323992901, \"max\": 0.5075227323992901}}}\u001b[0m\n",
            "\u001b[34m#metrics {\"StartTime\": 1650552607.283527, \"EndTime\": 1650552607.2835345, \"Dimensions\": {\"Algorithm\": \"Linear Learner\", \"Host\": \"algo-1\", \"Operation\": \"training\", \"epoch\": 2, \"model\": 24}, \"Metrics\": {\"train_binary_classification_cross_entropy_objective\": {\"sum\": 0.5137243287906005, \"count\": 1, \"min\": 0.5137243287906005, \"max\": 0.5137243287906005}}}\u001b[0m\n",
            "\u001b[34m#metrics {\"StartTime\": 1650552607.2835608, \"EndTime\": 1650552607.2835684, \"Dimensions\": {\"Algorithm\": \"Linear Learner\", \"Host\": \"algo-1\", \"Operation\": \"training\", \"epoch\": 2, \"model\": 25}, \"Metrics\": {\"train_binary_classification_cross_entropy_objective\": {\"sum\": 0.5138319397205972, \"count\": 1, \"min\": 0.5138319397205972, \"max\": 0.5138319397205972}}}\u001b[0m\n",
            "\u001b[34m#metrics {\"StartTime\": 1650552607.283596, \"EndTime\": 1650552607.283607, \"Dimensions\": {\"Algorithm\": \"Linear Learner\", \"Host\": \"algo-1\", \"Operation\": \"training\", \"epoch\": 2, \"model\": 26}, \"Metrics\": {\"train_binary_classification_cross_entropy_objective\": {\"sum\": 0.5137244559005131, \"count\": 1, \"min\": 0.5137244559005131, \"max\": 0.5137244559005131}}}\u001b[0m\n",
            "\u001b[34m#metrics {\"StartTime\": 1650552607.2836478, \"EndTime\": 1650552607.283657, \"Dimensions\": {\"Algorithm\": \"Linear Learner\", \"Host\": \"algo-1\", \"Operation\": \"training\", \"epoch\": 2, \"model\": 27}, \"Metrics\": {\"train_binary_classification_cross_entropy_objective\": {\"sum\": 0.5138303568895439, \"count\": 1, \"min\": 0.5138303568895439, \"max\": 0.5138303568895439}}}\u001b[0m\n",
            "\u001b[34m#metrics {\"StartTime\": 1650552607.2837012, \"EndTime\": 1650552607.2837164, \"Dimensions\": {\"Algorithm\": \"Linear Learner\", \"Host\": \"algo-1\", \"Operation\": \"training\", \"epoch\": 2, \"model\": 28}, \"Metrics\": {\"train_binary_classification_cross_entropy_objective\": {\"sum\": 0.5138259188450804, \"count\": 1, \"min\": 0.5138259188450804, \"max\": 0.5138259188450804}}}\u001b[0m\n",
            "\u001b[34m#metrics {\"StartTime\": 1650552607.2837648, \"EndTime\": 1650552607.283779, \"Dimensions\": {\"Algorithm\": \"Linear Learner\", \"Host\": \"algo-1\", \"Operation\": \"training\", \"epoch\": 2, \"model\": 29}, \"Metrics\": {\"train_binary_classification_cross_entropy_objective\": {\"sum\": 0.5150195759064561, \"count\": 1, \"min\": 0.5150195759064561, \"max\": 0.5150195759064561}}}\u001b[0m\n",
            "\u001b[34m#metrics {\"StartTime\": 1650552607.2838302, \"EndTime\": 1650552607.2838466, \"Dimensions\": {\"Algorithm\": \"Linear Learner\", \"Host\": \"algo-1\", \"Operation\": \"training\", \"epoch\": 2, \"model\": 30}, \"Metrics\": {\"train_binary_classification_cross_entropy_objective\": {\"sum\": 0.5138259790169719, \"count\": 1, \"min\": 0.5138259790169719, \"max\": 0.5138259790169719}}}\u001b[0m\n",
            "\u001b[34m#metrics {\"StartTime\": 1650552607.283904, \"EndTime\": 1650552607.28392, \"Dimensions\": {\"Algorithm\": \"Linear Learner\", \"Host\": \"algo-1\", \"Operation\": \"training\", \"epoch\": 2, \"model\": 31}, \"Metrics\": {\"train_binary_classification_cross_entropy_objective\": {\"sum\": 0.5150196486540162, \"count\": 1, \"min\": 0.5150196486540162, \"max\": 0.5150196486540162}}}\u001b[0m\n",
            "\u001b[34m[04/21/2022 14:50:07 INFO 140472686061376] #quality_metric: host=algo-1, epoch=2, train binary_classification_cross_entropy_objective <loss>=0.4806003075229283\u001b[0m\n",
            "\u001b[34m[2022-04-21 14:50:12.348] [tensorio] [info] epoch_stats={\"data_pipeline\": \"/opt/ml/input/data/validation\", \"epoch\": 8, \"duration\": 5037, \"num_examples\": 164, \"num_bytes\": 63460892}\u001b[0m\n",
            "\u001b[34m#metrics {\"StartTime\": 1650552612.3565886, \"EndTime\": 1650552612.3566484, \"Dimensions\": {\"Algorithm\": \"Linear Learner\", \"Host\": \"algo-1\", \"Operation\": \"training\", \"epoch\": 2, \"model\": 0}, \"Metrics\": {\"validation_binary_classification_cross_entropy_objective\": {\"sum\": 0.48033011284763355, \"count\": 1, \"min\": 0.48033011284763355, \"max\": 0.48033011284763355}}}\u001b[0m\n",
            "\u001b[34m#metrics {\"StartTime\": 1650552612.3567312, \"EndTime\": 1650552612.3567467, \"Dimensions\": {\"Algorithm\": \"Linear Learner\", \"Host\": \"algo-1\", \"Operation\": \"training\", \"epoch\": 2, \"model\": 1}, \"Metrics\": {\"validation_binary_classification_cross_entropy_objective\": {\"sum\": 0.48212023443572205, \"count\": 1, \"min\": 0.48212023443572205, \"max\": 0.48212023443572205}}}\u001b[0m\n",
            "\u001b[34m#metrics {\"StartTime\": 1650552612.3567948, \"EndTime\": 1650552612.356811, \"Dimensions\": {\"Algorithm\": \"Linear Learner\", \"Host\": \"algo-1\", \"Operation\": \"training\", \"epoch\": 2, \"model\": 2}, \"Metrics\": {\"validation_binary_classification_cross_entropy_objective\": {\"sum\": 0.480329888946205, \"count\": 1, \"min\": 0.480329888946205, \"max\": 0.480329888946205}}}\u001b[0m\n",
            "\u001b[34m#metrics {\"StartTime\": 1650552612.3568587, \"EndTime\": 1650552612.3568697, \"Dimensions\": {\"Algorithm\": \"Linear Learner\", \"Host\": \"algo-1\", \"Operation\": \"training\", \"epoch\": 2, \"model\": 3}, \"Metrics\": {\"validation_binary_classification_cross_entropy_objective\": {\"sum\": 0.4821204279238732, \"count\": 1, \"min\": 0.4821204279238732, \"max\": 0.4821204279238732}}}\u001b[0m\n",
            "\u001b[34m#metrics {\"StartTime\": 1650552612.356956, \"EndTime\": 1650552612.3569763, \"Dimensions\": {\"Algorithm\": \"Linear Learner\", \"Host\": \"algo-1\", \"Operation\": \"training\", \"epoch\": 2, \"model\": 4}, \"Metrics\": {\"validation_binary_classification_cross_entropy_objective\": {\"sum\": 0.481191823430605, \"count\": 1, \"min\": 0.481191823430605, \"max\": 0.481191823430605}}}\u001b[0m\n",
            "\u001b[34m#metrics {\"StartTime\": 1650552612.3570313, \"EndTime\": 1650552612.3570483, \"Dimensions\": {\"Algorithm\": \"Linear Learner\", \"Host\": \"algo-1\", \"Operation\": \"training\", \"epoch\": 2, \"model\": 5}, \"Metrics\": {\"validation_binary_classification_cross_entropy_objective\": {\"sum\": 0.4960004971074443, \"count\": 1, \"min\": 0.4960004971074443, \"max\": 0.4960004971074443}}}\u001b[0m\n",
            "\u001b[34m#metrics {\"StartTime\": 1650552612.3571289, \"EndTime\": 1650552612.3571475, \"Dimensions\": {\"Algorithm\": \"Linear Learner\", \"Host\": \"algo-1\", \"Operation\": \"training\", \"epoch\": 2, \"model\": 6}, \"Metrics\": {\"validation_binary_classification_cross_entropy_objective\": {\"sum\": 0.4811918344390919, \"count\": 1, \"min\": 0.4811918344390919, \"max\": 0.4811918344390919}}}\u001b[0m\n",
            "\u001b[34m#metrics {\"StartTime\": 1650552612.3572009, \"EndTime\": 1650552612.3572185, \"Dimensions\": {\"Algorithm\": \"Linear Learner\", \"Host\": \"algo-1\", \"Operation\": \"training\", \"epoch\": 2, \"model\": 7}, \"Metrics\": {\"validation_binary_classification_cross_entropy_objective\": {\"sum\": 0.4960011503398621, \"count\": 1, \"min\": 0.4960011503398621, \"max\": 0.4960011503398621}}}\u001b[0m\n",
            "\u001b[34m#metrics {\"StartTime\": 1650552612.3572712, \"EndTime\": 1650552612.3572896, \"Dimensions\": {\"Algorithm\": \"Linear Learner\", \"Host\": \"algo-1\", \"Operation\": \"training\", \"epoch\": 2, \"model\": 8}, \"Metrics\": {\"validation_binary_classification_cross_entropy_objective\": {\"sum\": 0.4806411397329648, \"count\": 1, \"min\": 0.4806411397329648, \"max\": 0.4806411397329648}}}\u001b[0m\n",
            "\u001b[34m#metrics {\"StartTime\": 1650552612.3573685, \"EndTime\": 1650552612.357389, \"Dimensions\": {\"Algorithm\": \"Linear Learner\", \"Host\": \"algo-1\", \"Operation\": \"training\", \"epoch\": 2, \"model\": 9}, \"Metrics\": {\"validation_binary_classification_cross_entropy_objective\": {\"sum\": 0.4823459921936856, \"count\": 1, \"min\": 0.4823459921936856, \"max\": 0.4823459921936856}}}\u001b[0m\n",
            "\u001b[34m#metrics {\"StartTime\": 1650552612.3574474, \"EndTime\": 1650552612.357464, \"Dimensions\": {\"Algorithm\": \"Linear Learner\", \"Host\": \"algo-1\", \"Operation\": \"training\", \"epoch\": 2, \"model\": 10}, \"Metrics\": {\"validation_binary_classification_cross_entropy_objective\": {\"sum\": 0.4806409988616493, \"count\": 1, \"min\": 0.4806409988616493, \"max\": 0.4806409988616493}}}\u001b[0m\n",
            "\u001b[34m#metrics {\"StartTime\": 1650552612.357529, \"EndTime\": 1650552612.3575473, \"Dimensions\": {\"Algorithm\": \"Linear Learner\", \"Host\": \"algo-1\", \"Operation\": \"training\", \"epoch\": 2, \"model\": 11}, \"Metrics\": {\"validation_binary_classification_cross_entropy_objective\": {\"sum\": 0.4823461259747892, \"count\": 1, \"min\": 0.4823461259747892, \"max\": 0.4823461259747892}}}\u001b[0m\n",
            "\u001b[34m#metrics {\"StartTime\": 1650552612.3576093, \"EndTime\": 1650552612.3576276, \"Dimensions\": {\"Algorithm\": \"Linear Learner\", \"Host\": \"algo-1\", \"Operation\": \"training\", \"epoch\": 2, \"model\": 12}, \"Metrics\": {\"validation_binary_classification_cross_entropy_objective\": {\"sum\": 0.48145958024536445, \"count\": 1, \"min\": 0.48145958024536445, \"max\": 0.48145958024536445}}}\u001b[0m\n",
            "\u001b[34m#metrics {\"StartTime\": 1650552612.35769, \"EndTime\": 1650552612.3577075, \"Dimensions\": {\"Algorithm\": \"Linear Learner\", \"Host\": \"algo-1\", \"Operation\": \"training\", \"epoch\": 2, \"model\": 13}, \"Metrics\": {\"validation_binary_classification_cross_entropy_objective\": {\"sum\": 0.49508478672427647, \"count\": 1, \"min\": 0.49508478672427647, \"max\": 0.49508478672427647}}}\u001b[0m\n",
            "\u001b[34m#metrics {\"StartTime\": 1650552612.357762, \"EndTime\": 1650552612.3577793, \"Dimensions\": {\"Algorithm\": \"Linear Learner\", \"Host\": \"algo-1\", \"Operation\": \"training\", \"epoch\": 2, \"model\": 14}, \"Metrics\": {\"validation_binary_classification_cross_entropy_objective\": {\"sum\": 0.48145952445659185, \"count\": 1, \"min\": 0.48145952445659185, \"max\": 0.48145952445659185}}}\u001b[0m\n",
            "\u001b[34m#metrics {\"StartTime\": 1650552612.3578334, \"EndTime\": 1650552612.3578496, \"Dimensions\": {\"Algorithm\": \"Linear Learner\", \"Host\": \"algo-1\", \"Operation\": \"training\", \"epoch\": 2, \"model\": 15}, \"Metrics\": {\"validation_binary_classification_cross_entropy_objective\": {\"sum\": 0.49508516381159906, \"count\": 1, \"min\": 0.49508516381159906, \"max\": 0.49508516381159906}}}\u001b[0m\n",
            "\u001b[34m#metrics {\"StartTime\": 1650552612.357904, \"EndTime\": 1650552612.3579211, \"Dimensions\": {\"Algorithm\": \"Linear Learner\", \"Host\": \"algo-1\", \"Operation\": \"training\", \"epoch\": 2, \"model\": 16}, \"Metrics\": {\"validation_binary_classification_cross_entropy_objective\": {\"sum\": 0.5041567902875811, \"count\": 1, \"min\": 0.5041567902875811, \"max\": 0.5041567902875811}}}\u001b[0m\n",
            "\u001b[34m#metrics {\"StartTime\": 1650552612.3579767, \"EndTime\": 1650552612.3579938, \"Dimensions\": {\"Algorithm\": \"Linear Learner\", \"Host\": \"algo-1\", \"Operation\": \"training\", \"epoch\": 2, \"model\": 17}, \"Metrics\": {\"validation_binary_classification_cross_entropy_objective\": {\"sum\": 0.5054335814667676, \"count\": 1, \"min\": 0.5054335814667676, \"max\": 0.5054335814667676}}}\u001b[0m\n",
            "\u001b[34m#metrics {\"StartTime\": 1650552612.3580475, \"EndTime\": 1650552612.3580635, \"Dimensions\": {\"Algorithm\": \"Linear Learner\", \"Host\": \"algo-1\", \"Operation\": \"training\", \"epoch\": 2, \"model\": 18}, \"Metrics\": {\"validation_binary_classification_cross_entropy_objective\": {\"sum\": 0.5041573892239025, \"count\": 1, \"min\": 0.5041573892239025, \"max\": 0.5041573892239025}}}\u001b[0m\n",
            "\u001b[34m#metrics {\"StartTime\": 1650552612.3581269, \"EndTime\": 1650552612.3581452, \"Dimensions\": {\"Algorithm\": \"Linear Learner\", \"Host\": \"algo-1\", \"Operation\": \"training\", \"epoch\": 2, \"model\": 19}, \"Metrics\": {\"validation_binary_classification_cross_entropy_objective\": {\"sum\": 0.5054335697119426, \"count\": 1, \"min\": 0.5054335697119426, \"max\": 0.5054335697119426}}}\u001b[0m\n",
            "\u001b[34m#metrics {\"StartTime\": 1650552612.3582056, \"EndTime\": 1650552612.358224, \"Dimensions\": {\"Algorithm\": \"Linear Learner\", \"Host\": \"algo-1\", \"Operation\": \"training\", \"epoch\": 2, \"model\": 20}, \"Metrics\": {\"validation_binary_classification_cross_entropy_objective\": {\"sum\": 0.5047384688465583, \"count\": 1, \"min\": 0.5047384688465583, \"max\": 0.5047384688465583}}}\u001b[0m\n",
            "\u001b[34m#metrics {\"StartTime\": 1650552612.3582845, \"EndTime\": 1650552612.358302, \"Dimensions\": {\"Algorithm\": \"Linear Learner\", \"Host\": \"algo-1\", \"Operation\": \"training\", \"epoch\": 2, \"model\": 21}, \"Metrics\": {\"validation_binary_classification_cross_entropy_objective\": {\"sum\": 0.5057894190510835, \"count\": 1, \"min\": 0.5057894190510835, \"max\": 0.5057894190510835}}}\u001b[0m\n",
            "\u001b[34m#metrics {\"StartTime\": 1650552612.3583534, \"EndTime\": 1650552612.3583698, \"Dimensions\": {\"Algorithm\": \"Linear Learner\", \"Host\": \"algo-1\", \"Operation\": \"training\", \"epoch\": 2, \"model\": 22}, \"Metrics\": {\"validation_binary_classification_cross_entropy_objective\": {\"sum\": 0.5047385084024772, \"count\": 1, \"min\": 0.5047385084024772, \"max\": 0.5047385084024772}}}\u001b[0m\n",
            "\u001b[34m#metrics {\"StartTime\": 1650552612.3584287, \"EndTime\": 1650552612.3584445, \"Dimensions\": {\"Algorithm\": \"Linear Learner\", \"Host\": \"algo-1\", \"Operation\": \"training\", \"epoch\": 2, \"model\": 23}, \"Metrics\": {\"validation_binary_classification_cross_entropy_objective\": {\"sum\": 0.5057895692516252, \"count\": 1, \"min\": 0.5057895692516252, \"max\": 0.5057895692516252}}}\u001b[0m\n",
            "\u001b[34m#metrics {\"StartTime\": 1650552612.3584998, \"EndTime\": 1650552612.3585153, \"Dimensions\": {\"Algorithm\": \"Linear Learner\", \"Host\": \"algo-1\", \"Operation\": \"training\", \"epoch\": 2, \"model\": 24}, \"Metrics\": {\"validation_binary_classification_cross_entropy_objective\": {\"sum\": 0.5137204668343591, \"count\": 1, \"min\": 0.5137204668343591, \"max\": 0.5137204668343591}}}\u001b[0m\n",
            "\u001b[34m#metrics {\"StartTime\": 1650552612.3585672, \"EndTime\": 1650552612.3585832, \"Dimensions\": {\"Algorithm\": \"Linear Learner\", \"Host\": \"algo-1\", \"Operation\": \"training\", \"epoch\": 2, \"model\": 25}, \"Metrics\": {\"validation_binary_classification_cross_entropy_objective\": {\"sum\": 0.5144718529737716, \"count\": 1, \"min\": 0.5144718529737716, \"max\": 0.5144718529737716}}}\u001b[0m\n",
            "\u001b[34m#metrics {\"StartTime\": 1650552612.35864, \"EndTime\": 1650552612.358654, \"Dimensions\": {\"Algorithm\": \"Linear Learner\", \"Host\": \"algo-1\", \"Operation\": \"training\", \"epoch\": 2, \"model\": 26}, \"Metrics\": {\"validation_binary_classification_cross_entropy_objective\": {\"sum\": 0.5137193331467926, \"count\": 1, \"min\": 0.5137193331467926, \"max\": 0.5137193331467926}}}\u001b[0m\n",
            "\u001b[34m#metrics {\"StartTime\": 1650552612.358705, \"EndTime\": 1650552612.3587196, \"Dimensions\": {\"Algorithm\": \"Linear Learner\", \"Host\": \"algo-1\", \"Operation\": \"training\", \"epoch\": 2, \"model\": 27}, \"Metrics\": {\"validation_binary_classification_cross_entropy_objective\": {\"sum\": 0.5144608855354638, \"count\": 1, \"min\": 0.5144608855354638, \"max\": 0.5144608855354638}}}\u001b[0m\n",
            "\u001b[34m#metrics {\"StartTime\": 1650552612.3587556, \"EndTime\": 1650552612.35877, \"Dimensions\": {\"Algorithm\": \"Linear Learner\", \"Host\": \"algo-1\", \"Operation\": \"training\", \"epoch\": 2, \"model\": 28}, \"Metrics\": {\"validation_binary_classification_cross_entropy_objective\": {\"sum\": 0.5138896906011243, \"count\": 1, \"min\": 0.5138896906011243, \"max\": 0.5138896906011243}}}\u001b[0m\n",
            "\u001b[34m#metrics {\"StartTime\": 1650552612.3588212, \"EndTime\": 1650552612.358838, \"Dimensions\": {\"Algorithm\": \"Linear Learner\", \"Host\": \"algo-1\", \"Operation\": \"training\", \"epoch\": 2, \"model\": 29}, \"Metrics\": {\"validation_binary_classification_cross_entropy_objective\": {\"sum\": 0.5141160736038272, \"count\": 1, \"min\": 0.5141160736038272, \"max\": 0.5141160736038272}}}\u001b[0m\n",
            "\u001b[34m#metrics {\"StartTime\": 1650552612.3588903, \"EndTime\": 1650552612.3589063, \"Dimensions\": {\"Algorithm\": \"Linear Learner\", \"Host\": \"algo-1\", \"Operation\": \"training\", \"epoch\": 2, \"model\": 30}, \"Metrics\": {\"validation_binary_classification_cross_entropy_objective\": {\"sum\": 0.5138976956369481, \"count\": 1, \"min\": 0.5138976956369481, \"max\": 0.5138976956369481}}}\u001b[0m\n",
            "\u001b[34m#metrics {\"StartTime\": 1650552612.3589597, \"EndTime\": 1650552612.3589764, \"Dimensions\": {\"Algorithm\": \"Linear Learner\", \"Host\": \"algo-1\", \"Operation\": \"training\", \"epoch\": 2, \"model\": 31}, \"Metrics\": {\"validation_binary_classification_cross_entropy_objective\": {\"sum\": 0.5141160622221712, \"count\": 1, \"min\": 0.5141160622221712, \"max\": 0.5141160622221712}}}\u001b[0m\n",
            "\u001b[34m[04/21/2022 14:50:12 INFO 140472686061376] #quality_metric: host=algo-1, epoch=2, validation binary_classification_cross_entropy_objective <loss>=0.48033011284763355\u001b[0m\n",
            "\u001b[34m[04/21/2022 14:50:12 INFO 140472686061376] #early_stopping_criteria_metric: host=algo-1, epoch=2, criteria=binary_classification_cross_entropy_objective, value=0.480329888946205\u001b[0m\n",
            "\u001b[34m[04/21/2022 14:50:12 INFO 140472686061376] Saving model for epoch: 2\u001b[0m\n",
            "\u001b[34m[04/21/2022 14:50:12 INFO 140472686061376] Saved checkpoint to \"/tmp/tmp38m54veh/mx-mod-0000.params\"\u001b[0m\n",
            "\u001b[34m[04/21/2022 14:50:12 INFO 140472686061376] #progress_metric: host=algo-1, completed 20.0 % of epochs\u001b[0m\n",
            "\u001b[34m#metrics {\"StartTime\": 1650552549.9351656, \"EndTime\": 1650552612.3671808, \"Dimensions\": {\"Algorithm\": \"Linear Learner\", \"Host\": \"algo-1\", \"Operation\": \"training\", \"epoch\": 2, \"Meta\": \"training_data_iter\"}, \"Metrics\": {\"Total Records Seen\": {\"sum\": 3937416.0, \"count\": 1, \"min\": 3937416, \"max\": 3937416}, \"Total Batches Seen\": {\"sum\": 3939.0, \"count\": 1, \"min\": 3939, \"max\": 3939}, \"Max Records Seen Between Resets\": {\"sum\": 1308472.0, \"count\": 1, \"min\": 1308472, \"max\": 1308472}, \"Max Batches Seen Between Resets\": {\"sum\": 1309.0, \"count\": 1, \"min\": 1309, \"max\": 1309}, \"Reset Count\": {\"sum\": 5.0, \"count\": 1, \"min\": 5, \"max\": 5}, \"Number of Records Since Last Reset\": {\"sum\": 1308472.0, \"count\": 1, \"min\": 1308472, \"max\": 1308472}, \"Number of Batches Since Last Reset\": {\"sum\": 1309.0, \"count\": 1, \"min\": 1309, \"max\": 1309}}}\u001b[0m\n",
            "\u001b[34m[04/21/2022 14:50:12 INFO 140472686061376] #throughput_metric: host=algo-1, train throughput=20958.313097070863 records/second\u001b[0m\n",
            "\u001b[34m[2022-04-21 14:51:09.537] [tensorio] [info] epoch_stats={\"data_pipeline\": \"/opt/ml/input/data/train\", \"epoch\": 9, \"duration\": 57166, \"num_examples\": 1309, \"num_bytes\": 507687136}\u001b[0m\n",
            "\u001b[34m#metrics {\"StartTime\": 1650552669.5373068, \"EndTime\": 1650552669.5377219, \"Dimensions\": {\"Algorithm\": \"Linear Learner\", \"Host\": \"algo-1\", \"Operation\": \"training\", \"epoch\": 3, \"model\": 0}, \"Metrics\": {\"train_binary_classification_cross_entropy_objective\": {\"sum\": 0.4805380294519827, \"count\": 1, \"min\": 0.4805380294519827, \"max\": 0.4805380294519827}}}\u001b[0m\n",
            "\u001b[34m#metrics {\"StartTime\": 1650552669.5378194, \"EndTime\": 1650552669.537885, \"Dimensions\": {\"Algorithm\": \"Linear Learner\", \"Host\": \"algo-1\", \"Operation\": \"training\", \"epoch\": 3, \"model\": 1}, \"Metrics\": {\"train_binary_classification_cross_entropy_objective\": {\"sum\": 0.4814722609213733, \"count\": 1, \"min\": 0.4814722609213733, \"max\": 0.4814722609213733}}}\u001b[0m\n",
            "\u001b[34m#metrics {\"StartTime\": 1650552669.5379696, \"EndTime\": 1650552669.5379918, \"Dimensions\": {\"Algorithm\": \"Linear Learner\", \"Host\": \"algo-1\", \"Operation\": \"training\", \"epoch\": 3, \"model\": 2}, \"Metrics\": {\"train_binary_classification_cross_entropy_objective\": {\"sum\": 0.48055266515049366, \"count\": 1, \"min\": 0.48055266515049366, \"max\": 0.48055266515049366}}}\u001b[0m\n",
            "\u001b[34m#metrics {\"StartTime\": 1650552669.5380652, \"EndTime\": 1650552669.5380852, \"Dimensions\": {\"Algorithm\": \"Linear Learner\", \"Host\": \"algo-1\", \"Operation\": \"training\", \"epoch\": 3, \"model\": 3}, \"Metrics\": {\"train_binary_classification_cross_entropy_objective\": {\"sum\": 0.48147226176130664, \"count\": 1, \"min\": 0.48147226176130664, \"max\": 0.48147226176130664}}}\u001b[0m\n",
            "\u001b[34m#metrics {\"StartTime\": 1650552669.538152, \"EndTime\": 1650552669.538171, \"Dimensions\": {\"Algorithm\": \"Linear Learner\", \"Host\": \"algo-1\", \"Operation\": \"training\", \"epoch\": 3, \"model\": 4}, \"Metrics\": {\"train_binary_classification_cross_entropy_objective\": {\"sum\": 0.4808469715410052, \"count\": 1, \"min\": 0.4808469715410052, \"max\": 0.4808469715410052}}}\u001b[0m\n",
            "\u001b[34m#metrics {\"StartTime\": 1650552669.5382497, \"EndTime\": 1650552669.538269, \"Dimensions\": {\"Algorithm\": \"Linear Learner\", \"Host\": \"algo-1\", \"Operation\": \"training\", \"epoch\": 3, \"model\": 5}, \"Metrics\": {\"train_binary_classification_cross_entropy_objective\": {\"sum\": 0.4968806850188369, \"count\": 1, \"min\": 0.4968806850188369, \"max\": 0.4968806850188369}}}\u001b[0m\n",
            "\u001b[34m#metrics {\"StartTime\": 1650552669.5383391, \"EndTime\": 1650552669.53836, \"Dimensions\": {\"Algorithm\": \"Linear Learner\", \"Host\": \"algo-1\", \"Operation\": \"training\", \"epoch\": 3, \"model\": 6}, \"Metrics\": {\"train_binary_classification_cross_entropy_objective\": {\"sum\": 0.480846970467757, \"count\": 1, \"min\": 0.480846970467757, \"max\": 0.480846970467757}}}\u001b[0m\n",
            "\u001b[34m#metrics {\"StartTime\": 1650552669.5384326, \"EndTime\": 1650552669.5384538, \"Dimensions\": {\"Algorithm\": \"Linear Learner\", \"Host\": \"algo-1\", \"Operation\": \"training\", \"epoch\": 3, \"model\": 7}, \"Metrics\": {\"train_binary_classification_cross_entropy_objective\": {\"sum\": 0.4968807389378912, \"count\": 1, \"min\": 0.4968807389378912, \"max\": 0.4968807389378912}}}\u001b[0m\n",
            "\u001b[34m#metrics {\"StartTime\": 1650552669.5385253, \"EndTime\": 1650552669.5385444, \"Dimensions\": {\"Algorithm\": \"Linear Learner\", \"Host\": \"algo-1\", \"Operation\": \"training\", \"epoch\": 3, \"model\": 8}, \"Metrics\": {\"train_binary_classification_cross_entropy_objective\": {\"sum\": 0.4808008401386599, \"count\": 1, \"min\": 0.4808008401386599, \"max\": 0.4808008401386599}}}\u001b[0m\n",
            "\u001b[34m#metrics {\"StartTime\": 1650552669.5386128, \"EndTime\": 1650552669.538631, \"Dimensions\": {\"Algorithm\": \"Linear Learner\", \"Host\": \"algo-1\", \"Operation\": \"training\", \"epoch\": 3, \"model\": 9}, \"Metrics\": {\"train_binary_classification_cross_entropy_objective\": {\"sum\": 0.48168247815520027, \"count\": 1, \"min\": 0.48168247815520027, \"max\": 0.48168247815520027}}}\u001b[0m\n",
            "\u001b[34m#metrics {\"StartTime\": 1650552669.538697, \"EndTime\": 1650552669.538717, \"Dimensions\": {\"Algorithm\": \"Linear Learner\", \"Host\": \"algo-1\", \"Operation\": \"training\", \"epoch\": 3, \"model\": 10}, \"Metrics\": {\"train_binary_classification_cross_entropy_objective\": {\"sum\": 0.4808159829002637, \"count\": 1, \"min\": 0.4808159829002637, \"max\": 0.4808159829002637}}}\u001b[0m\n",
            "\u001b[34m#metrics {\"StartTime\": 1650552669.5387874, \"EndTime\": 1650552669.5388067, \"Dimensions\": {\"Algorithm\": \"Linear Learner\", \"Host\": \"algo-1\", \"Operation\": \"training\", \"epoch\": 3, \"model\": 11}, \"Metrics\": {\"train_binary_classification_cross_entropy_objective\": {\"sum\": 0.48168248660119667, \"count\": 1, \"min\": 0.48168248660119667, \"max\": 0.48168248660119667}}}\u001b[0m\n",
            "\u001b[34m#metrics {\"StartTime\": 1650552669.5388756, \"EndTime\": 1650552669.5388963, \"Dimensions\": {\"Algorithm\": \"Linear Learner\", \"Host\": \"algo-1\", \"Operation\": \"training\", \"epoch\": 3, \"model\": 12}, \"Metrics\": {\"train_binary_classification_cross_entropy_objective\": {\"sum\": 0.481089507590011, \"count\": 1, \"min\": 0.481089507590011, \"max\": 0.481089507590011}}}\u001b[0m\n",
            "\u001b[34m#metrics {\"StartTime\": 1650552669.538959, \"EndTime\": 1650552669.5389776, \"Dimensions\": {\"Algorithm\": \"Linear Learner\", \"Host\": \"algo-1\", \"Operation\": \"training\", \"epoch\": 3, \"model\": 13}, \"Metrics\": {\"train_binary_classification_cross_entropy_objective\": {\"sum\": 0.4960041069240745, \"count\": 1, \"min\": 0.4960041069240745, \"max\": 0.4960041069240745}}}\u001b[0m\n",
            "\u001b[34m#metrics {\"StartTime\": 1650552669.5390484, \"EndTime\": 1650552669.539068, \"Dimensions\": {\"Algorithm\": \"Linear Learner\", \"Host\": \"algo-1\", \"Operation\": \"training\", \"epoch\": 3, \"model\": 14}, \"Metrics\": {\"train_binary_classification_cross_entropy_objective\": {\"sum\": 0.4810895065400943, \"count\": 1, \"min\": 0.4810895065400943, \"max\": 0.4810895065400943}}}\u001b[0m\n",
            "\u001b[34m#metrics {\"StartTime\": 1650552669.5391388, \"EndTime\": 1650552669.5391583, \"Dimensions\": {\"Algorithm\": \"Linear Learner\", \"Host\": \"algo-1\", \"Operation\": \"training\", \"epoch\": 3, \"model\": 15}, \"Metrics\": {\"train_binary_classification_cross_entropy_objective\": {\"sum\": 0.496004105057556, \"count\": 1, \"min\": 0.496004105057556, \"max\": 0.496004105057556}}}\u001b[0m\n",
            "\u001b[34m#metrics {\"StartTime\": 1650552669.5392244, \"EndTime\": 1650552669.5392437, \"Dimensions\": {\"Algorithm\": \"Linear Learner\", \"Host\": \"algo-1\", \"Operation\": \"training\", \"epoch\": 3, \"model\": 16}, \"Metrics\": {\"train_binary_classification_cross_entropy_objective\": {\"sum\": 0.5041507673584358, \"count\": 1, \"min\": 0.5041507673584358, \"max\": 0.5041507673584358}}}\u001b[0m\n",
            "\u001b[34m#metrics {\"StartTime\": 1650552669.5393095, \"EndTime\": 1650552669.539328, \"Dimensions\": {\"Algorithm\": \"Linear Learner\", \"Host\": \"algo-1\", \"Operation\": \"training\", \"epoch\": 3, \"model\": 17}, \"Metrics\": {\"train_binary_classification_cross_entropy_objective\": {\"sum\": 0.5043998386021419, \"count\": 1, \"min\": 0.5043998386021419, \"max\": 0.5043998386021419}}}\u001b[0m\n",
            "\u001b[34m#metrics {\"StartTime\": 1650552669.5393915, \"EndTime\": 1650552669.5394163, \"Dimensions\": {\"Algorithm\": \"Linear Learner\", \"Host\": \"algo-1\", \"Operation\": \"training\", \"epoch\": 3, \"model\": 18}, \"Metrics\": {\"train_binary_classification_cross_entropy_objective\": {\"sum\": 0.5041600498351118, \"count\": 1, \"min\": 0.5041600498351118, \"max\": 0.5041600498351118}}}\u001b[0m\n",
            "\u001b[34m#metrics {\"StartTime\": 1650552669.5394835, \"EndTime\": 1650552669.539501, \"Dimensions\": {\"Algorithm\": \"Linear Learner\", \"Host\": \"algo-1\", \"Operation\": \"training\", \"epoch\": 3, \"model\": 19}, \"Metrics\": {\"train_binary_classification_cross_entropy_objective\": {\"sum\": 0.5043998289429085, \"count\": 1, \"min\": 0.5043998289429085, \"max\": 0.5043998289429085}}}\u001b[0m\n",
            "\u001b[34m#metrics {\"StartTime\": 1650552669.5395575, \"EndTime\": 1650552669.5395765, \"Dimensions\": {\"Algorithm\": \"Linear Learner\", \"Host\": \"algo-1\", \"Operation\": \"training\", \"epoch\": 3, \"model\": 20}, \"Metrics\": {\"train_binary_classification_cross_entropy_objective\": {\"sum\": 0.5042252769586872, \"count\": 1, \"min\": 0.5042252769586872, \"max\": 0.5042252769586872}}}\u001b[0m\n",
            "\u001b[34m#metrics {\"StartTime\": 1650552669.5396304, \"EndTime\": 1650552669.5396461, \"Dimensions\": {\"Algorithm\": \"Linear Learner\", \"Host\": \"algo-1\", \"Operation\": \"training\", \"epoch\": 3, \"model\": 21}, \"Metrics\": {\"train_binary_classification_cross_entropy_objective\": {\"sum\": 0.5070985756503698, \"count\": 1, \"min\": 0.5070985756503698, \"max\": 0.5070985756503698}}}\u001b[0m\n",
            "\u001b[34m#metrics {\"StartTime\": 1650552669.5397658, \"EndTime\": 1650552669.5397885, \"Dimensions\": {\"Algorithm\": \"Linear Learner\", \"Host\": \"algo-1\", \"Operation\": \"training\", \"epoch\": 3, \"model\": 22}, \"Metrics\": {\"train_binary_classification_cross_entropy_objective\": {\"sum\": 0.5042252752554891, \"count\": 1, \"min\": 0.5042252752554891, \"max\": 0.5042252752554891}}}\u001b[0m\n",
            "\u001b[34m#metrics {\"StartTime\": 1650552669.5398488, \"EndTime\": 1650552669.5398674, \"Dimensions\": {\"Algorithm\": \"Linear Learner\", \"Host\": \"algo-1\", \"Operation\": \"training\", \"epoch\": 3, \"model\": 23}, \"Metrics\": {\"train_binary_classification_cross_entropy_objective\": {\"sum\": 0.5070985789401087, \"count\": 1, \"min\": 0.5070985789401087, \"max\": 0.5070985789401087}}}\u001b[0m\n",
            "\u001b[34m#metrics {\"StartTime\": 1650552669.5399225, \"EndTime\": 1650552669.5399399, \"Dimensions\": {\"Algorithm\": \"Linear Learner\", \"Host\": \"algo-1\", \"Operation\": \"training\", \"epoch\": 3, \"model\": 24}, \"Metrics\": {\"train_binary_classification_cross_entropy_objective\": {\"sum\": 0.5137197160166702, \"count\": 1, \"min\": 0.5137197160166702, \"max\": 0.5137197160166702}}}\u001b[0m\n",
            "\u001b[34m#metrics {\"StartTime\": 1650552669.5400476, \"EndTime\": 1650552669.5400686, \"Dimensions\": {\"Algorithm\": \"Linear Learner\", \"Host\": \"algo-1\", \"Operation\": \"training\", \"epoch\": 3, \"model\": 25}, \"Metrics\": {\"train_binary_classification_cross_entropy_objective\": {\"sum\": 0.5138208467442691, \"count\": 1, \"min\": 0.5138208467442691, \"max\": 0.5138208467442691}}}\u001b[0m\n",
            "\u001b[34m#metrics {\"StartTime\": 1650552669.5401263, \"EndTime\": 1650552669.5401433, \"Dimensions\": {\"Algorithm\": \"Linear Learner\", \"Host\": \"algo-1\", \"Operation\": \"training\", \"epoch\": 3, \"model\": 26}, \"Metrics\": {\"train_binary_classification_cross_entropy_objective\": {\"sum\": 0.5137212427121783, \"count\": 1, \"min\": 0.5137212427121783, \"max\": 0.5137212427121783}}}\u001b[0m\n",
            "\u001b[34m#metrics {\"StartTime\": 1650552669.5401978, \"EndTime\": 1650552669.540216, \"Dimensions\": {\"Algorithm\": \"Linear Learner\", \"Host\": \"algo-1\", \"Operation\": \"training\", \"epoch\": 3, \"model\": 27}, \"Metrics\": {\"train_binary_classification_cross_entropy_objective\": {\"sum\": 0.5138194965514203, \"count\": 1, \"min\": 0.5138194965514203, \"max\": 0.5138194965514203}}}\u001b[0m\n",
            "\u001b[34m#metrics {\"StartTime\": 1650552669.5402706, \"EndTime\": 1650552669.5402877, \"Dimensions\": {\"Algorithm\": \"Linear Learner\", \"Host\": \"algo-1\", \"Operation\": \"training\", \"epoch\": 3, \"model\": 28}, \"Metrics\": {\"train_binary_classification_cross_entropy_objective\": {\"sum\": 0.5137399968138529, \"count\": 1, \"min\": 0.5137399968138529, \"max\": 0.5137399968138529}}}\u001b[0m\n",
            "\u001b[34m#metrics {\"StartTime\": 1650552669.5403354, \"EndTime\": 1650552669.540352, \"Dimensions\": {\"Algorithm\": \"Linear Learner\", \"Host\": \"algo-1\", \"Operation\": \"training\", \"epoch\": 3, \"model\": 29}, \"Metrics\": {\"train_binary_classification_cross_entropy_objective\": {\"sum\": 0.514809838041253, \"count\": 1, \"min\": 0.514809838041253, \"max\": 0.514809838041253}}}\u001b[0m\n",
            "\u001b[34m#metrics {\"StartTime\": 1650552669.5404034, \"EndTime\": 1650552669.54042, \"Dimensions\": {\"Algorithm\": \"Linear Learner\", \"Host\": \"algo-1\", \"Operation\": \"training\", \"epoch\": 3, \"model\": 30}, \"Metrics\": {\"train_binary_classification_cross_entropy_objective\": {\"sum\": 0.5137401546513268, \"count\": 1, \"min\": 0.5137401546513268, \"max\": 0.5137401546513268}}}\u001b[0m\n",
            "\u001b[34m#metrics {\"StartTime\": 1650552669.5404735, \"EndTime\": 1650552669.54049, \"Dimensions\": {\"Algorithm\": \"Linear Learner\", \"Host\": \"algo-1\", \"Operation\": \"training\", \"epoch\": 3, \"model\": 31}, \"Metrics\": {\"train_binary_classification_cross_entropy_objective\": {\"sum\": 0.5148098161329917, \"count\": 1, \"min\": 0.5148098161329917, \"max\": 0.5148098161329917}}}\u001b[0m\n",
            "\u001b[34m[04/21/2022 14:51:09 INFO 140472686061376] #quality_metric: host=algo-1, epoch=3, train binary_classification_cross_entropy_objective <loss>=0.4805380294519827\u001b[0m\n",
            "\u001b[34m[2022-04-21 14:51:14.651] [tensorio] [info] epoch_stats={\"data_pipeline\": \"/opt/ml/input/data/validation\", \"epoch\": 11, \"duration\": 5086, \"num_examples\": 164, \"num_bytes\": 63460892}\u001b[0m\n",
            "\u001b[34m#metrics {\"StartTime\": 1650552674.6609945, \"EndTime\": 1650552674.6610544, \"Dimensions\": {\"Algorithm\": \"Linear Learner\", \"Host\": \"algo-1\", \"Operation\": \"training\", \"epoch\": 3, \"model\": 0}, \"Metrics\": {\"validation_binary_classification_cross_entropy_objective\": {\"sum\": 0.480318865159371, \"count\": 1, \"min\": 0.480318865159371, \"max\": 0.480318865159371}}}\u001b[0m\n",
            "\u001b[34m#metrics {\"StartTime\": 1650552674.661137, \"EndTime\": 1650552674.661153, \"Dimensions\": {\"Algorithm\": \"Linear Learner\", \"Host\": \"algo-1\", \"Operation\": \"training\", \"epoch\": 3, \"model\": 1}, \"Metrics\": {\"validation_binary_classification_cross_entropy_objective\": {\"sum\": 0.4819188602896642, \"count\": 1, \"min\": 0.4819188602896642, \"max\": 0.4819188602896642}}}\u001b[0m\n",
            "\u001b[34m#metrics {\"StartTime\": 1650552674.6612031, \"EndTime\": 1650552674.6612222, \"Dimensions\": {\"Algorithm\": \"Linear Learner\", \"Host\": \"algo-1\", \"Operation\": \"training\", \"epoch\": 3, \"model\": 2}, \"Metrics\": {\"validation_binary_classification_cross_entropy_objective\": {\"sum\": 0.48033075376547274, \"count\": 1, \"min\": 0.48033075376547274, \"max\": 0.48033075376547274}}}\u001b[0m\n",
            "\u001b[34m#metrics {\"StartTime\": 1650552674.6612809, \"EndTime\": 1650552674.661301, \"Dimensions\": {\"Algorithm\": \"Linear Learner\", \"Host\": \"algo-1\", \"Operation\": \"training\", \"epoch\": 3, \"model\": 3}, \"Metrics\": {\"validation_binary_classification_cross_entropy_objective\": {\"sum\": 0.4819189205564654, \"count\": 1, \"min\": 0.4819189205564654, \"max\": 0.4819189205564654}}}\u001b[0m\n",
            "\u001b[34m#metrics {\"StartTime\": 1650552674.6614037, \"EndTime\": 1650552674.661418, \"Dimensions\": {\"Algorithm\": \"Linear Learner\", \"Host\": \"algo-1\", \"Operation\": \"training\", \"epoch\": 3, \"model\": 4}, \"Metrics\": {\"validation_binary_classification_cross_entropy_objective\": {\"sum\": 0.4804687947802857, \"count\": 1, \"min\": 0.4804687947802857, \"max\": 0.4804687947802857}}}\u001b[0m\n",
            "\u001b[34m#metrics {\"StartTime\": 1650552674.6614525, \"EndTime\": 1650552674.6614609, \"Dimensions\": {\"Algorithm\": \"Linear Learner\", \"Host\": \"algo-1\", \"Operation\": \"training\", \"epoch\": 3, \"model\": 5}, \"Metrics\": {\"validation_binary_classification_cross_entropy_objective\": {\"sum\": 0.4948206556199832, \"count\": 1, \"min\": 0.4948206556199832, \"max\": 0.4948206556199832}}}\u001b[0m\n",
            "\u001b[34m#metrics {\"StartTime\": 1650552674.6614883, \"EndTime\": 1650552674.661496, \"Dimensions\": {\"Algorithm\": \"Linear Learner\", \"Host\": \"algo-1\", \"Operation\": \"training\", \"epoch\": 3, \"model\": 6}, \"Metrics\": {\"validation_binary_classification_cross_entropy_objective\": {\"sum\": 0.48046879907172974, \"count\": 1, \"min\": 0.48046879907172974, \"max\": 0.48046879907172974}}}\u001b[0m\n",
            "\u001b[34m#metrics {\"StartTime\": 1650552674.661523, \"EndTime\": 1650552674.6615376, \"Dimensions\": {\"Algorithm\": \"Linear Learner\", \"Host\": \"algo-1\", \"Operation\": \"training\", \"epoch\": 3, \"model\": 7}, \"Metrics\": {\"validation_binary_classification_cross_entropy_objective\": {\"sum\": 0.4948208097387998, \"count\": 1, \"min\": 0.4948208097387998, \"max\": 0.4948208097387998}}}\u001b[0m\n",
            "\u001b[34m#metrics {\"StartTime\": 1650552674.661597, \"EndTime\": 1650552674.6616144, \"Dimensions\": {\"Algorithm\": \"Linear Learner\", \"Host\": \"algo-1\", \"Operation\": \"training\", \"epoch\": 3, \"model\": 8}, \"Metrics\": {\"validation_binary_classification_cross_entropy_objective\": {\"sum\": 0.48062302610739616, \"count\": 1, \"min\": 0.48062302610739616, \"max\": 0.48062302610739616}}}\u001b[0m\n",
            "\u001b[34m#metrics {\"StartTime\": 1650552674.661679, \"EndTime\": 1650552674.6616955, \"Dimensions\": {\"Algorithm\": \"Linear Learner\", \"Host\": \"algo-1\", \"Operation\": \"training\", \"epoch\": 3, \"model\": 9}, \"Metrics\": {\"validation_binary_classification_cross_entropy_objective\": {\"sum\": 0.482156223978176, \"count\": 1, \"min\": 0.482156223978176, \"max\": 0.482156223978176}}}\u001b[0m\n",
            "\u001b[34m#metrics {\"StartTime\": 1650552674.6617594, \"EndTime\": 1650552674.6617765, \"Dimensions\": {\"Algorithm\": \"Linear Learner\", \"Host\": \"algo-1\", \"Operation\": \"training\", \"epoch\": 3, \"model\": 10}, \"Metrics\": {\"validation_binary_classification_cross_entropy_objective\": {\"sum\": 0.4806406559192946, \"count\": 1, \"min\": 0.4806406559192946, \"max\": 0.4806406559192946}}}\u001b[0m\n",
            "\u001b[34m#metrics {\"StartTime\": 1650552674.6618328, \"EndTime\": 1650552674.661849, \"Dimensions\": {\"Algorithm\": \"Linear Learner\", \"Host\": \"algo-1\", \"Operation\": \"training\", \"epoch\": 3, \"model\": 11}, \"Metrics\": {\"validation_binary_classification_cross_entropy_objective\": {\"sum\": 0.48215624319638195, \"count\": 1, \"min\": 0.48215624319638195, \"max\": 0.48215624319638195}}}\u001b[0m\n",
            "\u001b[34m#metrics {\"StartTime\": 1650552674.6619084, \"EndTime\": 1650552674.6619253, \"Dimensions\": {\"Algorithm\": \"Linear Learner\", \"Host\": \"algo-1\", \"Operation\": \"training\", \"epoch\": 3, \"model\": 12}, \"Metrics\": {\"validation_binary_classification_cross_entropy_objective\": {\"sum\": 0.4807752391497129, \"count\": 1, \"min\": 0.4807752391497129, \"max\": 0.4807752391497129}}}\u001b[0m\n",
            "\u001b[34m#metrics {\"StartTime\": 1650552674.6619895, \"EndTime\": 1650552674.662008, \"Dimensions\": {\"Algorithm\": \"Linear Learner\", \"Host\": \"algo-1\", \"Operation\": \"training\", \"epoch\": 3, \"model\": 13}, \"Metrics\": {\"validation_binary_classification_cross_entropy_objective\": {\"sum\": 0.4940813426187664, \"count\": 1, \"min\": 0.4940813426187664, \"max\": 0.4940813426187664}}}\u001b[0m\n",
            "\u001b[34m#metrics {\"StartTime\": 1650552674.6620634, \"EndTime\": 1650552674.662081, \"Dimensions\": {\"Algorithm\": \"Linear Learner\", \"Host\": \"algo-1\", \"Operation\": \"training\", \"epoch\": 3, \"model\": 14}, \"Metrics\": {\"validation_binary_classification_cross_entropy_objective\": {\"sum\": 0.48077523821679025, \"count\": 1, \"min\": 0.48077523821679025, \"max\": 0.48077523821679025}}}\u001b[0m\n",
            "\u001b[34m#metrics {\"StartTime\": 1650552674.6621358, \"EndTime\": 1650552674.662151, \"Dimensions\": {\"Algorithm\": \"Linear Learner\", \"Host\": \"algo-1\", \"Operation\": \"training\", \"epoch\": 3, \"model\": 15}, \"Metrics\": {\"validation_binary_classification_cross_entropy_objective\": {\"sum\": 0.4940814463597616, \"count\": 1, \"min\": 0.4940814463597616, \"max\": 0.4940814463597616}}}\u001b[0m\n",
            "\u001b[34m#metrics {\"StartTime\": 1650552674.662199, \"EndTime\": 1650552674.6622138, \"Dimensions\": {\"Algorithm\": \"Linear Learner\", \"Host\": \"algo-1\", \"Operation\": \"training\", \"epoch\": 3, \"model\": 16}, \"Metrics\": {\"validation_binary_classification_cross_entropy_objective\": {\"sum\": 0.5041392658959386, \"count\": 1, \"min\": 0.5041392658959386, \"max\": 0.5041392658959386}}}\u001b[0m\n",
            "\u001b[34m#metrics {\"StartTime\": 1650552674.6622643, \"EndTime\": 1650552674.6622796, \"Dimensions\": {\"Algorithm\": \"Linear Learner\", \"Host\": \"algo-1\", \"Operation\": \"training\", \"epoch\": 3, \"model\": 17}, \"Metrics\": {\"validation_binary_classification_cross_entropy_objective\": {\"sum\": 0.5052859445964811, \"count\": 1, \"min\": 0.5052859445964811, \"max\": 0.5052859445964811}}}\u001b[0m\n",
            "\u001b[34m#metrics {\"StartTime\": 1650552674.662331, \"EndTime\": 1650552674.6623456, \"Dimensions\": {\"Algorithm\": \"Linear Learner\", \"Host\": \"algo-1\", \"Operation\": \"training\", \"epoch\": 3, \"model\": 18}, \"Metrics\": {\"validation_binary_classification_cross_entropy_objective\": {\"sum\": 0.5041570582229573, \"count\": 1, \"min\": 0.5041570582229573, \"max\": 0.5041570582229573}}}\u001b[0m\n",
            "\u001b[34m#metrics {\"StartTime\": 1650552674.662379, \"EndTime\": 1650552674.6623929, \"Dimensions\": {\"Algorithm\": \"Linear Learner\", \"Host\": \"algo-1\", \"Operation\": \"training\", \"epoch\": 3, \"model\": 19}, \"Metrics\": {\"validation_binary_classification_cross_entropy_objective\": {\"sum\": 0.5052859835926466, \"count\": 1, \"min\": 0.5052859835926466, \"max\": 0.5052859835926466}}}\u001b[0m\n",
            "\u001b[34m#metrics {\"StartTime\": 1650552674.662444, \"EndTime\": 1650552674.6624594, \"Dimensions\": {\"Algorithm\": \"Linear Learner\", \"Host\": \"algo-1\", \"Operation\": \"training\", \"epoch\": 3, \"model\": 20}, \"Metrics\": {\"validation_binary_classification_cross_entropy_objective\": {\"sum\": 0.5042710636060014, \"count\": 1, \"min\": 0.5042710636060014, \"max\": 0.5042710636060014}}}\u001b[0m\n",
            "\u001b[34m#metrics {\"StartTime\": 1650552674.662495, \"EndTime\": 1650552674.6625097, \"Dimensions\": {\"Algorithm\": \"Linear Learner\", \"Host\": \"algo-1\", \"Operation\": \"training\", \"epoch\": 3, \"model\": 21}, \"Metrics\": {\"validation_binary_classification_cross_entropy_objective\": {\"sum\": 0.505138063113884, \"count\": 1, \"min\": 0.505138063113884, \"max\": 0.505138063113884}}}\u001b[0m\n",
            "\u001b[34m#metrics {\"StartTime\": 1650552674.6625605, \"EndTime\": 1650552674.6625772, \"Dimensions\": {\"Algorithm\": \"Linear Learner\", \"Host\": \"algo-1\", \"Operation\": \"training\", \"epoch\": 3, \"model\": 22}, \"Metrics\": {\"validation_binary_classification_cross_entropy_objective\": {\"sum\": 0.5042710665913538, \"count\": 1, \"min\": 0.5042710665913538, \"max\": 0.5042710665913538}}}\u001b[0m\n",
            "\u001b[34m#metrics {\"StartTime\": 1650552674.6626189, \"EndTime\": 1650552674.6626287, \"Dimensions\": {\"Algorithm\": \"Linear Learner\", \"Host\": \"algo-1\", \"Operation\": \"training\", \"epoch\": 3, \"model\": 23}, \"Metrics\": {\"validation_binary_classification_cross_entropy_objective\": {\"sum\": 0.5051380767345542, \"count\": 1, \"min\": 0.5051380767345542, \"max\": 0.5051380767345542}}}\u001b[0m\n",
            "\u001b[34m#metrics {\"StartTime\": 1650552674.6626558, \"EndTime\": 1650552674.6626635, \"Dimensions\": {\"Algorithm\": \"Linear Learner\", \"Host\": \"algo-1\", \"Operation\": \"training\", \"epoch\": 3, \"model\": 24}, \"Metrics\": {\"validation_binary_classification_cross_entropy_objective\": {\"sum\": 0.5137181255717547, \"count\": 1, \"min\": 0.5137181255717547, \"max\": 0.5137181255717547}}}\u001b[0m\n",
            "\u001b[34m#metrics {\"StartTime\": 1650552674.6626897, \"EndTime\": 1650552674.662704, \"Dimensions\": {\"Algorithm\": \"Linear Learner\", \"Host\": \"algo-1\", \"Operation\": \"training\", \"epoch\": 3, \"model\": 25}, \"Metrics\": {\"validation_binary_classification_cross_entropy_objective\": {\"sum\": 0.5143608691405056, \"count\": 1, \"min\": 0.5143608691405056, \"max\": 0.5143608691405056}}}\u001b[0m\n",
            "\u001b[34m#metrics {\"StartTime\": 1650552674.6627533, \"EndTime\": 1650552674.6627648, \"Dimensions\": {\"Algorithm\": \"Linear Learner\", \"Host\": \"algo-1\", \"Operation\": \"training\", \"epoch\": 3, \"model\": 26}, \"Metrics\": {\"validation_binary_classification_cross_entropy_objective\": {\"sum\": 0.513721353110847, \"count\": 1, \"min\": 0.513721353110847, \"max\": 0.513721353110847}}}\u001b[0m\n",
            "\u001b[34m#metrics {\"StartTime\": 1650552674.6628056, \"EndTime\": 1650552674.6628218, \"Dimensions\": {\"Algorithm\": \"Linear Learner\", \"Host\": \"algo-1\", \"Operation\": \"training\", \"epoch\": 3, \"model\": 27}, \"Metrics\": {\"validation_binary_classification_cross_entropy_objective\": {\"sum\": 0.5143846569880268, \"count\": 1, \"min\": 0.5143846569880268, \"max\": 0.5143846569880268}}}\u001b[0m\n",
            "\u001b[34m#metrics {\"StartTime\": 1650552674.662875, \"EndTime\": 1650552674.6628926, \"Dimensions\": {\"Algorithm\": \"Linear Learner\", \"Host\": \"algo-1\", \"Operation\": \"training\", \"epoch\": 3, \"model\": 28}, \"Metrics\": {\"validation_binary_classification_cross_entropy_objective\": {\"sum\": 0.5136999311550873, \"count\": 1, \"min\": 0.5136999311550873, \"max\": 0.5136999311550873}}}\u001b[0m\n",
            "\u001b[34m#metrics {\"StartTime\": 1650552674.6629453, \"EndTime\": 1650552674.6629615, \"Dimensions\": {\"Algorithm\": \"Linear Learner\", \"Host\": \"algo-1\", \"Operation\": \"training\", \"epoch\": 3, \"model\": 29}, \"Metrics\": {\"validation_binary_classification_cross_entropy_objective\": {\"sum\": 0.5140583585325933, \"count\": 1, \"min\": 0.5140583585325933, \"max\": 0.5140583585325933}}}\u001b[0m\n",
            "\u001b[34m#metrics {\"StartTime\": 1650552674.663013, \"EndTime\": 1650552674.66303, \"Dimensions\": {\"Algorithm\": \"Linear Learner\", \"Host\": \"algo-1\", \"Operation\": \"training\", \"epoch\": 3, \"model\": 30}, \"Metrics\": {\"validation_binary_classification_cross_entropy_objective\": {\"sum\": 0.513695115595113, \"count\": 1, \"min\": 0.513695115595113, \"max\": 0.513695115595113}}}\u001b[0m\n",
            "\u001b[34m#metrics {\"StartTime\": 1650552674.6630821, \"EndTime\": 1650552674.6630967, \"Dimensions\": {\"Algorithm\": \"Linear Learner\", \"Host\": \"algo-1\", \"Operation\": \"training\", \"epoch\": 3, \"model\": 31}, \"Metrics\": {\"validation_binary_classification_cross_entropy_objective\": {\"sum\": 0.5140583529350575, \"count\": 1, \"min\": 0.5140583529350575, \"max\": 0.5140583529350575}}}\u001b[0m\n",
            "\u001b[34m[04/21/2022 14:51:14 INFO 140472686061376] #quality_metric: host=algo-1, epoch=3, validation binary_classification_cross_entropy_objective <loss>=0.480318865159371\u001b[0m\n",
            "\u001b[34m[04/21/2022 14:51:14 INFO 140472686061376] #early_stopping_criteria_metric: host=algo-1, epoch=3, criteria=binary_classification_cross_entropy_objective, value=0.480318865159371\u001b[0m\n",
            "\u001b[34m[04/21/2022 14:51:14 INFO 140472686061376] Saving model for epoch: 3\u001b[0m\n",
            "\u001b[34m[04/21/2022 14:51:14 INFO 140472686061376] Saved checkpoint to \"/tmp/tmpow49z562/mx-mod-0000.params\"\u001b[0m\n",
            "\u001b[34m[04/21/2022 14:51:14 INFO 140472686061376] #progress_metric: host=algo-1, completed 26.666666666666668 % of epochs\u001b[0m\n",
            "\u001b[34m#metrics {\"StartTime\": 1650552612.369815, \"EndTime\": 1650552674.6703074, \"Dimensions\": {\"Algorithm\": \"Linear Learner\", \"Host\": \"algo-1\", \"Operation\": \"training\", \"epoch\": 3, \"Meta\": \"training_data_iter\"}, \"Metrics\": {\"Total Records Seen\": {\"sum\": 5245888.0, \"count\": 1, \"min\": 5245888, \"max\": 5245888}, \"Total Batches Seen\": {\"sum\": 5248.0, \"count\": 1, \"min\": 5248, \"max\": 5248}, \"Max Records Seen Between Resets\": {\"sum\": 1308472.0, \"count\": 1, \"min\": 1308472, \"max\": 1308472}, \"Max Batches Seen Between Resets\": {\"sum\": 1309.0, \"count\": 1, \"min\": 1309, \"max\": 1309}, \"Reset Count\": {\"sum\": 6.0, \"count\": 1, \"min\": 6, \"max\": 6}, \"Number of Records Since Last Reset\": {\"sum\": 1308472.0, \"count\": 1, \"min\": 1308472, \"max\": 1308472}, \"Number of Batches Since Last Reset\": {\"sum\": 1309.0, \"count\": 1, \"min\": 1309, \"max\": 1309}}}\u001b[0m\n",
            "\u001b[34m[04/21/2022 14:51:14 INFO 140472686061376] #throughput_metric: host=algo-1, train throughput=21002.538371286253 records/second\u001b[0m\n",
            "\u001b[34m[2022-04-21 14:52:11.452] [tensorio] [info] epoch_stats={\"data_pipeline\": \"/opt/ml/input/data/train\", \"epoch\": 11, \"duration\": 56781, \"num_examples\": 1309, \"num_bytes\": 507687136}\u001b[0m\n",
            "\u001b[34m#metrics {\"StartTime\": 1650552731.4528518, \"EndTime\": 1650552731.4529457, \"Dimensions\": {\"Algorithm\": \"Linear Learner\", \"Host\": \"algo-1\", \"Operation\": \"training\", \"epoch\": 4, \"model\": 0}, \"Metrics\": {\"train_binary_classification_cross_entropy_objective\": {\"sum\": 0.4805126293777326, \"count\": 1, \"min\": 0.4805126293777326, \"max\": 0.4805126293777326}}}\u001b[0m\n",
            "\u001b[34m#metrics {\"StartTime\": 1650552731.453048, \"EndTime\": 1650552731.4530659, \"Dimensions\": {\"Algorithm\": \"Linear Learner\", \"Host\": \"algo-1\", \"Operation\": \"training\", \"epoch\": 4, \"model\": 1}, \"Metrics\": {\"train_binary_classification_cross_entropy_objective\": {\"sum\": 0.48135545566103877, \"count\": 1, \"min\": 0.48135545566103877, \"max\": 0.48135545566103877}}}\u001b[0m\n",
            "\u001b[34m#metrics {\"StartTime\": 1650552731.4531138, \"EndTime\": 1650552731.4531257, \"Dimensions\": {\"Algorithm\": \"Linear Learner\", \"Host\": \"algo-1\", \"Operation\": \"training\", \"epoch\": 4, \"model\": 2}, \"Metrics\": {\"train_binary_classification_cross_entropy_objective\": {\"sum\": 0.4805519308154372, \"count\": 1, \"min\": 0.4805519308154372, \"max\": 0.4805519308154372}}}\u001b[0m\n",
            "\u001b[34m#metrics {\"StartTime\": 1650552731.453167, \"EndTime\": 1650552731.4531858, \"Dimensions\": {\"Algorithm\": \"Linear Learner\", \"Host\": \"algo-1\", \"Operation\": \"training\", \"epoch\": 4, \"model\": 3}, \"Metrics\": {\"train_binary_classification_cross_entropy_objective\": {\"sum\": 0.4813554557776962, \"count\": 1, \"min\": 0.4813554557776962, \"max\": 0.4813554557776962}}}\u001b[0m\n",
            "\u001b[34m#metrics {\"StartTime\": 1650552731.4532244, \"EndTime\": 1650552731.4532351, \"Dimensions\": {\"Algorithm\": \"Linear Learner\", \"Host\": \"algo-1\", \"Operation\": \"training\", \"epoch\": 4, \"model\": 4}, \"Metrics\": {\"train_binary_classification_cross_entropy_objective\": {\"sum\": 0.48062560029569384, \"count\": 1, \"min\": 0.48062560029569384, \"max\": 0.48062560029569384}}}\u001b[0m\n",
            "\u001b[34m#metrics {\"StartTime\": 1650552731.4532747, \"EndTime\": 1650552731.4532852, \"Dimensions\": {\"Algorithm\": \"Linear Learner\", \"Host\": \"algo-1\", \"Operation\": \"training\", \"epoch\": 4, \"model\": 5}, \"Metrics\": {\"train_binary_classification_cross_entropy_objective\": {\"sum\": 0.4949796795859614, \"count\": 1, \"min\": 0.4949796795859614, \"max\": 0.4949796795859614}}}\u001b[0m\n",
            "\u001b[34m#metrics {\"StartTime\": 1650552731.4533236, \"EndTime\": 1650552731.453334, \"Dimensions\": {\"Algorithm\": \"Linear Learner\", \"Host\": \"algo-1\", \"Operation\": \"training\", \"epoch\": 4, \"model\": 6}, \"Metrics\": {\"train_binary_classification_cross_entropy_objective\": {\"sum\": 0.48062560057567166, \"count\": 1, \"min\": 0.48062560057567166, \"max\": 0.48062560057567166}}}\u001b[0m\n",
            "\u001b[34m#metrics {\"StartTime\": 1650552731.4534035, \"EndTime\": 1650552731.4534194, \"Dimensions\": {\"Algorithm\": \"Linear Learner\", \"Host\": \"algo-1\", \"Operation\": \"training\", \"epoch\": 4, \"model\": 7}, \"Metrics\": {\"train_binary_classification_cross_entropy_objective\": {\"sum\": 0.49497969164833744, \"count\": 1, \"min\": 0.49497969164833744, \"max\": 0.49497969164833744}}}\u001b[0m\n",
            "\u001b[34m#metrics {\"StartTime\": 1650552731.4534707, \"EndTime\": 1650552731.4534855, \"Dimensions\": {\"Algorithm\": \"Linear Learner\", \"Host\": \"algo-1\", \"Operation\": \"training\", \"epoch\": 4, \"model\": 8}, \"Metrics\": {\"train_binary_classification_cross_entropy_objective\": {\"sum\": 0.480776280254399, \"count\": 1, \"min\": 0.480776280254399, \"max\": 0.480776280254399}}}\u001b[0m\n",
            "\u001b[34m#metrics {\"StartTime\": 1650552731.4537199, \"EndTime\": 1650552731.453744, \"Dimensions\": {\"Algorithm\": \"Linear Learner\", \"Host\": \"algo-1\", \"Operation\": \"training\", \"epoch\": 4, \"model\": 9}, \"Metrics\": {\"train_binary_classification_cross_entropy_objective\": {\"sum\": 0.48157215398385983, \"count\": 1, \"min\": 0.48157215398385983, \"max\": 0.48157215398385983}}}\u001b[0m\n",
            "\u001b[34m#metrics {\"StartTime\": 1650552731.4538069, \"EndTime\": 1650552731.453824, \"Dimensions\": {\"Algorithm\": \"Linear Learner\", \"Host\": \"algo-1\", \"Operation\": \"training\", \"epoch\": 4, \"model\": 10}, \"Metrics\": {\"train_binary_classification_cross_entropy_objective\": {\"sum\": 0.48081486399239354, \"count\": 1, \"min\": 0.48081486399239354, \"max\": 0.48081486399239354}}}\u001b[0m\n",
            "\u001b[34m#metrics {\"StartTime\": 1650552731.4538758, \"EndTime\": 1650552731.453891, \"Dimensions\": {\"Algorithm\": \"Linear Learner\", \"Host\": \"algo-1\", \"Operation\": \"training\", \"epoch\": 4, \"model\": 11}, \"Metrics\": {\"train_binary_classification_cross_entropy_objective\": {\"sum\": 0.4815721567603062, \"count\": 1, \"min\": 0.4815721567603062, \"max\": 0.4815721567603062}}}\u001b[0m\n",
            "\u001b[34m#metrics {\"StartTime\": 1650552731.4539433, \"EndTime\": 1650552731.4539585, \"Dimensions\": {\"Algorithm\": \"Linear Learner\", \"Host\": \"algo-1\", \"Operation\": \"training\", \"epoch\": 4, \"model\": 12}, \"Metrics\": {\"train_binary_classification_cross_entropy_objective\": {\"sum\": 0.4808832070586878, \"count\": 1, \"min\": 0.4808832070586878, \"max\": 0.4808832070586878}}}\u001b[0m\n",
            "\u001b[34m#metrics {\"StartTime\": 1650552731.454022, \"EndTime\": 1650552731.4540384, \"Dimensions\": {\"Algorithm\": \"Linear Learner\", \"Host\": \"algo-1\", \"Operation\": \"training\", \"epoch\": 4, \"model\": 13}, \"Metrics\": {\"train_binary_classification_cross_entropy_objective\": {\"sum\": 0.4942331343251266, \"count\": 1, \"min\": 0.4942331343251266, \"max\": 0.4942331343251266}}}\u001b[0m\n",
            "\u001b[34m#metrics {\"StartTime\": 1650552731.4541004, \"EndTime\": 1650552731.4541197, \"Dimensions\": {\"Algorithm\": \"Linear Learner\", \"Host\": \"algo-1\", \"Operation\": \"training\", \"epoch\": 4, \"model\": 14}, \"Metrics\": {\"train_binary_classification_cross_entropy_objective\": {\"sum\": 0.48088320589211375, \"count\": 1, \"min\": 0.48088320589211375, \"max\": 0.48088320589211375}}}\u001b[0m\n",
            "\u001b[34m#metrics {\"StartTime\": 1650552731.4541774, \"EndTime\": 1650552731.454194, \"Dimensions\": {\"Algorithm\": \"Linear Learner\", \"Host\": \"algo-1\", \"Operation\": \"training\", \"epoch\": 4, \"model\": 15}, \"Metrics\": {\"train_binary_classification_cross_entropy_objective\": {\"sum\": 0.4942331345817729, \"count\": 1, \"min\": 0.4942331345817729, \"max\": 0.4942331345817729}}}\u001b[0m\n",
            "\u001b[34m#metrics {\"StartTime\": 1650552731.4542801, \"EndTime\": 1650552731.4542983, \"Dimensions\": {\"Algorithm\": \"Linear Learner\", \"Host\": \"algo-1\", \"Operation\": \"training\", \"epoch\": 4, \"model\": 16}, \"Metrics\": {\"train_binary_classification_cross_entropy_objective\": {\"sum\": 0.5041465317612395, \"count\": 1, \"min\": 0.5041465317612395, \"max\": 0.5041465317612395}}}\u001b[0m\n",
            "\u001b[34m#metrics {\"StartTime\": 1650552731.4543526, \"EndTime\": 1650552731.454369, \"Dimensions\": {\"Algorithm\": \"Linear Learner\", \"Host\": \"algo-1\", \"Operation\": \"training\", \"epoch\": 4, \"model\": 17}, \"Metrics\": {\"train_binary_classification_cross_entropy_objective\": {\"sum\": 0.5043706553281265, \"count\": 1, \"min\": 0.5043706553281265, \"max\": 0.5043706553281265}}}\u001b[0m\n",
            "\u001b[34m#metrics {\"StartTime\": 1650552731.4544215, \"EndTime\": 1650552731.4544375, \"Dimensions\": {\"Algorithm\": \"Linear Learner\", \"Host\": \"algo-1\", \"Operation\": \"training\", \"epoch\": 4, \"model\": 18}, \"Metrics\": {\"train_binary_classification_cross_entropy_objective\": {\"sum\": 0.5041600822892028, \"count\": 1, \"min\": 0.5041600822892028, \"max\": 0.5041600822892028}}}\u001b[0m\n",
            "\u001b[34m#metrics {\"StartTime\": 1650552731.4544973, \"EndTime\": 1650552731.4545164, \"Dimensions\": {\"Algorithm\": \"Linear Learner\", \"Host\": \"algo-1\", \"Operation\": \"training\", \"epoch\": 4, \"model\": 19}, \"Metrics\": {\"train_binary_classification_cross_entropy_objective\": {\"sum\": 0.5043706524350228, \"count\": 1, \"min\": 0.5043706524350228, \"max\": 0.5043706524350228}}}\u001b[0m\n",
            "\u001b[34m#metrics {\"StartTime\": 1650552731.4545722, \"EndTime\": 1650552731.454589, \"Dimensions\": {\"Algorithm\": \"Linear Learner\", \"Host\": \"algo-1\", \"Operation\": \"training\", \"epoch\": 4, \"model\": 20}, \"Metrics\": {\"train_binary_classification_cross_entropy_objective\": {\"sum\": 0.5041734895851998, \"count\": 1, \"min\": 0.5041734895851998, \"max\": 0.5041734895851998}}}\u001b[0m\n",
            "\u001b[34m#metrics {\"StartTime\": 1650552731.4546494, \"EndTime\": 1650552731.4546688, \"Dimensions\": {\"Algorithm\": \"Linear Learner\", \"Host\": \"algo-1\", \"Operation\": \"training\", \"epoch\": 4, \"model\": 21}, \"Metrics\": {\"train_binary_classification_cross_entropy_objective\": {\"sum\": 0.5067888558064032, \"count\": 1, \"min\": 0.5067888558064032, \"max\": 0.5067888558064032}}}\u001b[0m\n",
            "\u001b[34m#metrics {\"StartTime\": 1650552731.4547372, \"EndTime\": 1650552731.4547546, \"Dimensions\": {\"Algorithm\": \"Linear Learner\", \"Host\": \"algo-1\", \"Operation\": \"training\", \"epoch\": 4, \"model\": 22}, \"Metrics\": {\"train_binary_classification_cross_entropy_objective\": {\"sum\": 0.5041734895618684, \"count\": 1, \"min\": 0.5041734895618684, \"max\": 0.5041734895618684}}}\u001b[0m\n",
            "\u001b[34m#metrics {\"StartTime\": 1650552731.454805, \"EndTime\": 1650552731.4548202, \"Dimensions\": {\"Algorithm\": \"Linear Learner\", \"Host\": \"algo-1\", \"Operation\": \"training\", \"epoch\": 4, \"model\": 23}, \"Metrics\": {\"train_binary_classification_cross_entropy_objective\": {\"sum\": 0.5067888565530106, \"count\": 1, \"min\": 0.5067888565530106, \"max\": 0.5067888565530106}}}\u001b[0m\n",
            "\u001b[34m#metrics {\"StartTime\": 1650552731.4548676, \"EndTime\": 1650552731.4548821, \"Dimensions\": {\"Algorithm\": \"Linear Learner\", \"Host\": \"algo-1\", \"Operation\": \"training\", \"epoch\": 4, \"model\": 24}, \"Metrics\": {\"train_binary_classification_cross_entropy_objective\": {\"sum\": 0.5137177557755683, \"count\": 1, \"min\": 0.5137177557755683, \"max\": 0.5137177557755683}}}\u001b[0m\n",
            "\u001b[34m#metrics {\"StartTime\": 1650552731.4549294, \"EndTime\": 1650552731.454943, \"Dimensions\": {\"Algorithm\": \"Linear Learner\", \"Host\": \"algo-1\", \"Operation\": \"training\", \"epoch\": 4, \"model\": 25}, \"Metrics\": {\"train_binary_classification_cross_entropy_objective\": {\"sum\": 0.5138063563075634, \"count\": 1, \"min\": 0.5138063563075634, \"max\": 0.5138063563075634}}}\u001b[0m\n",
            "\u001b[34m#metrics {\"StartTime\": 1650552731.454984, \"EndTime\": 1650552731.454995, \"Dimensions\": {\"Algorithm\": \"Linear Learner\", \"Host\": \"algo-1\", \"Operation\": \"training\", \"epoch\": 4, \"model\": 26}, \"Metrics\": {\"train_binary_classification_cross_entropy_objective\": {\"sum\": 0.5137214197747934, \"count\": 1, \"min\": 0.5137214197747934, \"max\": 0.5137214197747934}}}\u001b[0m\n",
            "\u001b[34m#metrics {\"StartTime\": 1650552731.4550493, \"EndTime\": 1650552731.4550633, \"Dimensions\": {\"Algorithm\": \"Linear Learner\", \"Host\": \"algo-1\", \"Operation\": \"training\", \"epoch\": 4, \"model\": 27}, \"Metrics\": {\"train_binary_classification_cross_entropy_objective\": {\"sum\": 0.5138062309241805, \"count\": 1, \"min\": 0.5138062309241805, \"max\": 0.5138062309241805}}}\u001b[0m\n",
            "\u001b[34m#metrics {\"StartTime\": 1650552731.4551055, \"EndTime\": 1650552731.4551165, \"Dimensions\": {\"Algorithm\": \"Linear Learner\", \"Host\": \"algo-1\", \"Operation\": \"training\", \"epoch\": 4, \"model\": 28}, \"Metrics\": {\"train_binary_classification_cross_entropy_objective\": {\"sum\": 0.5137270749293336, \"count\": 1, \"min\": 0.5137270749293336, \"max\": 0.5137270749293336}}}\u001b[0m\n",
            "\u001b[34m#metrics {\"StartTime\": 1650552731.4551556, \"EndTime\": 1650552731.455167, \"Dimensions\": {\"Algorithm\": \"Linear Learner\", \"Host\": \"algo-1\", \"Operation\": \"training\", \"epoch\": 4, \"model\": 29}, \"Metrics\": {\"train_binary_classification_cross_entropy_objective\": {\"sum\": 0.5146676350398166, \"count\": 1, \"min\": 0.5146676350398166, \"max\": 0.5146676350398166}}}\u001b[0m\n",
            "\u001b[34m#metrics {\"StartTime\": 1650552731.4552052, \"EndTime\": 1650552731.4552155, \"Dimensions\": {\"Algorithm\": \"Linear Learner\", \"Host\": \"algo-1\", \"Operation\": \"training\", \"epoch\": 4, \"model\": 30}, \"Metrics\": {\"train_binary_classification_cross_entropy_objective\": {\"sum\": 0.5137271962763702, \"count\": 1, \"min\": 0.5137271962763702, \"max\": 0.5137271962763702}}}\u001b[0m\n",
            "\u001b[34m#metrics {\"StartTime\": 1650552731.455253, \"EndTime\": 1650552731.4552634, \"Dimensions\": {\"Algorithm\": \"Linear Learner\", \"Host\": \"algo-1\", \"Operation\": \"training\", \"epoch\": 4, \"model\": 31}, \"Metrics\": {\"train_binary_classification_cross_entropy_objective\": {\"sum\": 0.514667634573187, \"count\": 1, \"min\": 0.514667634573187, \"max\": 0.514667634573187}}}\u001b[0m\n",
            "\u001b[34m[04/21/2022 14:52:11 INFO 140472686061376] #quality_metric: host=algo-1, epoch=4, train binary_classification_cross_entropy_objective <loss>=0.4805126293777326\u001b[0m\n",
            "\u001b[34m[2022-04-21 14:52:16.558] [tensorio] [info] epoch_stats={\"data_pipeline\": \"/opt/ml/input/data/validation\", \"epoch\": 14, \"duration\": 5079, \"num_examples\": 164, \"num_bytes\": 63460892}\u001b[0m\n",
            "\u001b[34m#metrics {\"StartTime\": 1650552736.5663419, \"EndTime\": 1650552736.5663996, \"Dimensions\": {\"Algorithm\": \"Linear Learner\", \"Host\": \"algo-1\", \"Operation\": \"training\", \"epoch\": 4, \"model\": 0}, \"Metrics\": {\"validation_binary_classification_cross_entropy_objective\": {\"sum\": 0.4803188369851079, \"count\": 1, \"min\": 0.4803188369851079, \"max\": 0.4803188369851079}}}\u001b[0m\n",
            "\u001b[34m#metrics {\"StartTime\": 1650552736.566483, \"EndTime\": 1650552736.5664985, \"Dimensions\": {\"Algorithm\": \"Linear Learner\", \"Host\": \"algo-1\", \"Operation\": \"training\", \"epoch\": 4, \"model\": 1}, \"Metrics\": {\"validation_binary_classification_cross_entropy_objective\": {\"sum\": 0.4816972790396809, \"count\": 1, \"min\": 0.4816972790396809, \"max\": 0.4816972790396809}}}\u001b[0m\n",
            "\u001b[34m#metrics {\"StartTime\": 1650552736.5665596, \"EndTime\": 1650552736.5665786, \"Dimensions\": {\"Algorithm\": \"Linear Learner\", \"Host\": \"algo-1\", \"Operation\": \"training\", \"epoch\": 4, \"model\": 2}, \"Metrics\": {\"validation_binary_classification_cross_entropy_objective\": {\"sum\": 0.48033081048716797, \"count\": 1, \"min\": 0.48033081048716797, \"max\": 0.48033081048716797}}}\u001b[0m\n",
            "\u001b[34m#metrics {\"StartTime\": 1650552736.566628, \"EndTime\": 1650552736.5666456, \"Dimensions\": {\"Algorithm\": \"Linear Learner\", \"Host\": \"algo-1\", \"Operation\": \"training\", \"epoch\": 4, \"model\": 3}, \"Metrics\": {\"validation_binary_classification_cross_entropy_objective\": {\"sum\": 0.4816972982578869, \"count\": 1, \"min\": 0.4816972982578869, \"max\": 0.4816972982578869}}}\u001b[0m\n",
            "\u001b[34m#metrics {\"StartTime\": 1650552736.5667012, \"EndTime\": 1650552736.566718, \"Dimensions\": {\"Algorithm\": \"Linear Learner\", \"Host\": \"algo-1\", \"Operation\": \"training\", \"epoch\": 4, \"model\": 4}, \"Metrics\": {\"validation_binary_classification_cross_entropy_objective\": {\"sum\": 0.48034092859272354, \"count\": 1, \"min\": 0.48034092859272354, \"max\": 0.48034092859272354}}}\u001b[0m\n",
            "\u001b[34m#metrics {\"StartTime\": 1650552736.5667722, \"EndTime\": 1650552736.5667887, \"Dimensions\": {\"Algorithm\": \"Linear Learner\", \"Host\": \"algo-1\", \"Operation\": \"training\", \"epoch\": 4, \"model\": 5}, \"Metrics\": {\"validation_binary_classification_cross_entropy_objective\": {\"sum\": 0.4936017644172936, \"count\": 1, \"min\": 0.4936017644172936, \"max\": 0.4936017644172936}}}\u001b[0m\n",
            "\u001b[34m#metrics {\"StartTime\": 1650552736.5668423, \"EndTime\": 1650552736.5668592, \"Dimensions\": {\"Algorithm\": \"Linear Learner\", \"Host\": \"algo-1\", \"Operation\": \"training\", \"epoch\": 4, \"model\": 6}, \"Metrics\": {\"validation_binary_classification_cross_entropy_objective\": {\"sum\": 0.4803409330707521, \"count\": 1, \"min\": 0.4803409330707521, \"max\": 0.4803409330707521}}}\u001b[0m\n",
            "\u001b[34m#metrics {\"StartTime\": 1650552736.5669193, \"EndTime\": 1650552736.5669363, \"Dimensions\": {\"Algorithm\": \"Linear Learner\", \"Host\": \"algo-1\", \"Operation\": \"training\", \"epoch\": 4, \"model\": 7}, \"Metrics\": {\"validation_binary_classification_cross_entropy_objective\": {\"sum\": 0.49360178065014715, \"count\": 1, \"min\": 0.49360178065014715, \"max\": 0.49360178065014715}}}\u001b[0m\n",
            "\u001b[34m#metrics {\"StartTime\": 1650552736.5669897, \"EndTime\": 1650552736.5670063, \"Dimensions\": {\"Algorithm\": \"Linear Learner\", \"Host\": \"algo-1\", \"Operation\": \"training\", \"epoch\": 4, \"model\": 8}, \"Metrics\": {\"validation_binary_classification_cross_entropy_objective\": {\"sum\": 0.4806212158643465, \"count\": 1, \"min\": 0.4806212158643465, \"max\": 0.4806212158643465}}}\u001b[0m\n",
            "\u001b[34m#metrics {\"StartTime\": 1650552736.567062, \"EndTime\": 1650552736.5670784, \"Dimensions\": {\"Algorithm\": \"Linear Learner\", \"Host\": \"algo-1\", \"Operation\": \"training\", \"epoch\": 4, \"model\": 9}, \"Metrics\": {\"validation_binary_classification_cross_entropy_objective\": {\"sum\": 0.4819454084686303, \"count\": 1, \"min\": 0.4819454084686303, \"max\": 0.4819454084686303}}}\u001b[0m\n",
            "\u001b[34m#metrics {\"StartTime\": 1650552736.5671406, \"EndTime\": 1650552736.5671577, \"Dimensions\": {\"Algorithm\": \"Linear Learner\", \"Host\": \"algo-1\", \"Operation\": \"training\", \"epoch\": 4, \"model\": 10}, \"Metrics\": {\"validation_binary_classification_cross_entropy_objective\": {\"sum\": 0.4806408919487172, \"count\": 1, \"min\": 0.4806408919487172, \"max\": 0.4806408919487172}}}\u001b[0m\n",
            "\u001b[34m#metrics {\"StartTime\": 1650552736.567213, \"EndTime\": 1650552736.567228, \"Dimensions\": {\"Algorithm\": \"Linear Learner\", \"Host\": \"algo-1\", \"Operation\": \"training\", \"epoch\": 4, \"model\": 11}, \"Metrics\": {\"validation_binary_classification_cross_entropy_objective\": {\"sum\": 0.48194540809546127, \"count\": 1, \"min\": 0.48194540809546127, \"max\": 0.48194540809546127}}}\u001b[0m\n",
            "\u001b[34m#metrics {\"StartTime\": 1650552736.5672917, \"EndTime\": 1650552736.5673103, \"Dimensions\": {\"Algorithm\": \"Linear Learner\", \"Host\": \"algo-1\", \"Operation\": \"training\", \"epoch\": 4, \"model\": 12}, \"Metrics\": {\"validation_binary_classification_cross_entropy_objective\": {\"sum\": 0.48065772317885386, \"count\": 1, \"min\": 0.48065772317885386, \"max\": 0.48065772317885386}}}\u001b[0m\n",
            "\u001b[34m#metrics {\"StartTime\": 1650552736.5673673, \"EndTime\": 1650552736.5673857, \"Dimensions\": {\"Algorithm\": \"Linear Learner\", \"Host\": \"algo-1\", \"Operation\": \"training\", \"epoch\": 4, \"model\": 13}, \"Metrics\": {\"validation_binary_classification_cross_entropy_objective\": {\"sum\": 0.4931928482005753, \"count\": 1, \"min\": 0.4931928482005753, \"max\": 0.4931928482005753}}}\u001b[0m\n",
            "\u001b[34m#metrics {\"StartTime\": 1650552736.5674388, \"EndTime\": 1650552736.567456, \"Dimensions\": {\"Algorithm\": \"Linear Learner\", \"Host\": \"algo-1\", \"Operation\": \"training\", \"epoch\": 4, \"model\": 14}, \"Metrics\": {\"validation_binary_classification_cross_entropy_objective\": {\"sum\": 0.4806577213130086, \"count\": 1, \"min\": 0.4806577213130086, \"max\": 0.4806577213130086}}}\u001b[0m\n",
            "\u001b[34m#metrics {\"StartTime\": 1650552736.5675101, \"EndTime\": 1650552736.5675268, \"Dimensions\": {\"Algorithm\": \"Linear Learner\", \"Host\": \"algo-1\", \"Operation\": \"training\", \"epoch\": 4, \"model\": 15}, \"Metrics\": {\"validation_binary_classification_cross_entropy_objective\": {\"sum\": 0.49319285323835743, \"count\": 1, \"min\": 0.49319285323835743, \"max\": 0.49319285323835743}}}\u001b[0m\n",
            "\u001b[34m#metrics {\"StartTime\": 1650552736.5675826, \"EndTime\": 1650552736.5676, \"Dimensions\": {\"Algorithm\": \"Linear Learner\", \"Host\": \"algo-1\", \"Operation\": \"training\", \"epoch\": 4, \"model\": 16}, \"Metrics\": {\"validation_binary_classification_cross_entropy_objective\": {\"sum\": 0.5041134642416522, \"count\": 1, \"min\": 0.5041134642416522, \"max\": 0.5041134642416522}}}\u001b[0m\n",
            "\u001b[34m#metrics {\"StartTime\": 1650552736.5676568, \"EndTime\": 1650552736.567675, \"Dimensions\": {\"Algorithm\": \"Linear Learner\", \"Host\": \"algo-1\", \"Operation\": \"training\", \"epoch\": 4, \"model\": 17}, \"Metrics\": {\"validation_binary_classification_cross_entropy_objective\": {\"sum\": 0.5051189951084762, \"count\": 1, \"min\": 0.5051189951084762, \"max\": 0.5051189951084762}}}\u001b[0m\n",
            "\u001b[34m#metrics {\"StartTime\": 1650552736.5677302, \"EndTime\": 1650552736.567748, \"Dimensions\": {\"Algorithm\": \"Linear Learner\", \"Host\": \"algo-1\", \"Operation\": \"training\", \"epoch\": 4, \"model\": 18}, \"Metrics\": {\"validation_binary_classification_cross_entropy_objective\": {\"sum\": 0.5041570886362347, \"count\": 1, \"min\": 0.5041570886362347, \"max\": 0.5041570886362347}}}\u001b[0m\n",
            "\u001b[34m#metrics {\"StartTime\": 1650552736.567801, \"EndTime\": 1650552736.5678194, \"Dimensions\": {\"Algorithm\": \"Linear Learner\", \"Host\": \"algo-1\", \"Operation\": \"training\", \"epoch\": 4, \"model\": 19}, \"Metrics\": {\"validation_binary_classification_cross_entropy_objective\": {\"sum\": 0.5051189966011524, \"count\": 1, \"min\": 0.5051189966011524, \"max\": 0.5051189966011524}}}\u001b[0m\n",
            "\u001b[34m#metrics {\"StartTime\": 1650552736.5678735, \"EndTime\": 1650552736.567889, \"Dimensions\": {\"Algorithm\": \"Linear Learner\", \"Host\": \"algo-1\", \"Operation\": \"training\", \"epoch\": 4, \"model\": 20}, \"Metrics\": {\"validation_binary_classification_cross_entropy_objective\": {\"sum\": 0.5041660469323904, \"count\": 1, \"min\": 0.5041660469323904, \"max\": 0.5041660469323904}}}\u001b[0m\n",
            "\u001b[34m#metrics {\"StartTime\": 1650552736.5679433, \"EndTime\": 1650552736.5679603, \"Dimensions\": {\"Algorithm\": \"Linear Learner\", \"Host\": \"algo-1\", \"Operation\": \"training\", \"epoch\": 4, \"model\": 21}, \"Metrics\": {\"validation_binary_classification_cross_entropy_objective\": {\"sum\": 0.5045599552229385, \"count\": 1, \"min\": 0.5045599552229385, \"max\": 0.5045599552229385}}}\u001b[0m\n",
            "\u001b[34m#metrics {\"StartTime\": 1650552736.5680149, \"EndTime\": 1650552736.5680323, \"Dimensions\": {\"Algorithm\": \"Linear Learner\", \"Host\": \"algo-1\", \"Operation\": \"training\", \"epoch\": 4, \"model\": 22}, \"Metrics\": {\"validation_binary_classification_cross_entropy_objective\": {\"sum\": 0.5041660448799606, \"count\": 1, \"min\": 0.5041660448799606, \"max\": 0.5041660448799606}}}\u001b[0m\n",
            "\u001b[34m#metrics {\"StartTime\": 1650552736.568085, \"EndTime\": 1650552736.5681005, \"Dimensions\": {\"Algorithm\": \"Linear Learner\", \"Host\": \"algo-1\", \"Operation\": \"training\", \"epoch\": 4, \"model\": 23}, \"Metrics\": {\"validation_binary_classification_cross_entropy_objective\": {\"sum\": 0.5045599583948753, \"count\": 1, \"min\": 0.5045599583948753, \"max\": 0.5045599583948753}}}\u001b[0m\n",
            "\u001b[34m#metrics {\"StartTime\": 1650552736.568153, \"EndTime\": 1650552736.5681698, \"Dimensions\": {\"Algorithm\": \"Linear Learner\", \"Host\": \"algo-1\", \"Operation\": \"training\", \"epoch\": 4, \"model\": 24}, \"Metrics\": {\"validation_binary_classification_cross_entropy_objective\": {\"sum\": 0.5137158574502836, \"count\": 1, \"min\": 0.5137158574502836, \"max\": 0.5137158574502836}}}\u001b[0m\n",
            "\u001b[34m#metrics {\"StartTime\": 1650552736.5682247, \"EndTime\": 1650552736.5682406, \"Dimensions\": {\"Algorithm\": \"Linear Learner\", \"Host\": \"algo-1\", \"Operation\": \"training\", \"epoch\": 4, \"model\": 25}, \"Metrics\": {\"validation_binary_classification_cross_entropy_objective\": {\"sum\": 0.514216923845022, \"count\": 1, \"min\": 0.514216923845022, \"max\": 0.514216923845022}}}\u001b[0m\n",
            "\u001b[34m#metrics {\"StartTime\": 1650552736.568294, \"EndTime\": 1650552736.5683105, \"Dimensions\": {\"Algorithm\": \"Linear Learner\", \"Host\": \"algo-1\", \"Operation\": \"training\", \"epoch\": 4, \"model\": 26}, \"Metrics\": {\"validation_binary_classification_cross_entropy_objective\": {\"sum\": 0.5137235471582622, \"count\": 1, \"min\": 0.5137235471582622, \"max\": 0.5137235471582622}}}\u001b[0m\n",
            "\u001b[34m#metrics {\"StartTime\": 1650552736.5683656, \"EndTime\": 1650552736.5683825, \"Dimensions\": {\"Algorithm\": \"Linear Learner\", \"Host\": \"algo-1\", \"Operation\": \"training\", \"epoch\": 4, \"model\": 27}, \"Metrics\": {\"validation_binary_classification_cross_entropy_objective\": {\"sum\": 0.514213855649113, \"count\": 1, \"min\": 0.514213855649113, \"max\": 0.514213855649113}}}\u001b[0m\n",
            "\u001b[34m#metrics {\"StartTime\": 1650552736.5684347, \"EndTime\": 1650552736.5684512, \"Dimensions\": {\"Algorithm\": \"Linear Learner\", \"Host\": \"algo-1\", \"Operation\": \"training\", \"epoch\": 4, \"model\": 28}, \"Metrics\": {\"validation_binary_classification_cross_entropy_objective\": {\"sum\": 0.5137231999244635, \"count\": 1, \"min\": 0.5137231999244635, \"max\": 0.5137231999244635}}}\u001b[0m\n",
            "\u001b[34m#metrics {\"StartTime\": 1650552736.568502, \"EndTime\": 1650552736.5685177, \"Dimensions\": {\"Algorithm\": \"Linear Learner\", \"Host\": \"algo-1\", \"Operation\": \"training\", \"epoch\": 4, \"model\": 29}, \"Metrics\": {\"validation_binary_classification_cross_entropy_objective\": {\"sum\": 0.5139542635865297, \"count\": 1, \"min\": 0.5139542635865297, \"max\": 0.5139542635865297}}}\u001b[0m\n",
            "\u001b[34m#metrics {\"StartTime\": 1650552736.56857, \"EndTime\": 1650552736.5685873, \"Dimensions\": {\"Algorithm\": \"Linear Learner\", \"Host\": \"algo-1\", \"Operation\": \"training\", \"epoch\": 4, \"model\": 30}, \"Metrics\": {\"validation_binary_classification_cross_entropy_objective\": {\"sum\": 0.5137236365322491, \"count\": 1, \"min\": 0.5137236365322491, \"max\": 0.5137236365322491}}}\u001b[0m\n",
            "\u001b[34m#metrics {\"StartTime\": 1650552736.568642, \"EndTime\": 1650552736.5686586, \"Dimensions\": {\"Algorithm\": \"Linear Learner\", \"Host\": \"algo-1\", \"Operation\": \"training\", \"epoch\": 4, \"model\": 31}, \"Metrics\": {\"validation_binary_classification_cross_entropy_objective\": {\"sum\": 0.5139542652657905, \"count\": 1, \"min\": 0.5139542652657905, \"max\": 0.5139542652657905}}}\u001b[0m\n",
            "\u001b[34m[04/21/2022 14:52:16 INFO 140472686061376] #quality_metric: host=algo-1, epoch=4, validation binary_classification_cross_entropy_objective <loss>=0.4803188369851079\u001b[0m\n",
            "\u001b[34m[04/21/2022 14:52:16 INFO 140472686061376] #early_stopping_criteria_metric: host=algo-1, epoch=4, criteria=binary_classification_cross_entropy_objective, value=0.4803188369851079\u001b[0m\n",
            "\u001b[34m[04/21/2022 14:52:16 INFO 140472686061376] Saving model for epoch: 4\u001b[0m\n",
            "\u001b[34m[04/21/2022 14:52:16 INFO 140472686061376] Saved checkpoint to \"/tmp/tmp_q64cclx/mx-mod-0000.params\"\u001b[0m\n",
            "\u001b[34m[04/21/2022 14:52:16 INFO 140472686061376] Early stop condition met. Stopping training.\u001b[0m\n",
            "\u001b[34m[04/21/2022 14:52:16 INFO 140472686061376] #progress_metric: host=algo-1, completed 100 % epochs\u001b[0m\n",
            "\u001b[34m#metrics {\"StartTime\": 1650552674.6714954, \"EndTime\": 1650552736.577549, \"Dimensions\": {\"Algorithm\": \"Linear Learner\", \"Host\": \"algo-1\", \"Operation\": \"training\", \"epoch\": 4, \"Meta\": \"training_data_iter\"}, \"Metrics\": {\"Total Records Seen\": {\"sum\": 6554360.0, \"count\": 1, \"min\": 6554360, \"max\": 6554360}, \"Total Batches Seen\": {\"sum\": 6557.0, \"count\": 1, \"min\": 6557, \"max\": 6557}, \"Max Records Seen Between Resets\": {\"sum\": 1308472.0, \"count\": 1, \"min\": 1308472, \"max\": 1308472}, \"Max Batches Seen Between Resets\": {\"sum\": 1309.0, \"count\": 1, \"min\": 1309, \"max\": 1309}, \"Reset Count\": {\"sum\": 7.0, \"count\": 1, \"min\": 7, \"max\": 7}, \"Number of Records Since Last Reset\": {\"sum\": 1308472.0, \"count\": 1, \"min\": 1308472, \"max\": 1308472}, \"Number of Batches Since Last Reset\": {\"sum\": 1309.0, \"count\": 1, \"min\": 1309, \"max\": 1309}}}\u001b[0m\n",
            "\u001b[34m[04/21/2022 14:52:16 INFO 140472686061376] #throughput_metric: host=algo-1, train throughput=21136.36357977352 records/second\u001b[0m\n",
            "\u001b[34m[04/21/2022 14:52:16 WARNING 140472686061376] wait_for_all_workers will not sync workers since the kv store is not running distributed\u001b[0m\n",
            "\u001b[34m[04/21/2022 14:52:16 WARNING 140472686061376] wait_for_all_workers will not sync workers since the kv store is not running distributed\u001b[0m\n",
            "\u001b[34m[2022-04-21 14:52:21.671] [tensorio] [info] epoch_stats={\"data_pipeline\": \"/opt/ml/input/data/validation\", \"epoch\": 17, \"duration\": 5067, \"num_examples\": 164, \"num_bytes\": 63460892}\u001b[0m\n",
            "\u001b[34m[04/21/2022 14:52:21 INFO 140472686061376] #early_stopping_criteria_metric: host=algo-1, epoch=4, criteria=binary_classification_cross_entropy_objective, value=0.4803188369851079\u001b[0m\n",
            "\u001b[34m[2022-04-21 14:52:22.504] [tensorio] [info] epoch_stats={\"data_pipeline\": \"/opt/ml/input/data/validation\", \"epoch\": 19, \"duration\": 821, \"num_examples\": 164, \"num_bytes\": 63460892}\u001b[0m\n",
            "\u001b[34m[04/21/2022 14:52:22 INFO 140472686061376] #validation_score (algo-1) : ('binary_classification_cross_entropy_objective', 0.4807412749822646)\u001b[0m\n",
            "\u001b[34m[04/21/2022 14:52:22 INFO 140472686061376] #validation_score (algo-1) : ('binary_classification_accuracy', 0.7929737892748182)\u001b[0m\n",
            "\u001b[34m[04/21/2022 14:52:22 INFO 140472686061376] #validation_score (algo-1) : ('binary_f_1.000', 0.10791158416102432)\u001b[0m\n",
            "\u001b[34m[04/21/2022 14:52:22 INFO 140472686061376] #validation_score (algo-1) : ('precision', 0.565121412803532)\u001b[0m\n",
            "\u001b[34m[04/21/2022 14:52:22 INFO 140472686061376] #validation_score (algo-1) : ('recall', 0.059651064573442464)\u001b[0m\n",
            "\u001b[34m[04/21/2022 14:52:22 INFO 140472686061376] #validation_score (algo-1) : ('roc_auc_score', 0.6770057197333623)\u001b[0m\n",
            "\u001b[34m[04/21/2022 14:52:22 INFO 140472686061376] #validation_score (algo-1) : ('binary_balanced_accuracy', 0.5)\u001b[0m\n",
            "\u001b[34m[04/21/2022 14:52:22 INFO 140472686061376] #validation_score (algo-1) : ('binary_log_loss', 0.7495394039461291)\u001b[0m\n",
            "\u001b[34m[04/21/2022 14:52:22 INFO 140472686061376] #quality_metric: host=algo-1, validation binary_classification_cross_entropy_objective <loss>=0.4807412749822646\u001b[0m\n",
            "\u001b[34m[04/21/2022 14:52:22 INFO 140472686061376] #quality_metric: host=algo-1, validation binary_classification_accuracy <score>=0.7929737892748182\u001b[0m\n",
            "\u001b[34m[04/21/2022 14:52:22 INFO 140472686061376] #quality_metric: host=algo-1, validation binary_f_1.000 <score>=0.10791158416102432\u001b[0m\n",
            "\u001b[34m[04/21/2022 14:52:22 INFO 140472686061376] #quality_metric: host=algo-1, validation precision <score>=0.565121412803532\u001b[0m\n",
            "\u001b[34m[04/21/2022 14:52:22 INFO 140472686061376] #quality_metric: host=algo-1, validation recall <score>=0.059651064573442464\u001b[0m\n",
            "\u001b[34m[04/21/2022 14:52:22 INFO 140472686061376] #quality_metric: host=algo-1, validation roc_auc_score <score>=0.6770057197333623\u001b[0m\n",
            "\u001b[34m[04/21/2022 14:52:22 INFO 140472686061376] #quality_metric: host=algo-1, validation binary_balanced_accuracy <score>=0.5\u001b[0m\n",
            "\u001b[34m[04/21/2022 14:52:22 INFO 140472686061376] #quality_metric: host=algo-1, validation binary_log_loss <score>=0.7495394039461291\u001b[0m\n",
            "\u001b[34m[04/21/2022 14:52:22 INFO 140472686061376] Best model found for hyperparameters: {\"optimizer\": \"adam\", \"learning_rate\": 0.005, \"l1\": 0.0, \"wd\": 0.0001, \"lr_scheduler_step\": 10, \"lr_scheduler_factor\": 0.99, \"lr_scheduler_minimum_lr\": 1e-05}\u001b[0m\n",
            "\u001b[34m[04/21/2022 14:52:22 INFO 140472686061376] Saved checkpoint to \"/tmp/tmpmjo7bje7/mx-mod-0000.params\"\u001b[0m\n",
            "\u001b[34m[2022-04-21 14:52:22.876] [tensorio] [info] epoch_stats={\"data_pipeline\": \"/opt/ml/input/data/test\", \"epoch\": 0, \"duration\": 318631, \"num_examples\": 1, \"num_bytes\": 388000}\u001b[0m\n",
            "\u001b[34m[2022-04-21 14:52:23.752] [tensorio] [info] epoch_stats={\"data_pipeline\": \"/opt/ml/input/data/test\", \"epoch\": 1, \"duration\": 876, \"num_examples\": 164, \"num_bytes\": 63460892}\u001b[0m\n",
            "\u001b[34m#metrics {\"StartTime\": 1650552742.8728905, \"EndTime\": 1650552744.0269532, \"Dimensions\": {\"Algorithm\": \"Linear Learner\", \"Host\": \"algo-1\", \"Operation\": \"training\", \"Meta\": \"test_data_iter\"}, \"Metrics\": {\"Total Records Seen\": {\"sum\": 163559.0, \"count\": 1, \"min\": 163559, \"max\": 163559}, \"Total Batches Seen\": {\"sum\": 164.0, \"count\": 1, \"min\": 164, \"max\": 164}, \"Max Records Seen Between Resets\": {\"sum\": 163559.0, \"count\": 1, \"min\": 163559, \"max\": 163559}, \"Max Batches Seen Between Resets\": {\"sum\": 164.0, \"count\": 1, \"min\": 164, \"max\": 164}, \"Reset Count\": {\"sum\": 1.0, \"count\": 1, \"min\": 1, \"max\": 1}, \"Number of Records Since Last Reset\": {\"sum\": 163559.0, \"count\": 1, \"min\": 163559, \"max\": 163559}, \"Number of Batches Since Last Reset\": {\"sum\": 164.0, \"count\": 1, \"min\": 164, \"max\": 164}}}\u001b[0m\n",
            "\u001b[34m[04/21/2022 14:52:24 INFO 140472686061376] #test_score (algo-1) : ('binary_classification_cross_entropy_objective', 0.48129023072063015)\u001b[0m\n",
            "\u001b[34m[04/21/2022 14:52:24 INFO 140472686061376] #test_score (algo-1) : ('binary_classification_accuracy', 0.7929309912630916)\u001b[0m\n",
            "\u001b[34m[04/21/2022 14:52:24 INFO 140472686061376] #test_score (algo-1) : ('binary_f_1.000', 0.10596061453988702)\u001b[0m\n",
            "\u001b[34m[04/21/2022 14:52:24 INFO 140472686061376] #test_score (algo-1) : ('precision', 0.5655114116652579)\u001b[0m\n",
            "\u001b[34m[04/21/2022 14:52:24 INFO 140472686061376] #test_score (algo-1) : ('recall', 0.05845687822211866)\u001b[0m\n",
            "\u001b[34m[04/21/2022 14:52:24 INFO 140472686061376] #test_score (algo-1) : ('roc_auc_score', 0.6758862237567955)\u001b[0m\n",
            "\u001b[34m[04/21/2022 14:52:24 INFO 140472686061376] #test_score (algo-1) : ('binary_balanced_accuracy', 0.5)\u001b[0m\n",
            "\u001b[34m[04/21/2022 14:52:24 INFO 140472686061376] #test_score (algo-1) : ('binary_log_loss', 0.7495187830441365)\u001b[0m\n",
            "\u001b[34m[04/21/2022 14:52:24 INFO 140472686061376] #quality_metric: host=algo-1, test binary_classification_cross_entropy_objective <loss>=0.48129023072063015\u001b[0m\n",
            "\u001b[34m[04/21/2022 14:52:24 INFO 140472686061376] #quality_metric: host=algo-1, test binary_classification_accuracy <score>=0.7929309912630916\u001b[0m\n",
            "\u001b[34m[04/21/2022 14:52:24 INFO 140472686061376] #quality_metric: host=algo-1, test binary_f_1.000 <score>=0.10596061453988702\u001b[0m\n",
            "\u001b[34m[04/21/2022 14:52:24 INFO 140472686061376] #quality_metric: host=algo-1, test precision <score>=0.5655114116652579\u001b[0m\n",
            "\u001b[34m[04/21/2022 14:52:24 INFO 140472686061376] #quality_metric: host=algo-1, test recall <score>=0.05845687822211866\u001b[0m\n",
            "\u001b[34m[04/21/2022 14:52:24 INFO 140472686061376] #quality_metric: host=algo-1, test roc_auc_score <score>=0.6758862237567955\u001b[0m\n",
            "\u001b[34m[04/21/2022 14:52:24 INFO 140472686061376] #quality_metric: host=algo-1, test binary_balanced_accuracy <score>=0.5\u001b[0m\n",
            "\u001b[34m[04/21/2022 14:52:24 INFO 140472686061376] #quality_metric: host=algo-1, test binary_log_loss <score>=0.7495187830441365\u001b[0m\n",
            "\u001b[34m#metrics {\"StartTime\": 1650552424.2271233, \"EndTime\": 1650552744.035741, \"Dimensions\": {\"Algorithm\": \"Linear Learner\", \"Host\": \"algo-1\", \"Operation\": \"training\"}, \"Metrics\": {\"initialize.time\": {\"sum\": 360.81743240356445, \"count\": 1, \"min\": 360.81743240356445, \"max\": 360.81743240356445}, \"epochs\": {\"sum\": 15.0, \"count\": 1, \"min\": 15, \"max\": 15}, \"check_early_stopping.time\": {\"sum\": 2.4640560150146484, \"count\": 6, \"min\": 0.16736984252929688, \"max\": 1.1913776397705078}, \"update.time\": {\"sum\": 311936.67006492615, \"count\": 5, \"min\": 61902.78124809265, \"max\": 63094.98572349548}, \"finalize.time\": {\"sum\": 6291.781187057495, \"count\": 1, \"min\": 6291.781187057495, \"max\": 6291.781187057495}, \"setuptime\": {\"sum\": 35.95590591430664, \"count\": 1, \"min\": 35.95590591430664, \"max\": 35.95590591430664}, \"totaltime\": {\"sum\": 320069.13900375366, \"count\": 1, \"min\": 320069.13900375366, \"max\": 320069.13900375366}}}\u001b[0m\n",
            "\u001b[34m[04/21/2022 14:52:24 INFO 140472686061376 integration.py:636] worker closed\u001b[0m\n",
            "\n",
            "2022-04-21 14:53:18 Uploading - Uploading generated training model\n",
            "2022-04-21 14:53:18 Completed - Training job completed\n",
            "ProfilerReport-1650552213: NoIssuesFound\n",
            "Training seconds: 459\n",
            "Billable seconds: 459\n"
          ]
        }
      ],
      "source": [
        "classifier_estimator2.fit([train_records,val_records,test_records])"
      ]
    },
    {
      "cell_type": "markdown",
      "metadata": {
        "id": "RFTiM9bvP-_l"
      },
      "source": [
        "Perform a batch prediction by using the newly trained model."
      ]
    },
    {
      "cell_type": "code",
      "execution_count": null,
      "metadata": {
        "id": "iIMExqi8P-_l",
        "outputId": "bdb1efb0-2c78-48e4-ab00-6a75eebcd6bd"
      },
      "outputs": [
        {
          "name": "stderr",
          "output_type": "stream",
          "text": [
            "Defaulting to the only supported framework/algorithm version: 1. Ignoring framework/algorithm version: 1.\n"
          ]
        },
        {
          "name": "stdout",
          "output_type": "stream",
          "text": [
            "...................................\u001b[34mDocker entrypoint called with argument(s): serve\u001b[0m\n",
            "\u001b[34mRunning default environment configuration script\u001b[0m\n",
            "\u001b[34m[04/21/2022 14:59:30 INFO 140100152006464] loaded entry point class algorithm.serve.server_config:config_api\u001b[0m\n",
            "\u001b[34m[04/21/2022 14:59:30 INFO 140100152006464] loading entry points\u001b[0m\n",
            "\u001b[34m[04/21/2022 14:59:30 INFO 140100152006464] loaded request iterator application/json\u001b[0m\n",
            "\u001b[34m[04/21/2022 14:59:30 INFO 140100152006464] loaded request iterator application/jsonlines\u001b[0m\n",
            "\u001b[34m[04/21/2022 14:59:30 INFO 140100152006464] loaded request iterator application/x-recordio-protobuf\u001b[0m\n",
            "\u001b[34m[04/21/2022 14:59:30 INFO 140100152006464] loaded request iterator text/csv\u001b[0m\n",
            "\u001b[34m[04/21/2022 14:59:30 INFO 140100152006464] loaded response encoder application/json\u001b[0m\n",
            "\u001b[34m[04/21/2022 14:59:30 INFO 140100152006464] loaded response encoder application/jsonlines\u001b[0m\n",
            "\u001b[34m[04/21/2022 14:59:30 INFO 140100152006464] loaded response encoder application/x-recordio-protobuf\u001b[0m\n",
            "\u001b[34m[04/21/2022 14:59:30 INFO 140100152006464] loaded response encoder text/csv\u001b[0m\n",
            "\u001b[34m[04/21/2022 14:59:30 INFO 140100152006464] loaded entry point class algorithm:model\u001b[0m\n",
            "\u001b[34m[04/21/2022 14:59:30 INFO 140100152006464] Number of server workers: 4\u001b[0m\n",
            "\u001b[34m[04/21/2022 14:59:30 INFO 140100152006464] loading model...\u001b[0m\n",
            "\u001b[34m[04/21/2022 14:59:30 INFO 140100152006464] ...model loaded.\u001b[0m\n",
            "\u001b[34m[2022-04-21 14:59:30 +0000] [1] [INFO] Starting gunicorn 20.1.0\u001b[0m\n",
            "\u001b[34m[2022-04-21 14:59:30 +0000] [1] [INFO] Listening at: http://0.0.0.0:8080 (1)\u001b[0m\n",
            "\u001b[34m[2022-04-21 14:59:30 +0000] [1] [INFO] Using worker: sync\u001b[0m\n",
            "\u001b[34m[2022-04-21 14:59:30 +0000] [60] [INFO] Booting worker with pid: 60\u001b[0m\n",
            "\u001b[34m[2022-04-21 14:59:30 +0000] [69] [INFO] Booting worker with pid: 69\u001b[0m\n",
            "\u001b[34m[2022-04-21 14:59:30 +0000] [78] [INFO] Booting worker with pid: 78\u001b[0m\n",
            "\u001b[34m[2022-04-21 14:59:30 +0000] [87] [INFO] Booting worker with pid: 87\u001b[0m\n",
            "\u001b[34m#metrics {\"StartTime\": 1650553170.666781, \"EndTime\": 1650553171.436439, \"Dimensions\": {\"Algorithm\": \"LinearLearnerModel\", \"Host\": \"UNKNOWN\", \"Operation\": \"scoring\"}, \"Metrics\": {\"execution_parameters.count\": {\"sum\": 1.0, \"count\": 1, \"min\": 1, \"max\": 1}}}\u001b[0m\n",
            "\n",
            "\u001b[34m#metrics {\"StartTime\": 1650553170.666781, \"EndTime\": 1650553174.0635788, \"Dimensions\": {\"Algorithm\": \"LinearLearnerModel\", \"Host\": \"UNKNOWN\", \"Operation\": \"scoring\"}, \"Metrics\": {\"json.encoder.time\": {\"sum\": 143.69583129882812, \"count\": 1, \"min\": 143.69583129882812, \"max\": 143.69583129882812}, \"invocations.count\": {\"sum\": 1.0, \"count\": 1, \"min\": 1, \"max\": 1}}}\u001b[0m\n",
            "\u001b[34m#metrics {\"StartTime\": 1650553171.4366152, \"EndTime\": 1650553174.1043615, \"Dimensions\": {\"Algorithm\": \"LinearLearnerModel\", \"Host\": \"UNKNOWN\", \"Operation\": \"scoring\"}, \"Metrics\": {\"json.encoder.time\": {\"sum\": 142.7924633026123, \"count\": 1, \"min\": 142.7924633026123, \"max\": 142.7924633026123}, \"invocations.count\": {\"sum\": 1.0, \"count\": 1, \"min\": 1, \"max\": 1}}}\u001b[0m\n",
            "\u001b[34m#metrics {\"StartTime\": 1650553170.666781, \"EndTime\": 1650553174.2784007, \"Dimensions\": {\"Algorithm\": \"LinearLearnerModel\", \"Host\": \"UNKNOWN\", \"Operation\": \"scoring\"}, \"Metrics\": {\"json.encoder.time\": {\"sum\": 149.003267288208, \"count\": 1, \"min\": 149.003267288208, \"max\": 149.003267288208}, \"invocations.count\": {\"sum\": 1.0, \"count\": 1, \"min\": 1, \"max\": 1}}}\u001b[0m\n",
            "\u001b[34m#metrics {\"StartTime\": 1650553170.666781, \"EndTime\": 1650553174.3120525, \"Dimensions\": {\"Algorithm\": \"LinearLearnerModel\", \"Host\": \"UNKNOWN\", \"Operation\": \"scoring\"}, \"Metrics\": {\"json.encoder.time\": {\"sum\": 147.19629287719727, \"count\": 1, \"min\": 147.19629287719727, \"max\": 147.19629287719727}, \"invocations.count\": {\"sum\": 1.0, \"count\": 1, \"min\": 1, \"max\": 1}}}\u001b[0m\n",
            "\u001b[35m#metrics {\"StartTime\": 1650553170.666781, \"EndTime\": 1650553174.0635788, \"Dimensions\": {\"Algorithm\": \"LinearLearnerModel\", \"Host\": \"UNKNOWN\", \"Operation\": \"scoring\"}, \"Metrics\": {\"json.encoder.time\": {\"sum\": 143.69583129882812, \"count\": 1, \"min\": 143.69583129882812, \"max\": 143.69583129882812}, \"invocations.count\": {\"sum\": 1.0, \"count\": 1, \"min\": 1, \"max\": 1}}}\u001b[0m\n",
            "\u001b[35m#metrics {\"StartTime\": 1650553171.4366152, \"EndTime\": 1650553174.1043615, \"Dimensions\": {\"Algorithm\": \"LinearLearnerModel\", \"Host\": \"UNKNOWN\", \"Operation\": \"scoring\"}, \"Metrics\": {\"json.encoder.time\": {\"sum\": 142.7924633026123, \"count\": 1, \"min\": 142.7924633026123, \"max\": 142.7924633026123}, \"invocations.count\": {\"sum\": 1.0, \"count\": 1, \"min\": 1, \"max\": 1}}}\u001b[0m\n",
            "\u001b[35m#metrics {\"StartTime\": 1650553170.666781, \"EndTime\": 1650553174.2784007, \"Dimensions\": {\"Algorithm\": \"LinearLearnerModel\", \"Host\": \"UNKNOWN\", \"Operation\": \"scoring\"}, \"Metrics\": {\"json.encoder.time\": {\"sum\": 149.003267288208, \"count\": 1, \"min\": 149.003267288208, \"max\": 149.003267288208}, \"invocations.count\": {\"sum\": 1.0, \"count\": 1, \"min\": 1, \"max\": 1}}}\u001b[0m\n",
            "\u001b[35m#metrics {\"StartTime\": 1650553170.666781, \"EndTime\": 1650553174.3120525, \"Dimensions\": {\"Algorithm\": \"LinearLearnerModel\", \"Host\": \"UNKNOWN\", \"Operation\": \"scoring\"}, \"Metrics\": {\"json.encoder.time\": {\"sum\": 147.19629287719727, \"count\": 1, \"min\": 147.19629287719727, \"max\": 147.19629287719727}, \"invocations.count\": {\"sum\": 1.0, \"count\": 1, \"min\": 1, \"max\": 1}}}\u001b[0m\n",
            "\u001b[32m2022-04-21T14:59:31.443:[sagemaker logs]: MaxConcurrentTransforms=4, MaxPayloadInMB=6, BatchStrategy=MULTI_RECORD\u001b[0m\n",
            "\u001b[34m#metrics {\"StartTime\": 1650553174.0644078, \"EndTime\": 1650553174.9727027, \"Dimensions\": {\"Algorithm\": \"LinearLearnerModel\", \"Host\": \"UNKNOWN\", \"Operation\": \"scoring\"}, \"Metrics\": {\"json.encoder.time\": {\"sum\": 68.1614875793457, \"count\": 1, \"min\": 68.1614875793457, \"max\": 68.1614875793457}, \"invocations.count\": {\"sum\": 1.0, \"count\": 1, \"min\": 1, \"max\": 1}}}\u001b[0m\n",
            "\u001b[35m#metrics {\"StartTime\": 1650553174.0644078, \"EndTime\": 1650553174.9727027, \"Dimensions\": {\"Algorithm\": \"LinearLearnerModel\", \"Host\": \"UNKNOWN\", \"Operation\": \"scoring\"}, \"Metrics\": {\"json.encoder.time\": {\"sum\": 68.1614875793457, \"count\": 1, \"min\": 68.1614875793457, \"max\": 68.1614875793457}, \"invocations.count\": {\"sum\": 1.0, \"count\": 1, \"min\": 1, \"max\": 1}}}\u001b[0m\n",
            "\u001b[34mDocker entrypoint called with argument(s): serve\u001b[0m\n",
            "\u001b[34mRunning default environment configuration script\u001b[0m\n",
            "\u001b[35mDocker entrypoint called with argument(s): serve\u001b[0m\n",
            "\u001b[35mRunning default environment configuration script\u001b[0m\n",
            "\u001b[34m[04/21/2022 14:59:30 INFO 140100152006464] loaded entry point class algorithm.serve.server_config:config_api\u001b[0m\n",
            "\u001b[34m[04/21/2022 14:59:30 INFO 140100152006464] loading entry points\u001b[0m\n",
            "\u001b[35m[04/21/2022 14:59:30 INFO 140100152006464] loaded entry point class algorithm.serve.server_config:config_api\u001b[0m\n",
            "\u001b[35m[04/21/2022 14:59:30 INFO 140100152006464] loading entry points\u001b[0m\n",
            "\u001b[34m[04/21/2022 14:59:30 INFO 140100152006464] loaded request iterator application/json\u001b[0m\n",
            "\u001b[34m[04/21/2022 14:59:30 INFO 140100152006464] loaded request iterator application/jsonlines\u001b[0m\n",
            "\u001b[34m[04/21/2022 14:59:30 INFO 140100152006464] loaded request iterator application/x-recordio-protobuf\u001b[0m\n",
            "\u001b[34m[04/21/2022 14:59:30 INFO 140100152006464] loaded request iterator text/csv\u001b[0m\n",
            "\u001b[34m[04/21/2022 14:59:30 INFO 140100152006464] loaded response encoder application/json\u001b[0m\n",
            "\u001b[34m[04/21/2022 14:59:30 INFO 140100152006464] loaded response encoder application/jsonlines\u001b[0m\n",
            "\u001b[34m[04/21/2022 14:59:30 INFO 140100152006464] loaded response encoder application/x-recordio-protobuf\u001b[0m\n",
            "\u001b[34m[04/21/2022 14:59:30 INFO 140100152006464] loaded response encoder text/csv\u001b[0m\n",
            "\u001b[34m[04/21/2022 14:59:30 INFO 140100152006464] loaded entry point class algorithm:model\u001b[0m\n",
            "\u001b[34m[04/21/2022 14:59:30 INFO 140100152006464] Number of server workers: 4\u001b[0m\n",
            "\u001b[34m[04/21/2022 14:59:30 INFO 140100152006464] loading model...\u001b[0m\n",
            "\u001b[34m[04/21/2022 14:59:30 INFO 140100152006464] ...model loaded.\u001b[0m\n",
            "\u001b[34m[2022-04-21 14:59:30 +0000] [1] [INFO] Starting gunicorn 20.1.0\u001b[0m\n",
            "\u001b[34m[2022-04-21 14:59:30 +0000] [1] [INFO] Listening at: http://0.0.0.0:8080 (1)\u001b[0m\n",
            "\u001b[34m[2022-04-21 14:59:30 +0000] [1] [INFO] Using worker: sync\u001b[0m\n",
            "\u001b[34m[2022-04-21 14:59:30 +0000] [60] [INFO] Booting worker with pid: 60\u001b[0m\n",
            "\u001b[34m[2022-04-21 14:59:30 +0000] [69] [INFO] Booting worker with pid: 69\u001b[0m\n",
            "\u001b[34m[2022-04-21 14:59:30 +0000] [78] [INFO] Booting worker with pid: 78\u001b[0m\n",
            "\u001b[35m[04/21/2022 14:59:30 INFO 140100152006464] loaded request iterator application/json\u001b[0m\n",
            "\u001b[35m[04/21/2022 14:59:30 INFO 140100152006464] loaded request iterator application/jsonlines\u001b[0m\n",
            "\u001b[35m[04/21/2022 14:59:30 INFO 140100152006464] loaded request iterator application/x-recordio-protobuf\u001b[0m\n",
            "\u001b[35m[04/21/2022 14:59:30 INFO 140100152006464] loaded request iterator text/csv\u001b[0m\n",
            "\u001b[35m[04/21/2022 14:59:30 INFO 140100152006464] loaded response encoder application/json\u001b[0m\n",
            "\u001b[35m[04/21/2022 14:59:30 INFO 140100152006464] loaded response encoder application/jsonlines\u001b[0m\n",
            "\u001b[35m[04/21/2022 14:59:30 INFO 140100152006464] loaded response encoder application/x-recordio-protobuf\u001b[0m\n",
            "\u001b[35m[04/21/2022 14:59:30 INFO 140100152006464] loaded response encoder text/csv\u001b[0m\n",
            "\u001b[35m[04/21/2022 14:59:30 INFO 140100152006464] loaded entry point class algorithm:model\u001b[0m\n",
            "\u001b[35m[04/21/2022 14:59:30 INFO 140100152006464] Number of server workers: 4\u001b[0m\n",
            "\u001b[35m[04/21/2022 14:59:30 INFO 140100152006464] loading model...\u001b[0m\n",
            "\u001b[35m[04/21/2022 14:59:30 INFO 140100152006464] ...model loaded.\u001b[0m\n",
            "\u001b[35m[2022-04-21 14:59:30 +0000] [1] [INFO] Starting gunicorn 20.1.0\u001b[0m\n",
            "\u001b[35m[2022-04-21 14:59:30 +0000] [1] [INFO] Listening at: http://0.0.0.0:8080 (1)\u001b[0m\n",
            "\u001b[35m[2022-04-21 14:59:30 +0000] [1] [INFO] Using worker: sync\u001b[0m\n",
            "\u001b[35m[2022-04-21 14:59:30 +0000] [60] [INFO] Booting worker with pid: 60\u001b[0m\n",
            "\u001b[35m[2022-04-21 14:59:30 +0000] [69] [INFO] Booting worker with pid: 69\u001b[0m\n",
            "\u001b[35m[2022-04-21 14:59:30 +0000] [78] [INFO] Booting worker with pid: 78\u001b[0m\n",
            "\u001b[34m[2022-04-21 14:59:30 +0000] [87] [INFO] Booting worker with pid: 87\u001b[0m\n",
            "\u001b[35m[2022-04-21 14:59:30 +0000] [87] [INFO] Booting worker with pid: 87\u001b[0m\n",
            "\u001b[34m#metrics {\"StartTime\": 1650553170.666781, \"EndTime\": 1650553171.436439, \"Dimensions\": {\"Algorithm\": \"LinearLearnerModel\", \"Host\": \"UNKNOWN\", \"Operation\": \"scoring\"}, \"Metrics\": {\"execution_parameters.count\": {\"sum\": 1.0, \"count\": 1, \"min\": 1, \"max\": 1}}}\u001b[0m\n",
            "\u001b[35m#metrics {\"StartTime\": 1650553170.666781, \"EndTime\": 1650553171.436439, \"Dimensions\": {\"Algorithm\": \"LinearLearnerModel\", \"Host\": \"UNKNOWN\", \"Operation\": \"scoring\"}, \"Metrics\": {\"execution_parameters.count\": {\"sum\": 1.0, \"count\": 1, \"min\": 1, \"max\": 1}}}\u001b[0m\n",
            "\u001b[34m#metrics {\"StartTime\": 1650553170.666781, \"EndTime\": 1650553174.0635788, \"Dimensions\": {\"Algorithm\": \"LinearLearnerModel\", \"Host\": \"UNKNOWN\", \"Operation\": \"scoring\"}, \"Metrics\": {\"json.encoder.time\": {\"sum\": 143.69583129882812, \"count\": 1, \"min\": 143.69583129882812, \"max\": 143.69583129882812}, \"invocations.count\": {\"sum\": 1.0, \"count\": 1, \"min\": 1, \"max\": 1}}}\u001b[0m\n",
            "\u001b[34m#metrics {\"StartTime\": 1650553171.4366152, \"EndTime\": 1650553174.1043615, \"Dimensions\": {\"Algorithm\": \"LinearLearnerModel\", \"Host\": \"UNKNOWN\", \"Operation\": \"scoring\"}, \"Metrics\": {\"json.encoder.time\": {\"sum\": 142.7924633026123, \"count\": 1, \"min\": 142.7924633026123, \"max\": 142.7924633026123}, \"invocations.count\": {\"sum\": 1.0, \"count\": 1, \"min\": 1, \"max\": 1}}}\u001b[0m\n",
            "\u001b[34m#metrics {\"StartTime\": 1650553170.666781, \"EndTime\": 1650553174.2784007, \"Dimensions\": {\"Algorithm\": \"LinearLearnerModel\", \"Host\": \"UNKNOWN\", \"Operation\": \"scoring\"}, \"Metrics\": {\"json.encoder.time\": {\"sum\": 149.003267288208, \"count\": 1, \"min\": 149.003267288208, \"max\": 149.003267288208}, \"invocations.count\": {\"sum\": 1.0, \"count\": 1, \"min\": 1, \"max\": 1}}}\u001b[0m\n",
            "\u001b[34m#metrics {\"StartTime\": 1650553170.666781, \"EndTime\": 1650553174.3120525, \"Dimensions\": {\"Algorithm\": \"LinearLearnerModel\", \"Host\": \"UNKNOWN\", \"Operation\": \"scoring\"}, \"Metrics\": {\"json.encoder.time\": {\"sum\": 147.19629287719727, \"count\": 1, \"min\": 147.19629287719727, \"max\": 147.19629287719727}, \"invocations.count\": {\"sum\": 1.0, \"count\": 1, \"min\": 1, \"max\": 1}}}\u001b[0m\n",
            "\u001b[35m#metrics {\"StartTime\": 1650553170.666781, \"EndTime\": 1650553174.0635788, \"Dimensions\": {\"Algorithm\": \"LinearLearnerModel\", \"Host\": \"UNKNOWN\", \"Operation\": \"scoring\"}, \"Metrics\": {\"json.encoder.time\": {\"sum\": 143.69583129882812, \"count\": 1, \"min\": 143.69583129882812, \"max\": 143.69583129882812}, \"invocations.count\": {\"sum\": 1.0, \"count\": 1, \"min\": 1, \"max\": 1}}}\u001b[0m\n",
            "\u001b[35m#metrics {\"StartTime\": 1650553171.4366152, \"EndTime\": 1650553174.1043615, \"Dimensions\": {\"Algorithm\": \"LinearLearnerModel\", \"Host\": \"UNKNOWN\", \"Operation\": \"scoring\"}, \"Metrics\": {\"json.encoder.time\": {\"sum\": 142.7924633026123, \"count\": 1, \"min\": 142.7924633026123, \"max\": 142.7924633026123}, \"invocations.count\": {\"sum\": 1.0, \"count\": 1, \"min\": 1, \"max\": 1}}}\u001b[0m\n",
            "\u001b[35m#metrics {\"StartTime\": 1650553170.666781, \"EndTime\": 1650553174.2784007, \"Dimensions\": {\"Algorithm\": \"LinearLearnerModel\", \"Host\": \"UNKNOWN\", \"Operation\": \"scoring\"}, \"Metrics\": {\"json.encoder.time\": {\"sum\": 149.003267288208, \"count\": 1, \"min\": 149.003267288208, \"max\": 149.003267288208}, \"invocations.count\": {\"sum\": 1.0, \"count\": 1, \"min\": 1, \"max\": 1}}}\u001b[0m\n",
            "\u001b[35m#metrics {\"StartTime\": 1650553170.666781, \"EndTime\": 1650553174.3120525, \"Dimensions\": {\"Algorithm\": \"LinearLearnerModel\", \"Host\": \"UNKNOWN\", \"Operation\": \"scoring\"}, \"Metrics\": {\"json.encoder.time\": {\"sum\": 147.19629287719727, \"count\": 1, \"min\": 147.19629287719727, \"max\": 147.19629287719727}, \"invocations.count\": {\"sum\": 1.0, \"count\": 1, \"min\": 1, \"max\": 1}}}\u001b[0m\n",
            "\u001b[32m2022-04-21T14:59:31.443:[sagemaker logs]: MaxConcurrentTransforms=4, MaxPayloadInMB=6, BatchStrategy=MULTI_RECORD\u001b[0m\n",
            "\u001b[34m#metrics {\"StartTime\": 1650553174.0644078, \"EndTime\": 1650553174.9727027, \"Dimensions\": {\"Algorithm\": \"LinearLearnerModel\", \"Host\": \"UNKNOWN\", \"Operation\": \"scoring\"}, \"Metrics\": {\"json.encoder.time\": {\"sum\": 68.1614875793457, \"count\": 1, \"min\": 68.1614875793457, \"max\": 68.1614875793457}, \"invocations.count\": {\"sum\": 1.0, \"count\": 1, \"min\": 1, \"max\": 1}}}\u001b[0m\n",
            "\u001b[35m#metrics {\"StartTime\": 1650553174.0644078, \"EndTime\": 1650553174.9727027, \"Dimensions\": {\"Algorithm\": \"LinearLearnerModel\", \"Host\": \"UNKNOWN\", \"Operation\": \"scoring\"}, \"Metrics\": {\"json.encoder.time\": {\"sum\": 68.1614875793457, \"count\": 1, \"min\": 68.1614875793457, \"max\": 68.1614875793457}, \"invocations.count\": {\"sum\": 1.0, \"count\": 1, \"min\": 1, \"max\": 1}}}\u001b[0m\n"
          ]
        }
      ],
      "source": [
        "test_labels, target_predicted = batch_linear_predict(test, classifier_estimator2)"
      ]
    },
    {
      "cell_type": "markdown",
      "metadata": {
        "id": "AzbIcQe0P-_l"
      },
      "source": [
        "Plot a confusion matrix."
      ]
    },
    {
      "cell_type": "code",
      "execution_count": null,
      "metadata": {
        "id": "ylQ3OGWJP-_l",
        "outputId": "da67fa34-808f-4aac-d272-2ef476e9b073"
      },
      "outputs": [
        {
          "data": {
            "image/png": "[encoded data removed]",
            "text/plain": [
              "<Figure size 432x288 with 1 Axes>"
            ]
          },
          "metadata": {
            "needs_background": "light"
          },
          "output_type": "display_data"
        }
      ],
      "source": [
        "plot_confusion_matrix(test_labels, target_predicted)"
      ]
    },
    {
      "cell_type": "markdown",
      "metadata": {
        "id": "iHy5Os6YP-_m"
      },
      "source": [
        "Plot the ROC curve."
      ]
    },
    {
      "cell_type": "code",
      "execution_count": null,
      "metadata": {
        "id": "66FwHCbIP-_m",
        "outputId": "7b811f5c-a825-4cd8-ff56-aa82af9d80d0"
      },
      "outputs": [
        {
          "name": "stdout",
          "output_type": "stream",
          "text": [
            "Sensitivity or TPR:  5.8456878222118664 %\n",
            "Specificity or TNR:  98.80674167737142 %\n",
            "Precision:  56.55114116652579 %\n",
            "Negative Predictive Value:  79.79751265545903 %\n",
            "False Positive Rate:  1.1932583226285731 %\n",
            "False Negative Rate:  94.15431217778814 %\n",
            "False Discovery Rate:  43.44885883347422 %\n",
            "Accuracy:  79.29309912630916 %\n",
            "Validation AUC 0.5232621474979164\n",
            "Figure(432x288)\n"
          ]
        },
        {
          "data": {
            "image/png": "[encoded data removed]",
            "text/plain": [
              "<Figure size 432x288 with 2 Axes>"
            ]
          },
          "metadata": {
            "needs_background": "light"
          },
          "output_type": "display_data"
        },
        {
          "data": {
            "text/plain": [
              "<Figure size 432x288 with 0 Axes>"
            ]
          },
          "metadata": {},
          "output_type": "display_data"
        }
      ],
      "source": [
        "plot_roc(test_labels, target_predicted)"
      ]
    },
    {
      "cell_type": "markdown",
      "metadata": {
        "id": "ZGydj1PZP-_m"
      },
      "source": [
        "The linear model shows only a little improvement in performance. Try a tree-based ensemble model, which is called *XGBoost*, with Amazon SageMaker."
      ]
    },
    {
      "cell_type": "markdown",
      "metadata": {
        "id": "3_wqTbaIP-_m"
      },
      "source": [
        "### Try the XGBoost model"
      ]
    },
    {
      "cell_type": "markdown",
      "metadata": {
        "id": "QgpChEatP-_m"
      },
      "source": [
        "Perform these steps:  \n",
        "\n",
        "1. Use the training set variables and save them as CSV files: train.csv, validation.csv and test.csv.\n",
        "2. Store the bucket name in the variable. The Amazon S3 bucket name is provided to the left of the lab instructions.  \n",
        "a. `bucket = <LabBucketName>`  \n",
        "b. `prefix = 'flight-xgb'`  \n",
        "3. Use the AWS SDK for Python (Boto3) to upload the model to the bucket.    "
      ]
    },
    {
      "cell_type": "code",
      "execution_count": null,
      "metadata": {
        "id": "HAcXTjTLP-_m"
      },
      "outputs": [],
      "source": [
        "bucket='c47433a664954l1948390t1w371966911999-flightbucket-4easyzssivhq'\n",
        "prefix='flight-xgb'\n",
        "train_file='flight_train.csv'\n",
        "test_file='flight_test.csv'\n",
        "validate_file='flight_validate.csv'\n",
        "whole_file='flight.csv'\n",
        "s3_resource = boto3.Session().resource('s3')\n",
        "\n",
        "def upload_s3_csv(filename, folder, dataframe):\n",
        "    csv_buffer = io.StringIO()\n",
        "    dataframe.to_csv(csv_buffer, header=False, index=False )\n",
        "    s3_resource.Bucket(bucket).Object(os.path.join(prefix, folder, filename)).put(Body=csv_buffer.getvalue())\n",
        "\n",
        "upload_s3_csv(train_file, 'train', train)\n",
        "upload_s3_csv(test_file, 'test', test)\n",
        "upload_s3_csv(validate_file, 'validate', validate)"
      ]
    },
    {
      "cell_type": "markdown",
      "metadata": {
        "id": "7_KP1AL4P-_m"
      },
      "source": [
        "Use the `sagemaker.inputs.TrainingInput` function to create a `record_set` for the training and validation datasets."
      ]
    },
    {
      "cell_type": "code",
      "execution_count": null,
      "metadata": {
        "id": "N5zQObWtP-_m"
      },
      "outputs": [],
      "source": [
        "train_channel = sagemaker.inputs.TrainingInput(\n",
        "    \"s3://{}/{}/train/\".format(bucket,prefix,train_file),\n",
        "    content_type='text/csv')\n",
        "\n",
        "validate_channel = sagemaker.inputs.TrainingInput(\n",
        "    \"s3://{}/{}/validate/\".format(bucket,prefix,validate_file),\n",
        "    content_type='text/csv')\n",
        "\n",
        "data_channels = {'train': train_channel, 'validation': validate_channel}"
      ]
    },
    {
      "cell_type": "code",
      "execution_count": null,
      "metadata": {
        "id": "kzw_e7BIP-_n"
      },
      "outputs": [],
      "source": [
        "from sagemaker.image_uris import retrieve\n",
        "container = retrieve('xgboost',boto3.Session().region_name,'1.0-1')"
      ]
    },
    {
      "cell_type": "code",
      "execution_count": null,
      "metadata": {
        "id": "MSB-fWsXP-_n",
        "outputId": "0b8bd739-28c4-4cfe-9486-b22519bb172f"
      },
      "outputs": [
        {
          "name": "stdout",
          "output_type": "stream",
          "text": [
            "2022-04-21 15:01:25 Starting - Starting the training job...\n",
            "2022-04-21 15:01:52 Starting - Preparing the instances for trainingProfilerReport-1650553285: InProgress\n",
            "............\n",
            "2022-04-21 15:03:50 Downloading - Downloading input data...\n",
            "2022-04-21 15:04:10 Training - Downloading the training image...\n",
            "2022-04-21 15:04:56 Training - Training image download completed. Training in progress...\u001b[34mINFO:sagemaker-containers:Imported framework sagemaker_xgboost_container.training\u001b[0m\n",
            "\u001b[34mINFO:sagemaker-containers:Failed to parse hyperparameter eval_metric value auc to Json.\u001b[0m\n",
            "\u001b[34mReturning the value itself\u001b[0m\n",
            "\u001b[34mINFO:sagemaker-containers:Failed to parse hyperparameter objective value binary:logistic to Json.\u001b[0m\n",
            "\u001b[34mReturning the value itself\u001b[0m\n",
            "\u001b[34mINFO:sagemaker-containers:No GPUs detected (normal if no gpus installed)\u001b[0m\n",
            "\u001b[34mINFO:sagemaker_xgboost_container.training:Running XGBoost Sagemaker in algorithm mode\u001b[0m\n",
            "\u001b[34mINFO:root:Determined delimiter of CSV input is ','\u001b[0m\n",
            "\u001b[34mINFO:root:Determined delimiter of CSV input is ','\u001b[0m\n",
            "\u001b[34mINFO:root:Determined delimiter of CSV input is ','\u001b[0m\n",
            "\u001b[34m[15:05:07] 1308472x85 matrix with 111220120 entries loaded from /opt/ml/input/data/train?format=csv&label_column=0&delimiter=,\u001b[0m\n",
            "\u001b[34mINFO:root:Determined delimiter of CSV input is ','\u001b[0m\n",
            "\u001b[34m[15:05:07] 163559x85 matrix with 13902515 entries loaded from /opt/ml/input/data/validation?format=csv&label_column=0&delimiter=,\u001b[0m\n",
            "\u001b[34mINFO:root:Single node training.\u001b[0m\n",
            "\u001b[34mINFO:root:Train matrix has 1308472 rows\u001b[0m\n",
            "\u001b[34mINFO:root:Validation matrix has 163559 rows\u001b[0m\n",
            "\u001b[34m[0]#011train-auc:0.65419#011validation-auc:0.65424\u001b[0m\n",
            "\u001b[34m[1]#011train-auc:0.66087#011validation-auc:0.66104\u001b[0m\n",
            "\u001b[34m[2]#011train-auc:0.66891#011validation-auc:0.66931\u001b[0m\n",
            "\u001b[34m[3]#011train-auc:0.67177#011validation-auc:0.67251\u001b[0m\n",
            "\u001b[34m[4]#011train-auc:0.67656#011validation-auc:0.67689\u001b[0m\n",
            "\u001b[34m[5]#011train-auc:0.67794#011validation-auc:0.67825\u001b[0m\n",
            "\u001b[34m[6]#011train-auc:0.67944#011validation-auc:0.67963\u001b[0m\n",
            "\u001b[34m[7]#011train-auc:0.68261#011validation-auc:0.68302\u001b[0m\n",
            "\u001b[34m[8]#011train-auc:0.68398#011validation-auc:0.68430\u001b[0m\n",
            "\u001b[34m[9]#011train-auc:0.68730#011validation-auc:0.68720\u001b[0m\n",
            "\u001b[34m[10]#011train-auc:0.68899#011validation-auc:0.68902\u001b[0m\n",
            "\u001b[34m[11]#011train-auc:0.69180#011validation-auc:0.69192\u001b[0m\n",
            "\u001b[34m[12]#011train-auc:0.69296#011validation-auc:0.69283\u001b[0m\n",
            "\u001b[34m[13]#011train-auc:0.69458#011validation-auc:0.69423\u001b[0m\n",
            "\u001b[34m[14]#011train-auc:0.69691#011validation-auc:0.69651\u001b[0m\n",
            "\u001b[34m[15]#011train-auc:0.69809#011validation-auc:0.69748\u001b[0m\n",
            "\u001b[34m[16]#011train-auc:0.69945#011validation-auc:0.69880\u001b[0m\n",
            "\u001b[34m[17]#011train-auc:0.70072#011validation-auc:0.69970\u001b[0m\n",
            "\u001b[34m[18]#011train-auc:0.70200#011validation-auc:0.70103\u001b[0m\n",
            "\u001b[34m[19]#011train-auc:0.70373#011validation-auc:0.70245\u001b[0m\n",
            "\u001b[34m[20]#011train-auc:0.70477#011validation-auc:0.70333\u001b[0m\n",
            "\u001b[34m[21]#011train-auc:0.70552#011validation-auc:0.70415\u001b[0m\n",
            "\u001b[34m[22]#011train-auc:0.70652#011validation-auc:0.70498\u001b[0m\n",
            "\u001b[34m[23]#011train-auc:0.70715#011validation-auc:0.70568\u001b[0m\n",
            "\u001b[34m[24]#011train-auc:0.70764#011validation-auc:0.70615\u001b[0m\n",
            "\u001b[34m[25]#011train-auc:0.70900#011validation-auc:0.70741\u001b[0m\n",
            "\u001b[34m[26]#011train-auc:0.70974#011validation-auc:0.70799\u001b[0m\n",
            "\u001b[34m[27]#011train-auc:0.71083#011validation-auc:0.70895\u001b[0m\n",
            "\u001b[34m[28]#011train-auc:0.71157#011validation-auc:0.70969\u001b[0m\n",
            "\u001b[34m[29]#011train-auc:0.71253#011validation-auc:0.71065\u001b[0m\n",
            "\u001b[34m[30]#011train-auc:0.71312#011validation-auc:0.71112\u001b[0m\n",
            "\u001b[34m[31]#011train-auc:0.71500#011validation-auc:0.71306\u001b[0m\n",
            "\u001b[34m[32]#011train-auc:0.71552#011validation-auc:0.71346\u001b[0m\n",
            "\u001b[34m[33]#011train-auc:0.71581#011validation-auc:0.71367\u001b[0m\n",
            "\u001b[34m[34]#011train-auc:0.71610#011validation-auc:0.71386\u001b[0m\n",
            "\u001b[34m[35]#011train-auc:0.71659#011validation-auc:0.71429\u001b[0m\n",
            "\u001b[34m[36]#011train-auc:0.71706#011validation-auc:0.71467\u001b[0m\n",
            "\u001b[34m[37]#011train-auc:0.71809#011validation-auc:0.71560\u001b[0m\n",
            "\u001b[34m[38]#011train-auc:0.71841#011validation-auc:0.71592\u001b[0m\n",
            "\u001b[34m[39]#011train-auc:0.71902#011validation-auc:0.71647\u001b[0m\n",
            "\u001b[34m[40]#011train-auc:0.71934#011validation-auc:0.71683\u001b[0m\n",
            "\u001b[34m[41]#011train-auc:0.71983#011validation-auc:0.71731\u001b[0m\n",
            "\u001b[34m[42]#011train-auc:0.71998#011validation-auc:0.71735\u001b[0m\n",
            "\u001b[34m[43]#011train-auc:0.72028#011validation-auc:0.71763\u001b[0m\n",
            "\u001b[34m[44]#011train-auc:0.72047#011validation-auc:0.71784\u001b[0m\n",
            "\u001b[34m[45]#011train-auc:0.72088#011validation-auc:0.71814\u001b[0m\n",
            "\u001b[34m[46]#011train-auc:0.72149#011validation-auc:0.71870\u001b[0m\n",
            "\u001b[34m[47]#011train-auc:0.72207#011validation-auc:0.71923\u001b[0m\n",
            "\u001b[34m[48]#011train-auc:0.72264#011validation-auc:0.71968\u001b[0m\n",
            "\u001b[34m[49]#011train-auc:0.72290#011validation-auc:0.71990\u001b[0m\n",
            "\u001b[34m[50]#011train-auc:0.72336#011validation-auc:0.72034\u001b[0m\n",
            "\u001b[34m[51]#011train-auc:0.72399#011validation-auc:0.72095\u001b[0m\n",
            "\u001b[34m[52]#011train-auc:0.72428#011validation-auc:0.72124\u001b[0m\n",
            "\u001b[34m[53]#011train-auc:0.72453#011validation-auc:0.72150\u001b[0m\n",
            "\u001b[34m[54]#011train-auc:0.72489#011validation-auc:0.72178\u001b[0m\n",
            "\u001b[34m[55]#011train-auc:0.72506#011validation-auc:0.72188\u001b[0m\n",
            "\u001b[34m[56]#011train-auc:0.72542#011validation-auc:0.72218\u001b[0m\n",
            "\u001b[34m[57]#011train-auc:0.72572#011validation-auc:0.72240\u001b[0m\n",
            "\u001b[34m[58]#011train-auc:0.72602#011validation-auc:0.72267\u001b[0m\n",
            "\u001b[34m[59]#011train-auc:0.72640#011validation-auc:0.72306\u001b[0m\n",
            "\u001b[34m[60]#011train-auc:0.72664#011validation-auc:0.72317\u001b[0m\n",
            "\u001b[34m[61]#011train-auc:0.72683#011validation-auc:0.72333\u001b[0m\n",
            "\u001b[34m[62]#011train-auc:0.72730#011validation-auc:0.72364\u001b[0m\n",
            "\u001b[34m[63]#011train-auc:0.72737#011validation-auc:0.72371\u001b[0m\n",
            "\u001b[34m[64]#011train-auc:0.72771#011validation-auc:0.72398\u001b[0m\n",
            "\u001b[34m[65]#011train-auc:0.72808#011validation-auc:0.72437\u001b[0m\n",
            "\u001b[34m[66]#011train-auc:0.72829#011validation-auc:0.72455\u001b[0m\n",
            "\u001b[34m[67]#011train-auc:0.72854#011validation-auc:0.72476\u001b[0m\n",
            "\u001b[34m[68]#011train-auc:0.72878#011validation-auc:0.72493\u001b[0m\n",
            "\u001b[34m[69]#011train-auc:0.72893#011validation-auc:0.72507\u001b[0m\n",
            "\u001b[34m[70]#011train-auc:0.72926#011validation-auc:0.72539\u001b[0m\n",
            "\u001b[34m[71]#011train-auc:0.72944#011validation-auc:0.72553\u001b[0m\n",
            "\u001b[34m[72]#011train-auc:0.72959#011validation-auc:0.72564\u001b[0m\n",
            "\u001b[34m[73]#011train-auc:0.72993#011validation-auc:0.72595\u001b[0m\n",
            "\u001b[34m[74]#011train-auc:0.73010#011validation-auc:0.72606\u001b[0m\n",
            "\u001b[34m[75]#011train-auc:0.73028#011validation-auc:0.72623\u001b[0m\n",
            "\u001b[34m[76]#011train-auc:0.73055#011validation-auc:0.72647\u001b[0m\n",
            "\u001b[34m[77]#011train-auc:0.73081#011validation-auc:0.72668\u001b[0m\n",
            "\u001b[34m[78]#011train-auc:0.73092#011validation-auc:0.72677\u001b[0m\n",
            "\u001b[34m[79]#011train-auc:0.73111#011validation-auc:0.72689\u001b[0m\n",
            "\u001b[34m[80]#011train-auc:0.73121#011validation-auc:0.72697\u001b[0m\n",
            "\u001b[34m[81]#011train-auc:0.73132#011validation-auc:0.72708\u001b[0m\n",
            "\u001b[34m[82]#011train-auc:0.73163#011validation-auc:0.72734\u001b[0m\n",
            "\u001b[34m[83]#011train-auc:0.73189#011validation-auc:0.72756\u001b[0m\n",
            "\u001b[34m[84]#011train-auc:0.73213#011validation-auc:0.72782\u001b[0m\n",
            "\u001b[34m[85]#011train-auc:0.73243#011validation-auc:0.72807\u001b[0m\n",
            "\u001b[34m[86]#011train-auc:0.73262#011validation-auc:0.72827\u001b[0m\n",
            "\u001b[34m[87]#011train-auc:0.73285#011validation-auc:0.72852\u001b[0m\n",
            "\u001b[34m[88]#011train-auc:0.73300#011validation-auc:0.72864\u001b[0m\n",
            "\u001b[34m[89]#011train-auc:0.73311#011validation-auc:0.72869\u001b[0m\n",
            "\u001b[34m[90]#011train-auc:0.73328#011validation-auc:0.72885\u001b[0m\n",
            "\u001b[34m[91]#011train-auc:0.73345#011validation-auc:0.72899\u001b[0m\n",
            "\u001b[34m[92]#011train-auc:0.73347#011validation-auc:0.72901\u001b[0m\n",
            "\u001b[34m[93]#011train-auc:0.73366#011validation-auc:0.72915\u001b[0m\n",
            "\u001b[34m[94]#011train-auc:0.73394#011validation-auc:0.72940\u001b[0m\n",
            "\u001b[34m[95]#011train-auc:0.73402#011validation-auc:0.72947\u001b[0m\n",
            "\u001b[34m[96]#011train-auc:0.73418#011validation-auc:0.72961\u001b[0m\n",
            "\u001b[34m[97]#011train-auc:0.73436#011validation-auc:0.72976\u001b[0m\n",
            "\u001b[34m[98]#011train-auc:0.73457#011validation-auc:0.72990\u001b[0m\n",
            "\u001b[34m[99]#011train-auc:0.73475#011validation-auc:0.73004\u001b[0m\n",
            "\n",
            "2022-04-21 15:10:58 Uploading - Uploading generated training model\n",
            "2022-04-21 15:11:32 Completed - Training job completed\n",
            "ProfilerReport-1650553285: NoIssuesFound\n",
            "Training seconds: 461\n",
            "Billable seconds: 461\n"
          ]
        }
      ],
      "source": [
        "sess = sagemaker.Session()\n",
        "s3_output_location=\"s3://{}/{}/output/\".format(bucket,prefix)\n",
        "\n",
        "xgb = sagemaker.estimator.Estimator(container,\n",
        "                                    role = sagemaker.get_execution_role(), \n",
        "                                    instance_count=1, \n",
        "                                    instance_type=instance_type,\n",
        "                                    output_path=s3_output_location,\n",
        "                                    sagemaker_session=sess)\n",
        "xgb.set_hyperparameters(max_depth=5,\n",
        "                        eta=0.2,\n",
        "                        gamma=4,\n",
        "                        min_child_weight=6,\n",
        "                        subsample=0.8,\n",
        "                        silent=0,\n",
        "                        objective='binary:logistic',\n",
        "                        eval_metric = \"auc\", \n",
        "                        num_round=100)\n",
        "\n",
        "xgb.fit(inputs=data_channels)"
      ]
    },
    {
      "cell_type": "markdown",
      "metadata": {
        "id": "Ic08Ne6fP-_n"
      },
      "source": [
        "Use the batch transformer for your new model, and evaluate the model on the test dataset."
      ]
    },
    {
      "cell_type": "code",
      "execution_count": null,
      "metadata": {
        "id": "3ei1wcFIP-_n"
      },
      "outputs": [],
      "source": [
        "batch_X = test.iloc[:,1:];\n",
        "batch_X_file='batch-in.csv'\n",
        "upload_s3_csv(batch_X_file, 'batch-in', batch_X)"
      ]
    },
    {
      "cell_type": "code",
      "execution_count": null,
      "metadata": {
        "id": "V6BdjfHHP-_n",
        "outputId": "6cd59808-11d0-41da-bcc0-422a2152956d"
      },
      "outputs": [
        {
          "name": "stdout",
          "output_type": "stream",
          "text": [
            "..............................................................................\u001b[34m[2022-04-21:15:31:07:INFO] No GPUs detected (normal if no gpus installed)\u001b[0m\n",
            "\u001b[34m[2022-04-21:15:31:07:INFO] No GPUs detected (normal if no gpus installed)\u001b[0m\n",
            "\u001b[34m[2022-04-21:15:31:07:INFO] nginx config: \u001b[0m\n",
            "\u001b[34mworker_processes auto;\u001b[0m\n",
            "\u001b[34mdaemon off;\u001b[0m\n",
            "\u001b[34mpid /tmp/nginx.pid;\u001b[0m\n",
            "\u001b[34merror_log  /dev/stderr;\u001b[0m\n",
            "\u001b[34mworker_rlimit_nofile 4096;\u001b[0m\n",
            "\u001b[34mevents {\n",
            "  worker_connections 2048;\u001b[0m\n",
            "\u001b[34m}\u001b[0m\n",
            "\u001b[34mhttp {\n",
            "  include /etc/nginx/mime.types;\n",
            "  default_type application/octet-stream;\n",
            "  access_log /dev/stdout combined;\n",
            "  upstream gunicorn {\n",
            "    server unix:/tmp/gunicorn.sock;\n",
            "  }\n",
            "  server {\n",
            "    listen 8080 deferred;\n",
            "    client_max_body_size 0;\n",
            "    keepalive_timeout 3;\n",
            "    location ~ ^/(ping|invocations|execution-parameters) {\n",
            "      proxy_set_header X-Forwarded-For $proxy_add_x_forwarded_for;\n",
            "      proxy_set_header Host $http_host;\n",
            "      proxy_redirect off;\n",
            "      proxy_read_timeout 60s;\n",
            "      proxy_pass http://gunicorn;\n",
            "    }\n",
            "    location / {\n",
            "      return 404 \"{}\";\n",
            "    }\n",
            "  }\u001b[0m\n",
            "\u001b[34m}\u001b[0m\n",
            "\u001b[34m[2022-04-21 15:31:07 +0000] [19] [INFO] Starting gunicorn 19.10.0\u001b[0m\n",
            "\u001b[34m[2022-04-21 15:31:07 +0000] [19] [INFO] Listening at: unix:/tmp/gunicorn.sock (19)\u001b[0m\n",
            "\u001b[34m[2022-04-21 15:31:07 +0000] [19] [INFO] Using worker: gevent\u001b[0m\n",
            "\u001b[34m[2022-04-21 15:31:07 +0000] [26] [INFO] Booting worker with pid: 26\u001b[0m\n",
            "\u001b[34m[2022-04-21 15:31:07 +0000] [27] [INFO] Booting worker with pid: 27\u001b[0m\n",
            "\u001b[34m[2022-04-21 15:31:07 +0000] [28] [INFO] Booting worker with pid: 28\u001b[0m\n",
            "\u001b[34m[2022-04-21 15:31:07 +0000] [32] [INFO] Booting worker with pid: 32\u001b[0m\n",
            "\u001b[34m[2022-04-21:15:31:13:INFO] No GPUs detected (normal if no gpus installed)\u001b[0m\n",
            "\u001b[34m169.254.255.130 - - [21/Apr/2022:15:31:13 +0000] \"GET /ping HTTP/1.1\" 200 0 \"-\" \"Go-http-client/1.1\"\u001b[0m\n",
            "\u001b[34m169.254.255.130 - - [21/Apr/2022:15:31:13 +0000] \"GET /execution-parameters HTTP/1.1\" 200 84 \"-\" \"Go-http-client/1.1\"\u001b[0m\n",
            "\u001b[34m[2022-04-21:15:31:14:INFO] No GPUs detected (normal if no gpus installed)\u001b[0m\n",
            "\u001b[34m[2022-04-21:15:31:14:INFO] No GPUs detected (normal if no gpus installed)\u001b[0m\n",
            "\u001b[35m[2022-04-21:15:31:14:INFO] No GPUs detected (normal if no gpus installed)\u001b[0m\n",
            "\u001b[35m[2022-04-21:15:31:14:INFO] No GPUs detected (normal if no gpus installed)\u001b[0m\n",
            "\u001b[34m[2022-04-21:15:31:14:INFO] Determined delimiter of CSV input is ','\u001b[0m\n",
            "\u001b[34m[2022-04-21:15:31:14:INFO] No GPUs detected (normal if no gpus installed)\u001b[0m\n",
            "\u001b[34m[2022-04-21:15:31:14:INFO] Determined delimiter of CSV input is ','\u001b[0m\n",
            "\u001b[35m[2022-04-21:15:31:14:INFO] Determined delimiter of CSV input is ','\u001b[0m\n",
            "\u001b[35m[2022-04-21:15:31:14:INFO] No GPUs detected (normal if no gpus installed)\u001b[0m\n",
            "\u001b[35m[2022-04-21:15:31:14:INFO] Determined delimiter of CSV input is ','\u001b[0m\n",
            "\u001b[32m2022-04-21T15:31:13.732:[sagemaker logs]: MaxConcurrentTransforms=4, MaxPayloadInMB=6, BatchStrategy=MULTI_RECORD\u001b[0m\n",
            "\u001b[34m[2022-04-21:15:31:14:INFO] Determined delimiter of CSV input is ','\u001b[0m\n",
            "\u001b[35m[2022-04-21:15:31:14:INFO] Determined delimiter of CSV input is ','\u001b[0m\n",
            "\u001b[34m[2022-04-21:15:31:14:INFO] Determined delimiter of CSV input is ','\u001b[0m\n",
            "\u001b[35m[2022-04-21:15:31:14:INFO] Determined delimiter of CSV input is ','\u001b[0m\n",
            "\u001b[34m169.254.255.130 - - [21/Apr/2022:15:31:18 +0000] \"POST /invocations HTTP/1.1\" 200 652866 \"-\" \"Go-http-client/1.1\"\u001b[0m\n",
            "\u001b[34m169.254.255.130 - - [21/Apr/2022:15:31:18 +0000] \"POST /invocations HTTP/1.1\" 200 652634 \"-\" \"Go-http-client/1.1\"\u001b[0m\n",
            "\u001b[34m169.254.255.130 - - [21/Apr/2022:15:31:18 +0000] \"POST /invocations HTTP/1.1\" 200 652601 \"-\" \"Go-http-client/1.1\"\u001b[0m\n",
            "\u001b[34m[2022-04-21:15:31:18:INFO] Determined delimiter of CSV input is ','\u001b[0m\n",
            "\u001b[34m169.254.255.130 - - [21/Apr/2022:15:31:18 +0000] \"POST /invocations HTTP/1.1\" 200 652835 \"-\" \"Go-http-client/1.1\"\u001b[0m\n",
            "\u001b[35m169.254.255.130 - - [21/Apr/2022:15:31:18 +0000] \"POST /invocations HTTP/1.1\" 200 652866 \"-\" \"Go-http-client/1.1\"\u001b[0m\n",
            "\u001b[35m169.254.255.130 - - [21/Apr/2022:15:31:18 +0000] \"POST /invocations HTTP/1.1\" 200 652634 \"-\" \"Go-http-client/1.1\"\u001b[0m\n",
            "\u001b[35m169.254.255.130 - - [21/Apr/2022:15:31:18 +0000] \"POST /invocations HTTP/1.1\" 200 652601 \"-\" \"Go-http-client/1.1\"\u001b[0m\n",
            "\u001b[35m[2022-04-21:15:31:18:INFO] Determined delimiter of CSV input is ','\u001b[0m\n",
            "\u001b[35m169.254.255.130 - - [21/Apr/2022:15:31:18 +0000] \"POST /invocations HTTP/1.1\" 200 652835 \"-\" \"Go-http-client/1.1\"\u001b[0m\n",
            "\u001b[34m169.254.255.130 - - [21/Apr/2022:15:31:20 +0000] \"POST /invocations HTTP/1.1\" 200 602462 \"-\" \"Go-http-client/1.1\"\u001b[0m\n",
            "\u001b[35m169.254.255.130 - - [21/Apr/2022:15:31:20 +0000] \"POST /invocations HTTP/1.1\" 200 602462 \"-\" \"Go-http-client/1.1\"\u001b[0m\n",
            "\n",
            "\u001b[34m[2022-04-21:15:31:07:INFO] No GPUs detected (normal if no gpus installed)\u001b[0m\n",
            "\u001b[34m[2022-04-21:15:31:07:INFO] No GPUs detected (normal if no gpus installed)\u001b[0m\n",
            "\u001b[34m[2022-04-21:15:31:07:INFO] nginx config: \u001b[0m\n",
            "\u001b[34mworker_processes auto;\u001b[0m\n",
            "\u001b[34mdaemon off;\u001b[0m\n",
            "\u001b[34mpid /tmp/nginx.pid;\u001b[0m\n",
            "\u001b[34merror_log  /dev/stderr;\u001b[0m\n",
            "\u001b[35m[2022-04-21:15:31:07:INFO] No GPUs detected (normal if no gpus installed)\u001b[0m\n",
            "\u001b[35m[2022-04-21:15:31:07:INFO] No GPUs detected (normal if no gpus installed)\u001b[0m\n",
            "\u001b[35m[2022-04-21:15:31:07:INFO] nginx config: \u001b[0m\n",
            "\u001b[35mworker_processes auto;\u001b[0m\n",
            "\u001b[35mdaemon off;\u001b[0m\n",
            "\u001b[35mpid /tmp/nginx.pid;\u001b[0m\n",
            "\u001b[35merror_log  /dev/stderr;\u001b[0m\n",
            "\u001b[34mworker_rlimit_nofile 4096;\u001b[0m\n",
            "\u001b[34mevents {\n",
            "  worker_connections 2048;\u001b[0m\n",
            "\u001b[34m}\u001b[0m\n",
            "\u001b[34mhttp {\n",
            "  include /etc/nginx/mime.types;\n",
            "  default_type application/octet-stream;\n",
            "  access_log /dev/stdout combined;\n",
            "  upstream gunicorn {\n",
            "    server unix:/tmp/gunicorn.sock;\n",
            "  }\n",
            "  server {\n",
            "    listen 8080 deferred;\n",
            "    client_max_body_size 0;\n",
            "    keepalive_timeout 3;\n",
            "    location ~ ^/(ping|invocations|execution-parameters) {\n",
            "      proxy_set_header X-Forwarded-For $proxy_add_x_forwarded_for;\n",
            "      proxy_set_header Host $http_host;\n",
            "      proxy_redirect off;\n",
            "      proxy_read_timeout 60s;\n",
            "      proxy_pass http://gunicorn;\n",
            "    }\n",
            "    location / {\n",
            "      return 404 \"{}\";\n",
            "    }\n",
            "  }\u001b[0m\n",
            "\u001b[34m}\u001b[0m\n",
            "\u001b[34m[2022-04-21 15:31:07 +0000] [19] [INFO] Starting gunicorn 19.10.0\u001b[0m\n",
            "\u001b[34m[2022-04-21 15:31:07 +0000] [19] [INFO] Listening at: unix:/tmp/gunicorn.sock (19)\u001b[0m\n",
            "\u001b[34m[2022-04-21 15:31:07 +0000] [19] [INFO] Using worker: gevent\u001b[0m\n",
            "\u001b[34m[2022-04-21 15:31:07 +0000] [26] [INFO] Booting worker with pid: 26\u001b[0m\n",
            "\u001b[34m[2022-04-21 15:31:07 +0000] [27] [INFO] Booting worker with pid: 27\u001b[0m\n",
            "\u001b[34m[2022-04-21 15:31:07 +0000] [28] [INFO] Booting worker with pid: 28\u001b[0m\n",
            "\u001b[34m[2022-04-21 15:31:07 +0000] [32] [INFO] Booting worker with pid: 32\u001b[0m\n",
            "\u001b[35mworker_rlimit_nofile 4096;\u001b[0m\n",
            "\u001b[35mevents {\n",
            "  worker_connections 2048;\u001b[0m\n",
            "\u001b[35m}\u001b[0m\n",
            "\u001b[35mhttp {\n",
            "  include /etc/nginx/mime.types;\n",
            "  default_type application/octet-stream;\n",
            "  access_log /dev/stdout combined;\n",
            "  upstream gunicorn {\n",
            "    server unix:/tmp/gunicorn.sock;\n",
            "  }\n",
            "  server {\n",
            "    listen 8080 deferred;\n",
            "    client_max_body_size 0;\n",
            "    keepalive_timeout 3;\n",
            "    location ~ ^/(ping|invocations|execution-parameters) {\n",
            "      proxy_set_header X-Forwarded-For $proxy_add_x_forwarded_for;\n",
            "      proxy_set_header Host $http_host;\n",
            "      proxy_redirect off;\n",
            "      proxy_read_timeout 60s;\n",
            "      proxy_pass http://gunicorn;\n",
            "    }\n",
            "    location / {\n",
            "      return 404 \"{}\";\n",
            "    }\n",
            "  }\u001b[0m\n",
            "\u001b[35m}\u001b[0m\n",
            "\u001b[35m[2022-04-21 15:31:07 +0000] [19] [INFO] Starting gunicorn 19.10.0\u001b[0m\n",
            "\u001b[35m[2022-04-21 15:31:07 +0000] [19] [INFO] Listening at: unix:/tmp/gunicorn.sock (19)\u001b[0m\n",
            "\u001b[35m[2022-04-21 15:31:07 +0000] [19] [INFO] Using worker: gevent\u001b[0m\n",
            "\u001b[35m[2022-04-21 15:31:07 +0000] [26] [INFO] Booting worker with pid: 26\u001b[0m\n",
            "\u001b[35m[2022-04-21 15:31:07 +0000] [27] [INFO] Booting worker with pid: 27\u001b[0m\n",
            "\u001b[35m[2022-04-21 15:31:07 +0000] [28] [INFO] Booting worker with pid: 28\u001b[0m\n",
            "\u001b[35m[2022-04-21 15:31:07 +0000] [32] [INFO] Booting worker with pid: 32\u001b[0m\n",
            "\u001b[34m[2022-04-21:15:31:13:INFO] No GPUs detected (normal if no gpus installed)\u001b[0m\n",
            "\u001b[34m169.254.255.130 - - [21/Apr/2022:15:31:13 +0000] \"GET /ping HTTP/1.1\" 200 0 \"-\" \"Go-http-client/1.1\"\u001b[0m\n",
            "\u001b[34m169.254.255.130 - - [21/Apr/2022:15:31:13 +0000] \"GET /execution-parameters HTTP/1.1\" 200 84 \"-\" \"Go-http-client/1.1\"\u001b[0m\n",
            "\u001b[35m[2022-04-21:15:31:13:INFO] No GPUs detected (normal if no gpus installed)\u001b[0m\n",
            "\u001b[35m169.254.255.130 - - [21/Apr/2022:15:31:13 +0000] \"GET /ping HTTP/1.1\" 200 0 \"-\" \"Go-http-client/1.1\"\u001b[0m\n",
            "\u001b[35m169.254.255.130 - - [21/Apr/2022:15:31:13 +0000] \"GET /execution-parameters HTTP/1.1\" 200 84 \"-\" \"Go-http-client/1.1\"\u001b[0m\n",
            "\u001b[34m[2022-04-21:15:31:14:INFO] No GPUs detected (normal if no gpus installed)\u001b[0m\n",
            "\u001b[34m[2022-04-21:15:31:14:INFO] No GPUs detected (normal if no gpus installed)\u001b[0m\n",
            "\u001b[35m[2022-04-21:15:31:14:INFO] No GPUs detected (normal if no gpus installed)\u001b[0m\n",
            "\u001b[35m[2022-04-21:15:31:14:INFO] No GPUs detected (normal if no gpus installed)\u001b[0m\n",
            "\u001b[34m[2022-04-21:15:31:14:INFO] Determined delimiter of CSV input is ','\u001b[0m\n",
            "\u001b[34m[2022-04-21:15:31:14:INFO] No GPUs detected (normal if no gpus installed)\u001b[0m\n",
            "\u001b[34m[2022-04-21:15:31:14:INFO] Determined delimiter of CSV input is ','\u001b[0m\n",
            "\u001b[35m[2022-04-21:15:31:14:INFO] Determined delimiter of CSV input is ','\u001b[0m\n",
            "\u001b[35m[2022-04-21:15:31:14:INFO] No GPUs detected (normal if no gpus installed)\u001b[0m\n",
            "\u001b[35m[2022-04-21:15:31:14:INFO] Determined delimiter of CSV input is ','\u001b[0m\n",
            "\u001b[32m2022-04-21T15:31:13.732:[sagemaker logs]: MaxConcurrentTransforms=4, MaxPayloadInMB=6, BatchStrategy=MULTI_RECORD\u001b[0m\n",
            "\u001b[34m[2022-04-21:15:31:14:INFO] Determined delimiter of CSV input is ','\u001b[0m\n",
            "\u001b[35m[2022-04-21:15:31:14:INFO] Determined delimiter of CSV input is ','\u001b[0m\n",
            "\u001b[34m[2022-04-21:15:31:14:INFO] Determined delimiter of CSV input is ','\u001b[0m\n",
            "\u001b[35m[2022-04-21:15:31:14:INFO] Determined delimiter of CSV input is ','\u001b[0m\n",
            "\u001b[34m169.254.255.130 - - [21/Apr/2022:15:31:18 +0000] \"POST /invocations HTTP/1.1\" 200 652866 \"-\" \"Go-http-client/1.1\"\u001b[0m\n",
            "\u001b[34m169.254.255.130 - - [21/Apr/2022:15:31:18 +0000] \"POST /invocations HTTP/1.1\" 200 652634 \"-\" \"Go-http-client/1.1\"\u001b[0m\n",
            "\u001b[34m169.254.255.130 - - [21/Apr/2022:15:31:18 +0000] \"POST /invocations HTTP/1.1\" 200 652601 \"-\" \"Go-http-client/1.1\"\u001b[0m\n",
            "\u001b[34m[2022-04-21:15:31:18:INFO] Determined delimiter of CSV input is ','\u001b[0m\n",
            "\u001b[34m169.254.255.130 - - [21/Apr/2022:15:31:18 +0000] \"POST /invocations HTTP/1.1\" 200 652835 \"-\" \"Go-http-client/1.1\"\u001b[0m\n",
            "\u001b[35m169.254.255.130 - - [21/Apr/2022:15:31:18 +0000] \"POST /invocations HTTP/1.1\" 200 652866 \"-\" \"Go-http-client/1.1\"\u001b[0m\n",
            "\u001b[35m169.254.255.130 - - [21/Apr/2022:15:31:18 +0000] \"POST /invocations HTTP/1.1\" 200 652634 \"-\" \"Go-http-client/1.1\"\u001b[0m\n",
            "\u001b[35m169.254.255.130 - - [21/Apr/2022:15:31:18 +0000] \"POST /invocations HTTP/1.1\" 200 652601 \"-\" \"Go-http-client/1.1\"\u001b[0m\n",
            "\u001b[35m[2022-04-21:15:31:18:INFO] Determined delimiter of CSV input is ','\u001b[0m\n",
            "\u001b[35m169.254.255.130 - - [21/Apr/2022:15:31:18 +0000] \"POST /invocations HTTP/1.1\" 200 652835 \"-\" \"Go-http-client/1.1\"\u001b[0m\n",
            "\u001b[34m169.254.255.130 - - [21/Apr/2022:15:31:20 +0000] \"POST /invocations HTTP/1.1\" 200 602462 \"-\" \"Go-http-client/1.1\"\u001b[0m\n",
            "\u001b[35m169.254.255.130 - - [21/Apr/2022:15:31:20 +0000] \"POST /invocations HTTP/1.1\" 200 602462 \"-\" \"Go-http-client/1.1\"\u001b[0m\n"
          ]
        }
      ],
      "source": [
        "batch_output = \"s3://{}/{}/batch-out/\".format(bucket,prefix)\n",
        "batch_input = \"s3://{}/{}/batch-in/{}\".format(bucket,prefix,batch_X_file)\n",
        "\n",
        "xgb_transformer = xgb.transformer(instance_count=1,\n",
        "                                       instance_type=instance_type,\n",
        "                                       strategy='MultiRecord',\n",
        "                                       assemble_with='Line',\n",
        "                                       output_path=batch_output)\n",
        "\n",
        "xgb_transformer.transform(data=batch_input,\n",
        "                         data_type='S3Prefix',\n",
        "                         content_type='text/csv',\n",
        "                         split_type='Line')\n",
        "xgb_transformer.wait()"
      ]
    },
    {
      "cell_type": "markdown",
      "metadata": {
        "id": "al625TdCP-_n"
      },
      "source": [
        "Get the predicted target and test labels."
      ]
    },
    {
      "cell_type": "code",
      "execution_count": null,
      "metadata": {
        "id": "vuETg8qdP-_n"
      },
      "outputs": [],
      "source": [
        "s3 = boto3.client('s3')\n",
        "obj = s3.get_object(Bucket=bucket, Key=\"{}/batch-out/{}\".format(prefix,'batch-in.csv.out'))\n",
        "target_predicted = pd.read_csv(io.BytesIO(obj['Body'].read()),',',names=['target'])\n",
        "test_labels = test.iloc[:,0]"
      ]
    },
    {
      "cell_type": "markdown",
      "metadata": {
        "id": "rApqGa_-P-_n"
      },
      "source": [
        "Calculate the predicted values based on the defined threshold.\n",
        "\n",
        "**Note:** The predicted target will be a score, which must be converted to a binary class."
      ]
    },
    {
      "cell_type": "code",
      "execution_count": null,
      "metadata": {
        "id": "0sLLf3LjP-_o",
        "outputId": "3f46a921-2d9f-462d-d1ab-14bfa76bf018"
      },
      "outputs": [
        {
          "name": "stdout",
          "output_type": "stream",
          "text": [
            "     target\n",
            "0  0.093725\n",
            "1  0.149599\n",
            "2  0.162374\n",
            "3  0.090202\n",
            "4  0.082402\n",
            "   target\n",
            "0       0\n",
            "1       0\n",
            "2       0\n",
            "3       0\n",
            "4       0\n"
          ]
        }
      ],
      "source": [
        "print(target_predicted.head())\n",
        "\n",
        "def binary_convert(x):\n",
        "    threshold = 0.55\n",
        "    if x > threshold:\n",
        "        return 1\n",
        "    else:\n",
        "        return 0\n",
        "\n",
        "target_predicted['target'] = target_predicted['target'].apply(binary_convert)\n",
        "\n",
        "test_labels = test.iloc[:,0]\n",
        "\n",
        "print(target_predicted.head())"
      ]
    },
    {
      "cell_type": "markdown",
      "metadata": {
        "id": "VuYswCVUP-_o"
      },
      "source": [
        "Plot a confusion matrix for your `target_predicted` and `test_labels`."
      ]
    },
    {
      "cell_type": "code",
      "execution_count": null,
      "metadata": {
        "id": "eIa7GY6gP-_o",
        "outputId": "83237693-62a3-42b0-8e8d-d3d7c7c56ba8"
      },
      "outputs": [
        {
          "data": {
            "image/png": "[encoded data removed]",
            "text/plain": [
              "<Figure size 432x288 with 1 Axes>"
            ]
          },
          "metadata": {
            "needs_background": "light"
          },
          "output_type": "display_data"
        }
      ],
      "source": [
        "plot_confusion_matrix(test_labels, target_predicted)"
      ]
    },
    {
      "cell_type": "markdown",
      "metadata": {
        "id": "lieyWPcMP-_o"
      },
      "source": [
        "Plot the ROC chart:"
      ]
    },
    {
      "cell_type": "code",
      "execution_count": null,
      "metadata": {
        "id": "SRKT-eG4P-_o",
        "outputId": "890bdee4-b821-4cbe-a2c6-ac50f4937fc1"
      },
      "outputs": [
        {
          "name": "stdout",
          "output_type": "stream",
          "text": [
            "Sensitivity or TPR:  10.083593044592666 %\n",
            "Specificity or TNR:  98.91894819927877 %\n",
            "Precision:  71.24922823626261 %\n",
            "Negative Predictive Value:  80.54757403906743 %\n",
            "False Positive Rate:  1.081051800721217 %\n",
            "False Negative Rate:  89.91640695540734 %\n",
            "False Discovery Rate:  28.750771763737394 %\n",
            "Accuracy:  80.271339394347 %\n",
            "Validation AUC 0.5450127062193573\n",
            "Figure(432x288)\n"
          ]
        },
        {
          "data": {
            "image/png": "[encoded data removed]",
            "text/plain": [
              "<Figure size 432x288 with 2 Axes>"
            ]
          },
          "metadata": {
            "needs_background": "light"
          },
          "output_type": "display_data"
        },
        {
          "data": {
            "text/plain": [
              "<Figure size 432x288 with 0 Axes>"
            ]
          },
          "metadata": {},
          "output_type": "display_data"
        }
      ],
      "source": [
        "plot_roc(test_labels, target_predicted)"
      ]
    },
    {
      "cell_type": "markdown",
      "metadata": {
        "id": "ooIKfDEKP-_o"
      },
      "source": [
        "### Try different thresholds"
      ]
    },
    {
      "cell_type": "markdown",
      "metadata": {
        "id": "g1Oa-q2oP-_o"
      },
      "source": [
        "**Question**: Based on how well the model handled the test set, what can you conclude?"
      ]
    },
    {
      "cell_type": "code",
      "execution_count": null,
      "metadata": {
        "id": "K_ckQq1RP-_o"
      },
      "outputs": [],
      "source": [
        "#Enter your answer here"
      ]
    },
    {
      "cell_type": "markdown",
      "metadata": {
        "id": "n1VML-NTP-_p"
      },
      "source": [
        "### Hyperparameter optimization (HPO)"
      ]
    },
    {
      "cell_type": "code",
      "execution_count": null,
      "metadata": {
        "id": "TCes03Y5P-_p"
      },
      "outputs": [],
      "source": [
        "from sagemaker.tuner import IntegerParameter, CategoricalParameter, ContinuousParameter, HyperparameterTuner\n",
        "\n",
        "### You can spin up multiple instances to do hyperparameter optimization in parallel\n",
        "\n",
        "xgb = sagemaker.estimator.Estimator(container,\n",
        "                                    role=sagemaker.get_execution_role(), \n",
        "                                    instance_count= 1, # make sure you have a limit set for these instances\n",
        "                                    instance_type=instance_type, \n",
        "                                    output_path='s3://{}/{}/output'.format(bucket, prefix),\n",
        "                                    sagemaker_session=sess)\n",
        "\n",
        "xgb.set_hyperparameters(eval_metric='auc',\n",
        "                        objective='binary:logistic',\n",
        "                        num_round=100,\n",
        "                        rate_drop=0.3,\n",
        "                        tweedie_variance_power=1.4)\n",
        "\n",
        "hyperparameter_ranges = {'alpha': ContinuousParameter(0, 1000, scaling_type='Linear'),\n",
        "                         'eta': ContinuousParameter(0.1, 0.5, scaling_type='Linear'),\n",
        "                         'min_child_weight': ContinuousParameter(3, 10, scaling_type='Linear'),\n",
        "                         'subsample': ContinuousParameter(0.5, 1),\n",
        "                         'num_round': IntegerParameter(10,150)}\n",
        "\n",
        "objective_metric_name = 'validation:auc'\n",
        "\n",
        "tuner = HyperparameterTuner(xgb,\n",
        "                            objective_metric_name,\n",
        "                            hyperparameter_ranges,\n",
        "                            max_jobs=10, # Set this to 10 or above depending upon budget and available time.\n",
        "                            max_parallel_jobs=1)"
      ]
    },
    {
      "cell_type": "code",
      "execution_count": null,
      "metadata": {
        "id": "Clf_K3joP-_p",
        "outputId": "f30156a9-618f-4ddb-fd40-17e64331356c"
      },
      "outputs": [
        {
          "name": "stdout",
          "output_type": "stream",
          "text": [
            "................................................................................................................................................................................................................................................................................................................................................................................................................................................................................................................................................................................................................................................................................................................................................................................................................................................................................................................................................................................................................................................................................................................................................................................................................................................................................................................................................................!\n",
            "!\n"
          ]
        }
      ],
      "source": [
        "tuner.fit(inputs=data_channels)\n",
        "tuner.wait()"
      ]
    },
    {
      "cell_type": "markdown",
      "metadata": {
        "id": "Gocd0crHP-_p"
      },
      "source": [
        "<i class=\"fas fa-exclamation-triangle\" style=\"color:red\"></i> Wait until the training job is finished. It might take 25-30 minutes.\n",
        "\n",
        "**To monitor hyperparameter optimization jobs:**  \n",
        "\n",
        "1. In the AWS Management Console, on the **Services** menu, choose **Amazon SageMaker**.  \n",
        "2. Choose **Training > Hyperparameter tuning jobs**.\n",
        "3. You can check the status of each hyperparameter tuning job, its objective metric value, and its logs.  "
      ]
    },
    {
      "cell_type": "markdown",
      "metadata": {
        "id": "yZ0-P2o6P-_p"
      },
      "source": [
        "Check that the job completed successfully."
      ]
    },
    {
      "cell_type": "code",
      "execution_count": null,
      "metadata": {
        "id": "IuFzpwhIP-_p",
        "outputId": "f778bc8a-1f0f-4c89-d9c2-3082da4f0dc9"
      },
      "outputs": [
        {
          "data": {
            "text/plain": [
              "'Completed'"
            ]
          },
          "execution_count": 109,
          "metadata": {},
          "output_type": "execute_result"
        }
      ],
      "source": [
        "boto3.client('sagemaker').describe_hyper_parameter_tuning_job(\n",
        "    HyperParameterTuningJobName=tuner.latest_tuning_job.job_name)['HyperParameterTuningJobStatus']"
      ]
    },
    {
      "cell_type": "markdown",
      "metadata": {
        "id": "NbnlUXOpP-_p"
      },
      "source": [
        "The hyperparameter tuning job will have a model that worked the best. You can get the information about that model from the tuning job."
      ]
    },
    {
      "cell_type": "code",
      "execution_count": null,
      "metadata": {
        "id": "RUirq_g3P-_p",
        "outputId": "4b841992-5882-407c-d519-ebf582e247ac"
      },
      "outputs": [
        {
          "name": "stdout",
          "output_type": "stream",
          "text": [
            "tuning job name:sagemaker-xgboost-220421-1534\n",
            "best training job: sagemaker-xgboost-220421-1534-008-6be389b3\n",
            "\n",
            "2022-04-21 16:57:50 Starting - Preparing the instances for training\n",
            "2022-04-21 16:57:50 Downloading - Downloading input data\n",
            "2022-04-21 16:57:50 Training - Training image download completed. Training in progress.\n",
            "2022-04-21 16:57:50 Uploading - Uploading generated training model\n",
            "2022-04-21 16:57:50 Completed - Training job completed\n"
          ]
        },
        {
          "data": {
            "text/html": [
              "<div>\n",
              "<style scoped>\n",
              "    .dataframe tbody tr th:only-of-type {\n",
              "        vertical-align: middle;\n",
              "    }\n",
              "\n",
              "    .dataframe tbody tr th {\n",
              "        vertical-align: top;\n",
              "    }\n",
              "\n",
              "    .dataframe thead th {\n",
              "        text-align: right;\n",
              "    }\n",
              "</style>\n",
              "<table border=\"1\" class=\"dataframe\">\n",
              "  <thead>\n",
              "    <tr style=\"text-align: right;\">\n",
              "      <th></th>\n",
              "      <th>alpha</th>\n",
              "      <th>eta</th>\n",
              "      <th>min_child_weight</th>\n",
              "      <th>num_round</th>\n",
              "      <th>subsample</th>\n",
              "      <th>TrainingJobName</th>\n",
              "      <th>TrainingJobStatus</th>\n",
              "      <th>FinalObjectiveValue</th>\n",
              "      <th>TrainingStartTime</th>\n",
              "      <th>TrainingEndTime</th>\n",
              "      <th>TrainingElapsedTimeSeconds</th>\n",
              "    </tr>\n",
              "  </thead>\n",
              "  <tbody>\n",
              "    <tr>\n",
              "      <th>0</th>\n",
              "      <td>2.191644</td>\n",
              "      <td>0.329669</td>\n",
              "      <td>5.052070</td>\n",
              "      <td>145.0</td>\n",
              "      <td>0.878389</td>\n",
              "      <td>sagemaker-xgboost-220421-1534-010-14291fe0</td>\n",
              "      <td>Completed</td>\n",
              "      <td>0.75024</td>\n",
              "      <td>2022-04-21 17:13:28+00:00</td>\n",
              "      <td>2022-04-21 17:23:54+00:00</td>\n",
              "      <td>626.0</td>\n",
              "    </tr>\n",
              "    <tr>\n",
              "      <th>1</th>\n",
              "      <td>0.000000</td>\n",
              "      <td>0.472455</td>\n",
              "      <td>4.966544</td>\n",
              "      <td>138.0</td>\n",
              "      <td>0.857225</td>\n",
              "      <td>sagemaker-xgboost-220421-1534-009-94535bee</td>\n",
              "      <td>Completed</td>\n",
              "      <td>0.75010</td>\n",
              "      <td>2022-04-21 17:00:28+00:00</td>\n",
              "      <td>2022-04-21 17:09:53+00:00</td>\n",
              "      <td>565.0</td>\n",
              "    </tr>\n",
              "    <tr>\n",
              "      <th>2</th>\n",
              "      <td>2.024874</td>\n",
              "      <td>0.480455</td>\n",
              "      <td>5.106544</td>\n",
              "      <td>138.0</td>\n",
              "      <td>0.847225</td>\n",
              "      <td>sagemaker-xgboost-220421-1534-008-6be389b3</td>\n",
              "      <td>Completed</td>\n",
              "      <td>0.75046</td>\n",
              "      <td>2022-04-21 16:47:54+00:00</td>\n",
              "      <td>2022-04-21 16:57:50+00:00</td>\n",
              "      <td>596.0</td>\n",
              "    </tr>\n",
              "    <tr>\n",
              "      <th>3</th>\n",
              "      <td>125.114337</td>\n",
              "      <td>0.492723</td>\n",
              "      <td>3.000000</td>\n",
              "      <td>131.0</td>\n",
              "      <td>0.721447</td>\n",
              "      <td>sagemaker-xgboost-220421-1534-007-0889bf49</td>\n",
              "      <td>Completed</td>\n",
              "      <td>0.73655</td>\n",
              "      <td>2022-04-21 16:36:05+00:00</td>\n",
              "      <td>2022-04-21 16:45:45+00:00</td>\n",
              "      <td>580.0</td>\n",
              "    </tr>\n",
              "    <tr>\n",
              "      <th>4</th>\n",
              "      <td>195.793048</td>\n",
              "      <td>0.364354</td>\n",
              "      <td>6.002829</td>\n",
              "      <td>19.0</td>\n",
              "      <td>0.952333</td>\n",
              "      <td>sagemaker-xgboost-220421-1534-006-c81980f6</td>\n",
              "      <td>Completed</td>\n",
              "      <td>0.71160</td>\n",
              "      <td>2022-04-21 16:30:55+00:00</td>\n",
              "      <td>2022-04-21 16:33:49+00:00</td>\n",
              "      <td>174.0</td>\n",
              "    </tr>\n",
              "  </tbody>\n",
              "</table>\n",
              "</div>"
            ],
            "text/plain": [
              "        alpha       eta  min_child_weight  num_round  subsample  \\\n",
              "0    2.191644  0.329669          5.052070      145.0   0.878389   \n",
              "1    0.000000  0.472455          4.966544      138.0   0.857225   \n",
              "2    2.024874  0.480455          5.106544      138.0   0.847225   \n",
              "3  125.114337  0.492723          3.000000      131.0   0.721447   \n",
              "4  195.793048  0.364354          6.002829       19.0   0.952333   \n",
              "\n",
              "                              TrainingJobName TrainingJobStatus  \\\n",
              "0  sagemaker-xgboost-220421-1534-010-14291fe0         Completed   \n",
              "1  sagemaker-xgboost-220421-1534-009-94535bee         Completed   \n",
              "2  sagemaker-xgboost-220421-1534-008-6be389b3         Completed   \n",
              "3  sagemaker-xgboost-220421-1534-007-0889bf49         Completed   \n",
              "4  sagemaker-xgboost-220421-1534-006-c81980f6         Completed   \n",
              "\n",
              "   FinalObjectiveValue         TrainingStartTime           TrainingEndTime  \\\n",
              "0              0.75024 2022-04-21 17:13:28+00:00 2022-04-21 17:23:54+00:00   \n",
              "1              0.75010 2022-04-21 17:00:28+00:00 2022-04-21 17:09:53+00:00   \n",
              "2              0.75046 2022-04-21 16:47:54+00:00 2022-04-21 16:57:50+00:00   \n",
              "3              0.73655 2022-04-21 16:36:05+00:00 2022-04-21 16:45:45+00:00   \n",
              "4              0.71160 2022-04-21 16:30:55+00:00 2022-04-21 16:33:49+00:00   \n",
              "\n",
              "   TrainingElapsedTimeSeconds  \n",
              "0                       626.0  \n",
              "1                       565.0  \n",
              "2                       596.0  \n",
              "3                       580.0  \n",
              "4                       174.0  "
            ]
          },
          "execution_count": 110,
          "metadata": {},
          "output_type": "execute_result"
        }
      ],
      "source": [
        "sage_client = boto3.Session().client('sagemaker')\n",
        "tuning_job_name = tuner.latest_tuning_job.job_name\n",
        "print(f'tuning job name:{tuning_job_name}')\n",
        "tuning_job_result = sage_client.describe_hyper_parameter_tuning_job(HyperParameterTuningJobName=tuning_job_name)\n",
        "best_training_job = tuning_job_result['BestTrainingJob']\n",
        "best_training_job_name = best_training_job['TrainingJobName']\n",
        "print(f\"best training job: {best_training_job_name}\")\n",
        "\n",
        "best_estimator = tuner.best_estimator()\n",
        "\n",
        "tuner_df = sagemaker.HyperparameterTuningJobAnalytics(tuning_job_name).dataframe()\n",
        "tuner_df.head()"
      ]
    },
    {
      "cell_type": "markdown",
      "metadata": {
        "id": "TysYtCQUP-_q"
      },
      "source": [
        "Use the estimator `best_estimator` and train it by using the data. \n",
        "\n",
        "**Tip:** See the previous XGBoost estimator fit function."
      ]
    },
    {
      "cell_type": "code",
      "execution_count": null,
      "metadata": {
        "id": "0P_csQGCP-_q",
        "outputId": "a3fac2da-6c93-40a0-82df-a6f091338c40"
      },
      "outputs": [
        {
          "name": "stdout",
          "output_type": "stream",
          "text": [
            "2022-04-21 17:25:57 Starting - Starting the training job...ProfilerReport-1650561957: InProgress\n",
            "...\n",
            "2022-04-21 17:26:44 Starting - Preparing the instances for training......\n",
            "2022-04-21 17:27:56 Downloading - Downloading input data......\n",
            "2022-04-21 17:28:44 Training - Downloading the training image...\n",
            "2022-04-21 17:29:28 Training - Training image download completed. Training in progress...\u001b[34mINFO:sagemaker-containers:Imported framework sagemaker_xgboost_container.training\u001b[0m\n",
            "\u001b[34mINFO:sagemaker-containers:Failed to parse hyperparameter _tuning_objective_metric value validation:auc to Json.\u001b[0m\n",
            "\u001b[34mReturning the value itself\u001b[0m\n",
            "\u001b[34mINFO:sagemaker-containers:Failed to parse hyperparameter eval_metric value auc to Json.\u001b[0m\n",
            "\u001b[34mReturning the value itself\u001b[0m\n",
            "\u001b[34mINFO:sagemaker-containers:Failed to parse hyperparameter objective value binary:logistic to Json.\u001b[0m\n",
            "\u001b[34mReturning the value itself\u001b[0m\n",
            "\u001b[34mINFO:sagemaker-containers:No GPUs detected (normal if no gpus installed)\u001b[0m\n",
            "\u001b[34mINFO:sagemaker_xgboost_container.training:Running XGBoost Sagemaker in algorithm mode\u001b[0m\n",
            "\u001b[34mINFO:root:Determined delimiter of CSV input is ','\u001b[0m\n",
            "\u001b[34mINFO:root:Determined delimiter of CSV input is ','\u001b[0m\n",
            "\u001b[34mINFO:root:Determined delimiter of CSV input is ','\u001b[0m\n",
            "\u001b[34m[17:29:38] 1308472x85 matrix with 111220120 entries loaded from /opt/ml/input/data/train?format=csv&label_column=0&delimiter=,\u001b[0m\n",
            "\u001b[34mINFO:root:Determined delimiter of CSV input is ','\u001b[0m\n",
            "\u001b[34m[17:29:39] 163559x85 matrix with 13902515 entries loaded from /opt/ml/input/data/validation?format=csv&label_column=0&delimiter=,\u001b[0m\n",
            "\u001b[34mINFO:root:Single node training.\u001b[0m\n",
            "\u001b[34mINFO:root:Setting up HPO optimized metric to be : auc\u001b[0m\n",
            "\u001b[34mINFO:root:Train matrix has 1308472 rows\u001b[0m\n",
            "\u001b[34mINFO:root:Validation matrix has 163559 rows\u001b[0m\n",
            "\u001b[34m[0]#011train-auc:0.66259#011validation-auc:0.66357\u001b[0m\n",
            "\u001b[34m[1]#011train-auc:0.67860#011validation-auc:0.67902\u001b[0m\n",
            "\u001b[34m[2]#011train-auc:0.68535#011validation-auc:0.68534\u001b[0m\n",
            "\u001b[34m[3]#011train-auc:0.69184#011validation-auc:0.69143\u001b[0m\n",
            "\u001b[34m[4]#011train-auc:0.69516#011validation-auc:0.69447\u001b[0m\n",
            "\u001b[34m[5]#011train-auc:0.69831#011validation-auc:0.69712\u001b[0m\n",
            "\u001b[34m[6]#011train-auc:0.70355#011validation-auc:0.70154\u001b[0m\n",
            "\u001b[34m[7]#011train-auc:0.70734#011validation-auc:0.70473\u001b[0m\n",
            "\u001b[34m[8]#011train-auc:0.71001#011validation-auc:0.70724\u001b[0m\n",
            "\u001b[34m[9]#011train-auc:0.71205#011validation-auc:0.70893\u001b[0m\n",
            "\u001b[34m[10]#011train-auc:0.71460#011validation-auc:0.71120\u001b[0m\n",
            "\u001b[34m[11]#011train-auc:0.71706#011validation-auc:0.71339\u001b[0m\n",
            "\u001b[34m[12]#011train-auc:0.71889#011validation-auc:0.71500\u001b[0m\n",
            "\u001b[34m[13]#011train-auc:0.72025#011validation-auc:0.71638\u001b[0m\n",
            "\u001b[34m[14]#011train-auc:0.72344#011validation-auc:0.71923\u001b[0m\n",
            "\u001b[34m[15]#011train-auc:0.72412#011validation-auc:0.71984\u001b[0m\n",
            "\u001b[34m[16]#011train-auc:0.72556#011validation-auc:0.72097\u001b[0m\n",
            "\u001b[34m[17]#011train-auc:0.72627#011validation-auc:0.72160\u001b[0m\n",
            "\u001b[34m[18]#011train-auc:0.72702#011validation-auc:0.72223\u001b[0m\n",
            "\u001b[34m[19]#011train-auc:0.72883#011validation-auc:0.72348\u001b[0m\n",
            "\u001b[34m[20]#011train-auc:0.72937#011validation-auc:0.72384\u001b[0m\n",
            "\u001b[34m[21]#011train-auc:0.72972#011validation-auc:0.72408\u001b[0m\n",
            "\u001b[34m[22]#011train-auc:0.73014#011validation-auc:0.72441\u001b[0m\n",
            "\u001b[34m[23]#011train-auc:0.73146#011validation-auc:0.72553\u001b[0m\n",
            "\u001b[34m[24]#011train-auc:0.73256#011validation-auc:0.72643\u001b[0m\n",
            "\u001b[34m[25]#011train-auc:0.73335#011validation-auc:0.72709\u001b[0m\n",
            "\u001b[34m[26]#011train-auc:0.73382#011validation-auc:0.72741\u001b[0m\n",
            "\u001b[34m[27]#011train-auc:0.73440#011validation-auc:0.72783\u001b[0m\n",
            "\u001b[34m[28]#011train-auc:0.73490#011validation-auc:0.72820\u001b[0m\n",
            "\u001b[34m[29]#011train-auc:0.73571#011validation-auc:0.72877\u001b[0m\n",
            "\u001b[34m[30]#011train-auc:0.73616#011validation-auc:0.72904\u001b[0m\n",
            "\u001b[34m[31]#011train-auc:0.73693#011validation-auc:0.72969\u001b[0m\n",
            "\u001b[34m[32]#011train-auc:0.73763#011validation-auc:0.73018\u001b[0m\n",
            "\u001b[34m[33]#011train-auc:0.73807#011validation-auc:0.73049\u001b[0m\n",
            "\u001b[34m[34]#011train-auc:0.73843#011validation-auc:0.73086\u001b[0m\n",
            "\u001b[34m[35]#011train-auc:0.73911#011validation-auc:0.73138\u001b[0m\n",
            "\u001b[34m[36]#011train-auc:0.73979#011validation-auc:0.73217\u001b[0m\n",
            "\u001b[34m[37]#011train-auc:0.74012#011validation-auc:0.73242\u001b[0m\n",
            "\u001b[34m[38]#011train-auc:0.74070#011validation-auc:0.73292\u001b[0m\n",
            "\u001b[34m[39]#011train-auc:0.74127#011validation-auc:0.73341\u001b[0m\n",
            "\u001b[34m[40]#011train-auc:0.74177#011validation-auc:0.73384\u001b[0m\n",
            "\u001b[34m[41]#011train-auc:0.74224#011validation-auc:0.73418\u001b[0m\n",
            "\u001b[34m[42]#011train-auc:0.74268#011validation-auc:0.73448\u001b[0m\n",
            "\u001b[34m[43]#011train-auc:0.74309#011validation-auc:0.73474\u001b[0m\n",
            "\u001b[34m[44]#011train-auc:0.74368#011validation-auc:0.73527\u001b[0m\n",
            "\u001b[34m[45]#011train-auc:0.74428#011validation-auc:0.73574\u001b[0m\n",
            "\u001b[34m[46]#011train-auc:0.74464#011validation-auc:0.73598\u001b[0m\n",
            "\u001b[34m[47]#011train-auc:0.74507#011validation-auc:0.73619\u001b[0m\n",
            "\u001b[34m[48]#011train-auc:0.74549#011validation-auc:0.73648\u001b[0m\n",
            "\u001b[34m[49]#011train-auc:0.74590#011validation-auc:0.73681\u001b[0m\n",
            "\u001b[34m[50]#011train-auc:0.74604#011validation-auc:0.73689\u001b[0m\n",
            "\u001b[34m[51]#011train-auc:0.74646#011validation-auc:0.73722\u001b[0m\n",
            "\u001b[34m[52]#011train-auc:0.74674#011validation-auc:0.73725\u001b[0m\n",
            "\u001b[34m[53]#011train-auc:0.74730#011validation-auc:0.73785\u001b[0m\n",
            "\u001b[34m[54]#011train-auc:0.74756#011validation-auc:0.73801\u001b[0m\n",
            "\u001b[34m[55]#011train-auc:0.74794#011validation-auc:0.73826\u001b[0m\n",
            "\u001b[34m[56]#011train-auc:0.74808#011validation-auc:0.73837\u001b[0m\n",
            "\u001b[34m[57]#011train-auc:0.74821#011validation-auc:0.73847\u001b[0m\n",
            "\u001b[34m[58]#011train-auc:0.74865#011validation-auc:0.73879\u001b[0m\n",
            "\u001b[34m[59]#011train-auc:0.74896#011validation-auc:0.73905\u001b[0m\n",
            "\u001b[34m[60]#011train-auc:0.74926#011validation-auc:0.73933\u001b[0m\n",
            "\u001b[34m[61]#011train-auc:0.74978#011validation-auc:0.73957\u001b[0m\n",
            "\u001b[34m[62]#011train-auc:0.75013#011validation-auc:0.73981\u001b[0m\n",
            "\u001b[34m[63]#011train-auc:0.75043#011validation-auc:0.74002\u001b[0m\n",
            "\u001b[34m[64]#011train-auc:0.75083#011validation-auc:0.74032\u001b[0m\n",
            "\u001b[34m[65]#011train-auc:0.75112#011validation-auc:0.74046\u001b[0m\n",
            "\u001b[34m[66]#011train-auc:0.75127#011validation-auc:0.74052\u001b[0m\n",
            "\u001b[34m[67]#011train-auc:0.75152#011validation-auc:0.74068\u001b[0m\n",
            "\u001b[34m[68]#011train-auc:0.75179#011validation-auc:0.74076\u001b[0m\n",
            "\u001b[34m[69]#011train-auc:0.75194#011validation-auc:0.74086\u001b[0m\n",
            "\u001b[34m[70]#011train-auc:0.75237#011validation-auc:0.74120\u001b[0m\n",
            "\u001b[34m[71]#011train-auc:0.75276#011validation-auc:0.74143\u001b[0m\n",
            "\u001b[34m[72]#011train-auc:0.75326#011validation-auc:0.74178\u001b[0m\n",
            "\u001b[34m[73]#011train-auc:0.75347#011validation-auc:0.74194\u001b[0m\n",
            "\u001b[34m[74]#011train-auc:0.75386#011validation-auc:0.74195\u001b[0m\n",
            "\u001b[34m[75]#011train-auc:0.75431#011validation-auc:0.74224\u001b[0m\n",
            "\u001b[34m[76]#011train-auc:0.75446#011validation-auc:0.74242\u001b[0m\n",
            "\u001b[34m[77]#011train-auc:0.75462#011validation-auc:0.74258\u001b[0m\n",
            "\u001b[34m[78]#011train-auc:0.75484#011validation-auc:0.74271\u001b[0m\n",
            "\u001b[34m[79]#011train-auc:0.75510#011validation-auc:0.74293\u001b[0m\n",
            "\u001b[34m[80]#011train-auc:0.75530#011validation-auc:0.74303\u001b[0m\n",
            "\u001b[34m[81]#011train-auc:0.75574#011validation-auc:0.74334\u001b[0m\n",
            "\u001b[34m[82]#011train-auc:0.75602#011validation-auc:0.74353\u001b[0m\n",
            "\u001b[34m[83]#011train-auc:0.75621#011validation-auc:0.74364\u001b[0m\n",
            "\u001b[34m[84]#011train-auc:0.75666#011validation-auc:0.74391\u001b[0m\n",
            "\u001b[34m[85]#011train-auc:0.75699#011validation-auc:0.74405\u001b[0m\n",
            "\u001b[34m[86]#011train-auc:0.75723#011validation-auc:0.74415\u001b[0m\n",
            "\u001b[34m[87]#011train-auc:0.75744#011validation-auc:0.74427\u001b[0m\n",
            "\u001b[34m[88]#011train-auc:0.75759#011validation-auc:0.74435\u001b[0m\n",
            "\u001b[34m[89]#011train-auc:0.75770#011validation-auc:0.74437\u001b[0m\n",
            "\u001b[34m[90]#011train-auc:0.75786#011validation-auc:0.74446\u001b[0m\n",
            "\u001b[34m[91]#011train-auc:0.75794#011validation-auc:0.74450\u001b[0m\n",
            "\u001b[34m[92]#011train-auc:0.75826#011validation-auc:0.74476\u001b[0m\n",
            "\u001b[34m[93]#011train-auc:0.75855#011validation-auc:0.74483\u001b[0m\n",
            "\u001b[34m[94]#011train-auc:0.75885#011validation-auc:0.74498\u001b[0m\n",
            "\u001b[34m[95]#011train-auc:0.75914#011validation-auc:0.74514\u001b[0m\n",
            "\u001b[34m[96]#011train-auc:0.75938#011validation-auc:0.74533\u001b[0m\n",
            "\u001b[34m[97]#011train-auc:0.75968#011validation-auc:0.74555\u001b[0m\n",
            "\u001b[34m[98]#011train-auc:0.75983#011validation-auc:0.74565\u001b[0m\n",
            "\u001b[34m[99]#011train-auc:0.76011#011validation-auc:0.74589\u001b[0m\n",
            "\u001b[34m[100]#011train-auc:0.76027#011validation-auc:0.74600\u001b[0m\n",
            "\u001b[34m[101]#011train-auc:0.76053#011validation-auc:0.74603\u001b[0m\n",
            "\u001b[34m[102]#011train-auc:0.76066#011validation-auc:0.74611\u001b[0m\n",
            "\u001b[34m[103]#011train-auc:0.76082#011validation-auc:0.74618\u001b[0m\n",
            "\u001b[34m[104]#011train-auc:0.76105#011validation-auc:0.74631\u001b[0m\n",
            "\u001b[34m[105]#011train-auc:0.76128#011validation-auc:0.74642\u001b[0m\n",
            "\u001b[34m[106]#011train-auc:0.76155#011validation-auc:0.74650\u001b[0m\n",
            "\u001b[34m[107]#011train-auc:0.76183#011validation-auc:0.74656\u001b[0m\n",
            "\u001b[34m[108]#011train-auc:0.76206#011validation-auc:0.74664\u001b[0m\n",
            "\u001b[34m[109]#011train-auc:0.76238#011validation-auc:0.74692\u001b[0m\n",
            "\u001b[34m[110]#011train-auc:0.76271#011validation-auc:0.74710\u001b[0m\n",
            "\u001b[34m[111]#011train-auc:0.76291#011validation-auc:0.74723\u001b[0m\n",
            "\u001b[34m[112]#011train-auc:0.76307#011validation-auc:0.74730\u001b[0m\n",
            "\u001b[34m[113]#011train-auc:0.76323#011validation-auc:0.74743\u001b[0m\n",
            "\u001b[34m[114]#011train-auc:0.76341#011validation-auc:0.74756\u001b[0m\n",
            "\u001b[34m[115]#011train-auc:0.76371#011validation-auc:0.74788\u001b[0m\n",
            "\u001b[34m[116]#011train-auc:0.76395#011validation-auc:0.74798\u001b[0m\n",
            "\u001b[34m[117]#011train-auc:0.76431#011validation-auc:0.74828\u001b[0m\n",
            "\u001b[34m[118]#011train-auc:0.76457#011validation-auc:0.74851\u001b[0m\n",
            "\u001b[34m[119]#011train-auc:0.76477#011validation-auc:0.74856\u001b[0m\n",
            "\u001b[34m[120]#011train-auc:0.76487#011validation-auc:0.74858\u001b[0m\n",
            "\u001b[34m[121]#011train-auc:0.76505#011validation-auc:0.74875\u001b[0m\n",
            "\u001b[34m[122]#011train-auc:0.76528#011validation-auc:0.74891\u001b[0m\n",
            "\u001b[34m[123]#011train-auc:0.76544#011validation-auc:0.74897\u001b[0m\n",
            "\u001b[34m[124]#011train-auc:0.76570#011validation-auc:0.74915\u001b[0m\n",
            "\u001b[34m[125]#011train-auc:0.76589#011validation-auc:0.74928\u001b[0m\n",
            "\u001b[34m[126]#011train-auc:0.76602#011validation-auc:0.74934\u001b[0m\n",
            "\u001b[34m[127]#011train-auc:0.76626#011validation-auc:0.74947\u001b[0m\n",
            "\u001b[34m[128]#011train-auc:0.76652#011validation-auc:0.74961\u001b[0m\n",
            "\u001b[34m[129]#011train-auc:0.76664#011validation-auc:0.74970\u001b[0m\n",
            "\u001b[34m[130]#011train-auc:0.76675#011validation-auc:0.74977\u001b[0m\n",
            "\u001b[34m[131]#011train-auc:0.76702#011validation-auc:0.75000\u001b[0m\n",
            "\u001b[34m[132]#011train-auc:0.76719#011validation-auc:0.75009\u001b[0m\n",
            "\u001b[34m[133]#011train-auc:0.76748#011validation-auc:0.75032\u001b[0m\n",
            "\n",
            "2022-04-21 17:37:11 Uploading - Uploading generated training model\u001b[34m[134]#011train-auc:0.76755#011validation-auc:0.75031\u001b[0m\n",
            "\u001b[34m[135]#011train-auc:0.76769#011validation-auc:0.75032\u001b[0m\n",
            "\u001b[34m[136]#011train-auc:0.76791#011validation-auc:0.75045\u001b[0m\n",
            "\u001b[34m[137]#011train-auc:0.76807#011validation-auc:0.75046\u001b[0m\n",
            "\n",
            "2022-04-21 17:37:26 Completed - Training job completed\n",
            "Training seconds: 565\n",
            "Billable seconds: 565\n"
          ]
        }
      ],
      "source": [
        "best_estimator.fit(inputs=data_channels)"
      ]
    },
    {
      "cell_type": "markdown",
      "metadata": {
        "id": "puABW7pOP-_q"
      },
      "source": [
        "Use the batch transformer for your new model, and evaluate the model on the test dataset."
      ]
    },
    {
      "cell_type": "code",
      "execution_count": null,
      "metadata": {
        "id": "6sBBpQZsP-_q",
        "outputId": "1867993f-a8dc-45d0-a4f0-e63a73b41532"
      },
      "outputs": [
        {
          "name": "stdout",
          "output_type": "stream",
          "text": [
            "....................................\n",
            "\u001b[34m[2022-04-21:17:43:42:INFO] No GPUs detected (normal if no gpus installed)\u001b[0m\n",
            "\u001b[34m[2022-04-21:17:43:42:INFO] No GPUs detected (normal if no gpus installed)\u001b[0m\n",
            "\u001b[34m[2022-04-21:17:43:42:INFO] nginx config: \u001b[0m\n",
            "\u001b[34mworker_processes auto;\u001b[0m\n",
            "\u001b[34mdaemon off;\u001b[0m\n",
            "\u001b[34mpid /tmp/nginx.pid;\u001b[0m\n",
            "\u001b[34merror_log  /dev/stderr;\u001b[0m\n",
            "\u001b[35m[2022-04-21:17:43:42:INFO] No GPUs detected (normal if no gpus installed)\u001b[0m\n",
            "\u001b[35m[2022-04-21:17:43:42:INFO] No GPUs detected (normal if no gpus installed)\u001b[0m\n",
            "\u001b[35m[2022-04-21:17:43:42:INFO] nginx config: \u001b[0m\n",
            "\u001b[35mworker_processes auto;\u001b[0m\n",
            "\u001b[35mdaemon off;\u001b[0m\n",
            "\u001b[35mpid /tmp/nginx.pid;\u001b[0m\n",
            "\u001b[35merror_log  /dev/stderr;\u001b[0m\n",
            "\u001b[34mworker_rlimit_nofile 4096;\u001b[0m\n",
            "\u001b[34mevents {\n",
            "  worker_connections 2048;\u001b[0m\n",
            "\u001b[34m}\u001b[0m\n",
            "\u001b[34mhttp {\n",
            "  include /etc/nginx/mime.types;\n",
            "  default_type application/octet-stream;\n",
            "  access_log /dev/stdout combined;\n",
            "  upstream gunicorn {\n",
            "    server unix:/tmp/gunicorn.sock;\n",
            "  }\n",
            "  server {\n",
            "    listen 8080 deferred;\n",
            "    client_max_body_size 0;\n",
            "    keepalive_timeout 3;\n",
            "    location ~ ^/(ping|invocations|execution-parameters) {\n",
            "      proxy_set_header X-Forwarded-For $proxy_add_x_forwarded_for;\n",
            "      proxy_set_header Host $http_host;\n",
            "      proxy_redirect off;\n",
            "      proxy_read_timeout 60s;\n",
            "      proxy_pass http://gunicorn;\n",
            "    }\n",
            "    location / {\n",
            "      return 404 \"{}\";\n",
            "    }\n",
            "  }\u001b[0m\n",
            "\u001b[34m}\u001b[0m\n",
            "\u001b[34m[2022-04-21 17:43:42 +0000] [18] [INFO] Starting gunicorn 19.10.0\u001b[0m\n",
            "\u001b[34m[2022-04-21 17:43:42 +0000] [18] [INFO] Listening at: unix:/tmp/gunicorn.sock (18)\u001b[0m\n",
            "\u001b[34m[2022-04-21 17:43:42 +0000] [18] [INFO] Using worker: gevent\u001b[0m\n",
            "\u001b[35mworker_rlimit_nofile 4096;\u001b[0m\n",
            "\u001b[35mevents {\n",
            "  worker_connections 2048;\u001b[0m\n",
            "\u001b[35m}\u001b[0m\n",
            "\u001b[35mhttp {\n",
            "  include /etc/nginx/mime.types;\n",
            "  default_type application/octet-stream;\n",
            "  access_log /dev/stdout combined;\n",
            "  upstream gunicorn {\n",
            "    server unix:/tmp/gunicorn.sock;\n",
            "  }\n",
            "  server {\n",
            "    listen 8080 deferred;\n",
            "    client_max_body_size 0;\n",
            "    keepalive_timeout 3;\n",
            "    location ~ ^/(ping|invocations|execution-parameters) {\n",
            "      proxy_set_header X-Forwarded-For $proxy_add_x_forwarded_for;\n",
            "      proxy_set_header Host $http_host;\n",
            "      proxy_redirect off;\n",
            "      proxy_read_timeout 60s;\n",
            "      proxy_pass http://gunicorn;\n",
            "    }\n",
            "    location / {\n",
            "      return 404 \"{}\";\n",
            "    }\n",
            "  }\u001b[0m\n",
            "\u001b[35m}\u001b[0m\n",
            "\u001b[35m[2022-04-21 17:43:42 +0000] [18] [INFO] Starting gunicorn 19.10.0\u001b[0m\n",
            "\u001b[35m[2022-04-21 17:43:42 +0000] [18] [INFO] Listening at: unix:/tmp/gunicorn.sock (18)\u001b[0m\n",
            "\u001b[35m[2022-04-21 17:43:42 +0000] [18] [INFO] Using worker: gevent\u001b[0m\n",
            "\u001b[34m[2022-04-21 17:43:42 +0000] [25] [INFO] Booting worker with pid: 25\u001b[0m\n",
            "\u001b[34m[2022-04-21 17:43:42 +0000] [26] [INFO] Booting worker with pid: 26\u001b[0m\n",
            "\u001b[34m[2022-04-21 17:43:42 +0000] [27] [INFO] Booting worker with pid: 27\u001b[0m\n",
            "\u001b[34m[2022-04-21 17:43:42 +0000] [28] [INFO] Booting worker with pid: 28\u001b[0m\n",
            "\u001b[35m[2022-04-21 17:43:42 +0000] [25] [INFO] Booting worker with pid: 25\u001b[0m\n",
            "\u001b[35m[2022-04-21 17:43:42 +0000] [26] [INFO] Booting worker with pid: 26\u001b[0m\n",
            "\u001b[35m[2022-04-21 17:43:42 +0000] [27] [INFO] Booting worker with pid: 27\u001b[0m\n",
            "\u001b[35m[2022-04-21 17:43:42 +0000] [28] [INFO] Booting worker with pid: 28\u001b[0m\n",
            "\u001b[34m[2022-04-21:17:43:48:INFO] No GPUs detected (normal if no gpus installed)\u001b[0m\n",
            "\u001b[34m169.254.255.130 - - [21/Apr/2022:17:43:48 +0000] \"GET /ping HTTP/1.1\" 200 0 \"-\" \"Go-http-client/1.1\"\u001b[0m\n",
            "\u001b[34m[2022-04-21:17:43:48:INFO] No GPUs detected (normal if no gpus installed)\u001b[0m\n",
            "\u001b[34m169.254.255.130 - - [21/Apr/2022:17:43:48 +0000] \"GET /execution-parameters HTTP/1.1\" 200 84 \"-\" \"Go-http-client/1.1\"\u001b[0m\n",
            "\u001b[35m[2022-04-21:17:43:48:INFO] No GPUs detected (normal if no gpus installed)\u001b[0m\n",
            "\u001b[35m169.254.255.130 - - [21/Apr/2022:17:43:48 +0000] \"GET /ping HTTP/1.1\" 200 0 \"-\" \"Go-http-client/1.1\"\u001b[0m\n",
            "\u001b[35m[2022-04-21:17:43:48:INFO] No GPUs detected (normal if no gpus installed)\u001b[0m\n",
            "\u001b[35m169.254.255.130 - - [21/Apr/2022:17:43:48 +0000] \"GET /execution-parameters HTTP/1.1\" 200 84 \"-\" \"Go-http-client/1.1\"\u001b[0m\n",
            "\u001b[34m[2022-04-21:17:43:49:INFO] No GPUs detected (normal if no gpus installed)\u001b[0m\n",
            "\u001b[34m[2022-04-21:17:43:49:INFO] No GPUs detected (normal if no gpus installed)\u001b[0m\n",
            "\u001b[34m[2022-04-21:17:43:49:INFO] Determined delimiter of CSV input is ','\u001b[0m\n",
            "\u001b[34m[2022-04-21:17:43:50:INFO] Determined delimiter of CSV input is ','\u001b[0m\n",
            "\u001b[35m[2022-04-21:17:43:49:INFO] No GPUs detected (normal if no gpus installed)\u001b[0m\n",
            "\u001b[35m[2022-04-21:17:43:49:INFO] No GPUs detected (normal if no gpus installed)\u001b[0m\n",
            "\u001b[35m[2022-04-21:17:43:49:INFO] Determined delimiter of CSV input is ','\u001b[0m\n",
            "\u001b[35m[2022-04-21:17:43:50:INFO] Determined delimiter of CSV input is ','\u001b[0m\n",
            "\u001b[34m[2022-04-21:17:43:50:INFO] Determined delimiter of CSV input is ','\u001b[0m\n",
            "\u001b[35m[2022-04-21:17:43:50:INFO] Determined delimiter of CSV input is ','\u001b[0m\n",
            "\u001b[34m[2022-04-21:17:43:50:INFO] Determined delimiter of CSV input is ','\u001b[0m\n",
            "\u001b[35m[2022-04-21:17:43:50:INFO] Determined delimiter of CSV input is ','\u001b[0m\n",
            "\u001b[32m2022-04-21T17:43:48.884:[sagemaker logs]: MaxConcurrentTransforms=4, MaxPayloadInMB=6, BatchStrategy=MULTI_RECORD\u001b[0m\n",
            "\u001b[34m169.254.255.130 - - [21/Apr/2022:17:43:53 +0000] \"POST /invocations HTTP/1.1\" 200 653575 \"-\" \"Go-http-client/1.1\"\u001b[0m\n",
            "\u001b[34m169.254.255.130 - - [21/Apr/2022:17:43:53 +0000] \"POST /invocations HTTP/1.1\" 200 653512 \"-\" \"Go-http-client/1.1\"\u001b[0m\n",
            "\u001b[35m169.254.255.130 - - [21/Apr/2022:17:43:53 +0000] \"POST /invocations HTTP/1.1\" 200 653575 \"-\" \"Go-http-client/1.1\"\u001b[0m\n",
            "\u001b[35m169.254.255.130 - - [21/Apr/2022:17:43:53 +0000] \"POST /invocations HTTP/1.1\" 200 653512 \"-\" \"Go-http-client/1.1\"\u001b[0m\n",
            "\u001b[34m169.254.255.130 - - [21/Apr/2022:17:43:53 +0000] \"POST /invocations HTTP/1.1\" 200 653534 \"-\" \"Go-http-client/1.1\"\u001b[0m\n",
            "\u001b[34m169.254.255.130 - - [21/Apr/2022:17:43:54 +0000] \"POST /invocations HTTP/1.1\" 200 653638 \"-\" \"Go-http-client/1.1\"\u001b[0m\n",
            "\u001b[34m[2022-04-21:17:43:54:INFO] Determined delimiter of CSV input is ','\u001b[0m\n",
            "\u001b[35m169.254.255.130 - - [21/Apr/2022:17:43:53 +0000] \"POST /invocations HTTP/1.1\" 200 653534 \"-\" \"Go-http-client/1.1\"\u001b[0m\n",
            "\u001b[35m169.254.255.130 - - [21/Apr/2022:17:43:54 +0000] \"POST /invocations HTTP/1.1\" 200 653638 \"-\" \"Go-http-client/1.1\"\u001b[0m\n",
            "\u001b[35m[2022-04-21:17:43:54:INFO] Determined delimiter of CSV input is ','\u001b[0m\n",
            "\u001b[34m[2022-04-21:17:43:42:INFO] No GPUs detected (normal if no gpus installed)\u001b[0m\n",
            "\u001b[34m[2022-04-21:17:43:42:INFO] No GPUs detected (normal if no gpus installed)\u001b[0m\n",
            "\u001b[34m[2022-04-21:17:43:42:INFO] nginx config: \u001b[0m\n",
            "\u001b[34mworker_processes auto;\u001b[0m\n",
            "\u001b[34mdaemon off;\u001b[0m\n",
            "\u001b[34mpid /tmp/nginx.pid;\u001b[0m\n",
            "\u001b[34merror_log  /dev/stderr;\u001b[0m\n",
            "\u001b[35m[2022-04-21:17:43:42:INFO] No GPUs detected (normal if no gpus installed)\u001b[0m\n",
            "\u001b[35m[2022-04-21:17:43:42:INFO] No GPUs detected (normal if no gpus installed)\u001b[0m\n",
            "\u001b[35m[2022-04-21:17:43:42:INFO] nginx config: \u001b[0m\n",
            "\u001b[35mworker_processes auto;\u001b[0m\n",
            "\u001b[35mdaemon off;\u001b[0m\n",
            "\u001b[35mpid /tmp/nginx.pid;\u001b[0m\n",
            "\u001b[35merror_log  /dev/stderr;\u001b[0m\n",
            "\u001b[34mworker_rlimit_nofile 4096;\u001b[0m\n",
            "\u001b[34mevents {\n",
            "  worker_connections 2048;\u001b[0m\n",
            "\u001b[34m}\u001b[0m\n",
            "\u001b[34mhttp {\n",
            "  include /etc/nginx/mime.types;\n",
            "  default_type application/octet-stream;\n",
            "  access_log /dev/stdout combined;\n",
            "  upstream gunicorn {\n",
            "    server unix:/tmp/gunicorn.sock;\n",
            "  }\n",
            "  server {\n",
            "    listen 8080 deferred;\n",
            "    client_max_body_size 0;\n",
            "    keepalive_timeout 3;\n",
            "    location ~ ^/(ping|invocations|execution-parameters) {\n",
            "      proxy_set_header X-Forwarded-For $proxy_add_x_forwarded_for;\n",
            "      proxy_set_header Host $http_host;\n",
            "      proxy_redirect off;\n",
            "      proxy_read_timeout 60s;\n",
            "      proxy_pass http://gunicorn;\n",
            "    }\n",
            "    location / {\n",
            "      return 404 \"{}\";\n",
            "    }\n",
            "  }\u001b[0m\n",
            "\u001b[34m}\u001b[0m\n",
            "\u001b[34m[2022-04-21 17:43:42 +0000] [18] [INFO] Starting gunicorn 19.10.0\u001b[0m\n",
            "\u001b[34m[2022-04-21 17:43:42 +0000] [18] [INFO] Listening at: unix:/tmp/gunicorn.sock (18)\u001b[0m\n",
            "\u001b[34m[2022-04-21 17:43:42 +0000] [18] [INFO] Using worker: gevent\u001b[0m\n",
            "\u001b[35mworker_rlimit_nofile 4096;\u001b[0m\n",
            "\u001b[35mevents {\n",
            "  worker_connections 2048;\u001b[0m\n",
            "\u001b[35m}\u001b[0m\n",
            "\u001b[35mhttp {\n",
            "  include /etc/nginx/mime.types;\n",
            "  default_type application/octet-stream;\n",
            "  access_log /dev/stdout combined;\n",
            "  upstream gunicorn {\n",
            "    server unix:/tmp/gunicorn.sock;\n",
            "  }\n",
            "  server {\n",
            "    listen 8080 deferred;\n",
            "    client_max_body_size 0;\n",
            "    keepalive_timeout 3;\n",
            "    location ~ ^/(ping|invocations|execution-parameters) {\n",
            "      proxy_set_header X-Forwarded-For $proxy_add_x_forwarded_for;\n",
            "      proxy_set_header Host $http_host;\n",
            "      proxy_redirect off;\n",
            "      proxy_read_timeout 60s;\n",
            "      proxy_pass http://gunicorn;\n",
            "    }\n",
            "    location / {\n",
            "      return 404 \"{}\";\n",
            "    }\n",
            "  }\u001b[0m\n",
            "\u001b[35m}\u001b[0m\n",
            "\u001b[35m[2022-04-21 17:43:42 +0000] [18] [INFO] Starting gunicorn 19.10.0\u001b[0m\n",
            "\u001b[35m[2022-04-21 17:43:42 +0000] [18] [INFO] Listening at: unix:/tmp/gunicorn.sock (18)\u001b[0m\n",
            "\u001b[35m[2022-04-21 17:43:42 +0000] [18] [INFO] Using worker: gevent\u001b[0m\n",
            "\u001b[34m[2022-04-21 17:43:42 +0000] [25] [INFO] Booting worker with pid: 25\u001b[0m\n",
            "\u001b[34m[2022-04-21 17:43:42 +0000] [26] [INFO] Booting worker with pid: 26\u001b[0m\n",
            "\u001b[34m[2022-04-21 17:43:42 +0000] [27] [INFO] Booting worker with pid: 27\u001b[0m\n",
            "\u001b[34m[2022-04-21 17:43:42 +0000] [28] [INFO] Booting worker with pid: 28\u001b[0m\n",
            "\u001b[35m[2022-04-21 17:43:42 +0000] [25] [INFO] Booting worker with pid: 25\u001b[0m\n",
            "\u001b[35m[2022-04-21 17:43:42 +0000] [26] [INFO] Booting worker with pid: 26\u001b[0m\n",
            "\u001b[35m[2022-04-21 17:43:42 +0000] [27] [INFO] Booting worker with pid: 27\u001b[0m\n",
            "\u001b[35m[2022-04-21 17:43:42 +0000] [28] [INFO] Booting worker with pid: 28\u001b[0m\n",
            "\u001b[34m[2022-04-21:17:43:48:INFO] No GPUs detected (normal if no gpus installed)\u001b[0m\n",
            "\u001b[34m169.254.255.130 - - [21/Apr/2022:17:43:48 +0000] \"GET /ping HTTP/1.1\" 200 0 \"-\" \"Go-http-client/1.1\"\u001b[0m\n",
            "\u001b[34m[2022-04-21:17:43:48:INFO] No GPUs detected (normal if no gpus installed)\u001b[0m\n",
            "\u001b[34m169.254.255.130 - - [21/Apr/2022:17:43:48 +0000] \"GET /execution-parameters HTTP/1.1\" 200 84 \"-\" \"Go-http-client/1.1\"\u001b[0m\n",
            "\u001b[35m[2022-04-21:17:43:48:INFO] No GPUs detected (normal if no gpus installed)\u001b[0m\n",
            "\u001b[35m169.254.255.130 - - [21/Apr/2022:17:43:48 +0000] \"GET /ping HTTP/1.1\" 200 0 \"-\" \"Go-http-client/1.1\"\u001b[0m\n",
            "\u001b[35m[2022-04-21:17:43:48:INFO] No GPUs detected (normal if no gpus installed)\u001b[0m\n",
            "\u001b[35m169.254.255.130 - - [21/Apr/2022:17:43:48 +0000] \"GET /execution-parameters HTTP/1.1\" 200 84 \"-\" \"Go-http-client/1.1\"\u001b[0m\n",
            "\u001b[34m[2022-04-21:17:43:49:INFO] No GPUs detected (normal if no gpus installed)\u001b[0m\n",
            "\u001b[34m[2022-04-21:17:43:49:INFO] No GPUs detected (normal if no gpus installed)\u001b[0m\n",
            "\u001b[34m[2022-04-21:17:43:49:INFO] Determined delimiter of CSV input is ','\u001b[0m\n",
            "\u001b[34m[2022-04-21:17:43:50:INFO] Determined delimiter of CSV input is ','\u001b[0m\n",
            "\u001b[35m[2022-04-21:17:43:49:INFO] No GPUs detected (normal if no gpus installed)\u001b[0m\n",
            "\u001b[35m[2022-04-21:17:43:49:INFO] No GPUs detected (normal if no gpus installed)\u001b[0m\n",
            "\u001b[35m[2022-04-21:17:43:49:INFO] Determined delimiter of CSV input is ','\u001b[0m\n",
            "\u001b[35m[2022-04-21:17:43:50:INFO] Determined delimiter of CSV input is ','\u001b[0m\n",
            "\u001b[34m[2022-04-21:17:43:50:INFO] Determined delimiter of CSV input is ','\u001b[0m\n",
            "\u001b[35m[2022-04-21:17:43:50:INFO] Determined delimiter of CSV input is ','\u001b[0m\n",
            "\u001b[34m[2022-04-21:17:43:50:INFO] Determined delimiter of CSV input is ','\u001b[0m\n",
            "\u001b[35m[2022-04-21:17:43:50:INFO] Determined delimiter of CSV input is ','\u001b[0m\n",
            "\u001b[32m2022-04-21T17:43:48.884:[sagemaker logs]: MaxConcurrentTransforms=4, MaxPayloadInMB=6, BatchStrategy=MULTI_RECORD\u001b[0m\n",
            "\u001b[34m169.254.255.130 - - [21/Apr/2022:17:43:53 +0000] \"POST /invocations HTTP/1.1\" 200 653575 \"-\" \"Go-http-client/1.1\"\u001b[0m\n",
            "\u001b[34m169.254.255.130 - - [21/Apr/2022:17:43:53 +0000] \"POST /invocations HTTP/1.1\" 200 653512 \"-\" \"Go-http-client/1.1\"\u001b[0m\n",
            "\u001b[35m169.254.255.130 - - [21/Apr/2022:17:43:53 +0000] \"POST /invocations HTTP/1.1\" 200 653575 \"-\" \"Go-http-client/1.1\"\u001b[0m\n",
            "\u001b[35m169.254.255.130 - - [21/Apr/2022:17:43:53 +0000] \"POST /invocations HTTP/1.1\" 200 653512 \"-\" \"Go-http-client/1.1\"\u001b[0m\n",
            "\u001b[34m169.254.255.130 - - [21/Apr/2022:17:43:53 +0000] \"POST /invocations HTTP/1.1\" 200 653534 \"-\" \"Go-http-client/1.1\"\u001b[0m\n",
            "\u001b[34m169.254.255.130 - - [21/Apr/2022:17:43:54 +0000] \"POST /invocations HTTP/1.1\" 200 653638 \"-\" \"Go-http-client/1.1\"\u001b[0m\n",
            "\u001b[34m[2022-04-21:17:43:54:INFO] Determined delimiter of CSV input is ','\u001b[0m\n",
            "\u001b[35m169.254.255.130 - - [21/Apr/2022:17:43:53 +0000] \"POST /invocations HTTP/1.1\" 200 653534 \"-\" \"Go-http-client/1.1\"\u001b[0m\n",
            "\u001b[35m169.254.255.130 - - [21/Apr/2022:17:43:54 +0000] \"POST /invocations HTTP/1.1\" 200 653638 \"-\" \"Go-http-client/1.1\"\u001b[0m\n",
            "\u001b[35m[2022-04-21:17:43:54:INFO] Determined delimiter of CSV input is ','\u001b[0m\n",
            "\u001b[34m169.254.255.130 - - [21/Apr/2022:17:43:56 +0000] \"POST /invocations HTTP/1.1\" 200 603143 \"-\" \"Go-http-client/1.1\"\u001b[0m\n",
            "\u001b[35m169.254.255.130 - - [21/Apr/2022:17:43:56 +0000] \"POST /invocations HTTP/1.1\" 200 603143 \"-\" \"Go-http-client/1.1\"\u001b[0m\n"
          ]
        }
      ],
      "source": [
        "batch_output = \"s3://{}/{}/batch-out/\".format(bucket,prefix)\n",
        "batch_input = \"s3://{}/{}/batch-in/{}\".format(bucket,prefix,batch_X_file)\n",
        "\n",
        "xgb_transformer = best_estimator.transformer(instance_count=1,\n",
        "                                       instance_type=instance_type,\n",
        "                                       strategy='MultiRecord',\n",
        "                                       assemble_with='Line',\n",
        "                                       output_path=batch_output)\n",
        "\n",
        "xgb_transformer.transform(data=batch_input,\n",
        "                         data_type='S3Prefix',\n",
        "                         content_type='text/csv',\n",
        "                         split_type='Line')\n",
        "xgb_transformer.wait()"
      ]
    },
    {
      "cell_type": "code",
      "execution_count": null,
      "metadata": {
        "id": "C9h6ZowRP-_q"
      },
      "outputs": [],
      "source": [
        "s3 = boto3.client('s3')\n",
        "obj = s3.get_object(Bucket=bucket, Key=\"{}/batch-out/{}\".format(prefix,'batch-in.csv.out'))\n",
        "target_predicted = pd.read_csv(io.BytesIO(obj['Body'].read()),',',names=['target'])\n",
        "test_labels = test.iloc[:,0]"
      ]
    },
    {
      "cell_type": "markdown",
      "metadata": {
        "id": "aFxaY4hTP-_q"
      },
      "source": [
        "Get the predicted target and test labels."
      ]
    },
    {
      "cell_type": "code",
      "execution_count": null,
      "metadata": {
        "id": "LaVPmZBlP-_q",
        "outputId": "76ab2586-49a3-46c0-aaf2-93212557be51"
      },
      "outputs": [
        {
          "name": "stdout",
          "output_type": "stream",
          "text": [
            "     target\n",
            "0  0.086078\n",
            "1  0.128088\n",
            "2  0.114520\n",
            "3  0.100596\n",
            "4  0.046102\n",
            "   target\n",
            "0       0\n",
            "1       0\n",
            "2       0\n",
            "3       0\n",
            "4       0\n"
          ]
        }
      ],
      "source": [
        "print(target_predicted.head())\n",
        "\n",
        "def binary_convert(x):\n",
        "    threshold = 0.55\n",
        "    if x > threshold:\n",
        "        return 1\n",
        "    else:\n",
        "        return 0\n",
        "\n",
        "target_predicted['target'] = target_predicted['target'].apply(binary_convert)\n",
        "\n",
        "test_labels = test.iloc[:,0]\n",
        "\n",
        "print(target_predicted.head())"
      ]
    },
    {
      "cell_type": "markdown",
      "metadata": {
        "id": "ukYSovD2P-_r"
      },
      "source": [
        "Plot a confusion matrix for your `target_predicted` and `test_labels`."
      ]
    },
    {
      "cell_type": "code",
      "execution_count": null,
      "metadata": {
        "id": "clyFRQX_P-_r",
        "outputId": "65fa2e10-f274-4643-b45f-4ceaeaac683a"
      },
      "outputs": [
        {
          "data": {
            "image/png": "[encoded data removed]",
            "text/plain": [
              "<Figure size 432x288 with 1 Axes>"
            ]
          },
          "metadata": {
            "needs_background": "light"
          },
          "output_type": "display_data"
        }
      ],
      "source": [
        "plot_confusion_matrix(test_labels, target_predicted)"
      ]
    },
    {
      "cell_type": "markdown",
      "metadata": {
        "id": "vHJcNPW7P-_r"
      },
      "source": [
        "Plot the ROC chart:"
      ]
    },
    {
      "cell_type": "code",
      "execution_count": null,
      "metadata": {
        "id": "KrG66pkBP-_r",
        "outputId": "143565f9-989f-4a28-84f2-dc4bb5af2533"
      },
      "outputs": [
        {
          "name": "stdout",
          "output_type": "stream",
          "text": [
            "Sensitivity or TPR:  16.779774560918067 %\n",
            "Specificity or TNR:  98.24725674399889 %\n",
            "Precision:  71.7792175429853 %\n",
            "Negative Predictive Value:  81.62962200947709 %\n",
            "False Positive Rate:  1.7527432560011145 %\n",
            "False Negative Rate:  83.22022543908193 %\n",
            "False Discovery Rate:  28.220782457014703 %\n",
            "Accuracy:  81.14625303407334 %\n",
            "Validation AUC 0.5751351565245847\n",
            "Figure(432x288)\n"
          ]
        },
        {
          "data": {
            "image/png": "[encoded data removed]",
            "text/plain": [
              "<Figure size 432x288 with 2 Axes>"
            ]
          },
          "metadata": {
            "needs_background": "light"
          },
          "output_type": "display_data"
        },
        {
          "data": {
            "text/plain": [
              "<Figure size 432x288 with 0 Axes>"
            ]
          },
          "metadata": {},
          "output_type": "display_data"
        }
      ],
      "source": [
        "plot_roc(test_labels, target_predicted)"
      ]
    },
    {
      "cell_type": "markdown",
      "metadata": {
        "id": "jWYJ9lC5P-_r"
      },
      "source": [
        "**Question**: Try different hyperparameters and hyperparameter ranges. Do these changes improve the model?"
      ]
    },
    {
      "cell_type": "markdown",
      "metadata": {
        "id": "x3IClpn2P-_r"
      },
      "source": [
        "## Conclusion\n",
        "\n",
        "You have now iterated through training and evaluating your model at least a couple of times. It's time to wrap up this project and reflect on:\n",
        "\n",
        "- What you learned \n",
        "- What types of steps you might take moving forward (assuming that you had more time)\n",
        "\n",
        "Use the following cell to answer some of these questions and other relevant questions:\n",
        "\n",
        "1. Does your model performance meet your business goal? If not, what are some things you'd like to do differently if you had more time for tuning?\n",
        "2. How much did your model improve as you made changes to your dataset, features, and hyperparameters? What types of techniques did you employ throughout this project, and which yielded the greatest improvements in your model?\n",
        "3. What were some of the biggest challenges that you encountered throughout this project?\n",
        "4. Do you have any unanswered questions about aspects of the pipeline that didn't make sense to you?\n",
        "5. What were the three most important things that you learned about machine learning while working on this project?\n",
        "\n",
        "#### <span style=\"color: blue;\">Project presentation: Make sure that you also summarize your answers to these questions in your project presentation. Combine all your notes for your project presentation and prepare to present your findings to the class.</span>"
      ]
    },
    {
      "cell_type": "code",
      "execution_count": null,
      "metadata": {
        "id": "AyCoYHL-P-_r"
      },
      "outputs": [],
      "source": [
        "# Write your answers here\n",
        "ได้เรียนรู้ว่า ML สามารถเรียนรู้และวิเคราะห์ข้อมูลและสามารถคาดการณ์ล่วงหน้าได้อย่างแม่นยำ ตัว ML สามารถในไปใช้กับงานอื่น ๆ ที่ต้องมีการวิเคราะห์ข้อมูลและคาดการณ์ล่วงหน้าได้ "
      ]
    }
  ],
  "metadata": {
    "kernelspec": {
      "display_name": "conda_python3",
      "language": "python",
      "name": "conda_python3"
    },
    "language_info": {
      "codemirror_mode": {
        "name": "ipython",
        "version": 3
      },
      "file_extension": ".py",
      "mimetype": "text/x-python",
      "name": "python",
      "nbconvert_exporter": "python",
      "pygments_lexer": "ipython3",
      "version": "3.6.13"
    },
    "colab": {
      "name": "Flight_Delay-Student_6209610333.ipynb",
      "provenance": []
    }
  },
  "nbformat": 4,
  "nbformat_minor": 0
}